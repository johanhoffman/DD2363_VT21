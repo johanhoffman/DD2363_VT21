{
 "cells": [
  {
   "cell_type": "markdown",
   "metadata": {
    "colab_type": "text",
    "id": "view-in-github"
   },
   "source": [
    "<a href=\"https://colab.research.google.com/github/johanhoffman/DD2363-VT20/blob/master/template-report-lab-X.ipynb\" target=\"_parent\"><img src=\"https://colab.research.google.com/assets/colab-badge.svg\" alt=\"Open In Colab\"/></a>"
   ]
  },
  {
   "cell_type": "markdown",
   "metadata": {
    "colab_type": "text",
    "id": "6RgtXlfYO_i7"
   },
   "source": [
    "# **Lab 7: Optimization and learning**\n",
    "**Hilaire Bouaddi**"
   ]
  },
  {
   "cell_type": "markdown",
   "metadata": {
    "colab_type": "text",
    "id": "9x_J5FVuPzbm"
   },
   "source": [
    "# **Abstract**"
   ]
  },
  {
   "cell_type": "markdown",
   "metadata": {},
   "source": [
    "In this lab we studied both the gradient descent and Newton's method with scalar function. We will see that the implementation of those iterative methods is quite easy. The gradient descent gives great result whereas the Newton's method oscillates without a learning rate. "
   ]
  },
  {
   "cell_type": "markdown",
   "metadata": {
    "colab_type": "text",
    "id": "28xLGz8JX3Hh"
   },
   "source": [
    "# **Set up environment**"
   ]
  },
  {
   "cell_type": "code",
   "execution_count": 75,
   "metadata": {
    "ExecuteTime": {
     "end_time": "2021-03-14T11:47:28.447090Z",
     "start_time": "2021-03-14T11:47:28.440858Z"
    },
    "colab": {},
    "colab_type": "code",
    "id": "Xw7VlErAX7NS"
   },
   "outputs": [],
   "source": [
    "import time\n",
    "import numpy as np\n",
    "\n",
    "from matplotlib import pyplot as plt\n",
    "from matplotlib import tri\n",
    "from matplotlib import axes\n",
    "from mpl_toolkits.mplot3d import Axes3D"
   ]
  },
  {
   "cell_type": "markdown",
   "metadata": {
    "colab_type": "text",
    "id": "gnO3lhAigLev"
   },
   "source": [
    "# **Introduction**"
   ]
  },
  {
   "cell_type": "markdown",
   "metadata": {
    "colab_type": "text",
    "id": "l5zMzgPlRAF6"
   },
   "source": [
    "The gradient descent is a technique used to find the minimum of a function. \n",
    "It is very famous because it is the technique used to train typical neural networks using the backpropagation algorithm. \n",
    "\n",
    "Newton's method is also iterative and it is used to find roots of continuously differentiable functions. "
   ]
  },
  {
   "cell_type": "markdown",
   "metadata": {
    "colab_type": "text",
    "id": "jOQvukXZq5U5"
   },
   "source": [
    "# **Method**"
   ]
  },
  {
   "cell_type": "markdown",
   "metadata": {},
   "source": [
    "## Function: Gradient descent method in $R^n$ "
   ]
  },
  {
   "cell_type": "markdown",
   "metadata": {},
   "source": [
    "We used algorithm 15.1 of the course. Also we make the hypothesis that the function is defined for x=0"
   ]
  },
  {
   "cell_type": "code",
   "execution_count": 73,
   "metadata": {
    "ExecuteTime": {
     "end_time": "2021-03-14T11:45:57.014800Z",
     "start_time": "2021-03-14T11:45:57.007053Z"
    }
   },
   "outputs": [],
   "source": [
    "# Input: objective function f(x) \n",
    "# Output: stationary point x* such that || grad(f)(x*) || < TOL\n",
    "\n",
    "# dim is the dimension of the input space\n",
    "def gradient_descent(f, alpha=0.1, TOL=1e-8, dim=1):\n",
    "    x = np.zeros(dim)\n",
    "    dfx = f.gradient(x)\n",
    "    \n",
    "    xs = [x]\n",
    "    \n",
    "    while np.linalg.norm(np.linalg.norm(dfx)) > TOL:\n",
    "        x = x - alpha * dfx\n",
    "        dfx = f.gradient(x)\n",
    "        xs.append(x)\n",
    "        \n",
    "    return x, xs"
   ]
  },
  {
   "cell_type": "markdown",
   "metadata": {},
   "source": [
    "## Function: Newton's method in $R^n$"
   ]
  },
  {
   "cell_type": "markdown",
   "metadata": {},
   "source": [
    "Newton's method can be written as such: $x^{(k+1)} = x^{(k)} - \\frac{f(x^{(k)})}{\\nabla f(x^{(k)})}$"
   ]
  },
  {
   "cell_type": "code",
   "execution_count": 77,
   "metadata": {
    "ExecuteTime": {
     "end_time": "2021-03-14T11:52:27.950545Z",
     "start_time": "2021-03-14T11:52:27.937438Z"
    }
   },
   "outputs": [],
   "source": [
    "def newton_method(f, TOL=1e-8, dim=1, max_it=10000):\n",
    "    # x = x - f/f'\n",
    "    it = 0\n",
    "    x = np.zeros(dim)\n",
    "    xs = [x]\n",
    "    while np.linalg.norm(f(x)) > TOL and it < max_it:\n",
    "        it += 1\n",
    "        x = x - f(x) / f.gradient(x)\n",
    "        xs.append(x)\n",
    "    return x, xs"
   ]
  },
  {
   "cell_type": "markdown",
   "metadata": {
    "colab_type": "text",
    "id": "SsQLT38gVbn_"
   },
   "source": [
    "# **Results**"
   ]
  },
  {
   "cell_type": "markdown",
   "metadata": {
    "colab_type": "text",
    "id": "RLwlnOzuV-Cd"
   },
   "source": [
    "Present the results. If the result is an algorithm that you have described under the *Methods* section, you can present the data from verification and performance tests in this section. If the result is the output from a computational experiment this is where you present a selection of that data. "
   ]
  },
  {
   "cell_type": "markdown",
   "metadata": {},
   "source": [
    "We will try to minimize this function $f(x) = sin(x_0) + cos(x_0)sin(x_1)$. We know that the minimum of this function is $-\\sqrt2$"
   ]
  },
  {
   "cell_type": "code",
   "execution_count": 78,
   "metadata": {
    "ExecuteTime": {
     "end_time": "2021-03-14T11:52:28.586176Z",
     "start_time": "2021-03-14T11:52:28.574061Z"
    }
   },
   "outputs": [],
   "source": [
    "# Test: verify accuracy and convergence with respect to exact solution \n",
    "class Function:\n",
    "    def __call__(self, x):\n",
    "        return np.sin(x[0]) + np.cos(x[0])*np.sin(x[1])\n",
    "        \n",
    "    def gradient(self, x):\n",
    "        return np.array([np.cos(x[0]) - np.sin(x[0])*np.sin(x[1]), np.cos(x[0])*np.cos(x[1])])"
   ]
  },
  {
   "cell_type": "code",
   "execution_count": 79,
   "metadata": {
    "ExecuteTime": {
     "end_time": "2021-03-14T11:52:28.963661Z",
     "start_time": "2021-03-14T11:52:28.806553Z"
    },
    "scrolled": true
   },
   "outputs": [
    {
     "data": {
      "text/plain": [
       "Text(0, 0.5, 'error')"
      ]
     },
     "execution_count": 79,
     "metadata": {},
     "output_type": "execute_result"
    },
    {
     "data": {
      "image/png": "[encoded data removed]",
      "text/plain": [
       "<Figure size 432x288 with 1 Axes>"
      ]
     },
     "metadata": {
      "needs_background": "light"
     },
     "output_type": "display_data"
    }
   ],
   "source": [
    "f = Function()\n",
    "\n",
    "x_min, xs_min = gradient_descent(f, dim=2)\n",
    "\n",
    "plt.plot(np.abs(np.array([f(x) for x in xs_min]) + np.sqrt(2)))\n",
    "plt.title(\"Error with every iteration of the gradient descent\")\n",
    "plt.xlabel(\"iteration\")\n",
    "plt.ylabel(\"error\")"
   ]
  },
  {
   "cell_type": "markdown",
   "metadata": {},
   "source": [
    "The gradient descent kept getting better with the iterations until it reached the set tolerance. "
   ]
  },
  {
   "cell_type": "markdown",
   "metadata": {},
   "source": [
    "## Function: Newton's method in $R^n$"
   ]
  },
  {
   "cell_type": "code",
   "execution_count": 80,
   "metadata": {
    "ExecuteTime": {
     "end_time": "2021-03-14T11:53:53.287166Z",
     "start_time": "2021-03-14T11:53:53.003019Z"
    }
   },
   "outputs": [
    {
     "data": {
      "image/png": "[encoded data removed]",
      "text/plain": [
       "<Figure size 432x288 with 1 Axes>"
      ]
     },
     "metadata": {
      "needs_background": "light"
     },
     "output_type": "display_data"
    }
   ],
   "source": [
    "class Function2:\n",
    "    def __call__(self, x):\n",
    "        return np.exp(x[0] + x[1]) - 10\n",
    "    \n",
    "    def gradient(self, x): \n",
    "        return np.array([np.exp(x[0] + x[1]), np.exp(x[0] + x[1])])\n",
    "\n",
    "f2 = Function2()\n",
    "x, xs = newton_method(f2, dim=2)\n",
    "\n",
    "plt.plot([f2(row) for row in xs[-20:]])\n",
    "plt.title(\"Error during the last 20 iterations of the Newton's method.\")\n",
    "plt.ylabel(\"Error\")\n",
    "# removing x axis\n",
    "plt.tick_params(\n",
    "    axis='x',          # changes apply to the x-axis\n",
    "    which='both',      # both major and minor ticks are affected\n",
    "    bottom=False,      # ticks along the bottom edge are off\n",
    "    top=False,         # ticks along the top edge are off\n",
    "    labelbottom=False) # labels along the bottom edge are off"
   ]
  },
  {
   "cell_type": "markdown",
   "metadata": {},
   "source": [
    "It is interesting to see that we can not be more precise with Newton's method without introducing for example a learning rate or a momentum term. The width of this interval probably depends on the magnitude of the gradient. "
   ]
  },
  {
   "cell_type": "markdown",
   "metadata": {
    "colab_type": "text",
    "id": "_4GLBv0zWr7m"
   },
   "source": [
    "# **Discussion**"
   ]
  },
  {
   "cell_type": "markdown",
   "metadata": {
    "colab_type": "text",
    "id": "6bcsDSoRXHZe"
   },
   "source": [
    "In conclusion, the gradient descent has very good results. It is able to minimize the function and be as precise as possible if the learning rate is small enough. Newton's method however cannot be as precise without a learning rate because the gradient can get smaller and smaller and we lose precision in the computation of the division."
   ]
  }
 ],
 "metadata": {
  "colab": {
   "include_colab_link": true,
   "name": "template-report-lab-X.ipynb",
   "provenance": []
  },
  "kernelspec": {
   "display_name": "Python 3",
   "language": "python",
   "name": "python3"
  },
  "language_info": {
   "codemirror_mode": {
    "name": "ipython",
    "version": 3
   },
   "file_extension": ".py",
   "mimetype": "text/x-python",
   "name": "python",
   "nbconvert_exporter": "python",
   "pygments_lexer": "ipython3",
   "version": "3.8.7"
  },
  "toc": {
   "base_numbering": 1,
   "nav_menu": {},
   "number_sections": true,
   "sideBar": true,
   "skip_h1_title": false,
   "title_cell": "Table of Contents",
   "title_sidebar": "Contents",
   "toc_cell": false,
   "toc_position": {},
   "toc_section_display": true,
   "toc_window_display": false
  }
 },
 "nbformat": 4,
 "nbformat_minor": 1
}

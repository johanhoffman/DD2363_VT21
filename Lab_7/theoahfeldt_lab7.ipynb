{
 "cells": [
  {
   "cell_type": "markdown",
   "metadata": {
    "colab_type": "text",
    "id": "6RgtXlfYO_i7"
   },
   "source": [
    "# Lab 7: Optimization and learning\n",
    "**Theo Puranen Åhfeldt**"
   ]
  },
  {
   "cell_type": "markdown",
   "metadata": {
    "colab_type": "text",
    "id": "9x_J5FVuPzbm"
   },
   "source": [
    "# **Abstract**"
   ]
  },
  {
   "cell_type": "markdown",
   "metadata": {
    "colab_type": "text",
    "id": "6UFTSzW7P8kL"
   },
   "source": [
    "In this report Newton's method and the gradient descent method for solving the local minimization problem in $R^n$ are implemented. The implementations are tested by comparing their outputs with the exact solution for a set of model problems. The results indicate that both implementations are succesful."
   ]
  },
  {
   "cell_type": "markdown",
   "metadata": {
    "colab_type": "text",
    "id": "28xLGz8JX3Hh"
   },
   "source": [
    "# **Set up environment**"
   ]
  },
  {
   "cell_type": "markdown",
   "metadata": {
    "colab_type": "text",
    "id": "D2PYNusD08Wa"
   },
   "source": [
    "To have access to the neccessary modules you have to run this cell."
   ]
  },
  {
   "cell_type": "code",
   "execution_count": 1,
   "metadata": {
    "colab": {},
    "colab_type": "code",
    "id": "Xw7VlErAX7NS"
   },
   "outputs": [],
   "source": [
    "# Load neccessary modules.\n",
    "import numpy as np\n",
    "import matplotlib.pyplot as plt\n",
    "from scipy import optimize"
   ]
  },
  {
   "cell_type": "markdown",
   "metadata": {
    "colab_type": "text",
    "id": "gnO3lhAigLev"
   },
   "source": [
    "# **Introduction**"
   ]
  },
  {
   "cell_type": "markdown",
   "metadata": {
    "colab_type": "text",
    "id": "l5zMzgPlRAF6"
   },
   "source": [
    "Given a function $f:D \\to R$ where $D \\subset R^n$ we can define the minimization problem as finding the point $x^* \\in D$ such that \n",
    "\n",
    "$$f(x^*) \\leq f(x),\\quad \\forall x \\in D$$\n",
    "\n",
    "By solving the minimization problem we can optimize any model as long as we can define a cost function $f$ for which minimization represents optimization of the model. However, it is often hard to find such a global minimum so instead we will look at methods solving the similar problem of finding a local minimum $\\hat{x} \\in D$ such that \n",
    "\n",
    "$$f(\\hat{x}) \\leq f(x),\\quad \\forall x: \\lVert x - \\hat{x} \\rVert < \\epsilon$$\n",
    "\n",
    "for some $\\epsilon > 0$. By Fermat's theorem such points $\\hat{x}$ (that are not on the boundary) must be critical points, that is $\\nabla f(\\hat{x}) = 0$. "
   ]
  },
  {
   "cell_type": "markdown",
   "metadata": {
    "colab_type": "text",
    "id": "jOQvukXZq5U5"
   },
   "source": [
    "# **Method**"
   ]
  },
  {
   "cell_type": "markdown",
   "metadata": {
    "colab_type": "text",
    "id": "zF4iBj5VURZx"
   },
   "source": [
    "Newton's method and the gradient descent method are implemented directly after the mathematically defined step equation. The methods require the gradient and hessian which are approximated using finite difference. We test the implementations by comparing the outputs with the exact solution for a set of model problems."
   ]
  },
  {
   "cell_type": "markdown",
   "metadata": {},
   "source": [
    "## Gradient descent method in Rn"
   ]
  },
  {
   "cell_type": "markdown",
   "metadata": {},
   "source": [
    "Given a function $f: R^n \\to R$ the gradient is defined as\n",
    "\n",
    "$$\\nabla f = \\left(\\frac{\\partial f}{\\partial x_0}, \\frac{\\partial f}{\\partial x_1}, \\dots, \\frac{\\partial f}{\\partial x_n}\\right)^T$$\n",
    "\n",
    "In order to compute the gradient for arbitrary scalar functions we will use finite difference as an approximation."
   ]
  },
  {
   "cell_type": "code",
   "execution_count": 2,
   "metadata": {},
   "outputs": [],
   "source": [
    "def gradient(f, x, h=1e-8):\n",
    "    return np.array([(f(x + dx) - f(x))/h for dx in h * np.identity(x.size)])"
   ]
  },
  {
   "cell_type": "markdown",
   "metadata": {},
   "source": [
    "The gradient points in the direction of steepest ascent, so in order to decrease the function $f$ we can move a step $\\alpha$ in the direction of the negative gradient. This gives us the step equation:\n",
    "\n",
    "$$x^{(k+1)} = x^{(k)} -\\alpha^{(k)}\\nabla f(x^{(k)})$$\n",
    "\n",
    "Each step will bring us closer to the local minimum, and it will have been found when $\\nabla f(x^{(k)}) = 0$. However, it might take forever to find the exact solution, so instead we stop iterating when we get sufficiently close  as determined by the condition that $\\lVert\\nabla f(x^{(k)})\\rVert < \\mathrm{TOL}$.\n",
    "\n",
    "For simplicities sake we will use a constant step length. We also add an optional parameter `test` for getting all the intermediate values for testing purposes."
   ]
  },
  {
   "cell_type": "code",
   "execution_count": 3,
   "metadata": {},
   "outputs": [],
   "source": [
    "def gradient_descent(f, x0, TOL=1e-8, step=1, test=False):\n",
    "    xs = [x0]\n",
    "    x = x0\n",
    "    df = gradient(f, x)\n",
    "    while np.linalg.norm(df) > TOL:\n",
    "        df = gradient(f, x)\n",
    "        x = x - step*df\n",
    "        xs.append(x)\n",
    "    if test:\n",
    "        return xs\n",
    "    else:\n",
    "        return x"
   ]
  },
  {
   "cell_type": "markdown",
   "metadata": {},
   "source": [
    "## Newton's method in Rn"
   ]
  },
  {
   "cell_type": "markdown",
   "metadata": {},
   "source": [
    "For Newton's method we need to compute the hessian. Once again we will use finite difference for a general approximation. We use the fact that the hessian is the jacobian of the gradient and reuse those functions for a concise implementation."
   ]
  },
  {
   "cell_type": "code",
   "execution_count": 4,
   "metadata": {},
   "outputs": [],
   "source": [
    "def jacobian(f, x, h=1e-8):\n",
    "    return np.array([(f(x + dx) - f(x))/h for dx in h * np.identity(x.size)]).transpose()\n",
    "\n",
    "def hessian(f, x, h=1e-5):\n",
    "    grad = lambda y: gradient(f, y, h)\n",
    "    return jacobian(grad, x, h)"
   ]
  },
  {
   "cell_type": "markdown",
   "metadata": {},
   "source": [
    "Newton's method is based on approximation of the function using the Taylor's expansion of second degree. The step equation is derived from setting the gradient of the approximation to 0 and it looks like this:\n",
    "\n",
    "$$x^{(k+1)} = x^{(k)} + \\Delta x^{(k)}$$\n",
    "\n",
    "where\n",
    "\n",
    "$$\\Delta x^{(k)} = -(Hf(x^{(k)}))^{-1}\\nabla f(x^{(k)})$$\n",
    "\n",
    "For our implementation we will calculate $\\Delta x^{(k)}$ by solving the equation $(Hf(x^{(k)})) \\Delta x^{(k)} = -\\nabla f(x^{(k)})$ instead of calculating the inverse hessian directly."
   ]
  },
  {
   "cell_type": "code",
   "execution_count": 5,
   "metadata": {},
   "outputs": [],
   "source": [
    "def newtons_method(f, x0, TOL=1e-8, test=False):\n",
    "    xs = [x0]\n",
    "    x = x0\n",
    "    df = gradient(f, x)\n",
    "    while np.linalg.norm(df) > TOL:\n",
    "        df = gradient(f, x)\n",
    "        x = x + np.linalg.solve(hessian(f, x), -df)\n",
    "        xs.append(x)\n",
    "    if test:\n",
    "        return xs\n",
    "    else:\n",
    "        return x"
   ]
  },
  {
   "cell_type": "markdown",
   "metadata": {},
   "source": [
    "## Tests"
   ]
  },
  {
   "cell_type": "markdown",
   "metadata": {},
   "source": [
    "To test the minimization algorithms we will use the following functions:"
   ]
  },
  {
   "cell_type": "code",
   "execution_count": 6,
   "metadata": {},
   "outputs": [],
   "source": [
    "test_fun1 = lambda x: np.cos(x[0]) + np.sin(x[1])\n",
    "min1, min2 = np.array([np.pi, -np.pi/2]), np.array([-np.pi, 3*np.pi/2])\n",
    "\n",
    "test_fun2 = lambda x: 2*x[0]**2 + x[1]**2\n",
    "min3 = np.zeros((2,))"
   ]
  },
  {
   "cell_type": "markdown",
   "metadata": {},
   "source": [
    "We know that `test_fun1` has infinitely many local minima, two of which are $(\\pi, -\\pi/2)$ and $(-\\pi, 3\\pi/2)$ and `test_fun2` has only one minimum $(0,0)$. To test the implementations, we run them with the testing parameter set to true and plot the distance to the exact solution for each iteration with respect to the $L^2$ norm."
   ]
  },
  {
   "cell_type": "code",
   "execution_count": 7,
   "metadata": {},
   "outputs": [],
   "source": [
    "def test(f, sol, x0, step):\n",
    "    grad_errors = [np.linalg.norm(x - sol) for x in gradient_descent(f, x0, step=step, test=True)]\n",
    "    newt_errors = [np.linalg.norm(x - sol) for x in newtons_method(f, x0, test=True)]\n",
    "    plt.plot(grad_errors, label=\"gradient descent\")\n",
    "    plt.plot(newt_errors, label=\"newton's\")\n",
    "    plt.legend()\n",
    "    plt.show()"
   ]
  },
  {
   "cell_type": "markdown",
   "metadata": {
    "colab_type": "text",
    "id": "SsQLT38gVbn_"
   },
   "source": [
    "# **Results**"
   ]
  },
  {
   "cell_type": "markdown",
   "metadata": {},
   "source": [
    "This section shows the results of the tests as defined in the previous section."
   ]
  },
  {
   "cell_type": "code",
   "execution_count": 8,
   "metadata": {},
   "outputs": [
    {
     "data": {
      "image/png": "[encoded data removed]",
      "text/plain": [
       "<Figure size 432x288 with 1 Axes>"
      ]
     },
     "metadata": {
      "needs_background": "light"
     },
     "output_type": "display_data"
    },
    {
     "data": {
      "image/png": "[encoded data removed]",
      "text/plain": [
       "<Figure size 432x288 with 1 Axes>"
      ]
     },
     "metadata": {
      "needs_background": "light"
     },
     "output_type": "display_data"
    },
    {
     "data": {
      "image/png": "[encoded data removed]",
      "text/plain": [
       "<Figure size 432x288 with 1 Axes>"
      ]
     },
     "metadata": {
      "needs_background": "light"
     },
     "output_type": "display_data"
    }
   ],
   "source": [
    "test(test_fun1, min1, np.array([3, -2]), 1)\n",
    "test(test_fun1, min2, np.array([-3, 4]), 1)\n",
    "test(test_fun2, min3, np.array([3, 3]), 0.4)"
   ]
  },
  {
   "cell_type": "markdown",
   "metadata": {
    "colab_type": "text",
    "id": "_4GLBv0zWr7m"
   },
   "source": [
    "# **Discussion**"
   ]
  },
  {
   "cell_type": "markdown",
   "metadata": {},
   "source": [
    "The implementations for both methods converge to the exact solution indicating that they are correct. For the first test function, gradient descent converges slightly faster with a large step size of 1. However, for the second test function I had to choose a smaller step size or it would diverge. With the smaller step size, gradient descent converges much slower than Newton's method. This highlights the importance of choosing the step size wisely for gradient descent to work well. Choosing it dynamically using something like a line search would probably yield better results."
   ]
  }
 ],
 "metadata": {
  "colab": {
   "include_colab_link": true,
   "name": "template-report-lab-X.ipynb",
   "provenance": []
  },
  "kernelspec": {
   "display_name": "Python 3",
   "language": "python",
   "name": "python3"
  },
  "language_info": {
   "codemirror_mode": {
    "name": "ipython",
    "version": 3
   },
   "file_extension": ".py",
   "mimetype": "text/x-python",
   "name": "python",
   "nbconvert_exporter": "python",
   "pygments_lexer": "ipython3",
   "version": "3.8.7"
  }
 },
 "nbformat": 4,
 "nbformat_minor": 1
}

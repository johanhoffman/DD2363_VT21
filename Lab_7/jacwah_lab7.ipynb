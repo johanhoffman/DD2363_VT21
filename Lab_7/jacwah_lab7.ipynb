{
 "cells": [
  {
   "cell_type": "markdown",
   "metadata": {
    "id": "6RgtXlfYO_i7"
   },
   "source": [
    "# **Lab 7: Optimization and learning**\n",
    "**Jacob Wahlgren**"
   ]
  },
  {
   "cell_type": "markdown",
   "metadata": {
    "id": "9x_J5FVuPzbm"
   },
   "source": [
    "# **Abstract**"
   ]
  },
  {
   "cell_type": "markdown",
   "metadata": {},
   "source": [
    "Gradient descent is an algorithm to solve minimization problems. This report implements the algorithm in $R^n$ and analyzes its accuracy and convergence."
   ]
  },
  {
   "cell_type": "markdown",
   "metadata": {
    "id": "OkT8J7uOWpT3"
   },
   "source": [
    "#**About the code**"
   ]
  },
  {
   "cell_type": "markdown",
   "metadata": {
    "id": "HmB2noTr1Oyo"
   },
   "source": [
    "The code was written by Jacob Wahlgren, based on a template by Johan Hoffman."
   ]
  },
  {
   "cell_type": "code",
   "execution_count": 29,
   "metadata": {
    "colab": {
     "base_uri": "https://localhost:8080/",
     "height": 36
    },
    "id": "Pdll1Xc9WP0e",
    "outputId": "75704cb9-8201-41ed-f17e-6acf91a7f7d0"
   },
   "outputs": [
    {
     "data": {
      "text/plain": [
       "'KTH Royal Institute of Technology, Stockholm, Sweden.'"
      ]
     },
     "execution_count": 29,
     "metadata": {},
     "output_type": "execute_result"
    }
   ],
   "source": [
    "\"\"\"This program is a template for lab reports in the course\"\"\"\n",
    "\"\"\"DD2363 Methods in Scientific Computing, \"\"\"\n",
    "\"\"\"KTH Royal Institute of Technology, Stockholm, Sweden.\"\"\"\n",
    "\n",
    "# Copyright (C) 2020 Johan Hoffman (jhoffman@kth.se)\n",
    "# Copyright (C) 2021 Jacob Wahlgren (jacobwah@kth.se)\n",
    "\n",
    "# This file is part of the course DD2365 Advanced Computation in Fluid Mechanics\n",
    "# KTH Royal Institute of Technology, Stockholm, Sweden\n",
    "#\n",
    "# This is free software: you can redistribute it and/or modify\n",
    "# it under the terms of the GNU Lesser General Public License as published by\n",
    "# the Free Software Foundation, either version 3 of the License, or\n",
    "# (at your option) any later version.\n",
    "\n",
    "# This template is maintained by Johan Hoffman\n",
    "# Please report problems to jhoffman@kth.se"
   ]
  },
  {
   "cell_type": "markdown",
   "metadata": {
    "id": "28xLGz8JX3Hh"
   },
   "source": [
    "# **Set up environment**"
   ]
  },
  {
   "cell_type": "code",
   "execution_count": 30,
   "metadata": {
    "id": "Xw7VlErAX7NS"
   },
   "outputs": [],
   "source": [
    "import numpy as np\n",
    "import matplotlib.pyplot as plt"
   ]
  },
  {
   "cell_type": "markdown",
   "metadata": {
    "id": "gnO3lhAigLev"
   },
   "source": [
    "# **Introduction**\n",
    "\n",
    "In minimization problems the task is to find a minimum point of a function $f(x)$ in some domain $D$. That is, find $x^*\\in D$ such that\n",
    "\n",
    "$\\displaystyle f(x^*) \\leq f(x) \\quad \\forall x \\in D.$\n",
    "\n",
    "One algorithm to solve this type of problem is gradient descent, which uses the gradient\n",
    "\n",
    "$\\displaystyle \\nabla f = \\Big(\\frac{df}{dx_1},\\frac{df}{dx_2},...\\Big)^T$\n",
    "\n",
    "to find a direction along which the function is decreasing."
   ]
  },
  {
   "cell_type": "markdown",
   "metadata": {
    "id": "jOQvukXZq5U5"
   },
   "source": [
    "# **Method**"
   ]
  },
  {
   "cell_type": "markdown",
   "metadata": {},
   "source": [
    "First some general definitions. The `SOS` class represents a sum of squares function\n",
    "\n",
    "$\\displaystyle f(x) = \\sum_{i=1}^{n} (x_i-a_i)^2$\n",
    "\n",
    "which is used for testing, since it is convex and has a unique global minimum that is easily found as the coordinates $a$."
   ]
  },
  {
   "cell_type": "code",
   "execution_count": 31,
   "metadata": {},
   "outputs": [],
   "source": [
    "TOL = 1e-2\n",
    "\n",
    "class SOS:\n",
    "    def __init__(self, x0):\n",
    "        self.x0 = x0\n",
    "        self.n = len(x0)\n",
    "    \n",
    "    def __call__(self, x):\n",
    "        return sum((x[i]-self.x0[i])**2 for i in range(self.n))\n",
    "    \n",
    "    def grad(self, x):\n",
    "        return np.array([2*(x[i]-self.x0[i]) for i in range(self.n)])"
   ]
  },
  {
   "cell_type": "markdown",
   "metadata": {},
   "source": [
    "### Gradient descent in $R^n$\n",
    "\n",
    "As input we receive a function $f(x): R^n \\rightarrow R$. Using the gradient the algorithm locates a stationary point $x^*$, i.e. where $\\|\\nabla f(x^*)\\| < \\text{TOL}$. I use the step size $\\frac{1}{10}||Df||$ since it is easy to compute."
   ]
  },
  {
   "cell_type": "code",
   "execution_count": 32,
   "metadata": {},
   "outputs": [],
   "source": [
    "def gradient_descent_steps(f):\n",
    "    x = np.zeros(f.n)\n",
    "    steps = [x]\n",
    "    while True:\n",
    "        Df = f.grad(x)\n",
    "        if np.linalg.norm(Df) <= TOL:\n",
    "            break\n",
    "        alpha = get_step_length(f, Df, x)\n",
    "        x = x - alpha * Df\n",
    "        steps.append(x)\n",
    "    return np.array(steps)\n",
    "\n",
    "def gradient_descent(f):\n",
    "    return gradient_descent_steps(f)[-1]\n",
    "\n",
    "def get_step_length(f, Df, x):\n",
    "    return np.linalg.norm(Df)*0.1"
   ]
  },
  {
   "cell_type": "markdown",
   "metadata": {
    "id": "SsQLT38gVbn_"
   },
   "source": [
    "# **Results**"
   ]
  },
  {
   "cell_type": "markdown",
   "metadata": {},
   "source": [
    "### Gradient descent in $R^n$\n",
    "\n",
    "Each iteration of the algorithm gets closer to the goal. The plot below shows all the $x^{(k)}$ as blue dots and the red cross marks the true minimum. The initial point $x^{(0)}$ is the origin."
   ]
  },
  {
   "cell_type": "code",
   "execution_count": 33,
   "metadata": {},
   "outputs": [
    {
     "data": {
      "text/plain": [
       "Text(0, 0.5, '$x_2$')"
      ]
     },
     "execution_count": 33,
     "metadata": {},
     "output_type": "execute_result"
    },
    {
     "data": {
      "image/png": "[encoded data removed]",
      "text/plain": [
       "<Figure size 432x288 with 1 Axes>"
      ]
     },
     "metadata": {
      "needs_background": "light"
     },
     "output_type": "display_data"
    }
   ],
   "source": [
    "x0 = np.random.rand(2)\n",
    "f = SOS(x0)\n",
    "assert f(x0) == 0\n",
    "xs = gradient_descent_steps(f)\n",
    "\n",
    "plt.plot(xs[:,0], xs[:,1], '-o')\n",
    "plt.plot([x0[0]], [x0[1]], marker='x', c='red', markersize=20)\n",
    "\n",
    "plt.xlabel('$x_1$')\n",
    "plt.ylabel('$x_2$')"
   ]
  },
  {
   "cell_type": "markdown",
   "metadata": {},
   "source": [
    "The error $\\|x^{(k)}-x^*\\|$ decreases quickly in the first few iterations. Note the log scale."
   ]
  },
  {
   "cell_type": "code",
   "execution_count": 34,
   "metadata": {},
   "outputs": [
    {
     "data": {
      "image/png": "[encoded data removed]",
      "text/plain": [
       "<Figure size 432x288 with 1 Axes>"
      ]
     },
     "metadata": {
      "needs_background": "light"
     },
     "output_type": "display_data"
    }
   ],
   "source": [
    "plt.plot(np.arange(len(xs)), [np.linalg.norm(x-x0) for x in xs])\n",
    "plt.xlabel('iteration')\n",
    "plt.ylabel('error')\n",
    "plt.yscale('log')"
   ]
  },
  {
   "cell_type": "markdown",
   "metadata": {},
   "source": [
    "The algorithm works well in higher dimensional space too. The below graph is the error in a problem with 60 dimensions."
   ]
  },
  {
   "cell_type": "code",
   "execution_count": 35,
   "metadata": {},
   "outputs": [
    {
     "data": {
      "image/png": "[encoded data removed]",
      "text/plain": [
       "<Figure size 432x288 with 1 Axes>"
      ]
     },
     "metadata": {
      "needs_background": "light"
     },
     "output_type": "display_data"
    }
   ],
   "source": [
    "x0 = np.random.rand(60)\n",
    "f = SOS(x0)\n",
    "assert f(x0) == 0\n",
    "xs = gradient_descent_steps(f)\n",
    "plt.plot(np.arange(len(xs)), [np.linalg.norm(x-x0) for x in xs])\n",
    "plt.xlabel('iteration')\n",
    "plt.ylabel('error')\n",
    "plt.yscale('log')"
   ]
  },
  {
   "cell_type": "markdown",
   "metadata": {
    "id": "_4GLBv0zWr7m"
   },
   "source": [
    "# **Discussion**\n",
    "\n",
    "Gradient descent seems like a simple and useful algorithm to solve minimization problems where the gradient is available. To achieve good performance the step length must be adapted to the problem. In the case of line search for instance, the type of problem I used in testing could be solved in a single iteration."
   ]
  }
 ],
 "metadata": {
  "colab": {
   "include_colab_link": true,
   "name": "template-report-lab-X.ipynb",
   "provenance": []
  },
  "kernelspec": {
   "display_name": "Python 3",
   "language": "python",
   "name": "python3"
  },
  "language_info": {
   "codemirror_mode": {
    "name": "ipython",
    "version": 3
   },
   "file_extension": ".py",
   "mimetype": "text/x-python",
   "name": "python",
   "nbconvert_exporter": "python",
   "pygments_lexer": "ipython3",
   "version": "3.6.7"
  }
 },
 "nbformat": 4,
 "nbformat_minor": 1
}

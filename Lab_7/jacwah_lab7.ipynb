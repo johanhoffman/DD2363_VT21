{
 "cells": [
  {
   "cell_type": "markdown",
   "metadata": {
    "colab_type": "text",
    "id": "view-in-github"
   },
   "source": [
    "<a href=\"https://colab.research.google.com/github/johanhoffman/DD2363_VT21/blob/jacwah/Lab_4/jacwah_lab4.ipynb\" target=\"_parent\"><img src=\"https://colab.research.google.com/assets/colab-badge.svg\" alt=\"Open In Colab\"/></a>"
   ]
  },
  {
   "cell_type": "markdown",
   "metadata": {
    "id": "6RgtXlfYO_i7"
   },
   "source": [
    "# **Lab 7: Optimization and learning**\n",
    "**Jacob Wahlgren**"
   ]
  },
  {
   "cell_type": "markdown",
   "metadata": {
    "id": "9x_J5FVuPzbm"
   },
   "source": [
    "# **Abstract**"
   ]
  },
  {
   "cell_type": "markdown",
   "metadata": {
    "id": "OkT8J7uOWpT3"
   },
   "source": [
    "#**About the code**"
   ]
  },
  {
   "cell_type": "markdown",
   "metadata": {
    "id": "HmB2noTr1Oyo"
   },
   "source": [
    "The code was written by Jacob Wahlgren, based on a template by Johan Hoffman."
   ]
  },
  {
   "cell_type": "code",
   "execution_count": 78,
   "metadata": {
    "colab": {
     "base_uri": "https://localhost:8080/",
     "height": 36
    },
    "id": "Pdll1Xc9WP0e",
    "outputId": "75704cb9-8201-41ed-f17e-6acf91a7f7d0"
   },
   "outputs": [
    {
     "data": {
      "text/plain": [
       "'KTH Royal Institute of Technology, Stockholm, Sweden.'"
      ]
     },
     "execution_count": 78,
     "metadata": {},
     "output_type": "execute_result"
    }
   ],
   "source": [
    "\"\"\"This program is a template for lab reports in the course\"\"\"\n",
    "\"\"\"DD2363 Methods in Scientific Computing, \"\"\"\n",
    "\"\"\"KTH Royal Institute of Technology, Stockholm, Sweden.\"\"\"\n",
    "\n",
    "# Copyright (C) 2020 Johan Hoffman (jhoffman@kth.se)\n",
    "# Copyright (C) 2021 Jacob Wahlgren (jacobwah@kth.se)\n",
    "\n",
    "# This file is part of the course DD2365 Advanced Computation in Fluid Mechanics\n",
    "# KTH Royal Institute of Technology, Stockholm, Sweden\n",
    "#\n",
    "# This is free software: you can redistribute it and/or modify\n",
    "# it under the terms of the GNU Lesser General Public License as published by\n",
    "# the Free Software Foundation, either version 3 of the License, or\n",
    "# (at your option) any later version.\n",
    "\n",
    "# This template is maintained by Johan Hoffman\n",
    "# Please report problems to jhoffman@kth.se"
   ]
  },
  {
   "cell_type": "markdown",
   "metadata": {
    "id": "28xLGz8JX3Hh"
   },
   "source": [
    "# **Set up environment**"
   ]
  },
  {
   "cell_type": "code",
   "execution_count": 5,
   "metadata": {
    "id": "Xw7VlErAX7NS"
   },
   "outputs": [],
   "source": [
    "import numpy as np\n",
    "import matplotlib.pyplot as plt\n",
    "from scipy import optimize"
   ]
  },
  {
   "cell_type": "markdown",
   "metadata": {
    "id": "gnO3lhAigLev"
   },
   "source": [
    "# **Introduction**"
   ]
  },
  {
   "cell_type": "markdown",
   "metadata": {
    "id": "jOQvukXZq5U5"
   },
   "source": [
    "# **Method**"
   ]
  },
  {
   "cell_type": "markdown",
   "metadata": {},
   "source": [
    "First some general definitions. I use a tolerance of $10^{-7}$. The `Poly` class represents a polynomial\n",
    "\n",
    "$\\displaystyle P(x) = \\sum_{i=0}^{n-1} a_i x_i^i.$"
   ]
  },
  {
   "cell_type": "code",
   "execution_count": 35,
   "metadata": {},
   "outputs": [],
   "source": [
    "TOL = 1e-2\n",
    "\n",
    "class Poly:\n",
    "    def __init__(self, coef):\n",
    "        self.coef = coef\n",
    "        self.n = len(coef)\n",
    "    \n",
    "    def __call__(self, x):\n",
    "        return sum(self.coef[i]*x[i]**i for i in range(self.n))\n",
    "    \n",
    "    def grad(self, x):\n",
    "        return sum(self.coef[i]*i*x[i]**(i-1) for i in range(self.n))\n",
    "    \n",
    "class SOS:\n",
    "    def __init__(self, x0):\n",
    "        self.x0 = x0\n",
    "        self.n = len(x0)\n",
    "    \n",
    "    def __call__(self, x):\n",
    "        return sum((x[i]-self.x0[i])**2 for i in range(self.n))\n",
    "    \n",
    "    def grad(self, x):\n",
    "        return sum(2*(x[i]-self.x0[i]) for i in range(self.n))"
   ]
  },
  {
   "cell_type": "markdown",
   "metadata": {},
   "source": [
    "### Gradient descent in $R^n$\n",
    "\n",
    "As input we receive a function $f(x): R^n \\rightarrow R$. Using the gradient the algorithm locates a stationary point $x^*$, i.e. where $\\|\\nabla f(x^*)\\| < \\text{TOL}$."
   ]
  },
  {
   "cell_type": "code",
   "execution_count": 40,
   "metadata": {},
   "outputs": [],
   "source": [
    "def gradient_descent_steps(f):\n",
    "    x = np.zeros(f.n)\n",
    "    steps = [x]\n",
    "    while True:\n",
    "        Df = f.grad(x)\n",
    "        if np.linalg.norm(Df) <= TOL:\n",
    "            break\n",
    "        alpha = get_step_length(f, Df, x)\n",
    "        x -= alpha * Df\n",
    "        steps.append(x)\n",
    "    return np.array(steps)\n",
    "\n",
    "def gradient_descent(f):\n",
    "    return gradient_descent_steps(f)[-1]\n",
    "\n",
    "def get_step_length(f, Df, x):\n",
    "    return np.linalg.norm(Df)*0.1"
   ]
  },
  {
   "cell_type": "markdown",
   "metadata": {
    "id": "SsQLT38gVbn_"
   },
   "source": [
    "# **Results**"
   ]
  },
  {
   "cell_type": "markdown",
   "metadata": {},
   "source": [
    "### Gradient descent in $R^n$"
   ]
  },
  {
   "cell_type": "code",
   "execution_count": 41,
   "metadata": {},
   "outputs": [
    {
     "name": "stdout",
     "output_type": "stream",
     "text": [
      "[[0.37239572 0.37239572]\n",
      " [0.37239572 0.37239572]\n",
      " [0.37239572 0.37239572]\n",
      " [0.37239572 0.37239572]\n",
      " [0.37239572 0.37239572]\n",
      " [0.37239572 0.37239572]\n",
      " [0.37239572 0.37239572]\n",
      " [0.37239572 0.37239572]\n",
      " [0.37239572 0.37239572]\n",
      " [0.37239572 0.37239572]\n",
      " [0.37239572 0.37239572]\n",
      " [0.37239572 0.37239572]\n",
      " [0.37239572 0.37239572]\n",
      " [0.37239572 0.37239572]\n",
      " [0.37239572 0.37239572]\n",
      " [0.37239572 0.37239572]\n",
      " [0.37239572 0.37239572]\n",
      " [0.37239572 0.37239572]\n",
      " [0.37239572 0.37239572]\n",
      " [0.37239572 0.37239572]\n",
      " [0.37239572 0.37239572]\n",
      " [0.37239572 0.37239572]\n",
      " [0.37239572 0.37239572]\n",
      " [0.37239572 0.37239572]\n",
      " [0.37239572 0.37239572]\n",
      " [0.37239572 0.37239572]\n",
      " [0.37239572 0.37239572]\n",
      " [0.37239572 0.37239572]\n",
      " [0.37239572 0.37239572]\n",
      " [0.37239572 0.37239572]\n",
      " [0.37239572 0.37239572]\n",
      " [0.37239572 0.37239572]\n",
      " [0.37239572 0.37239572]\n",
      " [0.37239572 0.37239572]\n",
      " [0.37239572 0.37239572]\n",
      " [0.37239572 0.37239572]\n",
      " [0.37239572 0.37239572]\n",
      " [0.37239572 0.37239572]\n",
      " [0.37239572 0.37239572]\n",
      " [0.37239572 0.37239572]\n",
      " [0.37239572 0.37239572]\n",
      " [0.37239572 0.37239572]\n",
      " [0.37239572 0.37239572]\n",
      " [0.37239572 0.37239572]\n",
      " [0.37239572 0.37239572]\n",
      " [0.37239572 0.37239572]\n",
      " [0.37239572 0.37239572]\n",
      " [0.37239572 0.37239572]\n",
      " [0.37239572 0.37239572]\n",
      " [0.37239572 0.37239572]\n",
      " [0.37239572 0.37239572]\n",
      " [0.37239572 0.37239572]\n",
      " [0.37239572 0.37239572]\n",
      " [0.37239572 0.37239572]\n",
      " [0.37239572 0.37239572]\n",
      " [0.37239572 0.37239572]\n",
      " [0.37239572 0.37239572]\n",
      " [0.37239572 0.37239572]\n",
      " [0.37239572 0.37239572]\n",
      " [0.37239572 0.37239572]\n",
      " [0.37239572 0.37239572]\n",
      " [0.37239572 0.37239572]\n",
      " [0.37239572 0.37239572]\n",
      " [0.37239572 0.37239572]\n",
      " [0.37239572 0.37239572]\n",
      " [0.37239572 0.37239572]\n",
      " [0.37239572 0.37239572]\n",
      " [0.37239572 0.37239572]\n",
      " [0.37239572 0.37239572]\n",
      " [0.37239572 0.37239572]\n",
      " [0.37239572 0.37239572]\n",
      " [0.37239572 0.37239572]\n",
      " [0.37239572 0.37239572]\n",
      " [0.37239572 0.37239572]\n",
      " [0.37239572 0.37239572]\n",
      " [0.37239572 0.37239572]\n",
      " [0.37239572 0.37239572]\n",
      " [0.37239572 0.37239572]\n",
      " [0.37239572 0.37239572]\n",
      " [0.37239572 0.37239572]\n",
      " [0.37239572 0.37239572]\n",
      " [0.37239572 0.37239572]\n",
      " [0.37239572 0.37239572]\n",
      " [0.37239572 0.37239572]\n",
      " [0.37239572 0.37239572]\n",
      " [0.37239572 0.37239572]\n",
      " [0.37239572 0.37239572]\n",
      " [0.37239572 0.37239572]\n",
      " [0.37239572 0.37239572]\n",
      " [0.37239572 0.37239572]\n",
      " [0.37239572 0.37239572]\n",
      " [0.37239572 0.37239572]\n",
      " [0.37239572 0.37239572]\n",
      " [0.37239572 0.37239572]\n",
      " [0.37239572 0.37239572]\n",
      " [0.37239572 0.37239572]\n",
      " [0.37239572 0.37239572]\n",
      " [0.37239572 0.37239572]\n",
      " [0.37239572 0.37239572]\n",
      " [0.37239572 0.37239572]\n",
      " [0.37239572 0.37239572]\n",
      " [0.37239572 0.37239572]\n",
      " [0.37239572 0.37239572]\n",
      " [0.37239572 0.37239572]\n",
      " [0.37239572 0.37239572]\n",
      " [0.37239572 0.37239572]\n",
      " [0.37239572 0.37239572]\n",
      " [0.37239572 0.37239572]\n",
      " [0.37239572 0.37239572]\n",
      " [0.37239572 0.37239572]\n",
      " [0.37239572 0.37239572]\n",
      " [0.37239572 0.37239572]\n",
      " [0.37239572 0.37239572]\n",
      " [0.37239572 0.37239572]\n",
      " [0.37239572 0.37239572]\n",
      " [0.37239572 0.37239572]\n",
      " [0.37239572 0.37239572]\n",
      " [0.37239572 0.37239572]\n",
      " [0.37239572 0.37239572]\n",
      " [0.37239572 0.37239572]\n",
      " [0.37239572 0.37239572]\n",
      " [0.37239572 0.37239572]\n",
      " [0.37239572 0.37239572]\n",
      " [0.37239572 0.37239572]\n",
      " [0.37239572 0.37239572]\n",
      " [0.37239572 0.37239572]\n",
      " [0.37239572 0.37239572]\n",
      " [0.37239572 0.37239572]\n",
      " [0.37239572 0.37239572]\n",
      " [0.37239572 0.37239572]\n",
      " [0.37239572 0.37239572]\n",
      " [0.37239572 0.37239572]\n",
      " [0.37239572 0.37239572]\n",
      " [0.37239572 0.37239572]\n",
      " [0.37239572 0.37239572]\n",
      " [0.37239572 0.37239572]\n",
      " [0.37239572 0.37239572]\n",
      " [0.37239572 0.37239572]\n",
      " [0.37239572 0.37239572]\n",
      " [0.37239572 0.37239572]\n",
      " [0.37239572 0.37239572]\n",
      " [0.37239572 0.37239572]\n",
      " [0.37239572 0.37239572]\n",
      " [0.37239572 0.37239572]\n",
      " [0.37239572 0.37239572]\n",
      " [0.37239572 0.37239572]\n",
      " [0.37239572 0.37239572]\n",
      " [0.37239572 0.37239572]\n",
      " [0.37239572 0.37239572]\n",
      " [0.37239572 0.37239572]\n",
      " [0.37239572 0.37239572]\n",
      " [0.37239572 0.37239572]\n",
      " [0.37239572 0.37239572]\n",
      " [0.37239572 0.37239572]\n",
      " [0.37239572 0.37239572]\n",
      " [0.37239572 0.37239572]\n",
      " [0.37239572 0.37239572]\n",
      " [0.37239572 0.37239572]\n",
      " [0.37239572 0.37239572]\n",
      " [0.37239572 0.37239572]\n",
      " [0.37239572 0.37239572]\n",
      " [0.37239572 0.37239572]\n",
      " [0.37239572 0.37239572]\n",
      " [0.37239572 0.37239572]\n",
      " [0.37239572 0.37239572]\n",
      " [0.37239572 0.37239572]\n",
      " [0.37239572 0.37239572]\n",
      " [0.37239572 0.37239572]\n",
      " [0.37239572 0.37239572]\n",
      " [0.37239572 0.37239572]\n",
      " [0.37239572 0.37239572]\n",
      " [0.37239572 0.37239572]\n",
      " [0.37239572 0.37239572]\n",
      " [0.37239572 0.37239572]\n",
      " [0.37239572 0.37239572]\n",
      " [0.37239572 0.37239572]\n",
      " [0.37239572 0.37239572]\n",
      " [0.37239572 0.37239572]\n",
      " [0.37239572 0.37239572]\n",
      " [0.37239572 0.37239572]\n",
      " [0.37239572 0.37239572]\n",
      " [0.37239572 0.37239572]\n",
      " [0.37239572 0.37239572]\n",
      " [0.37239572 0.37239572]\n",
      " [0.37239572 0.37239572]\n",
      " [0.37239572 0.37239572]\n",
      " [0.37239572 0.37239572]\n",
      " [0.37239572 0.37239572]\n",
      " [0.37239572 0.37239572]\n",
      " [0.37239572 0.37239572]\n",
      " [0.37239572 0.37239572]\n",
      " [0.37239572 0.37239572]\n",
      " [0.37239572 0.37239572]\n",
      " [0.37239572 0.37239572]\n",
      " [0.37239572 0.37239572]\n",
      " [0.37239572 0.37239572]\n",
      " [0.37239572 0.37239572]\n",
      " [0.37239572 0.37239572]\n",
      " [0.37239572 0.37239572]\n",
      " [0.37239572 0.37239572]\n",
      " [0.37239572 0.37239572]\n",
      " [0.37239572 0.37239572]\n",
      " [0.37239572 0.37239572]\n",
      " [0.37239572 0.37239572]\n",
      " [0.37239572 0.37239572]\n",
      " [0.37239572 0.37239572]\n",
      " [0.37239572 0.37239572]\n",
      " [0.37239572 0.37239572]\n",
      " [0.37239572 0.37239572]\n",
      " [0.37239572 0.37239572]\n",
      " [0.37239572 0.37239572]\n",
      " [0.37239572 0.37239572]\n",
      " [0.37239572 0.37239572]\n",
      " [0.37239572 0.37239572]\n",
      " [0.37239572 0.37239572]\n",
      " [0.37239572 0.37239572]\n",
      " [0.37239572 0.37239572]\n",
      " [0.37239572 0.37239572]\n",
      " [0.37239572 0.37239572]\n",
      " [0.37239572 0.37239572]\n",
      " [0.37239572 0.37239572]\n",
      " [0.37239572 0.37239572]\n",
      " [0.37239572 0.37239572]\n",
      " [0.37239572 0.37239572]\n",
      " [0.37239572 0.37239572]\n",
      " [0.37239572 0.37239572]\n",
      " [0.37239572 0.37239572]\n",
      " [0.37239572 0.37239572]\n",
      " [0.37239572 0.37239572]\n",
      " [0.37239572 0.37239572]\n",
      " [0.37239572 0.37239572]\n",
      " [0.37239572 0.37239572]\n",
      " [0.37239572 0.37239572]\n",
      " [0.37239572 0.37239572]\n",
      " [0.37239572 0.37239572]\n",
      " [0.37239572 0.37239572]\n",
      " [0.37239572 0.37239572]\n",
      " [0.37239572 0.37239572]\n",
      " [0.37239572 0.37239572]\n",
      " [0.37239572 0.37239572]\n",
      " [0.37239572 0.37239572]\n",
      " [0.37239572 0.37239572]\n",
      " [0.37239572 0.37239572]\n",
      " [0.37239572 0.37239572]]\n"
     ]
    }
   ],
   "source": [
    "x0 = np.random.rand(2)\n",
    "f = SOS(x0)\n",
    "xs = gradient_descent_steps(f)\n",
    "print(xs)"
   ]
  },
  {
   "cell_type": "code",
   "execution_count": 42,
   "metadata": {},
   "outputs": [
    {
     "data": {
      "text/plain": [
       "<matplotlib.collections.PathCollection at 0x11a3c0240>"
      ]
     },
     "execution_count": 42,
     "metadata": {},
     "output_type": "execute_result"
    },
    {
     "data": {
      "image/png": "[encoded data removed]",
      "text/plain": [
       "<Figure size 432x288 with 1 Axes>"
      ]
     },
     "metadata": {
      "needs_background": "light"
     },
     "output_type": "display_data"
    }
   ],
   "source": [
    "plt.plot(xs[:,0], xs[:,1], '-o')\n",
    "plt.scatter(x0[0], x0[1])"
   ]
  },
  {
   "cell_type": "markdown",
   "metadata": {
    "id": "_4GLBv0zWr7m"
   },
   "source": [
    "# **Discussion**"
   ]
  }
 ],
 "metadata": {
  "colab": {
   "include_colab_link": true,
   "name": "template-report-lab-X.ipynb",
   "provenance": []
  },
  "kernelspec": {
   "display_name": "Python 3",
   "language": "python",
   "name": "python3"
  },
  "language_info": {
   "codemirror_mode": {
    "name": "ipython",
    "version": 3
   },
   "file_extension": ".py",
   "mimetype": "text/x-python",
   "name": "python",
   "nbconvert_exporter": "python",
   "pygments_lexer": "ipython3",
   "version": "3.6.7"
  }
 },
 "nbformat": 4,
 "nbformat_minor": 1
}

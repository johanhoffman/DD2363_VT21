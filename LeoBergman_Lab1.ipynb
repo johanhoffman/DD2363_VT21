{
  "nbformat": 4,
  "nbformat_minor": 0,
  "metadata": {
    "colab": {
      "name": "LeoBergman_Lab1.ipynb",
      "provenance": [],
      "collapsed_sections": [],
      "include_colab_link": true
    },
    "kernelspec": {
      "name": "python3",
      "display_name": "Python 3"
    }
  },
  "cells": [
    {
      "cell_type": "markdown",
      "metadata": {
        "id": "view-in-github",
        "colab_type": "text"
      },
      "source": [
        "<a href=\"https://colab.research.google.com/github/johanhoffman/DD2363_VT21/blob/leobergman/LeoBergman_Lab1.ipynb\" target=\"_parent\"><img src=\"https://colab.research.google.com/assets/colab-badge.svg\" alt=\"Open In Colab\"/></a>"
      ]
    },
    {
      "cell_type": "markdown",
      "metadata": {
        "id": "6RgtXlfYO_i7"
      },
      "source": [
        "# **Lab 1: Introduction**\n",
        "**Leo Bergman**"
      ]
    },
    {
      "cell_type": "markdown",
      "metadata": {
        "id": "9x_J5FVuPzbm"
      },
      "source": [
        "# **Abstract**"
      ]
    },
    {
      "cell_type": "markdown",
      "metadata": {
        "id": "yJipbXtnjrJZ"
      },
      "source": [
        "In this lab I will implement various algebraic operations such as vector and matrix products. The definitions and algorithms are taken from Hoffman's course book with some extra added spices."
      ]
    },
    {
      "cell_type": "markdown",
      "metadata": {
        "id": "OkT8J7uOWpT3"
      },
      "source": [
        "#**About the code**"
      ]
    },
    {
      "cell_type": "markdown",
      "metadata": {
        "id": "HmB2noTr1Oyo"
      },
      "source": [
        "A short statement on who is the author of the file, and if the code is distributed under a certain license. "
      ]
    },
    {
      "cell_type": "code",
      "metadata": {
        "id": "Pdll1Xc9WP0e",
        "colab": {
          "base_uri": "https://localhost:8080/",
          "height": 36
        },
        "outputId": "ab60c969-b456-463c-a490-88d4189678df"
      },
      "source": [
        "\"\"\"This program is a template for lab reports in the course\"\"\"\n",
        "\"\"\"DD2363 Methods in Scientific Computing, \"\"\"\n",
        "\"\"\"KTH Royal Institute of Technology, Stockholm, Sweden.\"\"\"\n",
        "\n",
        "# Copyright (C) 2021 Leo Bergman (bergmanleo@gmail.com)\n",
        "# Template by Johan Hoffman (jhoffman@kth.se)\n",
        "\n",
        "# This file is part of the course DD2365 Advanced Computation in Fluid Mechanics\n",
        "# KTH Royal Institute of Technology, Stockholm, Sweden\n",
        "#\n",
        "# This is free software: you can redistribute it and/or modify\n",
        "# it under the terms of the GNU Lesser General Public License as published by\n",
        "# the Free Software Foundation, either version 3 of the License, or\n",
        "# (at your option) any later version."
      ],
      "execution_count": 462,
      "outputs": [
        {
          "output_type": "execute_result",
          "data": {
            "application/vnd.google.colaboratory.intrinsic+json": {
              "type": "string"
            },
            "text/plain": [
              "'KTH Royal Institute of Technology, Stockholm, Sweden.'"
            ]
          },
          "metadata": {
            "tags": []
          },
          "execution_count": 462
        }
      ]
    },
    {
      "cell_type": "markdown",
      "metadata": {
        "id": "28xLGz8JX3Hh"
      },
      "source": [
        "# **Set up environment**"
      ]
    },
    {
      "cell_type": "markdown",
      "metadata": {
        "id": "D2PYNusD08Wa"
      },
      "source": [
        "To have access to the neccessary modules you have to run this cell. If you need additional modules, this is where you add them. "
      ]
    },
    {
      "cell_type": "code",
      "metadata": {
        "id": "Xw7VlErAX7NS"
      },
      "source": [
        "# Load neccessary modules.\n",
        "from google.colab import files\n",
        "\n",
        "import time\n",
        "import timeit\n",
        "import numpy as np\n",
        "\n",
        "from matplotlib import pyplot as plt\n",
        "from matplotlib import tri\n",
        "from matplotlib import axes\n",
        "from mpl_toolkits.mplot3d import Axes3D\n",
        "import unittest\n"
      ],
      "execution_count": 463,
      "outputs": []
    },
    {
      "cell_type": "markdown",
      "metadata": {
        "id": "gnO3lhAigLev"
      },
      "source": [
        "# **Introduction**"
      ]
    },
    {
      "cell_type": "markdown",
      "metadata": {
        "id": "l5zMzgPlRAF6"
      },
      "source": [
        "\n",
        "In this lab I have implemented methods and operations from the linear algebra universe. I have shown the correctness of those operations, built from scratch, with the standard numerical library in python numpy. \n",
        "\n"
      ]
    },
    {
      "cell_type": "markdown",
      "metadata": {
        "id": "jOQvukXZq5U5"
      },
      "source": [
        "# **Method**"
      ]
    },
    {
      "cell_type": "markdown",
      "metadata": {
        "id": "zF4iBj5VURZx"
      },
      "source": [
        "I have implemented the algorithms with inspiration from the course book by Professor Hoffman. The matrix-matrix product is from algorithm 5.7 with $\\mathcal{O}(n^3)$. Scalar product algorithm 4.2 with $\\mathcal{O}(n^2)$. Other operations was built upon those.\r\n",
        "\r\n",
        "# **Definitions**\r\n",
        "**Scalar product**\r\n",
        "From the chapter 1, section (1.6)\r\n",
        "Given two real vectors, $x,y \\in R^n$ we define the scalar product\r\n",
        "$(x,y) = \\sum^n_{i=1} x_i y_i $\r\n",
        "\r\n",
        "**Matrix-vector product**\r\n",
        "From chapter 2 (section 2.2) we know that\r\n",
        "A vector $v \\in V$ and matrix $A \\in R^{m \\times n}$ the equation $b = Av$ with $v \\in R^n $ and $b = \\sum^m_{i=1} \\sum^n_{j=1}a_{ij}v_j$\r\n",
        "\r\n",
        "**Matrix-matrix product**\r\n",
        "similarly we have the matrix-matrix product:\r\n",
        "$A \\in R^{m \\times l}, C \\in R^{l \\times n}$ we have the equation $AC = B$ where $B \\in R^{m \\times n} $defined by\r\n",
        "$b_ij = \\sum^l_{k=1}a_{ik}c_{kj}$\r\n",
        "\r\n",
        "**Euclidean norm**: \r\n",
        "From chapter 1, section 1.4 we know that in $R^n$ this is the $l^2$ norm\r\n",
        "$(x,x) = \\mid \\mid x \\mid \\mid ^2 $ \r\n",
        "\r\n",
        "**Euclidean distance:**\r\n",
        "From the same section (example 1.4) we know that the distance between two vectors  $x,y \\in R^n, d(x,y) =   \\mid \\mid x-y \\mid \\mid _2$\r\n",
        "this can be achieved by reusing the euclidean norm function.\r\n",
        "\r\n",
        "For the curious reader more is to be found at: [Coursepage DD2363.](https://kth.instructure.com/courses/17068)\r\n",
        " "
      ]
    },
    {
      "cell_type": "code",
      "metadata": {
        "id": "i2e0m81wvPwX"
      },
      "source": [
        "def scalarProduct(x, y):\r\n",
        "  assert (x.size == y.size)\r\n",
        "  assert (x.ndim ==1 and y.ndim == 1)\r\n",
        "  z = 0\r\n",
        "  for i in range(len(x)):\r\n",
        "    z+=x[i]*y[i]\r\n",
        "  return z\r\n",
        "\r\n",
        "def matrixVectorProduct(m,v):\r\n",
        "  assert (m.shape[1] == len(v))\r\n",
        "  z = 0\r\n",
        "  for i in range(len(v)):\r\n",
        "    z += m[:,i]*v[i]\r\n",
        "  return z\r\n",
        "\r\n",
        "def matrixMatrixProduct(a,b):\r\n",
        "  assert (a.shape[1] == b.shape[0])\r\n",
        "  assert (a.ndim == 2 and b.ndim == 2)\r\n",
        "  resulting_matrix = [[0]*b.shape[1] for x in range(a.shape[0])]\r\n",
        "  for i in range(a.shape[0]):\r\n",
        "    for j in range(b.shape[1]):\r\n",
        "      resulting_matrix[i][j] = sum(a[i,k]*b[k,j] for k in range(a.shape[1]))\r\n",
        "  return resulting_matrix\r\n",
        "\r\n",
        "def euclideanNorm(v):\r\n",
        "  assert v.ndim == 1\r\n",
        "  return (scalarProduct(v,v))**(1/2)\r\n",
        "\r\n",
        "def euclideanDistance(x,y):\r\n",
        "  assert (x.ndim ==1 and y.ndim == 1)\r\n",
        "  assert (x.size == y.size)\r\n",
        "  return (euclideanNorm(x-y))\r\n"
      ],
      "execution_count": 464,
      "outputs": []
    },
    {
      "cell_type": "markdown",
      "metadata": {
        "id": "SsQLT38gVbn_"
      },
      "source": [
        "# **Results**"
      ]
    },
    {
      "cell_type": "markdown",
      "metadata": {
        "id": "vvcmVvUPiT5I"
      },
      "source": [
        "**Proof of correctness**"
      ]
    },
    {
      "cell_type": "code",
      "metadata": {
        "colab": {
          "base_uri": "https://localhost:8080/"
        },
        "id": "9YGoPM-cI-pZ",
        "outputId": "b152bed8-5dc7-49fa-ec1b-bb69c7f22792"
      },
      "source": [
        "class Test(unittest.TestCase):\r\n",
        "\r\n",
        "  def testScalarProduct(self):\r\n",
        "    n = np.random.randint(1,20)\r\n",
        "    x = np.random.rand(n)\r\n",
        "    y = np.random.rand(n)\r\n",
        "    np.testing.assert_array_almost_equal(scalarProduct(x,y),x.dot(y),decimal = 5)\r\n",
        "  \r\n",
        "  def testMatrixVectorProduct(self):\r\n",
        "    n = np.random.randint(1,20)\r\n",
        "    n2 = np.random.randint(1,20)\r\n",
        "    v = np.random.rand(n)\r\n",
        "    m = np.random.rand(n2,n)\r\n",
        "    np.testing.assert_array_almost_equal(matrixVectorProduct(m,v),m.dot(v),decimal = 5)\r\n",
        "\r\n",
        "  def testMatrixMatrixProduct(self):\r\n",
        "    n = np.random.randint(1,20)\r\n",
        "    n2 = np.random.randint(1,20)\r\n",
        "    n3 = np.random.randint(1,20)\r\n",
        "    a = np.random.rand(n2,n)\r\n",
        "    b = np.random.rand(n,n3)\r\n",
        "    np.testing.assert_array_almost_equal(matrixMatrixProduct(a,b),np.matmul(a,b),decimal = 5)\r\n",
        "\r\n",
        "  def testEuclideanNorm(self):\r\n",
        "    n = np.random.randint(1,20)\r\n",
        "    v = np.random.rand(n)\r\n",
        "    np.testing.assert_approx_equal(euclideanNorm(v),np.linalg.norm(v),significant = 5)\r\n",
        "    \r\n",
        "  \r\n",
        "  def testEuclideanDistance(self):\r\n",
        "    n = np.random.randint(1,20)\r\n",
        "    v1 = np.random.rand(n)\r\n",
        "    v2 = np.random.rand(n)\r\n",
        "    np.testing.assert_approx_equal(euclideanDistance(v1,v2),np.linalg.norm(v1-v2),significant = 5)\r\n",
        "\r\n",
        "if __name__ == '__main__':\r\n",
        "  unittest.main(argv=['first-arg-is-ignored'],exit = False)"
      ],
      "execution_count": 465,
      "outputs": [
        {
          "output_type": "stream",
          "text": [
            ".....\n",
            "----------------------------------------------------------------------\n",
            "Ran 5 tests in 0.007s\n",
            "\n",
            "OK\n"
          ],
          "name": "stderr"
        }
      ]
    },
    {
      "cell_type": "markdown",
      "metadata": {
        "id": "-yP7ClCCiPJ-"
      },
      "source": [
        "**Performance test**"
      ]
    },
    {
      "cell_type": "code",
      "metadata": {
        "colab": {
          "base_uri": "https://localhost:8080/"
        },
        "id": "r-1fNDxfh2Xk",
        "outputId": "987fd0e5-73b6-4eb5-e3d5-141ea175bc60"
      },
      "source": [
        "class PerformanceTest:\r\n",
        "\r\n",
        "  @staticmethod\r\n",
        "  def testScalarProduct():\r\n",
        "    n = np.random.randint(1,20)\r\n",
        "    global x\r\n",
        "    x = np.random.rand(n)\r\n",
        "    global y\r\n",
        "    y = np.random.rand(n)\r\n",
        "    duration = timeit.timeit(\r\n",
        "    'scalarProduct(x, y)',\r\n",
        "    'from __main__ import scalarProduct, x, y'\r\n",
        "    )\r\n",
        "    duration2 = timeit.timeit(\r\n",
        "    'np.dot(x,y)',\r\n",
        "    'import numpy as np;from __main__ import x,y'\r\n",
        "    \r\n",
        "    )\r\n",
        "    print('Duration LeoPy: 'duration)\r\n",
        "    print('Duration numpy: 'duration2)\r\n",
        "\r\n",
        "  @staticmethod\r\n",
        "  def testMatrixVectorProduct(self):\r\n",
        "    n = np.random.randint(1,20)\r\n",
        "    n2 = np.random.randint(1,20)\r\n",
        "    v = np.random.rand(n)\r\n",
        "    m = np.random.rand(n2,n)\r\n",
        "    np.testing.assert_array_almost_equal(matrixVectorProduct(m,v),m.dot(v),decimal = 5)\r\n",
        "  @staticmethod\r\n",
        "  def testMatrixMatrixProduct(self):\r\n",
        "    n = np.random.randint(1,20)\r\n",
        "    n2 = np.random.randint(1,20)\r\n",
        "    n3 = np.random.randint(1,20)\r\n",
        "    a = np.random.rand(n2,n)\r\n",
        "    b = np.random.rand(n,n3)\r\n",
        "    np.testing.assert_array_almost_equal(matrixMatrixProduct(a,b),np.matmul(a,b),decimal = 5)\r\n",
        "  @staticmethod\r\n",
        "  def testEuclideanNorm(self):\r\n",
        "    n = np.random.randint(1,20)\r\n",
        "    v = np.random.rand(n)\r\n",
        "    np.testing.assert_approx_equal(euclideanNorm(v),np.linalg.norm(v),significant = 5)\r\n",
        "  \r\n",
        "  @staticmethod\r\n",
        "  def testEuclideanDistance(self):\r\n",
        "    n = np.random.randint(1,20)\r\n",
        "    v1 = np.random.rand(n)\r\n",
        "    v2 = np.random.rand(n)\r\n",
        "    np.testing.assert_approx_equal(euclideanDistance(v1,v2),np.linalg.norm(v1-v2),significant = 5)\r\n",
        "\r\n",
        "if __name__ == '__main__':\r\n",
        "  PerformanceTest.testScalarProduct()\r\n"
      ],
      "execution_count": 468,
      "outputs": [
        {
          "output_type": "stream",
          "text": [
            "4.7554436850005\n",
            "1.042987055001504\n"
          ],
          "name": "stdout"
        }
      ]
    },
    {
      "cell_type": "markdown",
      "metadata": {
        "id": "RLwlnOzuV-Cd"
      },
      "source": [
        "The operations worked very well. I haven't yet looked under the hood of numpy but we my new built library and numpy varies in at the significance level. Numpy is also quite alot quicker in general.  "
      ]
    },
    {
      "cell_type": "markdown",
      "metadata": {
        "id": "_4GLBv0zWr7m"
      },
      "source": [
        "# **Discussion**"
      ]
    },
    {
      "cell_type": "markdown",
      "metadata": {
        "id": "6bcsDSoRXHZe"
      },
      "source": [
        "The results were as expected. I could run the code for a great number of times and make a more accurate statistical analysis next time for a more interesting study. The framework is here, so it's a matter of time really."
      ]
    }
  ]
}
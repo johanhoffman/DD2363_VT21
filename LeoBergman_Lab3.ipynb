{
  "nbformat": 4,
  "nbformat_minor": 0,
  "metadata": {
    "colab": {
      "name": "LeoBergman_Lab3.ipynb",
      "provenance": [],
      "collapsed_sections": [],
      "toc_visible": true,
      "history_visible": true,
      "include_colab_link": true
    },
    "kernelspec": {
      "name": "python3",
      "display_name": "Python 3"
    }
  },
  "cells": [
    {
      "cell_type": "markdown",
      "metadata": {
        "id": "view-in-github",
        "colab_type": "text"
      },
      "source": [
        "<a href=\"https://colab.research.google.com/github/johanhoffman/DD2363_VT21/blob/leobergman/LeoBergman_Lab3.ipynb\" target=\"_parent\"><img src=\"https://colab.research.google.com/assets/colab-badge.svg\" alt=\"Open In Colab\"/></a>"
      ]
    },
    {
      "cell_type": "markdown",
      "metadata": {
        "id": "6RgtXlfYO_i7"
      },
      "source": [
        "# **Lab 3: Iterative methods**\n",
        "**Leo Bergman**"
      ]
    },
    {
      "cell_type": "markdown",
      "metadata": {
        "id": "9x_J5FVuPzbm"
      },
      "source": [
        "# **Abstract**"
      ]
    },
    {
      "cell_type": "markdown",
      "metadata": {
        "id": "yJipbXtnjrJZ"
      },
      "source": [
        "In this lab I performed some experiments with iterative methods to solve equation systems Ax=b as well as to approximate roots for given non linear functions."
      ]
    },
    {
      "cell_type": "markdown",
      "metadata": {
        "id": "OkT8J7uOWpT3"
      },
      "source": [
        "#**About the code**"
      ]
    },
    {
      "cell_type": "markdown",
      "metadata": {
        "id": "HmB2noTr1Oyo"
      },
      "source": [
        "A short statement on who is the author of the file, and if the code is distributed under a certain license. "
      ]
    },
    {
      "cell_type": "code",
      "metadata": {
        "id": "Pdll1Xc9WP0e",
        "colab": {
          "base_uri": "https://localhost:8080/",
          "height": 36
        },
        "outputId": "e1dfbe25-8ad1-41b5-985d-5568d1c64e6a"
      },
      "source": [
        "\"\"\"This program is a template for lab reports in the course\"\"\"\n",
        "\"\"\"DD2363 Methods in Scientific Computing, \"\"\"\n",
        "\"\"\"KTH Royal Institute of Technology, Stockholm, Sweden.\"\"\"\n",
        "\n",
        "# Copyright (C) 2021 Leo Bergman (bergmanleo@gmail.com)\n",
        "# Template by Johan Hoffman (jhoffman@kth.se)\n",
        "\n",
        "# This file is part of the course DD2365 Advanced Computation in Fluid Mechanics\n",
        "# KTH Royal Institute of Technology, Stockholm, Sweden\n",
        "#\n",
        "# This is free software: you can redistribute it and/or modify\n",
        "# it under the terms of the GNU Lesser General Public License as published by\n",
        "# the Free Software Foundation, either version 3 of the License, or\n",
        "# (at your option) any later version."
      ],
      "execution_count": 1,
      "outputs": [
        {
          "output_type": "execute_result",
          "data": {
            "application/vnd.google.colaboratory.intrinsic+json": {
              "type": "string"
            },
            "text/plain": [
              "'KTH Royal Institute of Technology, Stockholm, Sweden.'"
            ]
          },
          "metadata": {
            "tags": []
          },
          "execution_count": 1
        }
      ]
    },
    {
      "cell_type": "markdown",
      "metadata": {
        "id": "28xLGz8JX3Hh"
      },
      "source": [
        "# **Set up environment**"
      ]
    },
    {
      "cell_type": "markdown",
      "metadata": {
        "id": "D2PYNusD08Wa"
      },
      "source": [
        "To have access to the neccessary modules you have to run this cell. If you need additional modules, this is where you add them. "
      ]
    },
    {
      "cell_type": "code",
      "metadata": {
        "id": "Xw7VlErAX7NS"
      },
      "source": [
        "# Load neccessary modules.\n",
        "from google.colab import files\n",
        "from scipy.sparse import random\n",
        "import time\n",
        "import timeit\n",
        "import numpy as np\n",
        "import random\n",
        "from matplotlib import pyplot as plt\n",
        "from matplotlib import tri\n",
        "from matplotlib import axes\n",
        "from mpl_toolkits.mplot3d import Axes3D\n",
        "import scipy.sparse as sparse\n",
        "from scipy import stats\n",
        "import scipy\n",
        "import numpy as np\n",
        "from numpy.linalg import inv,norm,solve,lstsq,det\n",
        "import unittest\n",
        "from functools import reduce\n",
        "from numpy.polynomial import polynomial as Poly\n"
      ],
      "execution_count": 2,
      "outputs": []
    },
    {
      "cell_type": "markdown",
      "metadata": {
        "id": "gnO3lhAigLev"
      },
      "source": [
        "# **Introduction**"
      ]
    },
    {
      "cell_type": "markdown",
      "metadata": {
        "id": "l5zMzgPlRAF6"
      },
      "source": [
        "In this lab I have tried out various fixed point methods such as GMRES, Jacob and Gauss-Seidel.\n"
      ]
    },
    {
      "cell_type": "markdown",
      "metadata": {
        "id": "jOQvukXZq5U5"
      },
      "source": [
        "# **Method**"
      ]
    },
    {
      "cell_type": "markdown",
      "metadata": {
        "id": "zF4iBj5VURZx"
      },
      "source": [
        "I have implemented the algorithms with inspiration from the course book by Professor Hoffman. Iterative methods from chapter 7,8.\r\n",
        "GMRES and Arnoldi iteration are both krylov subspace methods. GMRES from algorithm 7.2.Arnoldi from algorithm 7.3.\r\n",
        "\r\n",
        "Assuming here that the spectral radius of the matrix $M_j$ is less than one: $\\rho(I-D^1 *A)<1$\r\n",
        "\r\n",
        "Otherwise we're not assertain a convergence.\r\n",
        "\r\n",
        "I should really test this out prior to run the Jacobi iteration.\r\n",
        "\r\n",
        "Another fun fact:\r\n",
        "The Jacobi iteration is a Richardson iteration when $\\alpha= 1 $ \r\n",
        "\r\n",
        "\r\n"
      ]
    },
    {
      "cell_type": "code",
      "metadata": {
        "id": "i2e0m81wvPwX"
      },
      "source": [
        "\r\n",
        "class Itermethods:\r\n",
        "  def __init__(self):\r\n",
        "    pass\r\n",
        "\r\n",
        "  @staticmethod\r\n",
        "  def jacobiIteration(self,v,TOL=1e-6):\r\n",
        "    n = self.shape[0]\r\n",
        "    Dinv=np.zeros((n,n))\r\n",
        "    x = np.random.rand(self.shape[0])\r\n",
        "    for i in range(self.shape[0]):\r\n",
        "      Dinv[i,i] = 1/self[i,i]\r\n",
        "      \r\n",
        "    M = np.identity(n)-np.dot(Dinv,self)\r\n",
        "\r\n",
        "    while norm(np.dot(self,x)-v)>TOL:\r\n",
        "      x = np.dot(M,x)+np.dot(Dinv,v)\r\n",
        "    return x\r\n",
        "\r\n",
        "  @staticmethod\r\n",
        "  def gaussSeidel(self,v,TOL=1e-6):\r\n",
        "\r\n",
        "    n = self.shape[0]\r\n",
        "    astar = self.copy()\r\n",
        "    for i in range(n):\r\n",
        "      for j in range(n):\r\n",
        "        if (j>i):\r\n",
        "          astar[i,j]=0\r\n",
        "    linv = inv(astar)\r\n",
        "    A = np.identity(n)-np.dot(linv,self)\r\n",
        "    c = np.dot(linv,v)\r\n",
        "\r\n",
        "    x1 = np.random.rand(n)\r\n",
        "\r\n",
        "    iter = 0\r\n",
        "    r = np.ones\r\n",
        "    while norm(np.dot(self,x1)-v)>TOL:\r\n",
        "      x1 = np.dot(A,x1)+c\r\n",
        "\r\n",
        "      iter+=1\r\n",
        "    return x1\r\n",
        "\r\n",
        "\r\n",
        "  @staticmethod\r\n",
        "  def gmres(self,v,TOL=1e-6):\r\n",
        "    Q = np.zeros(self.shape)\r\n",
        "    Q[:,0] = v\r\n",
        "    k = 0\r\n",
        "    iter = 0\r\n",
        "    r = v\r\n",
        "    while norm(r)/norm(v)>TOL:\r\n",
        "      #e_2 = np.eye(1,k+1,0)\r\n",
        "      e_1 = np.zeros(k+1)\r\n",
        "      e_1[0] = 1\r\n",
        "      Q,H = Itermethods.arnoldi_iteration(self,v,k)\r\n",
        "     \r\n",
        "      y = lstsq(H,norm(v)*e_1,rcond=None)[0]\r\n",
        "      r= H.dot(y)\r\n",
        "      r = norm(v)*e_1-r\r\n",
        "      iter+=1\r\n",
        "      k+=1\r\n",
        "\r\n",
        "    x = Q[:,0:k-1].dot(y)\r\n",
        "    return x\r\n",
        "\r\n",
        "  @staticmethod\r\n",
        "  def arnoldi_iteration(A,b,k):\r\n",
        "    Q = np.zeros((A.shape[0],k+1))\r\n",
        "    Q[:,0] = b/norm(b)\r\n",
        "    H = np.zeros((k+1,k))\r\n",
        "    v = np.zeros(A.shape[0])\r\n",
        "    for j in range(k):\r\n",
        "      v = A.dot(Q[:,j])\r\n",
        "      for i in range(j+1):\r\n",
        "        H[i,j] = np.dot(Q[:,i].conj(),v)\r\n",
        "        v = v-H[i,j]*Q[:,i]\r\n",
        "      H[j+1,j] = norm(v)\r\n",
        "      if H[j+1,j] <1e-10:\r\n",
        "        return Q,H\r\n",
        "      Q[:,j+1] = v/H[j+1,j]\r\n",
        "    return Q,H\r\n",
        "\r\n",
        "  @staticmethod\r\n",
        "  def newtonsMethod(self,x_0,dx=1e-11,TOL=1e-10):\r\n",
        "    x = x_0\r\n",
        "    iter = 0\r\n",
        "    while abs(self(x)>TOL):\r\n",
        "      df = (self(x+dx)-self(x-dx))/(2*dx)\r\n",
        "      if np.allclose(df, 0, atol=1e-10):\r\n",
        "        raise Exception(\"The Jacobian is getting singular @ iter: \" + str(iter))\r\n",
        "      iter+=1\r\n",
        "      x = x-self(x)/df\r\n",
        "    return x\r\n",
        " \r\n",
        "\r\n",
        "\r\n"
      ],
      "execution_count": 3,
      "outputs": []
    },
    {
      "cell_type": "markdown",
      "metadata": {
        "id": "SsQLT38gVbn_"
      },
      "source": [
        "# **Results**"
      ]
    },
    {
      "cell_type": "markdown",
      "metadata": {
        "id": "vvcmVvUPiT5I"
      },
      "source": [
        "**Proof of correctness**"
      ]
    },
    {
      "cell_type": "code",
      "metadata": {
        "colab": {
          "base_uri": "https://localhost:8080/"
        },
        "id": "9YGoPM-cI-pZ",
        "outputId": "cf1a6955-4e82-4b7d-ecf7-11eabdd53479"
      },
      "source": [
        "\r\n",
        "class Test(unittest.TestCase):\r\n",
        " \r\n",
        "  \r\n",
        "  def testJacobi(self):\r\n",
        "    n = np.random.randint(1,20)\r\n",
        "    M = np.random.rand(n,n)\r\n",
        "    v = np.random.rand(n)\r\n",
        "    alpha = 1\r\n",
        "    B = inv(M)*alpha\r\n",
        "    C = np.dot(M,B)\r\n",
        "    y = np.random.rand(n)\r\n",
        "    bb = np.dot(C,y)\r\n",
        "    approx = Itermethods.jacobiIteration(C,bb)\r\n",
        "    exact = solve(C,bb)\r\n",
        "    gs = np.dot(C,approx)\r\n",
        "    np.testing.assert_almost_equal(norm(approx-exact),0,decimal=7)\r\n",
        "    np.testing.assert_almost_equal(norm(gs-bb),0,decimal=7)\r\n",
        "\r\n",
        "\r\n",
        "  def testGaussSeidel(self):\r\n",
        "    n = np.random.randint(1,20)\r\n",
        "    M = np.random.rand(n,n)\r\n",
        "    v = np.random.rand(n)\r\n",
        "    alpha = 1\r\n",
        "    B = inv(M)*alpha\r\n",
        "    C = np.dot(M,B)\r\n",
        "    y = np.random.rand(n)\r\n",
        "    bb = np.dot(C,y)\r\n",
        "    approx = Itermethods.gaussSeidel(C,bb)\r\n",
        "    exact = solve(C,bb)\r\n",
        "    gs = np.dot(C,approx)\r\n",
        "    np.testing.assert_almost_equal(norm(approx-exact),0,decimal=7)\r\n",
        "    np.testing.assert_almost_equal(norm(gs-bb),0,decimal=7)\r\n",
        "\r\n",
        "  def testNewton(self):\r\n",
        "    n = random.randint(1,10)\r\n",
        "    zed = np.random.rand(n)\r\n",
        "    polly = [(zed[i],1) for i in range(n)]\r\n",
        "    polly2 = reduce(Poly.polymul,polly)\r\n",
        "    f = lambda x: Poly.polyval(x, polly2)\r\n",
        "    x1 = np.zeros(n,dtype = 'float64')\r\n",
        "    xn = Itermethods.newtonsMethod(f,x_0 = np.random.rand())\r\n",
        "\r\n",
        "    np.testing.assert_almost_equal(f(xn),0,5)\r\n",
        "\r\n",
        "  def testGMRES(self):\r\n",
        "    n = np.random.randint(1,20)\r\n",
        "    M = np.random.rand(n,n)\r\n",
        "    v = np.random.rand(n)\r\n",
        "    B = inv(M)\r\n",
        "    C = np.dot(M,B)\r\n",
        "    y = np.random.rand(n)\r\n",
        "    bb = np.dot(C,y)\r\n",
        "    approx = Itermethods.gmres(C,bb)\r\n",
        "    exact = solve(C,bb)\r\n",
        "    gmres = np.dot(C,approx)\r\n",
        "\r\n",
        "    np.testing.assert_almost_equal(norm(approx-exact),0,decimal=7)\r\n",
        "    np.testing.assert_almost_equal(norm(gmres-bb),0,decimal=7)\r\n",
        "\r\n",
        "\r\n",
        "if __name__ == '__main__':\r\n",
        "  unittest.main(argv=['first-arg-is-ignored'],exit = False)"
      ],
      "execution_count": 4,
      "outputs": [
        {
          "output_type": "stream",
          "text": [
            "....\n",
            "----------------------------------------------------------------------\n",
            "Ran 4 tests in 0.045s\n",
            "\n",
            "OK\n"
          ],
          "name": "stderr"
        }
      ]
    },
    {
      "cell_type": "markdown",
      "metadata": {
        "id": "-yP7ClCCiPJ-"
      },
      "source": [
        "**Performance test**"
      ]
    },
    {
      "cell_type": "code",
      "metadata": {
        "id": "r-1fNDxfh2Xk"
      },
      "source": [
        ""
      ],
      "execution_count": 4,
      "outputs": []
    },
    {
      "cell_type": "markdown",
      "metadata": {
        "id": "RLwlnOzuV-Cd"
      },
      "source": [
        "The iterative methods worked as expected. It was really interesting to discover the Krylov spaces."
      ]
    },
    {
      "cell_type": "markdown",
      "metadata": {
        "id": "_4GLBv0zWr7m"
      },
      "source": [
        "# **Discussion**"
      ]
    },
    {
      "cell_type": "markdown",
      "metadata": {
        "id": "6bcsDSoRXHZe"
      },
      "source": [
        "It would be very interesting to plot those functions to compare the convergence. My hypothesis is that GMRES is very fast in convergence."
      ]
    }
  ]
}
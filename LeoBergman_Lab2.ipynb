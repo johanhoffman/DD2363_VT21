{
  "nbformat": 4,
  "nbformat_minor": 0,
  "metadata": {
    "colab": {
      "name": "LeoBergman_Lab2.ipynb",
      "provenance": [],
      "collapsed_sections": [],
      "history_visible": true,
      "include_colab_link": true
    },
    "kernelspec": {
      "name": "python3",
      "display_name": "Python 3"
    }
  },
  "cells": [
    {
      "cell_type": "markdown",
      "metadata": {
        "id": "view-in-github",
        "colab_type": "text"
      },
      "source": [
        "<a href=\"https://colab.research.google.com/github/johanhoffman/DD2363_VT21/blob/leobergman/LeoBergman_Lab2.ipynb\" target=\"_parent\"><img src=\"https://colab.research.google.com/assets/colab-badge.svg\" alt=\"Open In Colab\"/></a>"
      ]
    },
    {
      "cell_type": "markdown",
      "metadata": {
        "id": "6RgtXlfYO_i7"
      },
      "source": [
        "# **Lab 2: Matrix factorization**\n",
        "**Leo Bergman**"
      ]
    },
    {
      "cell_type": "markdown",
      "metadata": {
        "id": "9x_J5FVuPzbm"
      },
      "source": [
        "# **Abstract**"
      ]
    },
    {
      "cell_type": "markdown",
      "metadata": {
        "id": "yJipbXtnjrJZ"
      },
      "source": [
        "A sparce matrix is a matrix where most elements are zero valued. Sparse matrices are important in scientific computing, used when solving PDE's, in NLP's and also in graph theory. There is one problem however, they are wastful. Instead we can compress the matrix and store the data in a more computationally efficient way. In this lab I will experiment with this technique as well as with matrix factorization and try to solve the equation $Ax=b$ in a efficient manner."
      ]
    },
    {
      "cell_type": "markdown",
      "metadata": {
        "id": "OkT8J7uOWpT3"
      },
      "source": [
        "#**About the code**"
      ]
    },
    {
      "cell_type": "code",
      "metadata": {
        "id": "DMjA4Sw5IWhA"
      },
      "source": [
        ""
      ],
      "execution_count": 5,
      "outputs": []
    },
    {
      "cell_type": "markdown",
      "metadata": {
        "id": "HmB2noTr1Oyo"
      },
      "source": [
        "A short statement on who is the author of the file, and if the code is distributed under a certain license. "
      ]
    },
    {
      "cell_type": "code",
      "metadata": {
        "id": "Pdll1Xc9WP0e",
        "colab": {
          "base_uri": "https://localhost:8080/",
          "height": 36
        },
        "outputId": "f5ac6db4-e1e7-44b9-9b3c-d392298f609e"
      },
      "source": [
        "\"\"\"This program is a template for lab reports in the course\"\"\"\n",
        "\"\"\"DD2363 Methods in Scientific Computing, \"\"\"\n",
        "\"\"\"KTH Royal Institute of Technology, Stockholm, Sweden.\"\"\"\n",
        "\n",
        "# Copyright (C) 2021 Leo Bergman (bergmanleo@gmail.com)\n",
        "# Template by Johan Hoffman (jhoffman@kth.se)\n",
        "\n",
        "# This file is part of the course DD2365 Advanced Computation in Fluid Mechanics\n",
        "# KTH Royal Institute of Technology, Stockholm, Sweden\n",
        "#\n",
        "# This is free software: you can redistribute it and/or modify\n",
        "# it under the terms of the GNU Lesser General Public License as published by\n",
        "# the Free Software Foundation, either version 3 of the License, or\n",
        "# (at your option) any later version."
      ],
      "execution_count": 6,
      "outputs": [
        {
          "output_type": "execute_result",
          "data": {
            "application/vnd.google.colaboratory.intrinsic+json": {
              "type": "string"
            },
            "text/plain": [
              "'KTH Royal Institute of Technology, Stockholm, Sweden.'"
            ]
          },
          "metadata": {
            "tags": []
          },
          "execution_count": 6
        }
      ]
    },
    {
      "cell_type": "markdown",
      "metadata": {
        "id": "28xLGz8JX3Hh"
      },
      "source": [
        "# **Set up environment**"
      ]
    },
    {
      "cell_type": "markdown",
      "metadata": {
        "id": "D2PYNusD08Wa"
      },
      "source": [
        "To have access to the neccessary modules you have to run this cell. If you need additional modules, this is where you add them. "
      ]
    },
    {
      "cell_type": "code",
      "metadata": {
        "id": "Xw7VlErAX7NS"
      },
      "source": [
        "# Load neccessary modules.\n",
        "from google.colab import files\n",
        "from scipy.sparse import random\n",
        "import time\n",
        "import timeit\n",
        "import numpy as np\n",
        "\n",
        "from matplotlib import pyplot as plt\n",
        "from matplotlib import tri\n",
        "from matplotlib import axes\n",
        "from mpl_toolkits.mplot3d import Axes3D\n",
        "import scipy.sparse as sparse\n",
        "from scipy import stats\n",
        "import scipy\n",
        "\n",
        "import unittest\n"
      ],
      "execution_count": 7,
      "outputs": []
    },
    {
      "cell_type": "markdown",
      "metadata": {
        "id": "gnO3lhAigLev"
      },
      "source": [
        "# **Introduction**"
      ]
    },
    {
      "cell_type": "markdown",
      "metadata": {
        "id": "l5zMzgPlRAF6"
      },
      "source": [
        "\n",
        "In this lab I discovered efficient solution methods for solving equation systems.\n",
        "\n"
      ]
    },
    {
      "cell_type": "markdown",
      "metadata": {
        "id": "jOQvukXZq5U5"
      },
      "source": [
        "# **Method**"
      ]
    },
    {
      "cell_type": "markdown",
      "metadata": {
        "id": "zF4iBj5VURZx"
      },
      "source": [
        "I have implemented the algorithms with inspiration from the course book by Professor Hoffman. "
      ]
    },
    {
      "cell_type": "code",
      "metadata": {
        "id": "i2e0m81wvPwX"
      },
      "source": [
        "class CustomRandomState(np.random.RandomState):\r\n",
        "\r\n",
        "    def randint(self, k):\r\n",
        "        i = np.random.randint(k)\r\n",
        "\r\n",
        "        return i - i % 2\r\n",
        "\r\n",
        "class CSR_Matrix(sparse.csr_matrix):\r\n",
        "\r\n",
        "  def matrixVectorProduct(self,v):\r\n",
        "    if self.shape[1] != len(v) or v.ndim!=1:\r\n",
        "      raise Exception(\"Bad matrix or vector dimension\")\r\n",
        "    m,n = self.shape\r\n",
        "    if m!=n:\r\n",
        "      raise Exception(\"Matrix is not quadratic\")\r\n",
        "    z = np.zeros(self.shape[0])\r\n",
        "    for i in range(self.shape[0]):\r\n",
        "      for j in range(self.indptr[i], self.indptr[i+1]):\r\n",
        "        z[i] += self.data[j]*v[self.indices[j]]\r\n",
        "    return z\r\n",
        "\r\n",
        "  def printy(self):\r\n",
        "    return str(self.toarray()) + str(self.indices) + str(self.indptr)\r\n",
        "\r\n",
        "  def plottify(self):\r\n",
        "    fig, ax1 = plt.subplots() \r\n",
        "    ax1.spy(self)\r\n",
        "    ax1.set_title('Plot to check sparsity') \r\n",
        "    plt.show() \r\n",
        "\r\n",
        "  def __str__(self):\r\n",
        "    return str(self.todense())\r\n",
        "\r\n",
        "\r\n"
      ],
      "execution_count": 8,
      "outputs": []
    },
    {
      "cell_type": "markdown",
      "metadata": {
        "id": "UFPPWNB5Mm17"
      },
      "source": [
        "And some algebraic functions"
      ]
    },
    {
      "cell_type": "code",
      "metadata": {
        "id": "zauoHiR35JzI"
      },
      "source": [
        "class DirectSolver:\r\n",
        "  @staticmethod\r\n",
        "  def forward_sub(self,v):\r\n",
        "    if self.shape[1] != v.shape[0] or v.ndim!=1:\r\n",
        "      raise Exception(\"Bad matrix or vector dimension\")\r\n",
        "    n = v.shape[0]\r\n",
        "    print(\"shape: \")\r\n",
        "    print(self[n-1,n-1] == 0)\r\n",
        "    print(n)\r\n",
        "    x = np.zeros(n)\r\n",
        "    x[0] = v[0]/self[0,0]\r\n",
        "    for i in range(1,n):\r\n",
        "      sum = 0\r\n",
        "      for j in range(0,i):\r\n",
        "        sum = sum + self[i,j]*x[j]\r\n",
        "      x[i] = (v[i]-sum)/self[i,i]\r\n",
        "\r\n",
        "    return x\r\n",
        "\r\n",
        "  @staticmethod\r\n",
        "  def backwards_sub(self,v):\r\n",
        "    if self.shape[1] != v.shape[0] or v.ndim!=1:\r\n",
        "      raise Exception(\"Bad matrix or vector dimension\")\r\n",
        "    n = v.size\r\n",
        "    x = np.zeros(self.shape[0])\r\n",
        "    x[-1] = v[-1]/self[-1,-1]\r\n",
        "    for i in range(n-2,-1,-1):\r\n",
        "      sum = 0\r\n",
        "      for j in range(i+1,n):\r\n",
        "        sum += self[i,j]*x[j]\r\n",
        "\r\n",
        "      x[i] = (v[i] - sum)/self[i,i]\r\n",
        "    return x"
      ],
      "execution_count": 9,
      "outputs": []
    },
    {
      "cell_type": "code",
      "metadata": {
        "id": "tfNV-6xeMk5L"
      },
      "source": [
        "\r\n",
        "def euclideanNorm(v):\r\n",
        "  if v.ndim != 1:\r\n",
        "    raise Exception('Dimension of vectors disimilar')\r\n",
        "  return (scalarProduct(v,v))**(1/2)\r\n",
        "\r\n",
        "\r\n",
        "def scalarProduct(x, y):\r\n",
        "  if x.size != y.size:\r\n",
        "    raise Exception('Dimension of vectors disimilar')\r\n",
        "  if x.ndim !=1 or y.ndim != 1:\r\n",
        "    raise Exception('x or y are not vectorial')\r\n",
        "  z = 0\r\n",
        "  for i in range(len(x)):\r\n",
        "    z+=x[i]*y[i]\r\n",
        "  return z\r\n",
        "\r\n",
        "#Quadmat needs to be a quadratic matrix. \r\n",
        "def qrFactorization(quadmat):\r\n",
        "  if quadmat.shape[0] != quadmat.shape[1]:\r\n",
        "    raise Exception('Not a quadratic matrix')\r\n",
        "  Q = np.zeros(quadmat.shape)\r\n",
        "  R = np.zeros(quadmat.shape)\r\n",
        "  v = np.zeros(quadmat.shape[0])\r\n",
        "  for j in range(quadmat.shape[0]):\r\n",
        "    v[:] = quadmat[:,j]\r\n",
        "    for i in range(quadmat.shape[0]):\r\n",
        "      R[i,j] = scalarProduct(Q[:,i],v[:])\r\n",
        "      v[:] = v[:]-R[i,j]*Q[:,i]\r\n",
        "    R[j,j] = euclideanNorm(v)\r\n",
        "    Q[:,j] = v[:]/R[j,j]\r\n",
        "  return Q,R\r\n",
        "\r\n",
        "\r\n",
        "def pluFactorization(quadmat):\r\n",
        "  #normally we don't swap rows physically.\r\n",
        "  #determinant needs to be non-zero\r\n",
        "  \r\n",
        "  n = quadmat.shape[0]\r\n",
        "  U = A.copy().astype(np.double); L = np.eye(n, dtype=np.double); P = np.eye(n,dtype=np.double)\r\n",
        "  for i in range(n):\r\n",
        "\r\n",
        "    for j in range(i+1,n):\r\n",
        "      if np.isclose(U[i,i],0.0):\r\n",
        "        break\r\n",
        "\r\n",
        "      U[j-1,j] = U[j,j-1]\r\n",
        "      P[j-1,j] = P[j,j-1]\r\n",
        "    quotient = U[i+1:,i]/U[i,i]\r\n",
        "\r\n",
        "    L[i+1:,i] = quotient\r\n",
        "    U[i+1:] -= quotient[:,np.newaxis]*U[i]\r\n",
        "\r\n",
        "  return L, U, P\r\n",
        "\r\n",
        "def solvePLU(A,v):\r\n",
        "  if A.shape[0] != A.shape[1]:\r\n",
        "    raise Exception('Not a quadratic matrix')\r\n",
        "  if A.shape[1] != v.shape[0]:\r\n",
        "    raise Exception('Bad vector dimension')\r\n",
        "  L,U,P = pluFactorization(A)\r\n",
        "  res = DirectSolver.forward_sub(L,np.dot(P,v))\r\n",
        "  return DirectSolver.backwards_sub(U,res)\r\n",
        "\r\n",
        "def leastSquare(matrix,vector):\r\n",
        "  if matrix.ndim != 2:\r\n",
        "    raise Exception('Bad matrix dimensions')\r\n",
        "  if matrix.shape[0] != vector.size:\r\n",
        "    raise Exception('Matrix size does not match vector size')\r\n",
        "  Q,R = qrFactorization(matrix.transpose().dot(matrix))\r\n",
        "  return DirectSolver.backwards_sub(R,Q.transpose().dot(matrix.transpose().dot(vector)))\r\n",
        "\r\n",
        "if __name__ == \"__main__\":\r\n",
        "  A = np.array([[10,-7,0],[-3,2,6],[5,-1,5]])\r\n",
        "  n = A.shape[0]\r\n",
        "  v = np.random.rand(n)\r\n",
        "\r\n",
        "\r\n"
      ],
      "execution_count": 10,
      "outputs": []
    },
    {
      "cell_type": "markdown",
      "metadata": {
        "id": "SsQLT38gVbn_"
      },
      "source": [
        "# **Results**"
      ]
    },
    {
      "cell_type": "markdown",
      "metadata": {
        "id": "vvcmVvUPiT5I"
      },
      "source": [
        "**Proof of correctness**"
      ]
    },
    {
      "cell_type": "code",
      "metadata": {
        "colab": {
          "base_uri": "https://localhost:8080/"
        },
        "id": "9YGoPM-cI-pZ",
        "outputId": "b73f0c88-d2fc-438c-c0d0-ff189907225d"
      },
      "source": [
        "class Test(unittest.TestCase):\r\n",
        " \r\n",
        "  def testMatrixVectorProduct(self):\r\n",
        "    n = np.random.randint(1,20)\r\n",
        "    np.random.seed(12345)\r\n",
        "    rs = CustomRandomState()\r\n",
        "    rvs = stats.poisson(25, loc=10).rvs\r\n",
        "    S = random(n, n, density=0.25, random_state=rs, data_rvs=rvs)\r\n",
        "    m = CSR_Matrix(S)\r\n",
        "    v = np.random.rand(n)\r\n",
        "    np.testing.assert_array_almost_equal(m.matrixVectorProduct(v),m.dot(v),decimal = 5)\r\n",
        "    #m.plottify()\r\n",
        "\r\n",
        "  def testqrFactorization(self):\r\n",
        "\r\n",
        "    n = np.random.randint(1,20)\r\n",
        "    m = np.random.rand(n,n)\r\n",
        "    q,r = qrFactorization(m)\r\n",
        "    # check if dot product generates the matrix\r\n",
        "    np.testing.assert_array_almost_equal(q.dot(r),m,decimal = 5)\r\n",
        "    # check if upper triangular\r\n",
        "    np.testing.assert_array_almost_equal(r,np.triu(r),decimal = 5)\r\n",
        "\r\n",
        "    np.testing.assert_array_almost_equal(scipy.linalg.norm(np.matmul(q,r)-m,ord = 'fro'),0)\r\n",
        "    np.testing.assert_array_almost_equal(scipy.linalg.norm(np.matmul(q.transpose(),q)-np.eye(n),ord = 'fro'),0)\r\n",
        "     \r\n",
        "  def testBackwardSub(self):\r\n",
        "    ndim = np.random.randint(1,20)\r\n",
        "    matrix = np.random.rand(ndim,ndim)\r\n",
        "    vec = np.random.rand(ndim)\r\n",
        "    Q,R = qrFactorization(matrix)\r\n",
        "    np.testing.assert_array_almost_equal(R,np.triu(R),decimal = 5)\r\n",
        "    v2 = DirectSolver.backwards_sub(R,Q.transpose().dot(vec))\r\n",
        "    np.testing.assert_array_almost_equal(matrix.dot(v2),vec,decimal = 5)\r\n",
        "\r\n",
        "  #def testLUfactorization(self):\r\n",
        "  #  ndim = np.random.randint(1,20)\r\n",
        "  #  A = np.random.rand(ndim,ndim)\r\n",
        "  #  v = np.random.rand(ndim)\r\n",
        "  #  np.testing.assert_array_almost_equal(solvePLU(A,v),np.linalg.solve(A,v),decimal = 5)\r\n",
        "\r\n",
        "  def testLestSquare(self):\r\n",
        "    ndim = np.random.randint(1,20)\r\n",
        "    A = np.random.rand(ndim,ndim)\r\n",
        "    vec = np.random.rand(ndim)\r\n",
        "    ls = leastSquare(A,vec)\r\n",
        "    np.testing.assert_array_almost_equal(np.linalg.norm(A.dot(ls)-vec),np.linalg.norm(A@ls-vec),decimal = 5)\r\n",
        "if __name__ == '__main__':\r\n",
        "  unittest.main(argv=['first-arg-is-ignored'],exit = False)"
      ],
      "execution_count": 11,
      "outputs": [
        {
          "output_type": "stream",
          "text": [
            "....\n",
            "----------------------------------------------------------------------\n",
            "Ran 4 tests in 0.058s\n",
            "\n",
            "OK\n"
          ],
          "name": "stderr"
        }
      ]
    },
    {
      "cell_type": "markdown",
      "metadata": {
        "id": "-yP7ClCCiPJ-"
      },
      "source": [
        "**Performance test**"
      ]
    },
    {
      "cell_type": "code",
      "metadata": {
        "id": "r-1fNDxfh2Xk"
      },
      "source": [
        ""
      ],
      "execution_count": 11,
      "outputs": []
    },
    {
      "cell_type": "markdown",
      "metadata": {
        "id": "RLwlnOzuV-Cd"
      },
      "source": [
        "The operations worked very well except for the Lu-factorization. I didn't manage to finish up the method fully, I have a great time on the way though, I had some silly index issue."
      ]
    },
    {
      "cell_type": "markdown",
      "metadata": {
        "id": "_4GLBv0zWr7m"
      },
      "source": [
        "# **Discussion**"
      ]
    },
    {
      "cell_type": "markdown",
      "metadata": {
        "id": "6bcsDSoRXHZe"
      },
      "source": [
        "The results were as expected. It would be great to check the efficiency of the algorithm. I tried to compare the PLU algorithm with numpy's version and I noticed that numpy is doing something different. "
      ]
    }
  ]
}
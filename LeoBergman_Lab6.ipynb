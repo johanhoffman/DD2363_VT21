{
  "nbformat": 4,
  "nbformat_minor": 0,
  "metadata": {
    "colab": {
      "name": "LeoBergman_Lab7_final.ipynb",
      "provenance": [],
      "collapsed_sections": [],
      "history_visible": true,
      "include_colab_link": true
    },
    "kernelspec": {
      "name": "python3",
      "display_name": "Python 3"
    }
  },
  "cells": [
    {
      "cell_type": "markdown",
      "metadata": {
        "id": "view-in-github",
        "colab_type": "text"
      },
      "source": [
        "<a href=\"https://colab.research.google.com/github/johanhoffman/DD2363_VT21/blob/leobergman/LeoBergman_Lab6.ipynb\" target=\"_parent\"><img src=\"https://colab.research.google.com/assets/colab-badge.svg\" alt=\"Open In Colab\"/></a>"
      ]
    },
    {
      "cell_type": "markdown",
      "metadata": {
        "id": "6RgtXlfYO_i7"
      },
      "source": [
        "# **Lab 5: Integration**\n",
        "**Leo Bergman**"
      ]
    },
    {
      "cell_type": "markdown",
      "metadata": {
        "id": "9x_J5FVuPzbm"
      },
      "source": [
        "# **Abstract**"
      ]
    },
    {
      "cell_type": "markdown",
      "metadata": {
        "id": "yJipbXtnjrJZ"
      },
      "source": [
        "In this lab I performed some experiments with numerical differential equations solvers. The stability and accuracy of the methods was tested for the methods."
      ]
    },
    {
      "cell_type": "markdown",
      "metadata": {
        "id": "OkT8J7uOWpT3"
      },
      "source": [
        "#**About the code**"
      ]
    },
    {
      "cell_type": "markdown",
      "metadata": {
        "id": "HmB2noTr1Oyo"
      },
      "source": [
        "A short statement on who is the author of the file, and if the code is distributed under a certain license. "
      ]
    },
    {
      "cell_type": "code",
      "metadata": {
        "id": "Pdll1Xc9WP0e",
        "colab": {
          "base_uri": "https://localhost:8080/",
          "height": 36
        },
        "outputId": "789a880f-9a32-4abd-f48f-a3c4eb2d8053"
      },
      "source": [
        "\"\"\"This program is a template for lab reports in the course\"\"\"\n",
        "\"\"\"DD2363 Methods in Scientific Computing, \"\"\"\n",
        "\"\"\"KTH Royal Institute of Technology, Stockholm, Sweden.\"\"\"\n",
        "\n",
        "# Copyright (C) 2021 Leo Bergman (bergmanleo@gmail.com)\n",
        "# Template by Johan Hoffman (jhoffman@kth.se)\n",
        "\n",
        "# This file is part of the course DD2365 Advanced Computation in Fluid Mechanics\n",
        "# KTH Royal Institute of Technology, Stockholm, Sweden\n",
        "#\n",
        "# This is free software: you can redistribute it and/or modify\n",
        "# it under the terms of the GNU Lesser General Public License as published by\n",
        "# the Free Software Foundation, either version 3 of the License, or\n",
        "# (at your option) any later version."
      ],
      "execution_count": 69,
      "outputs": [
        {
          "output_type": "execute_result",
          "data": {
            "application/vnd.google.colaboratory.intrinsic+json": {
              "type": "string"
            },
            "text/plain": [
              "'KTH Royal Institute of Technology, Stockholm, Sweden.'"
            ]
          },
          "metadata": {
            "tags": []
          },
          "execution_count": 69
        }
      ]
    },
    {
      "cell_type": "markdown",
      "metadata": {
        "id": "28xLGz8JX3Hh"
      },
      "source": [
        "# **Set up environment**"
      ]
    },
    {
      "cell_type": "markdown",
      "metadata": {
        "id": "D2PYNusD08Wa"
      },
      "source": [
        "To have access to the neccessary modules you have to run this cell. If you need additional modules, this is where you add them. "
      ]
    },
    {
      "cell_type": "code",
      "metadata": {
        "id": "Xw7VlErAX7NS"
      },
      "source": [
        "# Load neccessary modules.\n",
        "from google.colab import files\n",
        "from scipy.sparse import random\n",
        "import time\n",
        "import timeit\n",
        "import numpy as np\n",
        "import random\n",
        "from matplotlib import pyplot as plt\n",
        "from matplotlib import tri, axes\n",
        "import mpl_toolkits\n",
        "from scipy.interpolate import lagrange\n",
        "import scipy.optimize as opt\n",
        "import numpy as np\n",
        "from numpy.linalg import inv,norm,solve,lstsq,det\n",
        "import unittest\n",
        "from functools import reduce\n",
        "from numpy.polynomial import polynomial as Poly\n",
        "import pandas as pd\n"
      ],
      "execution_count": 70,
      "outputs": []
    },
    {
      "cell_type": "markdown",
      "metadata": {
        "id": "gnO3lhAigLev"
      },
      "source": [
        "# **Introduction**"
      ]
    },
    {
      "cell_type": "markdown",
      "metadata": {
        "id": "l5zMzgPlRAF6"
      },
      "source": [
        ""
      ]
    },
    {
      "cell_type": "markdown",
      "metadata": {
        "id": "jOQvukXZq5U5"
      },
      "source": [
        "# **Method**"
      ]
    },
    {
      "cell_type": "markdown",
      "metadata": {
        "id": "zF4iBj5VURZx"
      },
      "source": [
        "**Scalar problem**\r\n",
        "To solve the problem \r\n",
        "\r\n",
        "$\\frac{du}{dt} = f(u,t)$\r\n",
        "\r\n",
        "$u(0) = u_0$\r\n",
        "\r\n",
        "I will use the implicit euler method and the Runge kutta2 (Heuns method). For the implicit Euler we have:\r\n",
        "\r\n",
        "$U(t_n) \\approx u(t_{n-1}) + k_n u'(t_n) = u_(t_{n-1}) + k_n f(u(t_n),t_n)$\r\n",
        "\r\n",
        "With update formalism \r\n",
        "\r\n",
        "$U_n = U_{n-1} + k_n f(U_n,t_n)$\r\n",
        "\r\n",
        "$x = U_{n-1} + k_n f(x^k,t_n)$\r\n",
        "\r\n",
        "The problem has the exact solution\r\n",
        "\r\n",
        "$du/dt = \\gamma u(t) \\Leftrightarrow \\frac{du/dt}{u(t)} = \\gamma  $\r\n",
        "\r\n",
        "integrating on both sides\r\n",
        "\r\n",
        "$\\int \\frac{du/dt}{u(t)}dt = \\int \\gamma dt$\r\n",
        "\r\n",
        "$\\ln(u) = \\gamma t + c$\r\n",
        "\r\n",
        "$u(t) = e^c e^{\\gamma t}$\r\n",
        "\r\n",
        "$ u(t) = u_0e^{\\gamma t}$\r\n",
        "\r\n",
        "I set $\\gamma = -5, u_0 = 12$\r\n",
        "\r\n",
        " (I just picked two arbitrary numbers that yields stable solutions $\\gamma<0$)\r\n",
        "\r\n",
        "with equlibrium at $u^* = 0$\r\n",
        "\r\n",
        "\r\n",
        " **System of IVP's**\r\n",
        "\r\n",
        "I solve the SIR-model as well as the Volterra-Lotka from the lecture notes\r\n",
        "\r\n",
        "*SIR*\r\n",
        "\r\n",
        "$\\begin{bmatrix}\r\n",
        "\\dot{u}_1 \\\\\r\n",
        "\\dot{u}_2 \\\\\r\n",
        "\\dot{u}_3\r\n",
        "\\end{bmatrix}\r\n",
        "\r\n",
        "= \\begin{bmatrix}\r\n",
        "\\dot{S}_1 \\\\\r\n",
        "\\dot{I}_2 \\\\\r\n",
        "\\dot{R}_3\r\n",
        "\\end{bmatrix}\r\n",
        "= \\begin{bmatrix}\r\n",
        "\\frac{- \\beta I S}{N} \\\\\r\n",
        "(R_0 \\frac{S}{N}-1)\\gamma I\\\\\r\n",
        "\\gamma I\r\n",
        "\\end{bmatrix}$\r\n",
        "\r\n",
        "with initial parameters $N = 100,S = 99, I = 1, R= 0, \r\n",
        "t = 30 days, k = 1, \\beta = 0.6, \\gamma = 1/12$\r\n",
        "\r\n",
        "\r\n",
        "For the Volterra system we have that\r\n",
        "\r\n",
        "$\\begin{bmatrix}\r\n",
        "\\dot{u}_1 \\\\\r\n",
        "\\dot{u}_2\r\n",
        "\\end{bmatrix}\r\n",
        "= \\begin{bmatrix}\r\n",
        "u_1(t)(\\alpha-\\beta u_2(t)) \\\\\r\n",
        "u_2(t)(\\delta u_1(t)-\\gamma)\r\n",
        "\\end{bmatrix}$\r\n",
        "\r\n",
        "with $\\alpha = 1, \\beta = 1, \\gamma = 2, \\delta = 1.5$\r\n",
        "\r\n",
        "and $u_0 = (1.1, 0.5)$\r\n",
        "\r\n",
        "$u_1$ prey\r\n",
        "$u_2$ predator\r\n",
        "\r\n"
      ]
    },
    {
      "cell_type": "markdown",
      "metadata": {
        "id": "WfQjyAtqwv7S"
      },
      "source": [
        "For the Runge kutta (Heuns) I used the update formalism from the lecture notes\r\n",
        "\r\n",
        "$t_n = t_{n-1}+h$\r\n",
        "\r\n",
        "$u_{n} = u_{n-1} + \\frac{h}{2}(f(t_{n-1},u_{n-1} + h f(t_{n-1},u_{n-1})))$"
      ]
    },
    {
      "cell_type": "code",
      "metadata": {
        "id": "YuFb_heQpWGj"
      },
      "source": [
        "\r\n",
        "def rungeKuttaScalar(f,u_0,t_0,T,h):\r\n",
        "  t = t_0\r\n",
        "  N = int((T-t_0)/h)+1\r\n",
        "  time = np.linspace(t_0, T, num=N)\r\n",
        "  u = u_0\r\n",
        "  for i in range(1,N-1):\r\n",
        "    step = u[i-1] + h*f(u[i-1], h*(i-1))\r\n",
        "    u[i] = u[i-1] + h*( (1/2)*f(u[i-1], h*(i-1)) + (1/2)*f(step, h*i))\r\n",
        "  return time,u\r\n",
        "\r\n",
        "def implicitEuler(f,u_0,t_0,T,h):\r\n",
        "  N = int((T-t_0)/h)+1\r\n",
        "  time = np.linspace(t_0, T, num=N)\r\n",
        "  u = u_0\r\n",
        "  for i in range(1,N-1):\r\n",
        "    t = time[i]\r\n",
        "    u[i+1] = scipy.optimize.newton(lambda u1: u1 - u[i] - h*f(u1, t), u[i])\r\n",
        "  return time,u\r\n",
        "\r\n",
        "def imlicitEulerSystem(f,u_0,t_0,T,h):\r\n",
        "  time = np.linspace(t_0, T, num=int((T-t_0)/k+1))\r\n",
        "  u = np.zeros(u_0.shape)\r\n",
        "  for i in range(1,len(time)):\r\n",
        "    t = time[i]\r\n",
        "    u[:, i] = opt.newton(lambda u: u - u_0[:, i] - h*f(u, t), u_0[:,i])\r\n",
        "  return time,u\r\n",
        "\r\n",
        "def rungeKuttaSystem(f, u, t_0, T, h):\r\n",
        "  N = int((T-t_0)/h)+1\r\n",
        "  time = np.linspace(t_0, T, num=N)\r\n",
        "  for i in range(1,N):\r\n",
        "    hbar = h*f(u[:,i-1], h*(i-1))\r\n",
        "    u[:,i] = u[:,i-1] + h*( (1/2)*f(u[:,i-1], h*(i-1)) + (1/2)*f(u[:,i-1]+hbar, h*i))\r\n",
        "  return time, u\r\n",
        "\r\n"
      ],
      "execution_count": 71,
      "outputs": []
    },
    {
      "cell_type": "markdown",
      "metadata": {
        "id": "SsQLT38gVbn_"
      },
      "source": [
        "# **Results**"
      ]
    },
    {
      "cell_type": "markdown",
      "metadata": {
        "id": "vvcmVvUPiT5I"
      },
      "source": [
        "**Proof of correctness**"
      ]
    },
    {
      "cell_type": "code",
      "metadata": {
        "id": "9YGoPM-cI-pZ",
        "colab": {
          "base_uri": "https://localhost:8080/",
          "height": 979
        },
        "outputId": "c2f2f59d-6c5c-4295-98b1-3511fa56c6c0"
      },
      "source": [
        "\r\n",
        "class Test(unittest.TestCase):\r\n",
        "\r\n",
        "  def function_gen(self,gamma):\r\n",
        "    def f(u,t):\r\n",
        "      return gamma*u\r\n",
        "    return f\r\n",
        "\r\n",
        "  def testEulerScalar(self):\r\n",
        "    u0 = 12\r\n",
        "    gamma = -5\r\n",
        "    lastT = 3\r\n",
        "    h = 1e-3\r\n",
        "    t_0 = 0\r\n",
        "    f = self.function_gen(gamma)\r\n",
        "    u_0 = np.zeros(int((lastT-t_0)/h+1))\r\n",
        "    u_0[0] = u0\r\n",
        "    t,uaprox = rungeKuttaScalar(f,u_0,t_0,lastT,h)\r\n",
        "    t2,uaprox2 = implicitEuler(f,u_0,t_0,lastT,h)\r\n",
        "    u = u0*np.exp(gamma*t)\r\n",
        "    u2 = u0*np.exp(gamma*t2)\r\n",
        "    relError = u-uaprox\r\n",
        "    relError2 = u2-uaprox2\r\n",
        "    relE = relError/u0\r\n",
        "    relE2 = relError2/u0\r\n",
        "\r\n",
        "    fig, (ax1, ax2) = plt.subplots(1, 2)\r\n",
        "    fig.suptitle('Error scalar ODE')\r\n",
        "    np.testing.assert_array_almost_equal(u,uaprox,decimal = 2 )\r\n",
        "    np.testing.assert_array_almost_equal(u2,uaprox2,decimal = 2)\r\n",
        "\r\n",
        "    ax1.set_title(\"Plot of exact and approximate solution\")\r\n",
        "    ax1.plot(t, uaprox,color = 'orange')\r\n",
        "    ax1.plot(t2,uaprox2,'--', color='black')\r\n",
        "    ax1.plot(t, u,'--',color='red')\r\n",
        "    ax1.legend([\"Heuns Method\",\"Implicit Euler\",\"Exact solution\"])\r\n",
        "\r\n",
        "    ax2.set_title(\"Relative error\")\r\n",
        "    ax2.plot(t,relError,'--',color = 'blue',label = 'Implicit Euler')\r\n",
        "    ax2.plot(t2,relError2, '--',color = 'orange',label = 'Heuns method')\r\n",
        "    ax2.legend([\"Implicit Euler\",\"Heuns method\"])\r\n",
        "    print(np.linalg.norm(uaprox-u))\r\n",
        "    #print(np.linalg.norm(uaprox2-u2))\r\n",
        "\r\n",
        "\r\n",
        "  def testSIRSystem(self):\r\n",
        "    beta = 0.6\r\n",
        "    k = 1\r\n",
        "    N = 100\r\n",
        "    gamma = 1/12\r\n",
        "    R0 = beta/gamma\r\n",
        "    t0 = 0\r\n",
        "    T = 30\r\n",
        "    f = lambda u, t: np.array([(-beta*u[1]*u[0])/N, (R0*u[0]/N -1)*gamma*u[1], gamma*u[1]])\r\n",
        "    plt.figure(2)\r\n",
        "    u = np.zeros((3,int((T-t0)/k)+1))\r\n",
        "    u[:,0] = np.array([N-1,1,0])\r\n",
        "    t,u_approx= rungeKuttaSystem(f, u, t0, T, k)\r\n",
        "    plt.plot(t, u_approx[0,:], label=\"susceptible\")\r\n",
        "    plt.plot(t, u_approx[1,:], label=\"infectious\")\r\n",
        "    plt.plot(t, u_approx[2,:], label=\"recovered\")\r\n",
        "    plt.legend(loc=\"upper right\")\r\n",
        "    plt.ylabel('Percentage')\r\n",
        "    plt.xlabel('Days')\r\n",
        "    plt.show()\r\n",
        "\r\n",
        "  def testRungeKuttaSystem(self):\r\n",
        "    f = lambda u, t: np.array([(1-1*u[1])*u[0], (1.5*u[0] - 2)*u[1]])\r\n",
        "    h = 1e-2\r\n",
        "    T = 14\r\n",
        "    t0 = 0\r\n",
        "    u = np.zeros((2,int((T-t0)/h)+1))\r\n",
        "    u[:,0] = np.array([1.1,0.5])\r\n",
        "    t,u_approx = rungeKuttaSystem(f, u, t0, T, h)\r\n",
        "    fig, (ax1, ax2) = plt.subplots(1, 2)\r\n",
        "    fig.suptitle(\"System ODE's \")\r\n",
        "    ax1.plot(t, u_approx[1,:],'Orange')\r\n",
        "    ax1.plot(t, u_approx[0,:],color = 'Blue')\r\n",
        "    ax1.set_title(\"Prey vs predator\")\r\n",
        "    ax2.set_title(\"Phase\")\r\n",
        "    ax2.plot(1.333, 1.0,'o',color = 'black')\r\n",
        "    ax2.plot(u_approx[0,:], u_approx[1,:],'green')\r\n",
        "    ax1.set_xlabel(\"time\")\r\n",
        "    ax1.set_ylabel(\"Population\")\r\n",
        "    plt.show()\r\n",
        "\r\n",
        "if __name__ == '__main__':\r\n",
        "  unittest.main(argv=['first-arg-is-ignored'],exit = False)"
      ],
      "execution_count": 72,
      "outputs": [
        {
          "output_type": "stream",
          "text": [
            "."
          ],
          "name": "stderr"
        },
        {
          "output_type": "display_data",
          "data": {
            "image/png": "[encoded data removed]",
            "text/plain": [
              "<Figure size 432x288 with 2 Axes>"
            ]
          },
          "metadata": {
            "tags": [],
            "needs_background": "light"
          }
        },
        {
          "output_type": "display_data",
          "data": {
            "image/png": "[encoded data removed]",
            "text/plain": [
              "<Figure size 432x288 with 2 Axes>"
            ]
          },
          "metadata": {
            "tags": [],
            "needs_background": "light"
          }
        },
        {
          "output_type": "stream",
          "text": [
            "."
          ],
          "name": "stderr"
        },
        {
          "output_type": "display_data",
          "data": {
            "image/png": "[encoded data removed]",
            "text/plain": [
              "<Figure size 432x288 with 1 Axes>"
            ]
          },
          "metadata": {
            "tags": [],
            "needs_background": "light"
          }
        },
        {
          "output_type": "stream",
          "text": [
            ".\n",
            "----------------------------------------------------------------------\n",
            "Ran 3 tests in 1.072s\n",
            "\n",
            "OK\n"
          ],
          "name": "stderr"
        }
      ]
    },
    {
      "cell_type": "markdown",
      "metadata": {
        "id": "_4GLBv0zWr7m"
      },
      "source": [
        "# **Discussion**"
      ]
    },
    {
      "cell_type": "markdown",
      "metadata": {
        "id": "6bcsDSoRXHZe"
      },
      "source": [
        "My intuition was that RK2 should have a better convergence than IE, since I know that RK has a error proportional to h^2 but IE just h. I might have missed something from the theory. \r\n",
        "\r\n",
        "It was nice to see the compartment model and Predator prey ODE system working as expected. "
      ]
    }
  ]
}
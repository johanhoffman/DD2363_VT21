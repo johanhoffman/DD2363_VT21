{
 "cells": [
  {
   "cell_type": "markdown",
   "metadata": {
    "colab_type": "text",
    "id": "view-in-github"
   },
   "source": [
    "<a href=\"https://colab.research.google.com/github/johanhoffman/DD2363-VT20/blob/master/template-report-lab-X.ipynb\" target=\"_parent\"><img src=\"https://colab.research.google.com/assets/colab-badge.svg\" alt=\"Open In Colab\"/></a>"
   ]
  },
  {
   "cell_type": "markdown",
   "metadata": {
    "colab_type": "text",
    "id": "6RgtXlfYO_i7"
   },
   "source": [
    "# **Lab 1: Introduction**\n",
    "**Mathias Axelsson**"
   ]
  },
  {
   "cell_type": "markdown",
   "metadata": {
    "colab_type": "text",
    "id": "9x_J5FVuPzbm"
   },
   "source": [
    "# **Abstract**"
   ]
  },
  {
   "cell_type": "markdown",
   "metadata": {
    "colab_type": "text",
    "id": "yJipbXtnjrJZ"
   },
   "source": [
    "This lab report implements functions for scalar products, matrix-vector products, matrix-matrix products and euclidian norms. In additions the lab report formulates tests for each of these functions and verifies that they work as intended."
   ]
  },
  {
   "cell_type": "markdown",
   "metadata": {
    "colab_type": "text",
    "id": "OkT8J7uOWpT3"
   },
   "source": [
    "# **About the code**"
   ]
  },
  {
   "cell_type": "markdown",
   "metadata": {
    "colab_type": "text",
    "id": "HmB2noTr1Oyo"
   },
   "source": [
    "A short statement on who is the author of the file, and if the code is distributed under a certain license. "
   ]
  },
  {
   "cell_type": "code",
   "execution_count": 1,
   "metadata": {
    "colab": {
     "base_uri": "https://localhost:8080/",
     "height": 34
    },
    "colab_type": "code",
    "id": "Pdll1Xc9WP0e",
    "outputId": "6435158d-714b-4fa0-f688-bbd72fa2bc02"
   },
   "outputs": [
    {
     "data": {
      "text/plain": [
       "'KTH Royal Institute of Technology, Stockholm, Sweden.'"
      ]
     },
     "execution_count": 1,
     "metadata": {},
     "output_type": "execute_result"
    }
   ],
   "source": [
    "\"\"\"This program is a template for lab reports in the course\"\"\"\n",
    "\"\"\"DD2363 Methods in Scientific Computing, \"\"\"\n",
    "\"\"\"KTH Royal Institute of Technology, Stockholm, Sweden.\"\"\"\n",
    "\n",
    "# Copyright (C) 2020 Johan Hoffman (jhoffman@kth.se)\n",
    "\n",
    "# This file is part of the course DD2365 Advanced Computation in Fluid Mechanics\n",
    "# KTH Royal Institute of Technology, Stockholm, Sweden\n",
    "#\n",
    "# This is free software: you can redistribute it and/or modify\n",
    "# it under the terms of the GNU Lesser General Public License as published by\n",
    "# the Free Software Foundation, either version 3 of the License, or\n",
    "# (at your option) any later version.\n",
    "\n",
    "# This template is maintained by Johan Hoffman\n",
    "# Please report problems to jhoffman@kth.se"
   ]
  },
  {
   "cell_type": "markdown",
   "metadata": {
    "colab_type": "text",
    "id": "28xLGz8JX3Hh"
   },
   "source": [
    "# **Set up environment**"
   ]
  },
  {
   "cell_type": "markdown",
   "metadata": {
    "colab_type": "text",
    "id": "D2PYNusD08Wa"
   },
   "source": [
    "To have access to the neccessary modules you have to run this cell. If you need additional modules, this is where you add them. "
   ]
  },
  {
   "cell_type": "code",
   "execution_count": 2,
   "metadata": {
    "colab": {},
    "colab_type": "code",
    "id": "Xw7VlErAX7NS"
   },
   "outputs": [],
   "source": [
    "# Load neccessary modules.\n",
    "# from google.colab import files\n",
    "\n",
    "import time\n",
    "import numpy as np\n",
    "\n",
    "#try:\n",
    "#    from dolfin import *; from mshr import *\n",
    "#except ImportError as e:\n",
    "#    !apt-get install -y -qq software-properties-common \n",
    "#    !add-apt-repository -y ppa:fenics-packages/fenics\n",
    "#    !apt-get update -qq\n",
    "#    !apt install -y --no-install-recommends fenics\n",
    "#    from dolfin import *; from mshr import *\n",
    "    \n",
    "#import dolfin.common.plotting as fenicsplot\n",
    "\n",
    "from matplotlib import pyplot as plt\n",
    "from matplotlib import tri\n",
    "from matplotlib import axes\n",
    "from mpl_toolkits.mplot3d import Axes3D"
   ]
  },
  {
   "cell_type": "markdown",
   "metadata": {
    "colab_type": "text",
    "id": "gnO3lhAigLev"
   },
   "source": [
    "# **Introduction**"
   ]
  },
  {
   "cell_type": "markdown",
   "metadata": {
    "colab_type": "text",
    "id": "l5zMzgPlRAF6"
   },
   "source": [
    "Basic vector and matrix operations are used thoroughly in scientific computing. This lab report will implement functions for scalar products, matrix-vector products, matrix-matrix products and euclidian norms. It will then validate these functions by formulating a series of tests for each function. "
   ]
  },
  {
   "cell_type": "markdown",
   "metadata": {
    "colab_type": "text",
    "id": "jOQvukXZq5U5"
   },
   "source": [
    "# **Method**"
   ]
  },
  {
   "cell_type": "markdown",
   "metadata": {
    "colab_type": "text",
    "id": "zF4iBj5VURZx"
   },
   "source": [
    "#### Scalar product\n",
    "The scalar product is the inner product in the space $R^N$. It is written as $(x,y) = x\\cdot y = x_1y_1 + \\cdots + x_ny_n$ (Chapter 1, Example 1.6). Implemented as a function it becomes\n"
   ]
  },
  {
   "cell_type": "code",
   "execution_count": 3,
   "metadata": {},
   "outputs": [],
   "source": [
    "def scalar_product(x, y):\n",
    "    \"\"\"A function for calculating the scalar product of input vectors x and y.\"\"\"\n",
    "    sum = 0\n",
    "    for i in range(len(x)):\n",
    "        sum += x[i]*y[i]\n",
    "    return sum"
   ]
  },
  {
   "cell_type": "markdown",
   "metadata": {
    "colab_type": "text",
    "id": "zF4iBj5VURZx"
   },
   "source": [
    "#### Matrix-vector product\n",
    "The matrix-vector product is written as $Ax=b$. It can also be considered as\n",
    "$$\n",
    "Ax= \\begin{bmatrix}a_1 \\\\ \\vdots \\\\ a_n\\end{bmatrix}x = \\begin{bmatrix}a_1x \\\\ \\vdots \\\\ a_nx\\end{bmatrix}\n",
    "$$\n",
    "where $a_i~i=1,\\cdots,n$ are the rows of A. Implemented as a function it becomes\n"
   ]
  },
  {
   "cell_type": "code",
   "execution_count": 4,
   "metadata": {},
   "outputs": [],
   "source": [
    "def matrix_vector_product(A, x):\n",
    "    \"\"\"A function for calculating the matrix-vector product of input matrix A and vector x.\"\"\"\n",
    "    b = np.zeros(A.shape[0])\n",
    "    for i in range(A.shape[0]):\n",
    "        b[i] = scalar_product(A[i,:], x)\n",
    "    return b\n",
    "        "
   ]
  },
  {
   "cell_type": "markdown",
   "metadata": {
    "colab_type": "text",
    "id": "zF4iBj5VURZx"
   },
   "source": [
    "#### Matrix-matrix product\n",
    "The matrix-matrix product is written as AB=C. It can also be considered as \n",
    "$$\n",
    "AB= A\\begin{bmatrix}b_1 & \\cdots & b_n\\end{bmatrix} = \\begin{bmatrix}Ab_1 & \\cdots & Ab_n\\end{bmatrix}\n",
    "$$\n",
    "where $b_i~i=1,\\cdots,n$ are the columns of B. Implemented as a function it becomes\n"
   ]
  },
  {
   "cell_type": "code",
   "execution_count": 5,
   "metadata": {},
   "outputs": [],
   "source": [
    "def matrix_matrix_product(A, B):\n",
    "    \"\"\"A function for calculating the matrix-matrix product of input matrices A and B.\"\"\"\n",
    "    C = np.zeros((A.shape[0], B.shape[1]))\n",
    "    for i in range(B.shape[1]):\n",
    "        C[:,i] = matrix_vector_product(A, B[:, i])\n",
    "    return C"
   ]
  },
  {
   "cell_type": "markdown",
   "metadata": {
    "colab_type": "text",
    "id": "zF4iBj5VURZx"
   },
   "source": [
    "#### Euclidian norm\n",
    "The euclidian norm is written as $||x|| = (x,x)^{1/2}$ (Chapter 1, Example 1.4). Implemented as a function it becomes\n"
   ]
  },
  {
   "cell_type": "code",
   "execution_count": 6,
   "metadata": {},
   "outputs": [],
   "source": [
    "def euclidian_norm(x):\n",
    "    \"\"\"A function for calculating the euclidian norm of input vector x.\"\"\"\n",
    "    return np.sqrt(scalar_product(x, x))"
   ]
  },
  {
   "cell_type": "markdown",
   "metadata": {
    "colab_type": "text",
    "id": "SsQLT38gVbn_"
   },
   "source": [
    "# **Results**"
   ]
  },
  {
   "cell_type": "markdown",
   "metadata": {},
   "source": [
    "Bellow are some tests to verify that the implementation of the function works as intended."
   ]
  },
  {
   "cell_type": "code",
   "execution_count": 7,
   "metadata": {},
   "outputs": [],
   "source": [
    "x = np.array([1, 1, 1])\n",
    "y = np.array([0, 2, 3])\n",
    "z = np.array([5, 0, -5])\n",
    "\n",
    "A = np.array([[2, -2, 0], [0, -1, 0], [-1, 0, 1]])\n",
    "B = np.array([[0, 1, 0], [1, 0, 0], [0, 0, 1]])\n",
    "\n",
    "assert scalar_product(x, y) == 5\n",
    "assert scalar_product(x, z) == 0\n",
    "assert scalar_product(y, z) == -15\n",
    "\n",
    "# Check if each element is equal using np.equal(). Then check that all elements are true using .all().\n",
    "assert np.equal(matrix_vector_product(A, x), np.array([0, -1, 0])).all()\n",
    "assert np.equal(matrix_vector_product(B, y), np.array([2, 0, 3])).all()\n",
    "assert np.equal(matrix_vector_product(B, z), np.array([0, 5, -5])).all()\n",
    "\n",
    "assert np.equal(matrix_matrix_product(A, B), np.array([[-2, 2, 0], [-1, 0, 0], [0, -1, 1]])).all()\n",
    "\n",
    "assert euclidian_norm(x) == np.sqrt(3)\n",
    "assert euclidian_norm(y) == np.sqrt(13)\n",
    "assert euclidian_norm(z) == np.sqrt(50)"
   ]
  },
  {
   "cell_type": "markdown",
   "metadata": {
    "colab_type": "text",
    "id": "_4GLBv0zWr7m"
   },
   "source": [
    "# **Discussion**"
   ]
  },
  {
   "cell_type": "markdown",
   "metadata": {
    "colab_type": "text",
    "id": "6bcsDSoRXHZe"
   },
   "source": [
    "The implementations of the functions works as expected. The euclidian norm function could be used as an euclidian distance function $\\mathtt{euclidian}\\_\\mathtt{norm}(x-y)$ without a specific implementation. In the implementation I have ommitted any error checking. Any real implementation of these functions should have that included. Primarily checking that the operation is valid by comparing vector and matrix dimmensions."
   ]
  }
 ],
 "metadata": {
  "colab": {
   "include_colab_link": true,
   "name": "template-report-lab-X.ipynb",
   "provenance": []
  },
  "kernelspec": {
   "display_name": "Python 3",
   "language": "python",
   "name": "python3"
  },
  "language_info": {
   "codemirror_mode": {
    "name": "ipython",
    "version": 3
   },
   "file_extension": ".py",
   "mimetype": "text/x-python",
   "name": "python",
   "nbconvert_exporter": "python",
   "pygments_lexer": "ipython3",
   "version": "3.7.7"
  }
 },
 "nbformat": 4,
 "nbformat_minor": 1
}

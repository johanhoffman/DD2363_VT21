{
  "nbformat": 4,
  "nbformat_minor": 0,
  "metadata": {
    "colab": {
      "name": "joakieri_lab1.ipynb",
      "provenance": [],
      "collapsed_sections": [
        "9x_J5FVuPzbm",
        "OkT8J7uOWpT3",
        "28xLGz8JX3Hh"
      ]
    },
    "kernelspec": {
      "name": "python3",
      "display_name": "Python 3"
    }
  },
  "cells": [
    {
      "cell_type": "markdown",
      "metadata": {
        "id": "view-in-github"
      },
      "source": [
        "<a href=\"https://colab.research.google.com/github/johanhoffman/DD2363-VT20/blob/master/template-report-lab-X.ipynb\" target=\"_parent\"><img src=\"https://colab.research.google.com/assets/colab-badge.svg\" alt=\"Open In Colab\"/></a>"
      ]
    },
    {
      "cell_type": "markdown",
      "metadata": {
        "id": "6RgtXlfYO_i7"
      },
      "source": [
        "# **Lab 1: Introduction**\n",
        "**Joakim Eriksson**"
      ]
    },
    {
      "cell_type": "markdown",
      "metadata": {
        "id": "9x_J5FVuPzbm"
      },
      "source": [
        "# **Abstract**"
      ]
    },
    {
      "cell_type": "markdown",
      "metadata": {
        "id": "yJipbXtnjrJZ"
      },
      "source": [
        "This report describes implementations of some basics operations for vectors and matrices.\r\n",
        "The algorithms used are fairly simple and their correctness is verified through manual verification of their output."
      ]
    },
    {
      "cell_type": "markdown",
      "metadata": {
        "id": "OkT8J7uOWpT3"
      },
      "source": [
        "#**About the code**"
      ]
    },
    {
      "cell_type": "code",
      "metadata": {
        "id": "Pdll1Xc9WP0e"
      },
      "source": [
        "# Copyright (C) 2021 Joakim Eriksson (joakieri@kth.se)\n",
        "\n",
        "# This file is part of the course DD2363 Methods in Scientific Computing\n",
        "# KTH Royal Institute of Technology, Stockholm, Sweden\n",
        "#\n",
        "# This is free software: you can redistribute it and/or modify\n",
        "# it under the terms of the GNU Lesser General Public License as published by\n",
        "# the Free Software Foundation, either version 3 of the License, or\n",
        "# (at your option) any later version."
      ],
      "execution_count": null,
      "outputs": []
    },
    {
      "cell_type": "markdown",
      "metadata": {
        "id": "28xLGz8JX3Hh"
      },
      "source": [
        "# **Set up of environment**"
      ]
    },
    {
      "cell_type": "code",
      "metadata": {
        "id": "Xw7VlErAX7NS"
      },
      "source": [
        "# Load neccessary modules.\n",
        "from google.colab import files\n",
        "\n",
        "import math"
      ],
      "execution_count": null,
      "outputs": []
    },
    {
      "cell_type": "markdown",
      "metadata": {
        "id": "gnO3lhAigLev"
      },
      "source": [
        "# **Introduction**"
      ]
    },
    {
      "cell_type": "markdown",
      "metadata": {
        "id": "MIgIrrglf81w"
      },
      "source": [
        "The given problem was to implement three standard operations for vectors and matrices in python, and then verify their correctness.\r\n",
        "The functions were *scalar product*, *matrix-vector product* and *matrix-matrix product*.\r\n",
        "Functions for the *euclidian norm* or *euclidian distance* could also be implemented.\r\n",
        "As there is no number given for the dimention of the vectors or matrices it is asumed that the function should work for any $n$-dimentional vectors and $m \\times n$-dimentional matrices.\r\n",
        "\r\n",
        "To implement the the different functions I used the deffinitions given in the lecture notes of the course [Methods in Scientific Computing](https://kth.instructure.com/courses/17068).\r\n",
        "Simple input values was used to manually verify that the functions worked as expected."
      ]
    },
    {
      "cell_type": "markdown",
      "metadata": {
        "id": "jOQvukXZq5U5"
      },
      "source": [
        "# **Method**"
      ]
    },
    {
      "cell_type": "markdown",
      "metadata": {
        "id": "_EhnDz5bgF0n"
      },
      "source": [
        "The list type in Python was used to represent vectors and matrices.\r\n",
        "A list can contain any number of elements and all the elements can be accessed with an index.\r\n",
        "Matrices was represented by a list of list, where every inner list represents a row in the matrix.\r\n",
        "In the implementation of the function I tried to make it as simple as possible \r\n",
        "Only one built in function, math.sqrt(), was used when implementing the *euclidian norm*.\r\n",
        "\r\n",
        "To verify the implementation of the scalar product I used a vector $(1,2,3)^T$.\r\n",
        "This gives $$((1,2,3)^T,(1,2,3)^T)=1+4+9=14.$$\r\n",
        "\r\n",
        "For the matrix-vector product I used the matrix\r\n",
        "$\\begin{pmatrix}\r\n",
        "1 & 2 \\\\\r\n",
        "3 & 4\r\n",
        "\\end{pmatrix}$\r\n",
        "and the vector $(1,2)^T$.\r\n",
        "This gives the result of\r\n",
        "$$\r\n",
        "\\begin{pmatrix}\r\n",
        "1 & 2 \\\\\r\n",
        "3 & 4\r\n",
        "\\end{pmatrix}\r\n",
        "\\begin{pmatrix}\r\n",
        "1 \\\\\r\n",
        "2\r\n",
        "\\end{pmatrix}\r\n",
        "=\r\n",
        "\\begin{pmatrix}\r\n",
        "1 + 4 \\\\\r\n",
        "3 + 8\r\n",
        "\\end{pmatrix}\r\n",
        "=\r\n",
        "\\begin{pmatrix}\r\n",
        "5 \\\\\r\n",
        "11\r\n",
        "\\end{pmatrix}\r\n",
        ".\r\n",
        "$$\r\n",
        "\r\n",
        "For the matrix-matrix multiplication I used the sam matrix and multiplied it with itself giving a result of\r\n",
        "$$\r\n",
        "\\begin{pmatrix}\r\n",
        "1 & 2 \\\\\r\n",
        "3 & 4\r\n",
        "\\end{pmatrix}\r\n",
        "\\begin{pmatrix}\r\n",
        "1 & 2 \\\\\r\n",
        "3 & 4\r\n",
        "\\end{pmatrix}\r\n",
        "=\r\n",
        "\\begin{pmatrix}\r\n",
        "1 + 6 & 2 + 8 \\\\\r\n",
        "3 + 12 & 6 + 16\r\n",
        "\\end{pmatrix}\r\n",
        "=\r\n",
        "\\begin{pmatrix}\r\n",
        "7 & 10 \\\\\r\n",
        "15 & 22\r\n",
        "\\end{pmatrix}\r\n",
        ".\r\n",
        "$$\r\n"
      ]
    },
    {
      "cell_type": "code",
      "metadata": {
        "colab": {
          "base_uri": "https://localhost:8080/"
        },
        "id": "Ux5gqJkYONeA",
        "outputId": "da52d8d4-3ad0-48eb-b155-9314cd7847b3"
      },
      "source": [
        "# Implemented functions\r\n",
        "def scalar_product(x, y):\r\n",
        "    s = 0\r\n",
        "    for i in range(len(x)):\r\n",
        "        s += x[i] * y[i]\r\n",
        "    return s\r\n",
        "\r\n",
        "def matrix_vector_product(A, x):\r\n",
        "    b = [0 for _ in A]\r\n",
        "    for i in range(len(A)):\r\n",
        "        b[i] = scalar_product(A[i], x)\r\n",
        "    return b\r\n",
        "\r\n",
        "def matrix_matrix_product(A, B):\r\n",
        "    C = [[0 for _ in B[0]] for _ in A]\r\n",
        "    for i in range(len(A)):\r\n",
        "        for j in range(len(B[0])):\r\n",
        "            for k in range(len(B)):\r\n",
        "                C[i][j] += A[i][k] * B[k][j]\r\n",
        "    return C\r\n",
        "\r\n",
        "def euclidian_norm(x):\r\n",
        "    return math.sqrt(scalar_product(x,x))\r\n",
        "\r\n",
        "def euclidian_distance(x, y):\r\n",
        "    return euclidian_norm(list(map(lambda a, b: a - b, x, y)))\r\n",
        "\r\n",
        "# Tests\r\n",
        "print(scalar_product([1,2,3], [1,2,3]))\r\n",
        "\r\n",
        "print(matrix_vector_product([[1,2],[3,4]],[1,2]))\r\n",
        "\r\n",
        "print(matrix_matrix_product([[1,2],[3,4]],[[1,2],[3,4]]))\r\n",
        "\r\n",
        "print(euclidian_norm([3,4]))\r\n",
        "\r\n",
        "print(euclidian_distance([1,1],[1,-1]))"
      ],
      "execution_count": null,
      "outputs": [
        {
          "output_type": "stream",
          "text": [
            "14\n",
            "[5, 11]\n",
            "[[7, 10], [15, 22]]\n",
            "5.0\n",
            "2.0\n"
          ],
          "name": "stdout"
        }
      ]
    },
    {
      "cell_type": "markdown",
      "metadata": {
        "id": "SsQLT38gVbn_"
      },
      "source": [
        "# **Results**"
      ]
    },
    {
      "cell_type": "markdown",
      "metadata": {
        "id": "HP3ZohIAgPDZ"
      },
      "source": [
        "The output from the test was the following:\r\n",
        "```\r\n",
        "14\r\n",
        "[5, 11]\r\n",
        "[[7, 10], [15, 22]]\r\n",
        "5.0\r\n",
        "2.0\r\n",
        "```\r\n",
        "Comparing this to the calculations made in the previous section one can varify that the algorithms work correctly.\r\n"
      ]
    },
    {
      "cell_type": "markdown",
      "metadata": {
        "id": "_4GLBv0zWr7m"
      },
      "source": [
        "# **Discussion**"
      ]
    },
    {
      "cell_type": "markdown",
      "metadata": {
        "id": "719YcwFzgSoE"
      },
      "source": [
        "The implementation of the functions work as expected.\r\n",
        "A more effective way of representing vectors and matrices could have been used, for example numpy arrays instead of lists.\r\n",
        "All the functions assume that the user imputs matrices and vectors that can be multiplide togeather, and do not controll for these kinds of errors."
      ]
    }
  ]
}
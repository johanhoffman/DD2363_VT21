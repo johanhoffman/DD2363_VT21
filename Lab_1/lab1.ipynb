{
 "cells": [
  {
   "cell_type": "markdown",
   "id": "funded-woman",
   "metadata": {},
   "source": [
    "# Lab 1, Hilaire Bouaddi"
   ]
  },
  {
   "cell_type": "markdown",
   "id": "parallel-patrol",
   "metadata": {},
   "source": [
    "## Implementation of a scalar product "
   ]
  },
  {
   "cell_type": "code",
   "execution_count": 18,
   "id": "valuable-xerox",
   "metadata": {},
   "outputs": [],
   "source": [
    "\"\"\"\n",
    "@param x: vector represented by array\n",
    "@param y: vector represented by array\n",
    "\"\"\"\n",
    "def scalar_product(x, y):\n",
    "    if (len(x) != len(y)):\n",
    "        raise ValueError(\"Parameters x and y should be of same size\")\n",
    "    \n",
    "    scalar = 0\n",
    "    for i in range(len(x)):\n",
    "        scalar += x[i]*y[i]\n",
    "    return scalar\n",
    "        \n",
    "###TESTS\n",
    "x = [2, 3]\n",
    "y = [3, 4]\n",
    "z = [300, 4, 5]\n",
    "t = [-1, 0, 5.5]\n",
    "assert scalar_product(x, y) == 18\n",
    "assert scalar_product(z, t) == -272.5\n",
    "\n",
    "#WORKS"
   ]
  },
  {
   "cell_type": "markdown",
   "id": "earned-gnome",
   "metadata": {},
   "source": [
    "## Implementation of vector matrix product"
   ]
  },
  {
   "cell_type": "code",
   "execution_count": 22,
   "id": "removable-astrology",
   "metadata": {},
   "outputs": [],
   "source": [
    "\"\"\"\n",
    "@param x: vector represented by 1D-array\n",
    "@param A: matrix represented by 2D-array\n",
    "returns Ax\n",
    "\"\"\"\n",
    "def matrix_vector_product(x, A):\n",
    "    nbLinesA = len(A)\n",
    "    nbColA = len(A[0])\n",
    "    \n",
    "    # nbLinesA * nbColA X nbLinesX X nbColX\n",
    "    if nbColA != len(x):\n",
    "        raise ValueError(\"Dimensions between A and x are not compatible for matrix vector product\")\n",
    "    \n",
    "    result = []\n",
    "    for line in range(nbLinesA):\n",
    "        element_line_i = 0\n",
    "        for i in range(nbColA):\n",
    "            element_line_i += A[line][i]*x[i]\n",
    "        result.append(element_line_i)\n",
    "    \n",
    "    return result \n",
    "        \n",
    "# TESTS \n",
    "\n",
    "# general matrix, matrix size 1, square matrix\n",
    "\n",
    "A = [[1, 2], \n",
    "     [2, 3], \n",
    "     [3, 4]]\n",
    "B = [[0.5]] \n",
    "C = [[1, 2], [2, 3]]\n",
    "\n",
    "x = [2, 3]\n",
    "y = [5]\n",
    "\n",
    "assert matrix_vector_product(x, A) == [8, 13, 18]\n",
    "assert matrix_vector_product(y, B) == [2.5]\n",
    "assert matrix_vector_product(x, C) == [8, 13]\n"
   ]
  },
  {
   "cell_type": "markdown",
   "id": "confident-deposit",
   "metadata": {},
   "source": [
    "## Implementation of matrix-matrix product"
   ]
  },
  {
   "cell_type": "code",
   "execution_count": 35,
   "id": "continuous-involvement",
   "metadata": {},
   "outputs": [],
   "source": [
    "\"\"\"\n",
    "@param A: matrix represented by 2D-array\n",
    "@param B: matrix represented by 2D-array\n",
    "returns Ax\n",
    "\"\"\"\n",
    "def matrix_matrix_product(A, B):\n",
    "    nbLinesA = len(A)\n",
    "    nbColA = len(A[0])\n",
    "    \n",
    "    nbLinesB = len(B)\n",
    "    nbColB = len(B[0])\n",
    "    \n",
    "    # nbLinesA * nbColA X nbLinesB X nbColB\n",
    "    if nbColA != nbLinesB:\n",
    "        raise ValueError(\"Dimensions between A and B are not compatible for matrix matrix product\")\n",
    "    \n",
    "    ## reprendre ici\n",
    "    \n",
    "    result = []\n",
    "    for line in range(nbLinesA):\n",
    "        resultLine = []\n",
    "        for j in range(nbColB):\n",
    "            element_line_i = 0\n",
    "            for i in range(nbColA):\n",
    "                element_line_i += A[line][i]*B[i][j]\n",
    "            resultLine.append(element_line_i)\n",
    "        result.append(resultLine)\n",
    "    return result\n",
    "        \n",
    "### TESTS \n",
    "A = [[1, 2], \n",
    "     [2, 3], \n",
    "     [3, 4]]\n",
    "\n",
    "B = [[2, 3, 4],\n",
    "     [3, 4, 5]]\n",
    "\n",
    "# test final dimensions \n",
    "assert len(matrix_matrix_product(A,B)) == len(A)\n",
    "assert len(matrix_matrix_product(A,B)[0]) == len(B[0])\n",
    "\n",
    "# test result \n",
    "assert matrix_matrix_product(A,B) == [[8, 11, 14], [13, 18, 23], [18, 25, 32]]"
   ]
  },
  {
   "cell_type": "markdown",
   "id": "pressing-arabic",
   "metadata": {},
   "source": [
    "## Extra: Euclidian norm "
   ]
  },
  {
   "cell_type": "code",
   "execution_count": 37,
   "id": "seeing-merchandise",
   "metadata": {},
   "outputs": [],
   "source": [
    "\"\"\"\n",
    "@param x: a vector represented by a 1D-array\n",
    "\"\"\"\n",
    "def euclidian_norm(x):\n",
    "    result = 0\n",
    "    for i in range(len(x)):\n",
    "        result += x[i]**2\n",
    "    return result**(1/2)\n",
    "\n",
    "\n",
    "## TESTS\n",
    "assert euclidian_norm([0,3,4]) == 5\n",
    "assert euclidian_norm([1]) == 1    \n",
    "assert euclidian_norm([1]*100) == 10"
   ]
  }
 ],
 "metadata": {
  "kernelspec": {
   "display_name": "Python 3",
   "language": "python",
   "name": "python3"
  },
  "language_info": {
   "codemirror_mode": {
    "name": "ipython",
    "version": 3
   },
   "file_extension": ".py",
   "mimetype": "text/x-python",
   "name": "python",
   "nbconvert_exporter": "python",
   "pygments_lexer": "ipython3",
   "version": "3.8.7"
  },
  "toc": {
   "base_numbering": 1,
   "nav_menu": {},
   "number_sections": true,
   "sideBar": true,
   "skip_h1_title": false,
   "title_cell": "Table of Contents",
   "title_sidebar": "Contents",
   "toc_cell": false,
   "toc_position": {},
   "toc_section_display": true,
   "toc_window_display": false
  }
 },
 "nbformat": 4,
 "nbformat_minor": 5
}

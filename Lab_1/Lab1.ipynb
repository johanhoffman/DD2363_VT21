{
  "nbformat": 4,
  "nbformat_minor": 0,
  "metadata": {
    "colab": {
      "name": "Lab1.ipynb",
      "provenance": [],
      "collapsed_sections": [
        "OkT8J7uOWpT3"
      ],
      "include_colab_link": true
    },
    "kernelspec": {
      "name": "python3",
      "display_name": "Python 3"
    }
  },
  "cells": [
    {
      "cell_type": "markdown",
      "metadata": {
        "id": "view-in-github",
        "colab_type": "text"
      },
      "source": [
        "<a href=\"https://colab.research.google.com/github/johanhoffman/DD2363_VT21/blob/Diracturing/Lab_1/Lab1.ipynb\" target=\"_parent\"><img src=\"https://colab.research.google.com/assets/colab-badge.svg\" alt=\"Open In Colab\"/></a>"
      ]
    },
    {
      "cell_type": "markdown",
      "metadata": {
        "id": "6RgtXlfYO_i7"
      },
      "source": [
        "# **Lab 1: Title**\n",
        "**Julius Andersson**"
      ]
    },
    {
      "cell_type": "markdown",
      "metadata": {
        "id": "9x_J5FVuPzbm"
      },
      "source": [
        "# **Abstract**"
      ]
    },
    {
      "cell_type": "markdown",
      "metadata": {
        "id": "OkT8J7uOWpT3"
      },
      "source": [
        "#**About the code**"
      ]
    },
    {
      "cell_type": "markdown",
      "metadata": {
        "id": "HmB2noTr1Oyo"
      },
      "source": [
        "A short statement on who is the author of the file, and if the code is distributed under a certain license. "
      ]
    },
    {
      "cell_type": "code",
      "metadata": {
        "id": "Pdll1Xc9WP0e",
        "colab": {
          "base_uri": "https://localhost:8080/",
          "height": 35
        },
        "outputId": "23e05d72-0094-4ca0-e9b5-55eaf8ca1cf2"
      },
      "source": [
        "\"\"\"This program is a template for lab reports in the course\"\"\"\n",
        "\"\"\"DD2363 Methods in Scientific Computing, \"\"\"\n",
        "\"\"\"KTH Royal Institute of Technology, Stockholm, Sweden.\"\"\"\n",
        "\n",
        "# Copyright (C) 2020 Johan Hoffman (jhoffman@kth.se)\n",
        "\n",
        "# This file is part of the course DD2365 Advanced Computation in Fluid Mechanics\n",
        "# KTH Royal Institute of Technology, Stockholm, Sweden\n",
        "#\n",
        "# This is free software: you can redistribute it and/or modify\n",
        "# it under the terms of the GNU Lesser General Public License as published by\n",
        "# the Free Software Foundation, either version 3 of the License, or\n",
        "# (at your option) any later version.\n",
        "\n",
        "# This template is maintained by Johan Hoffman\n",
        "# Please report problems to jhoffman@kth.se"
      ],
      "execution_count": 1,
      "outputs": [
        {
          "output_type": "execute_result",
          "data": {
            "application/vnd.google.colaboratory.intrinsic+json": {
              "type": "string"
            },
            "text/plain": [
              "'KTH Royal Institute of Technology, Stockholm, Sweden.'"
            ]
          },
          "metadata": {
            "tags": []
          },
          "execution_count": 1
        }
      ]
    },
    {
      "cell_type": "markdown",
      "metadata": {
        "id": "28xLGz8JX3Hh"
      },
      "source": [
        "# **Set up environment**"
      ]
    },
    {
      "cell_type": "markdown",
      "metadata": {
        "id": "D2PYNusD08Wa"
      },
      "source": [
        "To have access to the neccessary modules you have to run this cell. If you need additional modules, this is where you add them. "
      ]
    },
    {
      "cell_type": "code",
      "metadata": {
        "id": "Xw7VlErAX7NS"
      },
      "source": [
        "# Load neccessary modules.\n",
        "from google.colab import files\n",
        "\n",
        "import time\n",
        "import numpy as np\n",
        "import random\n",
        "\n",
        "\n",
        "\n",
        "#try:\n",
        "#    from dolfin import *; from mshr import *\n",
        "#except ImportError as e:\n",
        "#    !apt-get install -y -qq software-properties-common \n",
        "#    !add-apt-repository -y ppa:fenics-packages/fenics\n",
        "#    !apt-get update -qq\n",
        "#    !apt install -y --no-install-recommends fenics\n",
        "#    from dolfin import *; from mshr import *\n",
        "    \n",
        "#import dolfin.common.plotting as fenicsplot\n",
        "\n",
        "from matplotlib import pyplot as plt\n",
        "from matplotlib import tri\n",
        "from matplotlib import axes\n",
        "from mpl_toolkits.mplot3d import Axes3D"
      ],
      "execution_count": 6,
      "outputs": []
    },
    {
      "cell_type": "markdown",
      "metadata": {
        "id": "gnO3lhAigLev"
      },
      "source": [
        "# **Introduction**"
      ]
    },
    {
      "cell_type": "markdown",
      "metadata": {
        "id": "E2XLieR81FVS"
      },
      "source": [
        "Not much to say. "
      ]
    },
    {
      "cell_type": "markdown",
      "metadata": {
        "id": "jOQvukXZq5U5"
      },
      "source": [
        "# **Method**"
      ]
    },
    {
      "cell_type": "markdown",
      "metadata": {
        "id": "SsQLT38gVbn_"
      },
      "source": [
        "# **Results**"
      ]
    },
    {
      "cell_type": "code",
      "metadata": {
        "id": "R2uyoUYxVeyz"
      },
      "source": [
        "def dot(x,y):\r\n",
        "  sum=0\r\n",
        "  for i in range(len(x)):\r\n",
        "    sum+=x[i]*y[i]\r\n",
        "  return sum\r\n",
        "\r\n",
        "\r\n",
        "#not used because special case already handled.\r\n",
        "def multAx(x,y):\r\n",
        "  z=np.zeros(len(x))\r\n",
        "  sum=0\r\n",
        "  for i in range(len(x)):\r\n",
        "    for j in range(len(x[0])):\r\n",
        "      sum+=x[i][j]*y[j]\r\n",
        "    z[i]=sum\r\n",
        "    sum=0\r\n",
        "  return z\r\n",
        "\r\n",
        "#works for both but need double brackets.\r\n",
        "def multAB(A,B):\r\n",
        "    C=[]\r\n",
        "    tmp=[]\r\n",
        "    sum=0\r\n",
        "    for i in range(len(A)):\r\n",
        "        for k in range(len(B[0])):\r\n",
        "            for j in range(len(A[0])):\r\n",
        "                sum=sum+A[i][j]*B[j][k]\r\n",
        "            tmp.append(sum)\r\n",
        "            sum=0\r\n",
        "        C.append(tmp)\r\n",
        "        tmp=[]\r\n",
        "    return C\r\n",
        "\r\n",
        "\r\n",
        "#test dot\r\n",
        "for i in range(100):\r\n",
        "  x=np.array([random.randint(0, 100),random.randint(0, 100)])\r\n",
        "  y=np.array([random.randint(0, 100),random.randint(0, 100)])\r\n",
        "  if(dot(x,y)!=np.dot(x,y)):\r\n",
        "    print(\"err\")\r\n",
        "\r\n",
        "#test Ax\r\n",
        "for i in range(100):\r\n",
        "  x=np.array([[random.randint(0, 100),random.randint(0, 100)],[random.randint(0, 100),random.randint(0, 100)]])\r\n",
        "  y=np.array([[random.randint(0, 100)],[random.randint(0, 100)]])\r\n",
        "  if(not (multAB(x,y)==np.matmul(x,y)).all()):\r\n",
        "    print(\"err\")\r\n",
        "\r\n",
        "#test AB\r\n",
        "for i in range(100):\r\n",
        "  x=np.array([[random.randint(0, 100),random.randint(0, 100)],[random.randint(0, 100),random.randint(0, 100)]])\r\n",
        "  y=np.array([[random.randint(0, 100),random.randint(0, 100)],[random.randint(0, 100),random.randint(0, 100)]])\r\n",
        "  if(not (multAB(x,y)==np.matmul(x,y)).all()):\r\n",
        "    print(\"err\")\r\n"
      ],
      "execution_count": 29,
      "outputs": []
    },
    {
      "cell_type": "markdown",
      "metadata": {
        "id": "_4GLBv0zWr7m"
      },
      "source": [
        "# **Discussion**"
      ]
    },
    {
      "cell_type": "markdown",
      "metadata": {
        "id": "1vcIILuQYsEA"
      },
      "source": [
        "# **APPENDIX**"
      ]
    }
  ]
}
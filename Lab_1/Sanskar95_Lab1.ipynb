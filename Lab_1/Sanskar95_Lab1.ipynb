{
  "nbformat": 4,
  "nbformat_minor": 0,
  "metadata": {
    "colab": {
      "name": "Sanskar_Gupta_Lab1.ipynb",
      "provenance": [],
      "collapsed_sections": []
    },
    "kernelspec": {
      "name": "python3",
      "display_name": "Python 3"
    }
  },
  "cells": [
    {
      "cell_type": "markdown",
      "metadata": {
        "id": "6RgtXlfYO_i7"
      },
      "source": [
        "# **Lab 1: Matrix and Vector operations**\n",
        "**Sanskar Gupta**"
      ]
    },
    {
      "cell_type": "markdown",
      "metadata": {
        "id": "9x_J5FVuPzbm"
      },
      "source": [
        "# **Abstract**"
      ]
    },
    {
      "cell_type": "markdown",
      "metadata": {
        "id": "6UFTSzW7P8kL"
      },
      "source": [
        "The following report contains some basic matrix and vector operarixtions such as scalar product , matrix vector product, matrix matrix product and euclidian norm and distance as part of stretch assignment.\n",
        "For every operation a classical method is implemented with its corresponding test case which asserts the expected value generated usng numpy with the value returned by the classical method."
      ]
    },
    {
      "cell_type": "markdown",
      "metadata": {
        "id": "OkT8J7uOWpT3"
      },
      "source": [
        "#**About the code**"
      ]
    },
    {
      "cell_type": "code",
      "metadata": {
        "id": "Pdll1Xc9WP0e",
        "colab": {
          "base_uri": "https://localhost:8080/",
          "height": 35
        },
        "outputId": "bee49972-b280-4643-d99e-6d6c8f63706b"
      },
      "source": [
        "\"\"\"DD2363 Methods in Scientific Computing, \"\"\"\n",
        "\"\"\"KTH Royal Institute of Technology, Stockholm, Sweden.\"\"\"\n",
        "\n",
        "# Copyright (C) 2021 Sanskar Gupta (sanskar@kth.se)\n",
        "\n",
        "# This file is part of the course DD2363 Methods in Scientific Computing\n",
        "# KTH Royal Institute of Technology, Stockholm, Sweden\n",
        "#\n",
        "# This is free software: you can redistribute it and/or modify\n",
        "# it under the terms of the GNU Lesser General Public License as published by\n",
        "# the Free Software Foundation, either version 3 of the License, or\n",
        "# (at your option) any later version."
      ],
      "execution_count": 7,
      "outputs": [
        {
          "output_type": "execute_result",
          "data": {
            "application/vnd.google.colaboratory.intrinsic+json": {
              "type": "string"
            },
            "text/plain": [
              "'KTH Royal Institute of Technology, Stockholm, Sweden.'"
            ]
          },
          "metadata": {
            "tags": []
          },
          "execution_count": 7
        }
      ]
    },
    {
      "cell_type": "markdown",
      "metadata": {
        "id": "28xLGz8JX3Hh"
      },
      "source": [
        "# **Setting up the environment**"
      ]
    },
    {
      "cell_type": "markdown",
      "metadata": {
        "id": "D2PYNusD08Wa"
      },
      "source": [
        "To have access to the neccessary modules you have to run this cell. If you need additional modules, this is where you add them. "
      ]
    },
    {
      "cell_type": "code",
      "metadata": {
        "id": "Xw7VlErAX7NS"
      },
      "source": [
        "# Load neccessary modules.\n",
        "from google.colab import files\n",
        "\n",
        "import time\n",
        "import numpy as np\n",
        "import math\n",
        "\n",
        "from matplotlib import pyplot as plt\n",
        "from matplotlib import tri\n",
        "from matplotlib import axes\n",
        "from mpl_toolkits.mplot3d import Axes3D"
      ],
      "execution_count": 39,
      "outputs": []
    },
    {
      "cell_type": "markdown",
      "metadata": {
        "id": "gnO3lhAigLev"
      },
      "source": [
        "# **Introduction**"
      ]
    },
    {
      "cell_type": "markdown",
      "metadata": {
        "id": "l5zMzgPlRAF6"
      },
      "source": [
        "Some of the basic operations on vectors and matrices, using their corresponding definition are implemented in this notebook"
      ]
    },
    {
      "cell_type": "markdown",
      "metadata": {
        "id": "WeFO9QMeUOAu"
      },
      "source": [
        "# **Operations**"
      ]
    },
    {
      "cell_type": "markdown",
      "metadata": {
        "id": "tCXoHwXia6IE"
      },
      "source": [
        "## ***Scalar Product***\n",
        "Given two real vectors $x,y\\in \\mathbb{R}^n$, we define the scalar product as\n"
      ]
    },
    {
      "cell_type": "markdown",
      "metadata": {
        "id": "b1UnpuIdbGUQ"
      },
      "source": [
        "$x * y = \\sum_{i=1}^n x_i y_i, x,y \\in \\mathbb{R}^n$"
      ]
    },
    {
      "cell_type": "markdown",
      "metadata": {
        "id": "LhKoVaWebzKO"
      },
      "source": [
        "### Function\n"
      ]
    },
    {
      "cell_type": "code",
      "metadata": {
        "id": "Mob4iWiabpZD"
      },
      "source": [
        "def scalarProduct(x,y):\n",
        "    if(x.ndim != 1):\n",
        "        return \"Error: x is not a vector with dimension as 1\"\n",
        "    if(y.ndim != 1):\n",
        "        return \"Error: y is not a vector with dimension as 1\"\n",
        "    if x.shape[0]!=y.shape[0]:\n",
        "      return \"Error: x and y do not have the same dimension\"\n",
        "    else:\n",
        "      dimension=x.shape[0]\n",
        "      sum = 0\n",
        "      for i in range(dimension):\n",
        "          sum += x[i]*y[i]\n",
        "      return sum"
      ],
      "execution_count": 21,
      "outputs": []
    },
    {
      "cell_type": "markdown",
      "metadata": {
        "id": "FWaQDhyKb7BP"
      },
      "source": [
        "### Test\n"
      ]
    },
    {
      "cell_type": "code",
      "metadata": {
        "id": "LuL-MILXb-e2"
      },
      "source": [
        "def testScalarProduct():\n",
        "  print(\"Testing scalar product\")\n",
        "  vector1 = np.random.randint(10,size=250)\n",
        "  vector2 = np.random.randint(10,size=250)\n",
        "  result = scalarProduct(vector1,vector2)\n",
        "  epectedSolution = np.dot(vector1,vector2)\n",
        "  assert np.array_equal(result,epectedSolution) == True, \"Value mismatch in scalar product\"\n"
      ],
      "execution_count": 22,
      "outputs": []
    },
    {
      "cell_type": "markdown",
      "metadata": {
        "id": "RGhksm9CcC8d"
      },
      "source": [
        "## ***Matrix-Vector Product***\r\n",
        "Given a real matrix $A\\in \\mathbb{R}^{m*n}$ and a real vector $x\\in \\mathbb{R}^n$, we define the product $Ax=y$"
      ]
    },
    {
      "cell_type": "markdown",
      "metadata": {
        "id": "Hv3_XYnTcUVt"
      },
      "source": [
        "$Ax = y, A\\in \\mathbb{R}^{m \\times n}, x \\in \\mathbb{R}^n$\n",
        "\n",
        "$y_{ij} =\\sum_{j=1}^n a_{ij} x_j$"
      ]
    },
    {
      "cell_type": "markdown",
      "metadata": {
        "id": "RXyWVOvichWv"
      },
      "source": [
        "### Function\n"
      ]
    },
    {
      "cell_type": "code",
      "metadata": {
        "id": "9a3q9KNBckeK"
      },
      "source": [
        "def matrixVectorProduct(A,x):\n",
        "    if(x.ndim != 1):\n",
        "        return \"Error: x is not a vector with dimension as 1\"\n",
        "    numberOfRowsX = x.shape[0]\n",
        "    if(A.shape[1] != numberOfRowsX):\n",
        "        return \"Row size of matrix and vector do not match\"\n",
        "    dimensionA = A.shape[0]\n",
        "    resultY = np.zeros(dimensionA)\n",
        "    for i in range(dimensionA):\n",
        "        for j in range(numberOfRowsX):\n",
        "            resultY[i] += A[i,j]*x[j]\n",
        "    return resultY"
      ],
      "execution_count": 33,
      "outputs": []
    },
    {
      "cell_type": "markdown",
      "metadata": {
        "id": "gu3XVGB2cpIw"
      },
      "source": [
        "### Test"
      ]
    },
    {
      "cell_type": "code",
      "metadata": {
        "id": "LAWbhB08cuyP"
      },
      "source": [
        "def testMatrixVectorProduct():\n",
        "    print(\"Testing matrix vector product\")\n",
        "    x = np.random.randint(100,size=500)\n",
        "    A = np.random.randint(100,size=(500,500))\n",
        "    result = matrixVectorProduct(A,x)\n",
        "    solution = np.dot(A,x)\n",
        "    assert np.array_equal(result,solution) == True, \"Value mismatch in matrix vector product\""
      ],
      "execution_count": 24,
      "outputs": []
    },
    {
      "cell_type": "markdown",
      "metadata": {
        "id": "7ZdHstEVczYT"
      },
      "source": [
        "## **Matrix-Matrix Product**\n",
        "\n",
        "Given two real matrices $A\\in \\mathbb{R}^{m\\times l}$ and $B\\in \\mathbb{R}^{l\\times n}$, we define the product $AB=C$\n"
      ]
    },
    {
      "cell_type": "markdown",
      "metadata": {
        "id": "_uSgs4x9c91R"
      },
      "source": [
        "$AB = C, A\\in \\mathbb{R}^{m\\times l} B\\in \\mathbb{R}^{l\\times n}$\n",
        "\n",
        "$c_{ij} = \\sum_{k=1}^l a_{ik}b_{kj}$"
      ]
    },
    {
      "cell_type": "markdown",
      "metadata": {
        "id": "w_5Xa-7idEnA"
      },
      "source": [
        "###Function\n"
      ]
    },
    {
      "cell_type": "code",
      "metadata": {
        "id": "WasTWNeDdIdS"
      },
      "source": [
        "def matrixMatrixProduct(A,B):\n",
        "    rowSizeA = A.shape[0]\n",
        "    columnSizeA = A.shape[1]\n",
        "    rowSizeB = B.shape[0]\n",
        "    columnSizeB = B.shape[1]\n",
        "    \n",
        "    if(columnSizeA != rowSizeB):\n",
        "        return \"The input matrices are not compatible for product\"\n",
        "\n",
        "    productMatrix = np.zeros((rowSizeA,columnSizeB))\n",
        "    for i in range(rowSizeA):\n",
        "        for j in range(columnSizeB):\n",
        "            for k in range(columnSizeA):\n",
        "                productMatrix[i,j]+=A[i,k]*B[k,j]\n",
        "    return productMatrix"
      ],
      "execution_count": 35,
      "outputs": []
    },
    {
      "cell_type": "markdown",
      "metadata": {
        "id": "KdOYMcJSdMNJ"
      },
      "source": [
        "### Test"
      ]
    },
    {
      "cell_type": "code",
      "metadata": {
        "id": "tNvt18ZAdSKA"
      },
      "source": [
        "def testMatrixMatrixProduct():\n",
        "    print(\"Testing matrix matrix product\")\n",
        "    A = np.random.randint(10,size=(9,500))\n",
        "    B =  np.random.randint(10,size=(500,1000))\n",
        "    result = matrixMatrixProduct(A,B)\n",
        "    solution = np.dot(A,B)\n",
        "    assert np.array_equal(result,solution) == True, \"Value mismatch in matrix matrix product\""
      ],
      "execution_count": 37,
      "outputs": []
    },
    {
      "cell_type": "markdown",
      "metadata": {
        "id": "h9fupMpGeRAW"
      },
      "source": [
        "### ***Euclidian norm***\n",
        "\n",
        "Given a real vector $x\\in \\mathbb{R}^n$, euclidian norm of x i defined as:\n"
      ]
    },
    {
      "cell_type": "markdown",
      "metadata": {
        "id": "7KL4tkp4e--l"
      },
      "source": [
        "$||x||_2 = ({x_1}^2 +...+{x_n}^2)^{1/2}$"
      ]
    },
    {
      "cell_type": "markdown",
      "metadata": {
        "id": "_iPwhV5BeWAm"
      },
      "source": [
        "## Function\n",
        "\n",
        "\n"
      ]
    },
    {
      "cell_type": "code",
      "metadata": {
        "id": "Jx76u1kxeb-p"
      },
      "source": [
        "def euclidianNorm(x):\n",
        "    if(x.ndim != 1):\n",
        "        return \"Error: x is not a vector with dimension as 1\"\n",
        "    result = 0\n",
        "    for i in x:\n",
        "        result += i*i\n",
        "    result = math.sqrt(result)\n",
        "    return result"
      ],
      "execution_count": 27,
      "outputs": []
    },
    {
      "cell_type": "markdown",
      "metadata": {
        "id": "BdOIcx2ceZ7r"
      },
      "source": [
        "## Test"
      ]
    },
    {
      "cell_type": "code",
      "metadata": {
        "id": "WII6YyEaefpN"
      },
      "source": [
        "def testEuclidianNorm():\n",
        "    print(\"Testing euclidian norm\")\n",
        "    x = np.random.randint(10,size=500)\n",
        "    result = euclidianNorm(x)\n",
        "    solution = np.linalg.norm(x)\n",
        "    assert np.array_equal(result,solution) == True, \"Value mismatch in euclidian norm\""
      ],
      "execution_count": 28,
      "outputs": []
    },
    {
      "cell_type": "markdown",
      "metadata": {
        "id": "410HfqYAekKU"
      },
      "source": [
        "## Euclidian distance\r\n",
        "Given two real vectors $x,y\\in \\mathbb{R}^n$,euclidian distance is defined as $d(x,y)=||x-y||_2$"
      ]
    },
    {
      "cell_type": "markdown",
      "metadata": {
        "id": "ACeA0FgOfC1W"
      },
      "source": [
        "$d(x,y) = ||x-y||_2$"
      ]
    },
    {
      "cell_type": "markdown",
      "metadata": {
        "id": "ZxZzIwd9exSC"
      },
      "source": [
        "### Function"
      ]
    },
    {
      "cell_type": "code",
      "metadata": {
        "id": "Xg-GxFeAesNJ"
      },
      "source": [
        "def euclidianDistance(x,y):\n",
        "    if(x.ndim != 1):\n",
        "        return \"Error: x is not a vector with dimension as 1\"\n",
        "    if(y.ndim != 1):\n",
        "        return \"Error: y is not a vector with dimension as 1\"\n",
        "    dimensionX = x.shape[0]\n",
        "    if dimensionX != y.shape[0]:\n",
        "        return \"x and y do not hav the same size ,hence not copatible for euclidian distance\"\n",
        "    else:\n",
        "       result = np.copy(x) # to prevent modification due to the same reference\n",
        "       for i in range(dimensionX):\n",
        "           result[i] -= y[i];\n",
        "       result = euclidianNorm(result)\n",
        "       return result"
      ],
      "execution_count": 30,
      "outputs": []
    },
    {
      "cell_type": "markdown",
      "metadata": {
        "id": "FZWAsl69e0Ze"
      },
      "source": [
        "### Test"
      ]
    },
    {
      "cell_type": "code",
      "metadata": {
        "id": "K0MDCzONe3Jm"
      },
      "source": [
        "def testEuclidianDistance():\n",
        "        print(\"Testing euclidian distance\")\n",
        "        x = np.random.randint(100,size=500)\n",
        "        y = np.random.randint(100,size=500)\n",
        "        result = euclidianDistance(x,y)\n",
        "        soluce = np.linalg.norm(x-y)\n",
        "        assert np.array_equal(result,soluce) == True, \"Value mismatch in euclidian distance\""
      ],
      "execution_count": 41,
      "outputs": []
    },
    {
      "cell_type": "markdown",
      "metadata": {
        "id": "SsQLT38gVbn_"
      },
      "source": [
        "# **Results**"
      ]
    },
    {
      "cell_type": "code",
      "metadata": {
        "id": "9txmuf75fggE",
        "colab": {
          "base_uri": "https://localhost:8080/"
        },
        "outputId": "1bd03736-5301-4730-a346-35bc6c3e68df"
      },
      "source": [
        "if __name__== \"__main__\":\n",
        "    testScalarProduct()\n",
        "    testMatrixVectorProduct()\n",
        "    testMatrixMatrixProduct()\n",
        "    testEuclidianNorm()\n",
        "    testEuclidianDistance()\n",
        "    print (\"All Tests Succeed\")"
      ],
      "execution_count": 42,
      "outputs": [
        {
          "output_type": "stream",
          "text": [
            "Testing scalar product\n",
            "Testing matrix vector product\n",
            "Testing matrix matrix product\n",
            "Testing euclidian norm\n",
            "Testing euclidian distance\n",
            "All Tests Succeed\n"
          ],
          "name": "stdout"
        }
      ]
    }
  ]
}
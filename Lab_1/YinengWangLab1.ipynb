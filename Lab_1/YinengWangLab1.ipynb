{
  "nbformat": 4,
  "nbformat_minor": 0,
  "metadata": {
    "colab": {
      "name": "YinengWangLab1.ipynb",
      "provenance": [],
      "collapsed_sections": [],
      "include_colab_link": true
    },
    "kernelspec": {
      "name": "python3",
      "display_name": "Python 3"
    }
  },
  "cells": [
    {
      "cell_type": "markdown",
      "metadata": {
        "id": "view-in-github",
        "colab_type": "text"
      },
      "source": [
        "<a href=\"https://colab.research.google.com/github/johanhoffman/DD2363_VT21/blob/YinengWang/Lab_1/YinengWangLab1.ipynb\" target=\"_parent\"><img src=\"https://colab.research.google.com/assets/colab-badge.svg\" alt=\"Open In Colab\"/></a>"
      ]
    },
    {
      "cell_type": "markdown",
      "metadata": {
        "id": "6RgtXlfYO_i7"
      },
      "source": [
        "# **Lab 1: Introduction**\n",
        "**Yineng Wang**"
      ]
    },
    {
      "cell_type": "markdown",
      "metadata": {
        "id": "9x_J5FVuPzbm"
      },
      "source": [
        "# **Abstract**"
      ]
    },
    {
      "cell_type": "markdown",
      "metadata": {
        "id": "yJipbXtnjrJZ"
      },
      "source": [
        "This laboratory implements several fundamental operations in linear algebra: scalar product, matrix-vector product, matrix-matrix product, Euclidean norm and Euclidean distance, and carries out tests to check the correctness of the implementations."
      ]
    },
    {
      "cell_type": "markdown",
      "metadata": {
        "id": "OkT8J7uOWpT3"
      },
      "source": [
        "#**About the code**"
      ]
    },
    {
      "cell_type": "code",
      "metadata": {
        "id": "Pdll1Xc9WP0e"
      },
      "source": [
        "# Copyright (C) 2021 Yineng Wang (yineng@kth.se)\n",
        "\n",
        "# This file is part of the course DD2365 Advanced Computation in Fluid Mechanics\n",
        "# KTH Royal Institute of Technology, Stockholm, Sweden\n",
        "#\n",
        "# This is free software: you can redistribute it and/or modify\n",
        "# it under the terms of the GNU Lesser General Public License as published by\n",
        "# the Free Software Foundation, either version 3 of the License, or\n",
        "# (at your option) any later version.\n",
        "\n",
        "# This template is maintained by Johan Hoffman\n",
        "# Please report problems to jhoffman@kth.se"
      ],
      "execution_count": null,
      "outputs": []
    },
    {
      "cell_type": "markdown",
      "metadata": {
        "id": "28xLGz8JX3Hh"
      },
      "source": [
        "# **Set up environment**"
      ]
    },
    {
      "cell_type": "markdown",
      "metadata": {
        "id": "D2PYNusD08Wa"
      },
      "source": [
        "To have access to the neccessary modules you have to run this cell."
      ]
    },
    {
      "cell_type": "code",
      "metadata": {
        "id": "Xw7VlErAX7NS"
      },
      "source": [
        "import math\n",
        "import random\n",
        "from random import gauss\n",
        "import unittest\n",
        "\n",
        "import numpy as np\n",
        "from scipy.spatial import distance\n",
        "\n",
        "random.seed(0)"
      ],
      "execution_count": null,
      "outputs": []
    },
    {
      "cell_type": "markdown",
      "metadata": {
        "id": "gnO3lhAigLev"
      },
      "source": [
        "# **Introduction**"
      ]
    },
    {
      "cell_type": "markdown",
      "metadata": {
        "id": "TLfCq705dDSw"
      },
      "source": [
        "This laboratory implements the following five operations in linear algebra: scalar product, matrix-vector product, matrix-matrix product, Euclidean norm and Euclidean distance. The implementations are based on the lecture notes."
      ]
    },
    {
      "cell_type": "markdown",
      "metadata": {
        "id": "jOQvukXZq5U5"
      },
      "source": [
        "# **Method**"
      ]
    },
    {
      "cell_type": "markdown",
      "metadata": {
        "id": "zF4iBj5VURZx"
      },
      "source": [
        "The implementations use Python's built-in list to represent objects in linear algebra (vectors and matrices)."
      ]
    },
    {
      "cell_type": "markdown",
      "metadata": {
        "id": "sJK2WF6VeAMz"
      },
      "source": [
        "## 1. Scalar product"
      ]
    },
    {
      "cell_type": "markdown",
      "metadata": {
        "id": "fIqi5A7_eOsZ"
      },
      "source": [
        "The scalar product of two vectors $x, y \\in R^n$ is defined as\n",
        "\n",
        "$(x, y) = \\sum_{i=1}^n x_i y_i$."
      ]
    },
    {
      "cell_type": "code",
      "metadata": {
        "id": "SFc13jndg7up"
      },
      "source": [
        "def scalar_product(x, y):\n",
        "    if len(x) != len(y):\n",
        "        raise ValueError(\"The shapes of x and y are not aligned.\")\n",
        "    return sum(xi * yi for xi, yi in zip(x, y))"
      ],
      "execution_count": null,
      "outputs": []
    },
    {
      "cell_type": "markdown",
      "metadata": {
        "id": "08T2_XrqeB7O"
      },
      "source": [
        "## 2. Matrix-vector product"
      ]
    },
    {
      "cell_type": "markdown",
      "metadata": {
        "id": "SO8_gJjYeWwv"
      },
      "source": [
        "The product of a matrix $A = (a_{ij}) \\in R^{m \\times n}$ and a vector $x \\in R^n$ is a vector $b \\in R^m$.\n",
        "\n",
        "Each component of $b$, $b_i$, is the scalar product of $A$'s row vector $a_{i:}$ and $x$."
      ]
    },
    {
      "cell_type": "code",
      "metadata": {
        "id": "9qOmh9l2eEu7"
      },
      "source": [
        "def mat_vec_product(A, x):\n",
        "    m, n = len(A), len(A[0])\n",
        "    if len(x) != n:\n",
        "        raise ValueError(\"The shapes of A and x are not aligned.\")\n",
        "    return [scalar_product(a, x) for a in A]"
      ],
      "execution_count": null,
      "outputs": []
    },
    {
      "cell_type": "markdown",
      "metadata": {
        "id": "rl4MTrmgeFPB"
      },
      "source": [
        "## 3. Matrix-matrix product"
      ]
    },
    {
      "cell_type": "markdown",
      "metadata": {
        "id": "AM7C8awCfppL"
      },
      "source": [
        "The product of a matrix $A = (a_{ij}) \\in R^{m \\times n}$ and $B = (b_{ij}) \\in R^{n \\times p}$ is a matrix $C = (c_{ij}) \\in R^{m \\times p}$, where $c_{ij} = \\sum_{k=1}^n a_{ik} b_{kj}$."
      ]
    },
    {
      "cell_type": "code",
      "metadata": {
        "id": "qJEZhSpDfwy7"
      },
      "source": [
        "def mat_mat_product(A, B):\n",
        "    m, n, p = len(A), len(A[0]), len(B[0])\n",
        "    if len(B) != n:\n",
        "        raise ValueError(\"The shapes of A and B are not aligned.\")\n",
        "    C = [[0 for _ in range(p)] for __ in range(m)]\n",
        "    for i in range(m):\n",
        "        for j in range(p):\n",
        "            for k in range(n):\n",
        "                C[i][j] += A[i][k] * B[k][j]\n",
        "    return C"
      ],
      "execution_count": null,
      "outputs": []
    },
    {
      "cell_type": "markdown",
      "metadata": {
        "id": "H-CpUdL2eHYv"
      },
      "source": [
        "## 4. Euclidean norm"
      ]
    },
    {
      "cell_type": "markdown",
      "metadata": {
        "id": "JbjVZTPegVNq"
      },
      "source": [
        "The Euclidean norm of a vector $x \\in R^n$ is defined as\n",
        "\n",
        "$\\Vert x \\Vert = (x, x)^{1/2} = \\sqrt{\\sum_{i=1}^n x_i^2}$."
      ]
    },
    {
      "cell_type": "code",
      "metadata": {
        "id": "omIvaN8Xh8rg"
      },
      "source": [
        "def euclidean_norm(x):\n",
        "    return math.sqrt(scalar_product(x, x))"
      ],
      "execution_count": null,
      "outputs": []
    },
    {
      "cell_type": "markdown",
      "metadata": {
        "id": "D7n3vWlqeMgQ"
      },
      "source": [
        "## 5. Euclidean distance"
      ]
    },
    {
      "cell_type": "markdown",
      "metadata": {
        "id": "GgFbxU7_gVr9"
      },
      "source": [
        "The Euclidean distance between two vectors $x, y \\in R^n$ is defined as\n",
        "\n",
        "$d(x, y) = \\Vert x - y \\Vert = \\sqrt{\\sum_{i=1}^n (x_i - y_i)^2}$."
      ]
    },
    {
      "cell_type": "code",
      "metadata": {
        "id": "lMgMnwnfiH5i"
      },
      "source": [
        "def euclidean_distance(x, y):\n",
        "    if len(x) != len(y):\n",
        "        raise ValueError(\"The shape of x and y are not aligned.\")\n",
        "    return euclidean_norm([xi - yi for xi, yi in zip(x, y)])"
      ],
      "execution_count": null,
      "outputs": []
    },
    {
      "cell_type": "markdown",
      "metadata": {
        "id": "SsQLT38gVbn_"
      },
      "source": [
        "# **Results**"
      ]
    },
    {
      "cell_type": "markdown",
      "metadata": {
        "id": "RLwlnOzuV-Cd"
      },
      "source": [
        "The tests are carried out in Python's `unittest` framework. The NumPy's implmentations are used as a comparison to make sure the results are correct. Specially, SciPy's impmentation of Euclidean distance is used. The test for each function consists of a case for small objects plus a case for large objects (vectors and matrices with more than 10,000 components).\n",
        "\n",
        "Since there might be round-off errors, NumPy's `assert_almost_equal` is used, which checks up to 7 decimals by default, instead of `assert_equal`."
      ]
    },
    {
      "cell_type": "markdown",
      "metadata": {
        "id": "hagYqNaTi1EY"
      },
      "source": [
        "## 1. Scalar product"
      ]
    },
    {
      "cell_type": "code",
      "metadata": {
        "id": "uy4KR_dxj7j_"
      },
      "source": [
        "class TestScalarProduct(unittest.TestCase):\n",
        "    def test_unaligned_input(self):\n",
        "        x, y = [1, 2], [1, 2, 3]\n",
        "        np.testing.assert_raises(ValueError, scalar_product, x, y)\n",
        "\n",
        "    def test_small(self):\n",
        "        x, y = [1.3, -2.2, 0], [4.214, 5, -6.9983]\n",
        "        p1 = scalar_product(x, y)\n",
        "        p2 = np.dot(x, y)\n",
        "        np.testing.assert_almost_equal(p1, p2)\n",
        "\n",
        "    def test_large(self):\n",
        "        x = [gauss(0, 1) for _ in range(10000)]\n",
        "        y = [gauss(0, 1) for _ in range(10000)]\n",
        "        p1 = scalar_product(x, y)\n",
        "        p2 = np.dot(x, y)\n",
        "        np.testing.assert_almost_equal(p1, p2)"
      ],
      "execution_count": null,
      "outputs": []
    },
    {
      "cell_type": "markdown",
      "metadata": {
        "id": "Pg6G84VqjN3V"
      },
      "source": [
        "## 2. Matrix-vector product"
      ]
    },
    {
      "cell_type": "code",
      "metadata": {
        "id": "WCoarfqulJkn"
      },
      "source": [
        "class TestMatVecProduct(unittest.TestCase):\n",
        "    def test_unaligned_input(self):\n",
        "        A, x = [[0, 1], [1, 0], [1, 0]], [1, 2, 3]\n",
        "        np.testing.assert_raises(ValueError, mat_vec_product, A, x)\n",
        "\n",
        "    def test_small(self):\n",
        "        A, x = [[0.3, 5, -1.4], [6.2, 0, -3.9]], [-2.3, 6, -0.99]\n",
        "        p1 = mat_vec_product(A, x)\n",
        "        p2 = np.dot(A, x)\n",
        "        np.testing.assert_almost_equal(p1, p2)\n",
        "\n",
        "    def test_large(self):\n",
        "        A = [[gauss(0, 1) for _ in range(10000)] for __ in range(100)]\n",
        "        x = [gauss(0, 1) for _ in range(10000)]\n",
        "        p1 = mat_vec_product(A, x)\n",
        "        p2 = np.dot(A, x)\n",
        "        np.testing.assert_almost_equal(p1, p2)"
      ],
      "execution_count": null,
      "outputs": []
    },
    {
      "cell_type": "markdown",
      "metadata": {
        "id": "ZX8OwtzYjP6J"
      },
      "source": [
        "## 3. Matrix-matrix product"
      ]
    },
    {
      "cell_type": "code",
      "metadata": {
        "id": "jWxALvyqmzIy"
      },
      "source": [
        "class TestMatMatProduct(unittest.TestCase):\n",
        "    def test_unaligned_input(self):\n",
        "        A = [[0, 1], [1, 2], [2, 3]]\n",
        "        B = [[1], [2], [3]]\n",
        "        np.testing.assert_raises(ValueError, mat_mat_product, A, B)\n",
        "\n",
        "    def test_small(self):\n",
        "        A = [[3, 4.5, 7.91], [-6.05, 0.1, 9.53]]\n",
        "        B = [[3.17, 0], [4.3, -2.7], [-1.333, -9.82]]\n",
        "        p1 = mat_mat_product(A, B)\n",
        "        p2 = np.dot(A, B)\n",
        "        np.testing.assert_almost_equal(p1, p2)\n",
        "\n",
        "    def test_large(self):\n",
        "        A = [[gauss(0, 1) for _ in range(100)] for __ in range(200)]\n",
        "        B = [[gauss(0, 1) for _ in range(500)] for __ in range(100)]\n",
        "        p1 = mat_mat_product(A, B)\n",
        "        p2 = np.dot(A, B)\n",
        "        np.testing.assert_almost_equal(p1, p2)"
      ],
      "execution_count": null,
      "outputs": []
    },
    {
      "cell_type": "markdown",
      "metadata": {
        "id": "dFDjLiRQjSA1"
      },
      "source": [
        "## 4. Euclidean norm"
      ]
    },
    {
      "cell_type": "code",
      "metadata": {
        "id": "0rAban7poDht"
      },
      "source": [
        "class TestEuclideanNorm(unittest.TestCase):\n",
        "    def test_small(self):\n",
        "        x = [1, 0, 0, 6, 0]\n",
        "        n1 = euclidean_norm(x)\n",
        "        n2 = np.linalg.norm(x)\n",
        "        np.testing.assert_almost_equal(n1, n2)\n",
        "\n",
        "    def test_large(self):\n",
        "        x = [gauss(0, 1) for _ in range(10000)]\n",
        "        n1 = euclidean_norm(x)\n",
        "        n2 = np.linalg.norm(x)\n",
        "        np.testing.assert_almost_equal(n1, n2)"
      ],
      "execution_count": null,
      "outputs": []
    },
    {
      "cell_type": "markdown",
      "metadata": {
        "id": "gmCj_z_Ij4oi"
      },
      "source": [
        "## 5. Euclidean distance"
      ]
    },
    {
      "cell_type": "code",
      "metadata": {
        "id": "fz5V2cKGof61"
      },
      "source": [
        "class TestEuclideanDistance(unittest.TestCase):\n",
        "    def test_unaligned_input(self):\n",
        "        x, y = [1, 2], [1, 2, 3]\n",
        "        np.testing.assert_raises(ValueError, euclidean_distance, x, y)\n",
        "\n",
        "    def test_small(self):\n",
        "        x, y = [1, 4, -2.3, 0], [0, 7.4, 1.94, 4.02]\n",
        "        d1 = euclidean_distance(x, y)\n",
        "        d2 = distance.euclidean(x, y)\n",
        "        np.testing.assert_almost_equal(d1, d2)\n",
        "    \n",
        "    def test_large(self):\n",
        "        x = [gauss(0, 1) for _ in range(10000)]\n",
        "        y = [gauss(0, 1) for _ in range(10000)]\n",
        "        d1 = euclidean_distance(x, y)\n",
        "        d2 = distance.euclidean(x, y)\n",
        "        np.testing.assert_almost_equal(d1, d2)"
      ],
      "execution_count": null,
      "outputs": []
    },
    {
      "cell_type": "markdown",
      "metadata": {
        "id": "BKkAmJfCpZ7P"
      },
      "source": [
        "## Conduct the tests"
      ]
    },
    {
      "cell_type": "code",
      "metadata": {
        "colab": {
          "base_uri": "https://localhost:8080/"
        },
        "id": "w4Ff6ZPepcjr",
        "outputId": "7133f903-9a02-4d37-8e44-d41bb05d3ee5"
      },
      "source": [
        "if __name__ == '__main__':\n",
        "    unittest.main(argv=['no_arg'], exit=False)"
      ],
      "execution_count": null,
      "outputs": [
        {
          "output_type": "stream",
          "text": [
            "..............\n",
            "----------------------------------------------------------------------\n",
            "Ran 14 tests in 2.932s\n",
            "\n",
            "OK\n"
          ],
          "name": "stderr"
        }
      ]
    },
    {
      "cell_type": "markdown",
      "metadata": {
        "id": "_4GLBv0zWr7m"
      },
      "source": [
        "# **Discussion**"
      ]
    },
    {
      "cell_type": "markdown",
      "metadata": {
        "id": "6bcsDSoRXHZe"
      },
      "source": [
        "All testing cases are passed. The results are expected, under the assumption that round-off errors less than or equal to 8 decimals are tolerated."
      ]
    }
  ]
}
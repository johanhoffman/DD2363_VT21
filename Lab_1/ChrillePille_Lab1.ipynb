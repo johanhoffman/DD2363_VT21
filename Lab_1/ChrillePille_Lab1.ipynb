{
  "nbformat": 4,
  "nbformat_minor": 0,
  "metadata": {
    "colab": {
      "name": "ChrillePille_Lab1.ipynb",
      "provenance": [],
      "collapsed_sections": [],
      "include_colab_link": true
    },
    "kernelspec": {
      "name": "python3",
      "display_name": "Python 3"
    }
  },
  "cells": [
    {
      "cell_type": "markdown",
      "metadata": {
        "id": "view-in-github",
        "colab_type": "text"
      },
      "source": [
        "<a href=\"https://colab.research.google.com/github/johanhoffman/DD2363_VT21/blob/ChrillePille/Lab_1/ChrillePille_Lab1.ipynb\" target=\"_parent\"><img src=\"https://colab.research.google.com/assets/colab-badge.svg\" alt=\"Open In Colab\"/></a>"
      ]
    },
    {
      "cell_type": "markdown",
      "metadata": {
        "id": "6RgtXlfYO_i7"
      },
      "source": [
        "# **Lab 1: Introduction**\n",
        "**Christian Weigelt**"
      ]
    },
    {
      "cell_type": "markdown",
      "metadata": {
        "id": "9x_J5FVuPzbm"
      },
      "source": [
        "# **Abstract**"
      ]
    },
    {
      "cell_type": "markdown",
      "metadata": {
        "id": "6UFTSzW7P8kL"
      },
      "source": [
        "This lab consisted of the implementation of basic linear algebra functions, as well as the formulation of test code to verify the correctness of their outputs. In the introduction section the functions are described as per the lab instructions. In the Method section, a short definition of the functions are given, and an implementation of each function is shown. After each implementation there is a short test function implemented. At the end of the methods section, code for executing the test cases is presented.\n",
        "In the results section, the output of the test cases is presented."
      ]
    },
    {
      "cell_type": "markdown",
      "metadata": {
        "id": "28xLGz8JX3Hh"
      },
      "source": [
        "# **Set up environment**"
      ]
    },
    {
      "cell_type": "code",
      "metadata": {
        "id": "Xw7VlErAX7NS"
      },
      "source": [
        "import numpy as np\n",
        "import math"
      ],
      "execution_count": 54,
      "outputs": []
    },
    {
      "cell_type": "markdown",
      "metadata": {
        "id": "gnO3lhAigLev"
      },
      "source": [
        "# **Introduction**"
      ]
    },
    {
      "cell_type": "markdown",
      "metadata": {
        "id": "l5zMzgPlRAF6"
      },
      "source": [
        "In this lab, the assignment was to implement 5 functions, with input and output as defined in the lab instructions, as well as write code tests to verify correct performance.\n",
        "\n",
        "1. Function: scalar product\n",
        "    \n",
        "  Input: vectors x, y</br>\n",
        "  Output: scalar product (x, y)\n",
        "</br>\n",
        "2. Function: matrix-vector product\n",
        "\n",
        "  Input: vector x, matrix A</br>\n",
        "  Output: matrix-vector product b=Ax\n",
        "</br>\n",
        "3. Function: matrix-matrix product\n",
        "\n",
        "  Input: matrices A, B</br>\n",
        "  Output: matrix-matrix product C=AB\n",
        "</br>\n",
        "4. Function: Euclidian norm\n",
        "\n",
        "  Input: vector x </br>\n",
        "  Output: Euclidian norm ||x||\n",
        "</br>\n",
        "5. Function: Euclidian distance\n",
        "  \n",
        "  Input: vectors x and y</br>\n",
        "  Output: Euclidian distance ||x-y||\n"
      ]
    },
    {
      "cell_type": "markdown",
      "metadata": {
        "id": "jOQvukXZq5U5"
      },
      "source": [
        "# **Method**"
      ]
    },
    {
      "cell_type": "markdown",
      "metadata": {
        "id": "zF4iBj5VURZx"
      },
      "source": [
        "Here the code for the assignment is provided. Input is examined to ensure that the functions are operating on correct inputs. The test cases compare the output of my code to numpy library functions for performing the same operations, raising assertion errors on incorrect function output. "
      ]
    },
    {
      "cell_type": "markdown",
      "metadata": {
        "id": "X_GsLgU11nNR"
      },
      "source": [
        "###Scalar product\r\n",
        "Function 1 is 'scalar product'\r\n",
        "\r\n",
        "The scalar product of two vectors $x$ and $y$ in $\\mathbb{R}$ is defined as $x \\cdot y = \\sum^n_{i=1}{x_i * y_i}$"
      ]
    },
    {
      "cell_type": "code",
      "metadata": {
        "id": "0Nag09R3wjph"
      },
      "source": [
        "def scalar_product(x, y):\r\n",
        "    if x.ndim != 1:\r\n",
        "      return \"error: x is not a vector\"\r\n",
        "    if y.ndim != 1:\r\n",
        "      return \"error: y is not a vector\"\r\n",
        "    if x.shape[0] != y.shape[0]:\r\n",
        "      return \"error: x and y are not the same size\"\r\n",
        "    sum = 0\r\n",
        "    for i in range(x.shape[0]):\r\n",
        "      sum += x[i]*y[i]\r\n",
        "    return sum"
      ],
      "execution_count": 55,
      "outputs": []
    },
    {
      "cell_type": "markdown",
      "metadata": {
        "id": "zgRPrhFy4RaD"
      },
      "source": [
        "To test the above code, we can run the following test function:"
      ]
    },
    {
      "cell_type": "code",
      "metadata": {
        "id": "JhXP3a9TyBLV"
      },
      "source": [
        "def test_scalar_product():\r\n",
        "  print(\"Testing scalar_product()\")\r\n",
        "  x = np.random.randint(100, size=50)\r\n",
        "  y = np.random.randint(100, size=50)\r\n",
        "  test = scalar_product(x, y)\r\n",
        "  control = np.dot(x, y)\r\n",
        "  assert test == control, \"incorrect result for scalar product\""
      ],
      "execution_count": 56,
      "outputs": []
    },
    {
      "cell_type": "markdown",
      "metadata": {
        "id": "OP-tO3_Nh_Th"
      },
      "source": [
        "###Matrix-vector product\r\n",
        "Function 2 is 'matrix-vector product'\r\n",
        "\r\n",
        "The matrix-vector product of a matrix $A$ and vector $x$ in $\\mathbb{R}$, where $A$ has the dimensions $m \\times n$ and $x$ is a vector of dimension $n \\times 1$, is a new vector $Ax = b$ of dimension $m \\times 1$ where each component $b_i$ is the dot product of each row of $A$ and $x$"
      ]
    },
    {
      "cell_type": "code",
      "metadata": {
        "id": "raTJGSSTj0Cm"
      },
      "source": [
        "def matrix_vector_product(a, x):\r\n",
        "  if a.ndim != 2:\r\n",
        "    return \"error: a is not a matrix\"\r\n",
        "  if x.ndim != 1:\r\n",
        "      return \"error: x is not a vector\"\r\n",
        "  if a.shape[1] != x.shape[0]:\r\n",
        "      return \"error: dimension mismatch of a and x\"\r\n",
        "  b = np.zeros(a.shape[0])\r\n",
        "  for i in range(a.shape[0]):\r\n",
        "    sum = 0\r\n",
        "    for j in range(x.shape[0]):\r\n",
        "      sum += a[i, j]*x[j]\r\n",
        "    b[i] = sum\r\n",
        "  return b"
      ],
      "execution_count": 57,
      "outputs": []
    },
    {
      "cell_type": "markdown",
      "metadata": {
        "id": "IW0fzTuhp_6d"
      },
      "source": [
        "To test the above code, we can run the following test function:"
      ]
    },
    {
      "cell_type": "code",
      "metadata": {
        "id": "_rkFEmytqCAx"
      },
      "source": [
        "def test_matrix_vector_product():\r\n",
        "  print(\"Testing matrix_vector_product()\")\r\n",
        "  a = np.random.randint(100, size=(30, 50))\r\n",
        "  x = np.random.randint(100, size=50)\r\n",
        "  test = matrix_vector_product(a, x)\r\n",
        "  control = np.dot(a, x)\r\n",
        "  assert np.array_equal(test, control) == True, \"incorrect result for matrix-vector product\""
      ],
      "execution_count": 58,
      "outputs": []
    },
    {
      "cell_type": "markdown",
      "metadata": {
        "id": "vcsCWlNjrdF8"
      },
      "source": [
        "###Matrix-matrix product\r\n",
        "Function 3 is 'matrix-matrix product'\r\n",
        "\r\n",
        "The matrix-matrix product of two matrices $A, B$, with dimensions $k, m$ and $m, n$ respectively, in $\\mathbb{R}$, is a matrix $C = AB$ of dimensions $k, n$ where each component $c_{i, j}$ is the scalar product of the row $i$ in $A$ and column $j$ in $B$."
      ]
    },
    {
      "cell_type": "code",
      "metadata": {
        "id": "2mYKlKEjtaaV"
      },
      "source": [
        "def matrix_matrix_product(a, b):\r\n",
        "  if a.ndim != 2:\r\n",
        "    return \"error: a is not a matrix\"\r\n",
        "  if b.ndim != 2:\r\n",
        "    return \"error: b is not a matrix\"\r\n",
        "  if a.shape[1] != b.shape[0]:\r\n",
        "      return \"error: dimension mismatch of a and c\"\r\n",
        "  c = np.zeros((a.shape[0], b.shape[1]))\r\n",
        "  for i in range(a.shape[0]):\r\n",
        "    for j in range(b.shape[1]):\r\n",
        "      sum = 0\r\n",
        "      for k in range(b.shape[0]):\r\n",
        "        sum += a[i, k]*b[k, j]\r\n",
        "      c[i,j] = sum\r\n",
        "  return c"
      ],
      "execution_count": 59,
      "outputs": []
    },
    {
      "cell_type": "markdown",
      "metadata": {
        "id": "is_OnqZyus4s"
      },
      "source": [
        "To test the above code, we can run the following test function:"
      ]
    },
    {
      "cell_type": "code",
      "metadata": {
        "id": "fICplWxkuvma"
      },
      "source": [
        "def test_matrix_matrix_product():\r\n",
        "  print(\"Testing matrix_matrix_product()\")\r\n",
        "  a = np.random.randint(100, size=(30, 50))\r\n",
        "  c = np.random.randint(100, size=(50, 40))\r\n",
        "  test = matrix_matrix_product(a, c)\r\n",
        "  control = np.dot(a, c)\r\n",
        "  assert np.array_equal(test, control) == True, \"incorrect result for matrix-matrix product\""
      ],
      "execution_count": 60,
      "outputs": []
    },
    {
      "cell_type": "markdown",
      "metadata": {
        "id": "BcRJFoxuvcJc"
      },
      "source": [
        "###Euclidian norm\r\n",
        "Function 4 is 'Euclidian norm'\r\n",
        "\r\n",
        "The euclidian norm of a vector x is calculated by taking the square root of the sum of the squares of all components of the vector: $||x||=\\sqrt{x_1^2 + x_2^2 + ... + x_n^2}$"
      ]
    },
    {
      "cell_type": "code",
      "metadata": {
        "id": "VrTJWxSg0aJJ"
      },
      "source": [
        "def euclidian_norm(x):\r\n",
        "  if x.ndim != 1:\r\n",
        "    return \"error: x is not a vector\"\r\n",
        "  sum = 0\r\n",
        "  for i in range(x.shape[0]):\r\n",
        "    sum += x[i]*x[i]\r\n",
        "  return math.sqrt(sum)"
      ],
      "execution_count": 61,
      "outputs": []
    },
    {
      "cell_type": "markdown",
      "metadata": {
        "id": "eDIrVg9v0-hp"
      },
      "source": [
        "To test the above code, we can run the following test function:"
      ]
    },
    {
      "cell_type": "code",
      "metadata": {
        "id": "tMLNWDYB1IKD"
      },
      "source": [
        "def test_euclidian_norm():\r\n",
        "  print(\"Testing euclidian_norm()\")\r\n",
        "  x = np.random.randint(100, size=50)\r\n",
        "  test = euclidian_norm(x)\r\n",
        "  control = np.linalg.norm(x)\r\n",
        "  assert test == control, \"incorrect result for euclidian norm\""
      ],
      "execution_count": 62,
      "outputs": []
    },
    {
      "cell_type": "markdown",
      "metadata": {
        "id": "8tQfFPFp2GKS"
      },
      "source": [
        "###Euclidian distance\r\n",
        "Function 5 is 'Euclidian distance'\r\n",
        "\r\n",
        "The euclidian distance of two vectors $x, y$ (of the same dimension) is the length of the vector $(x - y)$. Similarly to euclidian norm, we get \r\n",
        "\r\n",
        "$||x-y||=\\sqrt{(x_1 - y_1)^2 + (x_2 - y_2)^2 + ... + (x_n - y_n)^2}\\$"
      ]
    },
    {
      "cell_type": "code",
      "metadata": {
        "id": "-07MD1T75VwM"
      },
      "source": [
        "def euclidian_distance(x, y):\r\n",
        "  if x.ndim != 1:\r\n",
        "    return \"error: x is not a vector\"\r\n",
        "  if y.ndim != 1:\r\n",
        "    return \"error: y is not a vector\"\r\n",
        "  if x.shape[0] != y.shape[0]:\r\n",
        "    return \"error: x and y are not the same size\"\r\n",
        "  sum = 0\r\n",
        "  for i in range(x.shape[0]):\r\n",
        "    p = x[i] - y[i]\r\n",
        "    sum += p*p\r\n",
        "  return math.sqrt(sum)"
      ],
      "execution_count": 63,
      "outputs": []
    },
    {
      "cell_type": "markdown",
      "metadata": {
        "id": "Ef8CbwDp6vdN"
      },
      "source": [
        "To test the above code, we can run the following test function:"
      ]
    },
    {
      "cell_type": "code",
      "metadata": {
        "id": "yK1lRRH86xH5"
      },
      "source": [
        "def test_euclidian_distance():\r\n",
        "  print(\"Test euclidian_distance()\")\r\n",
        "  x = np.random.randint(100, size=50)\r\n",
        "  y = np.random.randint(100, size=50)\r\n",
        "  test = euclidian_distance(x, y)\r\n",
        "  control = np.linalg.norm(x - y)\r\n",
        "  assert test == control, \"incorrect result for euclidian norm\""
      ],
      "execution_count": 64,
      "outputs": []
    },
    {
      "cell_type": "markdown",
      "metadata": {
        "id": "8wXdjY6B7BFN"
      },
      "source": [
        "###Testing\r\n",
        "Then to perform all the tests, we can run the following code:"
      ]
    },
    {
      "cell_type": "code",
      "metadata": {
        "colab": {
          "base_uri": "https://localhost:8080/"
        },
        "id": "_ib6wHc-7Gr8",
        "outputId": "3eb469d5-55ea-4e91-f977-987a754ecc9d"
      },
      "source": [
        "def run_all_tests():\r\n",
        "  test_scalar_product()\r\n",
        "  test_matrix_vector_product()\r\n",
        "  test_matrix_matrix_product()\r\n",
        "  test_euclidian_norm()\r\n",
        "  test_euclidian_distance()\r\n",
        "  print(\"All tests OK\")\r\n",
        "\r\n",
        "if __name__ == '__main__':\r\n",
        "  run_all_tests()"
      ],
      "execution_count": 66,
      "outputs": [
        {
          "output_type": "stream",
          "text": [
            "Testing scalar_product()\n",
            "Testing matrix_vector_product()\n",
            "Testing matrix_matrix_product()\n",
            "Testing euclidian_norm()\n",
            "Test euclidian_distance()\n",
            "All tests OK\n"
          ],
          "name": "stdout"
        }
      ]
    },
    {
      "cell_type": "markdown",
      "metadata": {
        "id": "SsQLT38gVbn_"
      },
      "source": [
        "# **Results**"
      ]
    },
    {
      "cell_type": "markdown",
      "metadata": {
        "id": "RLwlnOzuV-Cd"
      },
      "source": [
        "Running the test cases here in google colab, after importing required libraries, defining all functions, etc., generates the following output:\r\n",
        "```\r\n",
        "Testing scalar_product()\r\n",
        "Testing matrix_vector_product()\r\n",
        "Testing matrix_matrix_product()\r\n",
        "Testing euclidian_norm()\r\n",
        "Test euclidian_distance()\r\n",
        "All tests OK\r\n",
        "```\r\n",
        "From which we can see that all test cases were passed."
      ]
    },
    {
      "cell_type": "markdown",
      "metadata": {
        "id": "_4GLBv0zWr7m"
      },
      "source": [
        "# **Discussion**"
      ]
    },
    {
      "cell_type": "markdown",
      "metadata": {
        "id": "6bcsDSoRXHZe"
      },
      "source": [
        "The functions have the correct input and output as required by the lab instructions, as verified by the test cases.\r\n",
        "\r\n",
        "Aside from the functions working as intended I think there is not much comment to add here. Working with jupyternotebook has been interesting to say the least and I think that this lab has been a nice introduction to working with it, as I did the entire lab in the google colab environment.\r\n",
        "\r\n"
      ]
    }
  ]
}
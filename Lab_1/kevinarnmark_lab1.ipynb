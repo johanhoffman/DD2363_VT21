{
  "nbformat": 4,
  "nbformat_minor": 0,
  "metadata": {
    "colab": {
      "name": "kevinarnmark_lab1.ipynb",
      "provenance": []
    },
    "kernelspec": {
      "name": "python3",
      "display_name": "Python 3"
    }
  },
  "cells": [
    {
      "cell_type": "markdown",
      "metadata": {
        "id": "6RgtXlfYO_i7"
      },
      "source": [
        "# **Lab 1: Introduction**\n",
        "**Kevin Arnmark**"
      ]
    },
    {
      "cell_type": "markdown",
      "metadata": {
        "id": "9x_J5FVuPzbm"
      },
      "source": [
        "# **Abstract**"
      ]
    },
    {
      "cell_type": "markdown",
      "metadata": {
        "id": "yJipbXtnjrJZ"
      },
      "source": [
        "This report contains algorithms and theory for computing the scalar product of two vectors, the matrix-vector product, the matrix-matrix product and the euclidian norm of a vector."
      ]
    },
    {
      "cell_type": "markdown",
      "metadata": {
        "id": "OkT8J7uOWpT3"
      },
      "source": [
        "#**About the code**"
      ]
    },
    {
      "cell_type": "markdown",
      "metadata": {
        "id": "HmB2noTr1Oyo"
      },
      "source": [
        "A short statement on who is the author of the file, and if the code is distributed under a certain license. "
      ]
    },
    {
      "cell_type": "code",
      "metadata": {
        "id": "Pdll1Xc9WP0e",
        "colab": {
          "base_uri": "https://localhost:8080/",
          "height": 35
        },
        "outputId": "cd0f5363-bb35-410f-e9e4-b4f513a1acc1"
      },
      "source": [
        "\"\"\"This program is a template for lab reports in the course\"\"\"\n",
        "\"\"\"DD2363 Methods in Scientific Computing, \"\"\"\n",
        "\"\"\"KTH Royal Institute of Technology, Stockholm, Sweden.\"\"\"\n",
        "\n",
        "# Copyright (C) 2020 Johan Hoffman (jhoffman@kth.se)\n",
        "\n",
        "# This file is part of the course DD2365 Advanced Computation in Fluid Mechanics\n",
        "# KTH Royal Institute of Technology, Stockholm, Sweden\n",
        "#\n",
        "# This is free software: you can redistribute it and/or modify\n",
        "# it under the terms of the GNU Lesser General Public License as published by\n",
        "# the Free Software Foundation, either version 3 of the License, or\n",
        "# (at your option) any later version.\n",
        "\n",
        "# This template is maintained by Johan Hoffman\n",
        "# Please report problems to jhoffman@kth.se"
      ],
      "execution_count": 1,
      "outputs": [
        {
          "output_type": "execute_result",
          "data": {
            "application/vnd.google.colaboratory.intrinsic+json": {
              "type": "string"
            },
            "text/plain": [
              "'KTH Royal Institute of Technology, Stockholm, Sweden.'"
            ]
          },
          "metadata": {
            "tags": []
          },
          "execution_count": 1
        }
      ]
    },
    {
      "cell_type": "markdown",
      "metadata": {
        "id": "28xLGz8JX3Hh"
      },
      "source": [
        "# **Set up environment**"
      ]
    },
    {
      "cell_type": "markdown",
      "metadata": {
        "id": "D2PYNusD08Wa"
      },
      "source": [
        "To have access to the neccessary modules you have to run this cell. If you need additional modules, this is where you add them. "
      ]
    },
    {
      "cell_type": "code",
      "metadata": {
        "id": "Xw7VlErAX7NS"
      },
      "source": [
        "# Load neccessary modules.\n",
        "from google.colab import files\n",
        "\n",
        "import time\n",
        "import numpy as np\n",
        "\n",
        "#try:\n",
        "#    from dolfin import *; from mshr import *\n",
        "#except ImportError as e:\n",
        "#    !apt-get install -y -qq software-properties-common \n",
        "#    !add-apt-repository -y ppa:fenics-packages/fenics\n",
        "#    !apt-get update -qq\n",
        "#    !apt install -y --no-install-recommends fenics\n",
        "#    from dolfin import *; from mshr import *\n",
        "    \n",
        "#import dolfin.common.plotting as fenicsplot\n",
        "\n",
        "from matplotlib import pyplot as plt\n",
        "from matplotlib import tri\n",
        "from matplotlib import axes\n",
        "from mpl_toolkits.mplot3d import Axes3D"
      ],
      "execution_count": 2,
      "outputs": []
    },
    {
      "cell_type": "markdown",
      "metadata": {
        "id": "gnO3lhAigLev"
      },
      "source": [
        "# **Introduction**"
      ]
    },
    {
      "cell_type": "markdown",
      "metadata": {
        "id": "l5zMzgPlRAF6"
      },
      "source": [
        "In this introduction lab I am solving the following problems:\n",
        "1. Function: scalar product\n",
        "  \n",
        "  Input: vectors x, y\n",
        "  \n",
        "  Output: scalar product (x, y)\n",
        "  \n",
        "  Test: formulate tests to verify accuracy. \n",
        "\n",
        "\n",
        "2. Function: matrix-vector product\n",
        "  \n",
        "  Input: vector x, matrix A\n",
        "  \n",
        "  Output: matrix-vector product b=Ax\n",
        "  \n",
        "  Test: formulate tests to verify accuracy. \n",
        "\n",
        "\n",
        "3. Function: matrix-matrix product\n",
        "  \n",
        "  Input: matrices A, B\n",
        "  \n",
        "  Output: matrix-matrix product C=AB\n",
        "  \n",
        "  Test: formulate tests to verify accuracy. \n",
        "\n",
        "\n",
        "Extra assignment\n",
        "\n",
        "4. Function: Euclidian norm\n",
        "  \n",
        "  Input: vector x \n",
        "  \n",
        "  Output: Euclidian norm ||x||\n",
        "  \n",
        "  Test: formulate tests to verify accuracy. \n",
        "\n",
        "\n"
      ]
    },
    {
      "cell_type": "markdown",
      "metadata": {
        "id": "jOQvukXZq5U5"
      },
      "source": [
        "# **Method**"
      ]
    },
    {
      "cell_type": "markdown",
      "metadata": {
        "id": "QCaYOnCGH6mC"
      },
      "source": [
        "I am assuming numpy is not allowed for this lab since all of these functions already are implemented in numpy. I did not know if I am supposed to use numpy arrays and matrices for the inputs or if it should be standard python arrays, so I made it work with both. There are otherwise easier ways of doing these functions. The result from the functions are however standard python arrays if the return value is supposed to be an array."
      ]
    },
    {
      "cell_type": "markdown",
      "metadata": {
        "id": "uqp7HWkbaeoJ"
      },
      "source": [
        "The scalar product of vectors x and y is defined by (Chapter 1.4, Example 1.6): $\r\n",
        "{\\displaystyle} (x,y) = x \\cdot y = x_1y_1 + ... + x_ny_n$\r\n",
        "\r\n"
      ]
    },
    {
      "cell_type": "code",
      "metadata": {
        "id": "2CJXMCT1HTHL"
      },
      "source": [
        "def scalar_product(x, y):\r\n",
        "  scalar = 0\r\n",
        "  for i in range(len(x)):\r\n",
        "    scalar += x[i]*y[i]\r\n",
        "\r\n",
        "  return scalar"
      ],
      "execution_count": 3,
      "outputs": []
    },
    {
      "cell_type": "markdown",
      "metadata": {
        "id": "EHgrVD6cbz_J"
      },
      "source": [
        "The matrix-vector product of vectors x and matrix A is defined by (Chapter 2.2): $\r\n",
        "{\\displaystyle} y = Ax = \\sum_{j=1}^n{x_ja_{:j}}$ "
      ]
    },
    {
      "cell_type": "code",
      "metadata": {
        "id": "BJunMEcfHaUk"
      },
      "source": [
        "def matrix_vector_product(x, A):\r\n",
        "  b = [0] * len(A)\r\n",
        "  for r in range(len(A)):\r\n",
        "    for i in range(len(x)):\r\n",
        "      b[r] += x[i]*A[r][i]\r\n",
        "      \r\n",
        "  return b"
      ],
      "execution_count": 4,
      "outputs": []
    },
    {
      "cell_type": "markdown",
      "metadata": {
        "id": "AbVVTl3Mcjyv"
      },
      "source": [
        "The matrix-matrix product $B=AC$, of matrices A and C is defined by (Chapter 2.3, Equation 2.2): $\r\n",
        "{\\displaystyle} b_{ij} = \\sum_{k=1}^l{a_{ik}c_{kj}} $, where $A = (a_{ij}), B = (b_{ij}), C = (c_{ij})$.\r\n",
        "\r\n",
        "In the algorithm below I instead use the notation $C=AB$"
      ]
    },
    {
      "cell_type": "code",
      "metadata": {
        "id": "WeFYsSprHanC"
      },
      "source": [
        "def matrix_matrix_product(A, B):\r\n",
        "  C = []\r\n",
        "  for r in range(len(A)): # Iterate through the rows of matrix A\r\n",
        "    C.append([])\r\n",
        "    for c in range(len(B[0])): # Iterate through the columns of matrix B\r\n",
        "      column = [row[c] for row in B] # Extract the column from matrix B\r\n",
        "      C[r].append(scalar_product(A[r], column))\r\n",
        "\r\n",
        "  return C"
      ],
      "execution_count": 5,
      "outputs": []
    },
    {
      "cell_type": "markdown",
      "metadata": {
        "id": "c8PQOWE7oLuB"
      },
      "source": [
        "The euclidian norm of the vector x is defined by (Chapter 1.4, Example 1.3): \r\n",
        "$\\lvert\\lvert x \\rvert\\rvert = (x, x)^{1/2}$, where $(\\cdot, \\cdot)$ is the euclidian inner product, which is the scalar product."
      ]
    },
    {
      "cell_type": "code",
      "metadata": {
        "id": "AR_WiAqLoMA0"
      },
      "source": [
        "def euclidian_norm(x):\r\n",
        "  return scalar_product(x,x)**(1/2)\r\n"
      ],
      "execution_count": 6,
      "outputs": []
    },
    {
      "cell_type": "markdown",
      "metadata": {
        "id": "kt4MijQxI7P3"
      },
      "source": [
        "# Tests:"
      ]
    },
    {
      "cell_type": "markdown",
      "metadata": {
        "id": "I4rBEfYmVBF-"
      },
      "source": [
        "There are several ways you could test the accuracy of these functions. E.g. you could hard code a couple of tests with precalculated products for some arrays and matrices, or you could generate random arrays and matrices and use a library like numpy that already has implemented these products and compare it with that. In this report I will use the hard coded approach since I am unsure about how much we are intended to use numpy for this lab."
      ]
    },
    {
      "cell_type": "code",
      "metadata": {
        "id": "FXJtLv0VJFzS"
      },
      "source": [
        "# Testing scalar_product(x,y)\r\n",
        "assert scalar_product([1, 2, 3], [4, 5, 6]) == 32\r\n",
        "assert scalar_product([10, -3], [5, 6]) == 32\r\n",
        "assert scalar_product([5.2, 2.1], [-5.6, -6.8]) == -43.4\r\n",
        "\r\n",
        "# Testing matrix_vector_product(x, A)\r\n",
        "assert matrix_vector_product([3, 5, 4], [[1,3,2],[4,2,1],[-1,5,2]]) == [26, 26, 30]\r\n",
        "assert matrix_vector_product([-1.5, 1.4], [[1.5, -2.0], [1.4, 3.2], [-1.2, -4.5]]) == [-5.05, 2.38, -4.5]\r\n",
        "\r\n",
        "# Testing matrix_matrix_product(A, B)\r\n",
        "assert matrix_matrix_product([[1, 2],[3, 4]], [[4, 3],[2, 1]]) == [[8, 5], [20, 13]]\r\n",
        "assert matrix_matrix_product([[3.2, 4.3], [1.8, 1.2], [-2.0, 3.5]], [[-1.2, 2.4, 1.0], [3.6, -1.0, 2.4]]) == [[11.64, 3.38, 13.52], [2.16, 3.12, 4.68], [15.0, -8.3, 6.4]]\r\n",
        "\r\n",
        "# Testing euclidian_norm(x)\r\n",
        "assert euclidian_norm([1, 0]) == 1.0\r\n",
        "assert euclidian_norm([1, 1, 1, 1]) == 2.0\r\n",
        "assert euclidian_norm([2, 2, 1]) == 3.0"
      ],
      "execution_count": 8,
      "outputs": []
    },
    {
      "cell_type": "markdown",
      "metadata": {
        "id": "SsQLT38gVbn_"
      },
      "source": [
        "# **Results**"
      ]
    },
    {
      "cell_type": "markdown",
      "metadata": {
        "id": "RLwlnOzuV-Cd"
      },
      "source": [
        "The tests conclude that these functions seems to be accurate, since none of the asserts made an exception. These functions are however in need of correct input dimensions, otherwise it will crash since I did not implement any exception handling. "
      ]
    },
    {
      "cell_type": "markdown",
      "metadata": {
        "id": "_4GLBv0zWr7m"
      },
      "source": [
        "# **Discussion**"
      ]
    },
    {
      "cell_type": "markdown",
      "metadata": {
        "id": "6bcsDSoRXHZe"
      },
      "source": [
        "If these functions where made using numpy data structures they could possibly be made more effective."
      ]
    }
  ]
}

{
  "nbformat": 4,
  "nbformat_minor": 0,
  "metadata": {
    "colab": {
      "name": "szaboda_lab1",
      "provenance": []
    },
    "kernelspec": {
      "name": "python3",
      "display_name": "Python 3"
    }
  },
  "cells": [
    {
      "cell_type": "markdown",
      "metadata": {
        "id": "6RgtXlfYO_i7"
      },
      "source": [
        "# **Lab 1: Introduction**\n",
        "**Dániel Szabó**"
      ]
    },
    {
      "cell_type": "markdown",
      "metadata": {
        "id": "9x_J5FVuPzbm"
      },
      "source": [
        "# **Abstract**"
      ]
    },
    {
      "cell_type": "markdown",
      "metadata": {
        "id": "jins6bjcMl2-"
      },
      "source": [
        "The laboratory is about the implementation of some basic linear algebraic methods: scalar product, matrix-vector product and matrix-matrix product. The extra exercises require us to calculate the Euclidean norm of a vector or the Euclidean distance of two vectors.\r\n",
        "\r\n",
        "Because of the easiness of the task, I decided not to use numpy and to implement everything myself (except for the square root function for the extra exercises). However, I import numpy to use it for the verification of my methods."
      ]
    },
    {
      "cell_type": "markdown",
      "metadata": {
        "id": "OkT8J7uOWpT3"
      },
      "source": [
        "#**About the code**"
      ]
    },
    {
      "cell_type": "code",
      "metadata": {
        "id": "Pdll1Xc9WP0e",
        "colab": {
          "base_uri": "https://localhost:8080/",
          "height": 37
        },
        "outputId": "aa244577-301d-42a9-b60a-38c0e6939102"
      },
      "source": [
        "\"\"\"DD2363 Methods in Scientific Computing, \"\"\"\n",
        "\"\"\"KTH Royal Institute of Technology, Stockholm, Sweden.\"\"\"\n",
        "\n",
        "# Copyright (C) 2021 Dániel Szabó (dszabo@kth.se)\n",
        "\n",
        "# This file is part of the course DD2365 Methods in Scientific Computing\n",
        "# KTH Royal Institute of Technology, Stockholm, Sweden\n",
        "#\n",
        "# This is free software: you can redistribute it and/or modify\n",
        "# it under the terms of the GNU Lesser General Public License as published by\n",
        "# the Free Software Foundation, either version 3 of the License, or\n",
        "# (at your option) any later version.\n",
        "\n",
        "# This template is maintained by Johan Hoffman\n",
        "# Please report problems to jhoffman@kth.se"
      ],
      "execution_count": null,
      "outputs": [
        {
          "output_type": "execute_result",
          "data": {
            "application/vnd.google.colaboratory.intrinsic+json": {
              "type": "string"
            },
            "text/plain": [
              "'KTH Royal Institute of Technology, Stockholm, Sweden.'"
            ]
          },
          "metadata": {
            "tags": []
          },
          "execution_count": 10
        }
      ]
    },
    {
      "cell_type": "markdown",
      "metadata": {
        "id": "28xLGz8JX3Hh"
      },
      "source": [
        "# **Set up environment**"
      ]
    },
    {
      "cell_type": "code",
      "metadata": {
        "id": "Xw7VlErAX7NS"
      },
      "source": [
        "# Load neccessary modules.\n",
        "import math\n",
        "import numpy as np"
      ],
      "execution_count": 2,
      "outputs": []
    },
    {
      "cell_type": "markdown",
      "metadata": {
        "id": "gnO3lhAigLev"
      },
      "source": [
        "# **Introduction**"
      ]
    },
    {
      "cell_type": "markdown",
      "metadata": {
        "id": "l5zMzgPlRAF6"
      },
      "source": [
        "There are three mandatory (1-3) and two extra (4-5) assignments in this laboratory.\n",
        "1.   Scalar product: calculating the scalar (or inner or dot) product of two vectors is a very basic, useful operation. The scalar product of two real vectors $x=(x_1,\\dots,x_n)$ and $y=(y_1,\\dots,y_n)$ is a real number $s=\\sum_{i=1}^nx_iy_i$.\n",
        "2.   Matrix-vector product: it is also a basic and useful operation. The product of a matrix $A\\in\\mathbb{R}^{n×m}$ and a vector $x\\in\\mathbb{R}^{m}$ is another vector $y\\in\\mathbb{R}^{n}$ that satisfies $\\forall i\\in[n]\\ y_i=\\sum_{j=1}^mA_{ij}x_i$.\n",
        "3.   Matrix-matrix product: it is also a basic and useful operation. The product of two matrices $A\\in\\mathbb{R}^{n×m}$ and $B\\in\\mathbb{R}^{m×k}$ is a third matrix $C\\in\\mathbb{R}^{n×k}$ where $\\forall i\\in[n], j\\in[k]\\ C_{ij}=\\sum_{l=1}^mA_{il}B_{lj}$.\n",
        "4.   Euclidean norm: the Euclidean norm of a real vector $x=(x_1,\\dots,x_n)$ (which is also its Euclidean distance from the origin) is a nonnegative real number $\\sqrt{\\sum_{i=1}^nx_i^2}$.\n",
        "5.   Euclidean distance: the Euclidean distance of two real vectors $x=(x_1,\\dots,x_n)$ and $y=(y_1,\\dots,y_n)$ is a nonnegative real number $\\sqrt{\\sum_{i=1}^n(x_i-y_i)^2}$.\n",
        "\n",
        "\n"
      ]
    },
    {
      "cell_type": "markdown",
      "metadata": {
        "id": "jOQvukXZq5U5"
      },
      "source": [
        "# **Method**"
      ]
    },
    {
      "cell_type": "markdown",
      "metadata": {
        "id": "fNF8ImZzK16B"
      },
      "source": [
        "First, let me describe two methods I implemented to help the solution of some tasks.\r\n",
        "\r\n",
        "The first one checks if the input matrix is really a matrix, i.e. whether all of its rows have the same number of elements. It is done in a for loop: if any of the rows has a different number of elements than the first (0th) row, an exception is raised.\r\n",
        "\r\n",
        "The second one calculates the transpose of the input matrix. It uses the previous method to check if the input is a valid matrix. Then, in a double for loop, it iterates over each column of the input matrix and builds vectors from them, which are appended after each other to form a matrix of these vectors as rows, and this matrix is the result."
      ]
    },
    {
      "cell_type": "code",
      "metadata": {
        "id": "fi7pBZRBK1XQ"
      },
      "source": [
        "def matrix_check(M):\r\n",
        "    for i in range(len(M)):\r\n",
        "        if(len(M[i])!=len(M[0])):\r\n",
        "            raise Exception(\"The number of elements in each row of a matrix should be the same.\")\r\n",
        "    return\r\n",
        "\r\n",
        "def transpose(M):\r\n",
        "    matrix_check(M)\r\n",
        "    Mt=[]\r\n",
        "    for j in range(len(M[0])):\r\n",
        "        v=[]\r\n",
        "        for i in range(len(M)):\r\n",
        "            v.append(M[i][j])\r\n",
        "        Mt.append(v)\r\n",
        "    return Mt"
      ],
      "execution_count": 3,
      "outputs": []
    },
    {
      "cell_type": "markdown",
      "metadata": {
        "id": "zF4iBj5VURZx"
      },
      "source": [
        "1. Scalar product: The method calculates the sum of the products of the respective elements in a for loop. Before this, it is checked if the sizes of the two input vectors are the same."
      ]
    },
    {
      "cell_type": "code",
      "metadata": {
        "id": "ULeV7L0TI4Ex"
      },
      "source": [
        "def scalar_product(x,y):\r\n",
        "    if(len(x)!=len(y)):\r\n",
        "        raise Exception(\"Scalar product: the number of elements in the input vectors should be the same.\")\r\n",
        "    result=0\r\n",
        "    for i in range(len(x)):\r\n",
        "        result+=x[i]*y[i]\r\n",
        "    return result"
      ],
      "execution_count": 4,
      "outputs": []
    },
    {
      "cell_type": "markdown",
      "metadata": {
        "id": "jZ8ek4xgI9XI"
      },
      "source": [
        "2. Matrix-vector product: First, the method checks if the input matrix is really a matrix using the matrix_check function. Then, it checks if the matrix and the vector are compatible, meaning that the number of columns of the matrix is the same as the number of elements in the vector. The calculation consists of a for loop: each element of the result vector is calculated as the scalar product of the respective row of the input matrix and the input vector. For the calculation of these scalar products, the method of task 1 is used."
      ]
    },
    {
      "cell_type": "code",
      "metadata": {
        "id": "jwHAwHkYKoxz"
      },
      "source": [
        "def matrix_vector_product(A,x):\r\n",
        "    matrix_check(A)\r\n",
        "    if(len(x)!=len(A[0])):\r\n",
        "        raise Exception(\"Matrix-vector product: the number of elements in the input vector should be the same as the number of columns in the matrix.\")\r\n",
        "    b=[]\r\n",
        "    for j in range(len(A)):\r\n",
        "        b.append(scalar_product(x,A[j]))\r\n",
        "    return b"
      ],
      "execution_count": 5,
      "outputs": []
    },
    {
      "cell_type": "markdown",
      "metadata": {
        "id": "b6jxvHyENTdB"
      },
      "source": [
        "3. Matrix-matrix product: First, the method checks if the input matrices are valid using the matrix_check function. Then, it checks if the matrices are compatible, meaning that the number of columns of the first matrix is the same as the number of rows in the second one.\r\n",
        "Let us note that each column of the result matrix is a matrix-vector product of the first input matrix and a column vector of the second one, so the algorithm could use the method of task 2. But we have the rows of the matrices as vectors, that is why the method calculates the transpose of the second input first, using the transpose() function. Then, in a for loop, it calculates each column vector of the result matrix using the method of task 2. If these vectors are appended as rows of a matrix, we get the transpose of the result, so the algorithm uses the transpose() function again to get the result."
      ]
    },
    {
      "cell_type": "code",
      "metadata": {
        "id": "20YtbuXiNTtJ"
      },
      "source": [
        "def matrix_matrix_product(A,B):\r\n",
        "    matrix_check(A)\r\n",
        "    matrix_check(B)\r\n",
        "    if(len(B)!=len(A[0])):\r\n",
        "        raise Exception(\"Matrix-matrix product: the number of columns in the first matrix should be the same as the number of rows in the second one.\")\r\n",
        "\r\n",
        "    Bt=transpose(B)\r\n",
        "    Ct=[]\r\n",
        "    for j in range(len(Bt)):\r\n",
        "        Ct.append(matrix_vector_product(A,Bt[j]))\r\n",
        "    return transpose(Ct)"
      ],
      "execution_count": 6,
      "outputs": []
    },
    {
      "cell_type": "markdown",
      "metadata": {
        "id": "rTsisE5sPtCA"
      },
      "source": [
        "5. Euclidean distance: First, the algorithm checks if the two input vectors have the same number of elements. Then, in a for loop, it calculates the sum of the squares of the differences between the respective pairs of elements of the two vectors. The result is the square root of this value.\r\n",
        "Note that task 4 is also solved by this: the Euclidean norm of a vector $x$ is its Euclidean distance from the origin (i.e. the all-zero vector with the same number of elements as $x$)."
      ]
    },
    {
      "cell_type": "code",
      "metadata": {
        "id": "LZBCdiIlPtPX"
      },
      "source": [
        "def euclidean_distance(x,y):\r\n",
        "    if(len(x)!=len(y)):\r\n",
        "        raise Exception(\"Euclidean distance: the number of elements in the input vectors should be the same.\")\r\n",
        "    result=0\r\n",
        "    for i in range(len(x)):\r\n",
        "        result+=(x[i]-y[i])*(x[i]-y[i])\r\n",
        "    return math.sqrt(result)"
      ],
      "execution_count": 7,
      "outputs": []
    },
    {
      "cell_type": "markdown",
      "metadata": {
        "id": "SsQLT38gVbn_"
      },
      "source": [
        "# **Results**"
      ]
    },
    {
      "cell_type": "markdown",
      "metadata": {
        "id": "RLwlnOzuV-Cd"
      },
      "source": [
        "The verification of the methods is done by calculating the results for some test data using both the algorithms of the Method section and the corresponding numpy methods. Then we check if the two results are the same (with precision $10^{-10}$)."
      ]
    },
    {
      "cell_type": "markdown",
      "metadata": {
        "id": "tcXcJ4q5dXte"
      },
      "source": [
        "1. Scalar product: the result of my function gives the same result as the numpy dot function, so the test passes."
      ]
    },
    {
      "cell_type": "code",
      "metadata": {
        "colab": {
          "base_uri": "https://localhost:8080/"
        },
        "id": "DZWh0buXdbar",
        "outputId": "eb2ce06c-7bc3-4a24-8668-9a1ce519044b"
      },
      "source": [
        "x1=[1,-2,3,4]\r\n",
        "y1=[9,6,-5.03,0.14]\r\n",
        "res=scalar_product(x1,y1)\r\n",
        "res2=np.dot(x1,y1)\r\n",
        "print(res)\r\n",
        "print(res2)\r\n",
        "\r\n",
        "if np.abs(res-res2)>10**-10:\r\n",
        "    print(\"Test failed\")\r\n",
        "else:\r\n",
        "    print(\"Test passed\")"
      ],
      "execution_count": 18,
      "outputs": [
        {
          "output_type": "stream",
          "text": [
            "-17.53\n",
            "-17.53\n",
            "Test passed\n"
          ],
          "name": "stdout"
        }
      ]
    },
    {
      "cell_type": "markdown",
      "metadata": {
        "id": "cP9SkaWRdbtl"
      },
      "source": [
        "2. Matrix-vector product: the result of my function is a vector with the same elements as the result of the numpy dot function, so the test passes."
      ]
    },
    {
      "cell_type": "code",
      "metadata": {
        "colab": {
          "base_uri": "https://localhost:8080/"
        },
        "id": "J-DVIb9LdeKr",
        "outputId": "36d0d62e-c86e-41ea-f1b6-b2b6d31483f9"
      },
      "source": [
        "x2=[1,-2.5,3]\r\n",
        "A2=[[1,0,1.4],[1,1,-0.8],[0,1,1],[2,0.4,-3]]\r\n",
        "res=matrix_vector_product(A2, x2)\r\n",
        "res2=np.dot(A2, x2)\r\n",
        "print(res)\r\n",
        "print(res2)\r\n",
        "\r\n",
        "failed = False\r\n",
        "for i in range(len(res)):\r\n",
        "    if np.abs(res[i]-res2[i])>10**-10:\r\n",
        "        failed = True\r\n",
        "        print(\"Test failed\")\r\n",
        "if failed == False:\r\n",
        "    print(\"Test passed\")"
      ],
      "execution_count": 25,
      "outputs": [
        {
          "output_type": "stream",
          "text": [
            "[5.199999999999999, -3.9000000000000004, 0.5, -8.0]\n",
            "[ 5.2 -3.9  0.5 -8. ]\n",
            "Test passed\n"
          ],
          "name": "stdout"
        }
      ]
    },
    {
      "cell_type": "markdown",
      "metadata": {
        "id": "DzBP2PYddeSj"
      },
      "source": [
        "3. Matrix-matrix product: the result of my function is a matrix with the same elements as the result of the numpy dot function, so the test passes."
      ]
    },
    {
      "cell_type": "code",
      "metadata": {
        "colab": {
          "base_uri": "https://localhost:8080/"
        },
        "id": "DFAxEQ7qdgmj",
        "outputId": "64c1ea2d-01fc-4769-e4ec-d007c8c07b15"
      },
      "source": [
        "A3=[[1.5,2],[-3,4.12],[-5.2,6]]\r\n",
        "B3=[[1,-2.7,3,4.01],[5,6,-7,8]]\r\n",
        "res=matrix_matrix_product(A3,B3)\r\n",
        "res2=np.dot(A3,B3)\r\n",
        "print(res)\r\n",
        "print(res2)\r\n",
        "\r\n",
        "failed = False\r\n",
        "for i in range(len(res)):\r\n",
        "    for j in range(len(res[0])):\r\n",
        "        if np.abs(res[i][j]-res2[i][j])>10**-10:\r\n",
        "            failed = True\r\n",
        "            print(\"Test failed\")\r\n",
        "if failed == False:\r\n",
        "    print(\"Test passed\")"
      ],
      "execution_count": 30,
      "outputs": [
        {
          "output_type": "stream",
          "text": [
            "[[11.5, 7.949999999999999, -9.5, 22.015], [17.6, 32.82, -37.84, 20.93], [24.8, 50.04, -57.6, 27.148]]\n",
            "[[ 11.5     7.95   -9.5    22.015]\n",
            " [ 17.6    32.82  -37.84   20.93 ]\n",
            " [ 24.8    50.04  -57.6    27.148]]\n",
            "Test passed\n"
          ],
          "name": "stdout"
        }
      ]
    },
    {
      "cell_type": "markdown",
      "metadata": {
        "id": "PPgmoqxrdgxs"
      },
      "source": [
        "5. Euclidean distance (and norm): the result of my function is the same as the result of the numpy.linalg.dot function called on the difference of the two input vectors, so the test passes. The norm of the first vector calculated with my method as the distance from the origin is the same as the norm given by the numpy.linalg.dot function, thus my method also works for calculating the Euclidean norm of a vector, so it solves task 4 as well as task 5."
      ]
    },
    {
      "cell_type": "code",
      "metadata": {
        "colab": {
          "base_uri": "https://localhost:8080/"
        },
        "id": "Kkxc90Qgdn_E",
        "outputId": "3b78f5ce-71bb-4d24-8681-9f75a0fbc6ac"
      },
      "source": [
        "x4=[-1,2.05,3]\r\n",
        "y4=[9,-6.24,5]\r\n",
        "res=euclidean_distance(x4,y4)\r\n",
        "res2=np.linalg.norm(np.array(x4)-np.array(y4))\r\n",
        "print(res)\r\n",
        "print(res2)\r\n",
        "\r\n",
        "if np.abs(res-res2)>10**-10:\r\n",
        "    print(\"Test failed\")\r\n",
        "else:\r\n",
        "    print(\"Test passed\")\r\n",
        "\r\n",
        "# Euclidean norm (task 4) testing\r\n",
        "res=euclidean_distance(x4,[0,0,0])\r\n",
        "res2=np.linalg.norm(np.array(x4))\r\n",
        "print(res)\r\n",
        "print(res2)\r\n",
        "\r\n",
        "if np.abs(res-res2)>10**-10:\r\n",
        "    print(\"Test failed\")\r\n",
        "else:\r\n",
        "    print(\"Test passed\")"
      ],
      "execution_count": 33,
      "outputs": [
        {
          "output_type": "stream",
          "text": [
            "13.142454108727183\n",
            "13.142454108727183\n",
            "Test passed\n",
            "3.7686204372422543\n",
            "3.7686204372422543\n",
            "Test passed\n"
          ],
          "name": "stdout"
        }
      ]
    },
    {
      "cell_type": "markdown",
      "metadata": {
        "id": "_4GLBv0zWr7m"
      },
      "source": [
        "# **Discussion**"
      ]
    },
    {
      "cell_type": "markdown",
      "metadata": {
        "id": "6bcsDSoRXHZe"
      },
      "source": [
        "The results were exactly as expected. All the methods implemented for solving the tasks, actually succeeded in solving them, as it is confirmed by the test results."
      ]
    }
  ]
}
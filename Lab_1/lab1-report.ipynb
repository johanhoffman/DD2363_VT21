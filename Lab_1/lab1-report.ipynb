{
 "cells": [
  {
   "cell_type": "markdown",
   "metadata": {
    "colab_type": "text",
    "id": "view-in-github"
   },
   "source": [
    "<a href=\"https://colab.research.google.com/github/johanhoffman/DD2363-VT20/blob/master/template-report-lab-X.ipynb\" target=\"_parent\"><img src=\"https://colab.research.google.com/assets/colab-badge.svg\" alt=\"Open In Colab\"/></a>"
   ]
  },
  {
   "cell_type": "markdown",
   "metadata": {
    "colab_type": "text",
    "id": "6RgtXlfYO_i7"
   },
   "source": [
    "# **Lab 1: Introduction**\n",
    "**Hilaire Bouaddi**"
   ]
  },
  {
   "cell_type": "markdown",
   "metadata": {
    "colab_type": "text",
    "id": "9x_J5FVuPzbm"
   },
   "source": [
    "# **Abstract**"
   ]
  },
  {
   "cell_type": "markdown",
   "metadata": {
    "colab_type": "text",
    "id": "6UFTSzW7P8kL"
   },
   "source": [
    "This lab was beneficial to learn how to use the Jupyter notebook environment. It also gave an occasion to think about how libraries such as NumPy are implemented both for data representation and operations on the data.  "
   ]
  },
  {
   "cell_type": "markdown",
   "metadata": {
    "colab_type": "text",
    "id": "gnO3lhAigLev"
   },
   "source": [
    "# **Introduction**"
   ]
  },
  {
   "cell_type": "markdown",
   "metadata": {
    "colab_type": "text",
    "id": "l5zMzgPlRAF6"
   },
   "source": [
    "In this lab, we are going to implement common operations on both vectors and matrices, namely the scalar product (or dot product), the matrix-vector multiplication and the matrix-matrix multiplication. We will not use libraries since we're trying to implement ourselves those operations. This is why we will only use Pyhton arrays in this lab to represent both vectors and matrices. \n",
    "\n",
    "A vector is represented with a 1-D array: $v = [v_1, v_2, ..., v_n]$\n",
    "A matrix A of size $n\\times m$ is represented with a 2-D array: \n",
    "$A = [[a_{11}, a_{12}, ..., a_{1m}], [a_{21}, ..., a_{2m}], ..., [a_{n1}, ..., a_{nm}]]$\n"
   ]
  },
  {
   "cell_type": "markdown",
   "metadata": {
    "colab_type": "text",
    "id": "jOQvukXZq5U5"
   },
   "source": [
    "# **Method**"
   ]
  },
  {
   "cell_type": "markdown",
   "metadata": {
    "colab_type": "text",
    "id": "zF4iBj5VURZx"
   },
   "source": [
    "## Scalar Product "
   ]
  },
  {
   "cell_type": "markdown",
   "metadata": {},
   "source": [
    "Here is the formula of the scalar product: $x.y = \\sum_{i=1}^n{x_iy_i}$"
   ]
  },
  {
   "cell_type": "code",
   "execution_count": 12,
   "metadata": {},
   "outputs": [],
   "source": [
    "\"\"\"\n",
    "@param x: vector represented by array\n",
    "@param y: vector represented by array\n",
    "\"\"\"\n",
    "def scalar_product(x, y):\n",
    "    if (len(x) != len(y)):\n",
    "        raise ValueError(\"Parameters x and y should be of same size\")\n",
    "    \n",
    "    scalar = 0\n",
    "    for i in range(len(x)):\n",
    "        scalar += x[i]*y[i]\n",
    "    return scalar\n",
    "        "
   ]
  },
  {
   "cell_type": "markdown",
   "metadata": {},
   "source": [
    "##  Vector Matrix product"
   ]
  },
  {
   "cell_type": "markdown",
   "metadata": {},
   "source": [
    "Let $y = Ax$ with A of size $n\\times m$, $x$ of size $m$, $y$ of size $n$. Here is how we can express the components of y: \n",
    "$y_i = \\sum_{j=1}^m{a_{ij}x_j}$"
   ]
  },
  {
   "cell_type": "code",
   "execution_count": 13,
   "metadata": {},
   "outputs": [],
   "source": [
    "\"\"\"\n",
    "@param x: vector represented by 1D-array\n",
    "@param A: matrix represented by 2D-array\n",
    "returns Ax\n",
    "\"\"\"\n",
    "def matrix_vector_product(x, A):\n",
    "    nbLinesA = len(A)\n",
    "    nbColA = len(A[0])\n",
    "    \n",
    "    # nbLinesA * nbColA X nbLinesX X nbColX\n",
    "    if nbColA != len(x):\n",
    "        raise ValueError(\"Dimensions between A and x are not compatible for matrix vector product\")\n",
    "    \n",
    "    result = []\n",
    "    for line in range(nbLinesA):\n",
    "        element_line_i = 0\n",
    "        for i in range(nbColA):\n",
    "            element_line_i += A[line][i]*x[i]\n",
    "        result.append(element_line_i)\n",
    "    \n",
    "    return result \n",
    "        "
   ]
  },
  {
   "cell_type": "markdown",
   "metadata": {},
   "source": [
    "## Matrix Matrix product "
   ]
  },
  {
   "cell_type": "markdown",
   "metadata": {},
   "source": [
    "Let $C = AB$ with A of size $n\\times m$, $B$ of size $m \\times p$, $C$ of size $n \\times p$. Here is how we can express the components of C: \n",
    "$c_{ij} = \\sum_{k=1}^m{a_{ik}b_{ki}}$"
   ]
  },
  {
   "cell_type": "code",
   "execution_count": 14,
   "metadata": {},
   "outputs": [],
   "source": [
    "\"\"\"\n",
    "@param A: matrix represented by 2D-array\n",
    "@param B: matrix represented by 2D-array\n",
    "returns Ax\n",
    "\"\"\"\n",
    "def matrix_matrix_product(A, B):\n",
    "    nbLinesA = len(A)\n",
    "    nbColA = len(A[0])\n",
    "    \n",
    "    nbLinesB = len(B)\n",
    "    nbColB = len(B[0])\n",
    "    \n",
    "    # nbLinesA * nbColA X nbLinesB X nbColB\n",
    "    if nbColA != nbLinesB:\n",
    "        raise ValueError(\"Dimensions between A and B are not compatible for matrix matrix product\")\n",
    "    \n",
    "    ## reprendre ici\n",
    "    \n",
    "    result = []\n",
    "    for line in range(nbLinesA):\n",
    "        resultLine = []\n",
    "        for j in range(nbColB):\n",
    "            element_line_i = 0\n",
    "            for i in range(nbColA):\n",
    "                element_line_i += A[line][i]*B[i][j]\n",
    "            resultLine.append(element_line_i)\n",
    "        result.append(resultLine)\n",
    "    return result"
   ]
  },
  {
   "cell_type": "markdown",
   "metadata": {},
   "source": [
    "## Euclidian Norm"
   ]
  },
  {
   "cell_type": "markdown",
   "metadata": {},
   "source": [
    "Here is the formula of the euclidian norm: $||x|| = \\sqrt{\\sum_{i=1}^n{x_i^2}}$"
   ]
  },
  {
   "cell_type": "code",
   "execution_count": 15,
   "metadata": {},
   "outputs": [],
   "source": [
    "\"\"\"\n",
    "@param x: a vector represented by a 1D-array\n",
    "\"\"\"\n",
    "def euclidian_norm(x):\n",
    "    result = 0\n",
    "    for i in range(len(x)):\n",
    "        result += x[i]**2\n",
    "    return result**(1/2)"
   ]
  },
  {
   "cell_type": "markdown",
   "metadata": {
    "colab_type": "text",
    "id": "SsQLT38gVbn_"
   },
   "source": [
    "# **Tests**"
   ]
  },
  {
   "cell_type": "markdown",
   "metadata": {
    "colab_type": "text",
    "id": "RLwlnOzuV-Cd"
   },
   "source": [
    "In this lab, we just run some tests to check if the functions give the expected results."
   ]
  },
  {
   "cell_type": "markdown",
   "metadata": {},
   "source": [
    "## Scalar product tests"
   ]
  },
  {
   "cell_type": "code",
   "execution_count": 16,
   "metadata": {},
   "outputs": [],
   "source": [
    "x = [2, 3]\n",
    "y = [3, 4]\n",
    "z = [300, 4, 5]\n",
    "t = [-1, 0, 5.5]\n",
    "assert scalar_product(x, y) == 18\n",
    "assert scalar_product(z, t) == -272.5"
   ]
  },
  {
   "cell_type": "markdown",
   "metadata": {},
   "source": [
    "## Matrix Vector product tests "
   ]
  },
  {
   "cell_type": "code",
   "execution_count": 17,
   "metadata": {},
   "outputs": [],
   "source": [
    "# general matrix, matrix size 1, square matrix\n",
    "\n",
    "A = [[1, 2], \n",
    "     [2, 3], \n",
    "     [3, 4]]\n",
    "B = [[0.5]] \n",
    "C = [[1, 2], [2, 3]]\n",
    "\n",
    "x = [2, 3]\n",
    "y = [5]\n",
    "\n",
    "assert matrix_vector_product(x, A) == [8, 13, 18]\n",
    "assert matrix_vector_product(y, B) == [2.5]\n",
    "assert matrix_vector_product(x, C) == [8, 13]"
   ]
  },
  {
   "cell_type": "markdown",
   "metadata": {},
   "source": [
    "## Matrix Matrix product tests "
   ]
  },
  {
   "cell_type": "code",
   "execution_count": 18,
   "metadata": {},
   "outputs": [],
   "source": [
    "A = [[1, 2], \n",
    "     [2, 3], \n",
    "     [3, 4]]\n",
    "\n",
    "B = [[2, 3, 4],\n",
    "     [3, 4, 5]]\n",
    "\n",
    "# test final dimensions \n",
    "assert len(matrix_matrix_product(A,B)) == len(A)\n",
    "assert len(matrix_matrix_product(A,B)[0]) == len(B[0])\n",
    "\n",
    "# test result \n",
    "assert matrix_matrix_product(A,B) == [[8, 11, 14], [13, 18, 23], [18, 25, 32]]"
   ]
  },
  {
   "cell_type": "markdown",
   "metadata": {},
   "source": [
    "## Euclidian norm tests "
   ]
  },
  {
   "cell_type": "code",
   "execution_count": 19,
   "metadata": {},
   "outputs": [],
   "source": [
    "assert euclidian_norm([0,3,4]) == 5\n",
    "assert euclidian_norm([1]) == 1    \n",
    "assert euclidian_norm([1]*100) == 10"
   ]
  },
  {
   "cell_type": "markdown",
   "metadata": {
    "colab_type": "text",
    "id": "_4GLBv0zWr7m"
   },
   "source": [
    "# **Discussion**"
   ]
  },
  {
   "cell_type": "markdown",
   "metadata": {
    "colab_type": "text",
    "id": "6bcsDSoRXHZe"
   },
   "source": [
    "The running time complexity if those algorithms are interesting. Most importantly, the multiplication of 2 matrices of sizes ($n \\times m$) and ($m \\times p$) is in $O(nmp) = O(n^3)$ if the matrices are square. This gives a good motivation to find ways to improve this algorithm or to change the way that we represent matrices in our code. This was already mentioned in lectures using 3 different arrays to represent sparse matrices. "
   ]
  }
 ],
 "metadata": {
  "colab": {
   "include_colab_link": true,
   "name": "template-report-lab-X.ipynb",
   "provenance": []
  },
  "kernelspec": {
   "display_name": "Python 3",
   "language": "python",
   "name": "python3"
  },
  "language_info": {
   "codemirror_mode": {
    "name": "ipython",
    "version": 3
   },
   "file_extension": ".py",
   "mimetype": "text/x-python",
   "name": "python",
   "nbconvert_exporter": "python",
   "pygments_lexer": "ipython3",
   "version": "3.8.7"
  },
  "toc": {
   "base_numbering": 1,
   "nav_menu": {},
   "number_sections": true,
   "sideBar": true,
   "skip_h1_title": false,
   "title_cell": "Table of Contents",
   "title_sidebar": "Contents",
   "toc_cell": false,
   "toc_position": {},
   "toc_section_display": true,
   "toc_window_display": false
  }
 },
 "nbformat": 4,
 "nbformat_minor": 1
}

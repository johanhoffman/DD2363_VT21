{
 "cells": [
  {
   "cell_type": "markdown",
   "metadata": {
    "colab_type": "text",
    "id": "6RgtXlfYO_i7"
   },
   "source": [
    "# **Lab 1: Introduction**\n",
    "**Theo Puranen Åhfeldt**"
   ]
  },
  {
   "cell_type": "markdown",
   "metadata": {
    "colab_type": "text",
    "id": "9x_J5FVuPzbm"
   },
   "source": [
    "# **Abstract**"
   ]
  },
  {
   "cell_type": "markdown",
   "metadata": {
    "colab_type": "text",
    "id": "6UFTSzW7P8kL"
   },
   "source": [
    "The objective of this report is to implement some elementary operators in linear algebra. The implementations are tested by comparing the output with the existing numpy function on a few but representable input examples. The testing indicates that the implementations are successful."
   ]
  },
  {
   "cell_type": "markdown",
   "metadata": {
    "colab_type": "text",
    "id": "OkT8J7uOWpT3"
   },
   "source": [
    "# **About the code**"
   ]
  },
  {
   "cell_type": "code",
   "execution_count": 1,
   "metadata": {
    "colab": {
     "base_uri": "https://localhost:8080/",
     "height": 34
    },
    "colab_type": "code",
    "id": "Pdll1Xc9WP0e",
    "outputId": "6435158d-714b-4fa0-f688-bbd72fa2bc02"
   },
   "outputs": [
    {
     "data": {
      "text/plain": [
       "'KTH Royal Institute of Technology, Stockholm, Sweden.'"
      ]
     },
     "execution_count": 1,
     "metadata": {},
     "output_type": "execute_result"
    }
   ],
   "source": [
    "\"\"\"This program is a template for lab reports in the course\"\"\"\n",
    "\"\"\"DD2363 Methods in Scientific Computing, \"\"\"\n",
    "\"\"\"KTH Royal Institute of Technology, Stockholm, Sweden.\"\"\"\n",
    "\n",
    "# Copyright (C) 2020 Johan Hoffman (jhoffman@kth.se)\n",
    "\n",
    "# This file is part of the course DD2365 Advanced Computation in Fluid Mechanics\n",
    "# KTH Royal Institute of Technology, Stockholm, Sweden\n",
    "#\n",
    "# This is free software: you can redistribute it and/or modify\n",
    "# it under the terms of the GNU Lesser General Public License as published by\n",
    "# the Free Software Foundation, either version 3 of the License, or\n",
    "# (at your option) any later version.\n",
    "\n",
    "# This template is maintained by Johan Hoffman\n",
    "# Please report problems to jhoffman@kth.se"
   ]
  },
  {
   "cell_type": "markdown",
   "metadata": {
    "colab_type": "text",
    "id": "28xLGz8JX3Hh"
   },
   "source": [
    "# **Set up environment**"
   ]
  },
  {
   "cell_type": "markdown",
   "metadata": {
    "colab_type": "text",
    "id": "D2PYNusD08Wa"
   },
   "source": [
    "To have access to the neccessary modules you have to run this cell."
   ]
  },
  {
   "cell_type": "code",
   "execution_count": 2,
   "metadata": {
    "colab": {},
    "colab_type": "code",
    "id": "Xw7VlErAX7NS"
   },
   "outputs": [],
   "source": [
    "# Load neccessary modules.\n",
    "import numpy as np"
   ]
  },
  {
   "cell_type": "markdown",
   "metadata": {
    "colab_type": "text",
    "id": "gnO3lhAigLev"
   },
   "source": [
    "# **Introduction**"
   ]
  },
  {
   "cell_type": "markdown",
   "metadata": {
    "colab_type": "text",
    "id": "l5zMzgPlRAF6"
   },
   "source": [
    "The problem investigated in this report is the implementation of the elementary linear algebra operators scalar product, matrix-vector product, matrix-matrix product, Euclidian norm and Euclidian distance. I have chosen to use a functional style, defining the operators purely in terms of other functions rather than imperative calculations because I find this to be easier to understand."
   ]
  },
  {
   "cell_type": "markdown",
   "metadata": {
    "colab_type": "text",
    "id": "jOQvukXZq5U5"
   },
   "source": [
    "# **Method**"
   ]
  },
  {
   "cell_type": "markdown",
   "metadata": {
    "colab_type": "text",
    "id": "zF4iBj5VURZx"
   },
   "source": [
    "Numpy arrays and basic functions in the numpy library (such as elementwise multiplication and subtraction) are used to implement the operators. Subsequent operators are concisely implemented in terms of previously implemended operators. Each implementation is tested against the corresponding function in the numpy library on a few but representative samples of inputs, except Euclidian distance which lacks a corresponding function."
   ]
  },
  {
   "cell_type": "markdown",
   "metadata": {},
   "source": [
    "## Scalar product"
   ]
  },
  {
   "cell_type": "markdown",
   "metadata": {},
   "source": [
    "We represent vectors using 1-dimensional numpy arrays. The scalar product is simply the sum of all elements of the elementwise product of the two vectors. The assertion is needed because numpy thinks multiplying a singleton array with anything is fine, treating it as a scalar."
   ]
  },
  {
   "cell_type": "code",
   "execution_count": 3,
   "metadata": {},
   "outputs": [],
   "source": [
    "def scalar_product(x, y):\n",
    "    assert x.shape == y.shape, \"Incompatible dimensions\"\n",
    "    return np.sum(x * y)"
   ]
  },
  {
   "cell_type": "markdown",
   "metadata": {},
   "source": [
    "### Tests"
   ]
  },
  {
   "cell_type": "code",
   "execution_count": 4,
   "metadata": {},
   "outputs": [],
   "source": [
    "def verify_scalar_product(x, y):\n",
    "    assert np.dot(x, y) == scalar_product(x, y)\n",
    "\n",
    "def test_scalar_product():\n",
    "    verify_scalar_product(np.array([1,0]), np.array([3,2]))\n",
    "    verify_scalar_product(np.array([4]), np.array([1]))\n",
    "    verify_scalar_product(np.array([-1,0,0]), np.array([1,0,0]))\n",
    "    verify_scalar_product(np.array([1,1,0]), np.array([-1,1,0]))\n",
    "    verify_scalar_product(np.array([49814,-100358,97928]), np.array([12334,8723,-3592]))"
   ]
  },
  {
   "cell_type": "markdown",
   "metadata": {},
   "source": [
    "## Matrix-vector product"
   ]
  },
  {
   "cell_type": "markdown",
   "metadata": {},
   "source": [
    "We represent matrices as 2-dimensional numpy arrays. To get the matrix-vector product of $A$ and $x$, we simply map the scalar product with $x$ over the rows of $A$."
   ]
  },
  {
   "cell_type": "code",
   "execution_count": 5,
   "metadata": {},
   "outputs": [],
   "source": [
    "def matrix_vector_product(A, x):\n",
    "    return np.array(list(map(lambda row: scalar_product(row, x), A)))"
   ]
  },
  {
   "cell_type": "markdown",
   "metadata": {},
   "source": [
    "### Tests"
   ]
  },
  {
   "cell_type": "code",
   "execution_count": 6,
   "metadata": {},
   "outputs": [],
   "source": [
    "def verify_matrix_vector_product(A, x):\n",
    "    assert np.array_equal(np.matmul(A, x), matrix_vector_product(A, x))\n",
    "\n",
    "def test_matrix_vector_product():\n",
    "    A = np.array([[1, 0],\n",
    "                  [0, 1]])\n",
    "    B = np.array([[0, -1],\n",
    "                  [1, 0]])\n",
    "    C = np.array([[2, 0],\n",
    "                  [0, 2]])\n",
    "    D = np.array([[1, 0],\n",
    "                  [1, 1]])\n",
    "    x = np.array([3, 4])\n",
    "    y = np.array([-7, 21])\n",
    "    verify_matrix_vector_product(A, x)\n",
    "    verify_matrix_vector_product(A, y)\n",
    "    verify_matrix_vector_product(B, x)\n",
    "    verify_matrix_vector_product(B, y)\n",
    "    verify_matrix_vector_product(C, x)\n",
    "    verify_matrix_vector_product(C, y)\n",
    "    verify_matrix_vector_product(D, x)\n",
    "    verify_matrix_vector_product(D, y)\n",
    "    big = np.array([[1, 0, 3, 5, -4],\n",
    "                    [0, 1, 5, 0, 3],\n",
    "                    [3, 1, 6, -3, 1],\n",
    "                    [0, -10, 0, 0, 2]])\n",
    "    verify_matrix_vector_product(big, np.array([3,-94,1,0,120]))"
   ]
  },
  {
   "cell_type": "markdown",
   "metadata": {},
   "source": [
    "## Matrix-matrix product"
   ]
  },
  {
   "cell_type": "markdown",
   "metadata": {},
   "source": [
    "We calculate the matrix-matrix product of $A$ and $B$ by mapping the product with $A$ over all columns of $B$"
   ]
  },
  {
   "cell_type": "code",
   "execution_count": 7,
   "metadata": {},
   "outputs": [],
   "source": [
    "def matrix_matrix_product(A, B):\n",
    "    return np.array(list(map(lambda col: matrix_vector_product(A, col), B.transpose()))).transpose()"
   ]
  },
  {
   "cell_type": "markdown",
   "metadata": {},
   "source": [
    "### Tests"
   ]
  },
  {
   "cell_type": "code",
   "execution_count": 8,
   "metadata": {},
   "outputs": [],
   "source": [
    "def verify_matrix_matrix_product(A, B):\n",
    "    assert np.array_equal(np.matmul(A, B), matrix_matrix_product(A, B))\n",
    "\n",
    "def test_matrix_matrix_product():\n",
    "    A = np.array([[1, 0],\n",
    "                  [0, 1]])\n",
    "    B = np.array([[0, -1],\n",
    "                  [1, 0]])\n",
    "    C = np.array([[2, 0],\n",
    "                  [0, 2]])\n",
    "    D = np.array([[1, 0],\n",
    "                  [1, 1]])\n",
    "    verify_matrix_matrix_product(A, A)\n",
    "    verify_matrix_matrix_product(A, B)\n",
    "    verify_matrix_matrix_product(A, C)\n",
    "    verify_matrix_matrix_product(A, D)\n",
    "    verify_matrix_matrix_product(B, A)\n",
    "    verify_matrix_matrix_product(B, B)\n",
    "    verify_matrix_matrix_product(B, C)\n",
    "    verify_matrix_matrix_product(B, D)\n",
    "    verify_matrix_matrix_product(C, A)\n",
    "    verify_matrix_matrix_product(C, B)\n",
    "    verify_matrix_matrix_product(C, C)\n",
    "    verify_matrix_matrix_product(C, D)\n",
    "    verify_matrix_matrix_product(D, A)\n",
    "    verify_matrix_matrix_product(D, B)\n",
    "    verify_matrix_matrix_product(D, C)\n",
    "    verify_matrix_matrix_product(D, D)\n",
    "    big1 = np.array([[1, 0, 3, 5, -4],\n",
    "                     [0, 1, 5, 0, 3],\n",
    "                     [3, 1, 6, -3, 1],\n",
    "                     [0, -10, 0, 0, 2]])\n",
    "    big2 = np.array([[1, 0, 3, 5],\n",
    "                     [0, 1, 5, 0],\n",
    "                     [3, 1, 6, -3],\n",
    "                     [0, -10, 0, 0],\n",
    "                     [34, 2, 0, 4]])\n",
    "    verify_matrix_matrix_product(big1, big2)\n",
    "    verify_matrix_matrix_product(big2, big1)"
   ]
  },
  {
   "cell_type": "markdown",
   "metadata": {},
   "source": [
    "## Euclidian norm"
   ]
  },
  {
   "cell_type": "markdown",
   "metadata": {},
   "source": [
    "The euclidian norm of $x$ is simply the square root of the scalar product of $x$ with itself."
   ]
  },
  {
   "cell_type": "code",
   "execution_count": 9,
   "metadata": {},
   "outputs": [],
   "source": [
    "def euclidian_norm(x):\n",
    "    return np.sqrt(scalar_product(x,x))"
   ]
  },
  {
   "cell_type": "markdown",
   "metadata": {},
   "source": [
    "### Tests"
   ]
  },
  {
   "cell_type": "code",
   "execution_count": 10,
   "metadata": {},
   "outputs": [],
   "source": [
    "def verify_euclidian_norm(x):\n",
    "    assert np.linalg.norm(x) == euclidian_norm(x)\n",
    "\n",
    "def test_euclidian_norm():\n",
    "    verify_euclidian_norm(np.array([1,0,0]))\n",
    "    verify_euclidian_norm(np.array([3,2]))\n",
    "    verify_euclidian_norm(np.array([4]))\n",
    "    verify_euclidian_norm(np.array([-1,0,0,0]))\n",
    "    verify_euclidian_norm(np.array([-1,1,0]))\n",
    "    verify_euclidian_norm(np.array([49814,-100358,97928]))"
   ]
  },
  {
   "cell_type": "markdown",
   "metadata": {},
   "source": [
    "## Euclidian distance"
   ]
  },
  {
   "cell_type": "markdown",
   "metadata": {},
   "source": [
    "The euclidian distance can easily be defined using the euclidian norm."
   ]
  },
  {
   "cell_type": "code",
   "execution_count": 11,
   "metadata": {},
   "outputs": [],
   "source": [
    "def euclidian_distance(x, y):\n",
    "    assert x.shape == y.shape, \"Incompatible dimensions\"\n",
    "    return euclidian_norm(x - y)"
   ]
  },
  {
   "cell_type": "markdown",
   "metadata": {},
   "source": [
    "### Tests"
   ]
  },
  {
   "cell_type": "code",
   "execution_count": 12,
   "metadata": {},
   "outputs": [],
   "source": [
    "def test_euclidian_distance():\n",
    "    assert euclidian_distance(np.array([1,0,0]), np.array([0,0,0])) == 1\n",
    "    assert euclidian_distance(np.array([1,0,0]), np.array([-1,0,0])) == 2\n",
    "    assert euclidian_distance(np.array([1,0]), np.array([0,1])) == np.sqrt(2)"
   ]
  },
  {
   "cell_type": "markdown",
   "metadata": {
    "colab_type": "text",
    "id": "SsQLT38gVbn_"
   },
   "source": [
    "# **Results**"
   ]
  },
  {
   "cell_type": "markdown",
   "metadata": {},
   "source": [
    "The following code cell runs all test and shows that the implementions are successful:"
   ]
  },
  {
   "cell_type": "code",
   "execution_count": 13,
   "metadata": {},
   "outputs": [
    {
     "name": "stdout",
     "output_type": "stream",
     "text": [
      "OK! completed all tests\n"
     ]
    }
   ],
   "source": [
    "test_scalar_product()\n",
    "test_matrix_vector_product()\n",
    "test_matrix_matrix_product()\n",
    "test_euclidian_norm()\n",
    "test_euclidian_distance()\n",
    "print(\"OK! completed all tests\")"
   ]
  },
  {
   "cell_type": "markdown",
   "metadata": {
    "colab_type": "text",
    "id": "_4GLBv0zWr7m"
   },
   "source": [
    "# **Discussion**"
   ]
  },
  {
   "cell_type": "markdown",
   "metadata": {},
   "source": [
    "The tests are comprehensive enough to give a clear indication that the implementations are correct. The functional style also make them easy to analyze and see that they correspond to their mathematical definitions. Euclidian distance was not tested as comprehensively as it is trivially different form Euclidian norm which was tested comprehensively."
   ]
  }
 ],
 "metadata": {
  "colab": {
   "include_colab_link": true,
   "name": "template-report-lab-X.ipynb",
   "provenance": []
  },
  "kernelspec": {
   "display_name": "Python 3",
   "language": "python",
   "name": "python3"
  },
  "language_info": {
   "codemirror_mode": {
    "name": "ipython",
    "version": 3
   },
   "file_extension": ".py",
   "mimetype": "text/x-python",
   "name": "python",
   "nbconvert_exporter": "python",
   "pygments_lexer": "ipython3",
   "version": "3.8.6"
  }
 },
 "nbformat": 4,
 "nbformat_minor": 1
}

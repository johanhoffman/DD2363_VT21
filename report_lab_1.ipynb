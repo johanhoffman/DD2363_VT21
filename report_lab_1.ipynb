{
  "nbformat": 4,
  "nbformat_minor": 0,
  "metadata": {
    "colab": {
      "name": "report-lab-1.ipynb",
      "provenance": [],
      "include_colab_link": true
    },
    "kernelspec": {
      "name": "python3",
      "display_name": "Python 3"
    }
  },
  "cells": [
    {
      "cell_type": "markdown",
      "metadata": {
        "id": "view-in-github",
        "colab_type": "text"
      },
      "source": [
        "<a href=\"https://colab.research.google.com/github/johanhoffman/DD2363_VT21/blob/mirjajLab1/report_lab_1.ipynb\" target=\"_parent\"><img src=\"https://colab.research.google.com/assets/colab-badge.svg\" alt=\"Open In Colab\"/></a>"
      ]
    },
    {
      "cell_type": "markdown",
      "metadata": {
        "id": "6RgtXlfYO_i7"
      },
      "source": [
        "# **Lab 1: Introduction**\n",
        "**Author: Template by Johan Hoffman, extended by Mirja Johnsson**"
      ]
    },
    {
      "cell_type": "markdown",
      "metadata": {
        "id": "9x_J5FVuPzbm"
      },
      "source": [
        "# **Abstract**"
      ]
    },
    {
      "cell_type": "markdown",
      "metadata": {
        "id": "yJipbXtnjrJZ"
      },
      "source": [
        "This lab is an introduction to Scientific Computation, and concerns operations in Linear algebra."
      ]
    },
    {
      "cell_type": "markdown",
      "metadata": {
        "id": "OkT8J7uOWpT3"
      },
      "source": [
        "#**About the code**"
      ]
    },
    {
      "cell_type": "markdown",
      "metadata": {
        "id": "HmB2noTr1Oyo"
      },
      "source": [
        "A short statement on who is the author of the file, and if the code is distributed under a certain license. "
      ]
    },
    {
      "cell_type": "code",
      "metadata": {
        "id": "Pdll1Xc9WP0e",
        "colab": {
          "base_uri": "https://localhost:8080/",
          "height": 37
        },
        "outputId": "aa244577-301d-42a9-b60a-38c0e6939102"
      },
      "source": [
        "\"\"\"This program is a template for lab reports in the course\"\"\"\n",
        "\"\"\"DD2363 Methods in Scientific Computing, \"\"\"\n",
        "\"\"\"KTH Royal Institute of Technology, Stockholm, Sweden.\"\"\"\n",
        "\n",
        "# Copyright (C) 2020 Johan Hoffman (jhoffman@kth.se)\n",
        "\n",
        "# This file is part of the course DD2365 Advanced Computation in Fluid Mechanics\n",
        "# KTH Royal Institute of Technology, Stockholm, Sweden\n",
        "#\n",
        "# This is free software: you can redistribute it and/or modify\n",
        "# it under the terms of the GNU Lesser General Public License as published by\n",
        "# the Free Software Foundation, either version 3 of the License, or\n",
        "# (at your option) any later version.\n",
        "\n",
        "# This template is maintained by Johan Hoffman\n",
        "# Please report problems to jhoffman@kth.se"
      ],
      "execution_count": null,
      "outputs": [
        {
          "output_type": "execute_result",
          "data": {
            "application/vnd.google.colaboratory.intrinsic+json": {
              "type": "string"
            },
            "text/plain": [
              "'KTH Royal Institute of Technology, Stockholm, Sweden.'"
            ]
          },
          "metadata": {
            "tags": []
          },
          "execution_count": 10
        }
      ]
    },
    {
      "cell_type": "markdown",
      "metadata": {
        "id": "28xLGz8JX3Hh"
      },
      "source": [
        "# **Set up environment**"
      ]
    },
    {
      "cell_type": "markdown",
      "metadata": {
        "id": "D2PYNusD08Wa"
      },
      "source": [
        "To have access to the neccessary modules you have to run this cell. If you need additional modules, this is where you add them. "
      ]
    },
    {
      "cell_type": "code",
      "metadata": {
        "id": "Xw7VlErAX7NS"
      },
      "source": [
        "# Load neccessary modules.\n",
        "from google.colab import files\n",
        "\n",
        "import time\n",
        "import numpy as np\n",
        "\n",
        "#try:\n",
        "#    from dolfin import *; from mshr import *\n",
        "#except ImportError as e:\n",
        "#    !apt-get install -y -qq software-properties-common \n",
        "#    !add-apt-repository -y ppa:fenics-packages/fenics\n",
        "#    !apt-get update -qq\n",
        "#    !apt install -y --no-install-recommends fenics\n",
        "#    from dolfin import *; from mshr import *\n",
        "    \n",
        "#import dolfin.common.plotting as fenicsplot\n",
        "\n",
        "from matplotlib import pyplot as plt\n",
        "from matplotlib import tri\n",
        "from matplotlib import axes\n",
        "from mpl_toolkits.mplot3d import Axes3D\n",
        "\n",
        "\n",
        "\n"
      ],
      "execution_count": 1,
      "outputs": []
    },
    {
      "cell_type": "markdown",
      "metadata": {
        "id": "gnO3lhAigLev"
      },
      "source": [
        "# **Introduction**"
      ]
    },
    {
      "cell_type": "markdown",
      "metadata": {
        "id": "l5zMzgPlRAF6"
      },
      "source": [
        "There were 3 mandatory problems to solve, and 2 voluntary bonus problems.\n",
        "The mandatory ones are: \n",
        "1. Calculate the scalar product of vectors x, y\n",
        "\n",
        "2. Calculate the matrix-vector product of vector x, matrix A\n",
        "\n",
        "3. Find the matrix-matrix product of matrices A, B\n",
        "\n",
        "I also decided to do one of the voluntary problems:\n",
        "\n",
        "4. Calculate the Euclidian norm of input vector x \n",
        "\n",
        "These were intended to be solved without the use of of the optimised mathematical library numpy. Therefore I have opted to do these calculations by defining functions that make use of for loops.\n",
        "\n"
      ]
    },
    {
      "cell_type": "markdown",
      "metadata": {
        "id": "jOQvukXZq5U5"
      },
      "source": [
        "# **Method**"
      ]
    },
    {
      "cell_type": "markdown",
      "metadata": {
        "id": "zF4iBj5VURZx"
      },
      "source": [
        "To solve this lab I make the assumption that vectors are lists of integers, and that matrices are lists of lists of integers. The list at position 0 in the outer list represents row 1 of the matrix, the list at the last position represents the last row."
      ]
    },
    {
      "cell_type": "code",
      "metadata": {
        "id": "TId01NKOOSmk"
      },
      "source": [
        "import math\n",
        "# xy = scalar\n",
        "def scalarProduct(x,y):\n",
        "  if x.length == y.length:\n",
        "    result = 0\n",
        "    for i in range(x.length):\n",
        "      result = result + x[i]*y[i]\n",
        "\n",
        "    return result\n",
        "  else: \n",
        "    print(\"Incongruous dimensions of vectors x and y\")\n",
        "    return None\n",
        "\n",
        "# Ax = b\n",
        "# x is an nx1 vector \n",
        "# Takes every row of matrix A and multiplies it with the vector x\n",
        "# Returns the resulting vector as a list\n",
        "def matrixVectorProduct(x, A):\n",
        "  b = []\n",
        "  for i in range (A.length):\n",
        "    t = scalarProduct(x, A[i])\n",
        "    if t == None:\n",
        "      return None\n",
        "    else:\n",
        "        b.append(t)\n",
        "\n",
        "  return b\n",
        "\n",
        "# AB = C\n",
        "# Takes every row of A as a vector to be multiplied with the matrix B  \n",
        "# Returns The resulting matrix as a list of lists\n",
        "def matrixMatrixProduct(A,B):\n",
        "  C = []\n",
        "  for i in range (A.length):\n",
        "    t = scalarProduct(A[i], B)\n",
        "    if t == None:\n",
        "      return None\n",
        "    else:   \n",
        "      C.append(t)\n",
        "  return C\n",
        "\n",
        "\n",
        "def euclidianNorm(x):\n",
        "  norm = 0\n",
        "  for i in range(x.length):\n",
        "    norm = norm + x[i]**2\n",
        "\n",
        "  return math.sqrt(norm)"
      ],
      "execution_count": 12,
      "outputs": []
    },
    {
      "cell_type": "code",
      "metadata": {
        "id": "CVuT-WhIoT2k"
      },
      "source": [
        "import unittest \n",
        "\n",
        "class TestLinAlg():\n",
        "\n",
        "    def test_scalar(self):\n",
        "        self.assertEqual(scalarProduct([1,2,3,4],[1,0,-1,3]), np.dot([1,2,3,4],[1,0,-1,3]))\n",
        "        self.assertNone(scalarProduct([1,2,3,4],[1,0]))\n",
        "\n",
        "    def test_mat_vec(self):\n",
        "        self.assertEqual(matrixVectorProduct([1,2,3,4],[[1,0,-1,3],[2,5,4,0],[8,0,1,1]]), np.dot([1,2,3,4],[[1,0,-1,3],[2,5,4,0],[8,0,1,1]]))\n",
        "        self.assertNone(matrixVectorProduct([1,2,3,4],[[1,0,-1],[2,5,4],[8,0,1]]))\n",
        "\n",
        "    def test_mat_mat(self):\n",
        "        A = [[1,0,-1,3],[2,5,4,0],[8,0,1,1]]\n",
        "        B = [[1,4,1,-3],[-2,0,4,5],[7,5,2,1],[5,1,0,1]]\n",
        "        self.assertEqual(matrixMatrixProduct(A,B), np.dot(A,B))\n",
        "        self.assertNone(A,[[1,0,-1],[2,5,4],[8,0,1]])\n",
        "\n",
        "    def test_euc_norm(self):\n",
        "        self.assertEqual(euclidianNorm([0,0,0,0,0,0,0,0,0,0,0],0))\n",
        "        self.assertEqual(euclidianNorm([1,1,1,1,1,1,1,1,1],3))\n",
        "        self.assertEqual(euclidianNorm([-1,-1,-1,-1,-1,-1,-1,-1,-1],3))\n",
        "\n",
        "      \n",
        "      \n",
        "\n"
      ],
      "execution_count": 16,
      "outputs": []
    },
    {
      "cell_type": "markdown",
      "metadata": {
        "id": "SsQLT38gVbn_"
      },
      "source": [
        "# **Results**"
      ]
    },
    {
      "cell_type": "markdown",
      "metadata": {
        "id": "RLwlnOzuV-Cd"
      },
      "source": [
        "When doing multiplication of vectors and matrices with other vectors and matrices the most important rule is that the dimensions must be congruent with each other. The matrix/vector to the left must have as many columns as the vector/matrix to the right has rows. If this is not the case the multiplication is impossible to perform."
      ]
    },
    {
      "cell_type": "markdown",
      "metadata": {
        "id": "_4GLBv0zWr7m"
      },
      "source": [
        "# **Discussion**"
      ]
    },
    {
      "cell_type": "markdown",
      "metadata": {
        "id": "6bcsDSoRXHZe"
      },
      "source": [
        "Not applicable to this Lab."
      ]
    }
  ]
}
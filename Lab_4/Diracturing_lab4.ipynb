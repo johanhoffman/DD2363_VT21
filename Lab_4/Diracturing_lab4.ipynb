{
  "nbformat": 4,
  "nbformat_minor": 0,
  "metadata": {
    "colab": {
      "name": "Diracturing_lab4.ipynb",
      "provenance": [],
      "collapsed_sections": [
        "OkT8J7uOWpT3"
      ],
      "include_colab_link": true
    },
    "kernelspec": {
      "name": "python3",
      "display_name": "Python 3"
    }
  },
  "cells": [
    {
      "cell_type": "markdown",
      "metadata": {
        "id": "view-in-github",
        "colab_type": "text"
      },
      "source": [
        "<a href=\"https://colab.research.google.com/github/johanhoffman/DD2363_VT21/blob/Diracturing/Lab_4/Diracturing_lab4.ipynb\" target=\"_parent\"><img src=\"https://colab.research.google.com/assets/colab-badge.svg\" alt=\"Open In Colab\"/></a>"
      ]
    },
    {
      "cell_type": "markdown",
      "metadata": {
        "id": "6RgtXlfYO_i7"
      },
      "source": [
        "# **Lab 4: **\n",
        "**Julius Andersson**"
      ]
    },
    {
      "cell_type": "markdown",
      "metadata": {
        "id": "9x_J5FVuPzbm"
      },
      "source": [
        "# **Abstract**\r\n",
        "In this lab an algorithm was constructed to approximate functions. To be more specific the algorithm is based on the L2 projection to point wise linear approximation over a mesh in 1D. Furthermore the accuracy and the convergence rate was tested.  "
      ]
    },
    {
      "cell_type": "markdown",
      "metadata": {
        "id": "OkT8J7uOWpT3"
      },
      "source": [
        "#**About the code**"
      ]
    },
    {
      "cell_type": "markdown",
      "metadata": {
        "id": "HmB2noTr1Oyo"
      },
      "source": [
        "A short statement on who is the author of the file, and if the code is distributed under a certain license. "
      ]
    },
    {
      "cell_type": "code",
      "metadata": {
        "id": "Pdll1Xc9WP0e",
        "colab": {
          "base_uri": "https://localhost:8080/",
          "height": 0
        },
        "outputId": "ce273a3e-dd6e-434e-83e8-e601d66b890c"
      },
      "source": [
        "\"\"\"This program is a template for lab reports in the course\"\"\"\n",
        "\"\"\"DD2363 Methods in Scientific Computing, \"\"\"\n",
        "\"\"\"KTH Royal Institute of Technology, Stockholm, Sweden.\"\"\"\n",
        "\n",
        "# Copyright (C) 2020 Johan Hoffman (jhoffman@kth.se)\n",
        "\n",
        "# This file is part of the course DD2365 Advanced Computation in Fluid Mechanics\n",
        "# KTH Royal Institute of Technology, Stockholm, Sweden\n",
        "#\n",
        "# This is free software: you can redistribute it and/or modify\n",
        "# it under the terms of the GNU Lesser General Public License as published by\n",
        "# the Free Software Foundation, either version 3 of the License, or\n",
        "# (at your option) any later version.\n",
        "\n",
        "# This template is maintained by Johan Hoffman\n",
        "# Please report problems to jhoffman@kth.se"
      ],
      "execution_count": 2,
      "outputs": [
        {
          "output_type": "execute_result",
          "data": {
            "application/vnd.google.colaboratory.intrinsic+json": {
              "type": "string"
            },
            "text/plain": [
              "'KTH Royal Institute of Technology, Stockholm, Sweden.'"
            ]
          },
          "metadata": {
            "tags": []
          },
          "execution_count": 2
        }
      ]
    },
    {
      "cell_type": "markdown",
      "metadata": {
        "id": "28xLGz8JX3Hh"
      },
      "source": [
        "# **Set up environment**"
      ]
    },
    {
      "cell_type": "markdown",
      "metadata": {
        "id": "D2PYNusD08Wa"
      },
      "source": [
        "To have access to the neccessary modules you have to run this cell. If you need additional modules, this is where you add them. "
      ]
    },
    {
      "cell_type": "code",
      "metadata": {
        "id": "Xw7VlErAX7NS"
      },
      "source": [
        "# Load neccessary modules.\n",
        "from google.colab import files\n",
        "\n",
        "import time\n",
        "import numpy as np\n",
        "import scipy.integrate as integrate\n",
        "import math\n",
        "\n",
        "#try:\n",
        "#    from dolfin import *; from mshr import *\n",
        "#except ImportError as e:\n",
        "#    !apt-get install -y -qq software-properties-common \n",
        "#    !add-apt-repository -y ppa:fenics-packages/fenics\n",
        "#    !apt-get update -qq\n",
        "#    !apt install -y --no-install-recommends fenics\n",
        "#    from dolfin import *; from mshr import *\n",
        "    \n",
        "#import dolfin.common.plotting as fenicsplot\n",
        "\n",
        "from matplotlib import pyplot as plt\n",
        "from matplotlib import tri\n",
        "from matplotlib import axes\n",
        "from mpl_toolkits.mplot3d import Axes3D"
      ],
      "execution_count": 75,
      "outputs": []
    },
    {
      "cell_type": "markdown",
      "metadata": {
        "id": "gnO3lhAigLev"
      },
      "source": [
        "# **Introduction**\r\n",
        "There exist many different methods to approximate functions. Here we focus on the projection method. We can approximate a function by projecting it into a finite dimensional subspace. We are interested in the Hilbert space $L^2([a,b])$ with the inner product, $(f,g)=\\int_{a}^{b} f(x)g(x) \\,dx$. In this lab the subspace is the space of continious piecewise linear polynomials. Equation 9.12 can be restated as $\\sum_{j=1}^{N}\\alpha_j(\\phi_j,\\phi_i)=(f,\\phi_i), \\forall i=1,...,N.$ This correspond to the matrix equation A$\\alpha$=b. By calculating A and b we can solve for $\\alpha$. We then have our approximation $P_Nf(x)=\\sum_{j=1}^{N}\\alpha_j\\phi_j(x)$."
      ]
    },
    {
      "cell_type": "markdown",
      "metadata": {
        "id": "jOQvukXZq5U5"
      },
      "source": [
        "# **Method**\r\n",
        "The algorithm is based on algorithm 9.2 in the lecture notes. "
      ]
    },
    {
      "cell_type": "code",
      "metadata": {
        "id": "uRMyVcjfGmGJ"
      },
      "source": [
        "def getlocalshape(k,mesh):\r\n",
        "  return 1\r\n",
        "\r\n",
        "def integrate_vec(f,k,i,mesh):\r\n",
        "  if i==0:\r\n",
        "    g = lambda x: f(x)*(mesh[k+1]-x)/abs(mesh[k+1]-mesh[k])\r\n",
        "  else:\r\n",
        "    g = lambda x: f(x)*(x-mesh[k])/abs(mesh[k+1]-mesh[k]) \r\n",
        "\r\n",
        "  ans,err=integrate.quad(g,mesh[k],mesh[k+1])\r\n",
        "  return ans\r\n",
        "\r\n",
        "def integrate_mat(k,i,j,mesh):\r\n",
        "  h=mesh[k+1]-mesh[k]\r\n",
        "  if(i==j):\r\n",
        "    return h/3\r\n",
        "  else:\r\n",
        "    return h/6\r\n",
        "\r\n",
        "\r\n",
        "def assembly(f,mesh):\r\n",
        "  globalb=np.zeros(len(mesh))\r\n",
        "  globala=np.zeros((len(mesh),len(mesh)))\r\n",
        "\r\n",
        "  for k in range(len(mesh)-1):\r\n",
        "    b=np.zeros(2)\r\n",
        "    a=np.zeros((2,2))\r\n",
        "    q=getlocalshape(k,mesh)\r\n",
        "    \r\n",
        "    for i in range(q+1):\r\n",
        "      b[i]=integrate_vec(f,k,i,mesh)\r\n",
        "      for j in range(q+1):\r\n",
        "        a[i,j]=integrate_mat(k,i,j,mesh)\r\n",
        "    \r\n",
        "    globalb[k]+=b[0]\r\n",
        "    globalb[k+1]+=b[1]\r\n",
        "    globala[k,k]+=a[0,0]\r\n",
        "    globala[k+1,k+1]+=a[1,1]\r\n",
        "    globala[k,k+1]+=a[0,1]\r\n",
        "    globala[k+1,k]+=a[1,0]\r\n",
        "\r\n",
        "  return globala,globalb\r\n"
      ],
      "execution_count": 26,
      "outputs": []
    },
    {
      "cell_type": "markdown",
      "metadata": {
        "id": "SsQLT38gVbn_"
      },
      "source": [
        "# **Results**\r\n",
        "Two functions $x^2$ and $\\frac{\\sin(x)}{x}$ was tested. Both the accuracy and the convergence rate was tested."
      ]
    },
    {
      "cell_type": "code",
      "metadata": {
        "colab": {
          "base_uri": "https://localhost:8080/",
          "height": 622
        },
        "id": "J4EPWVW4r1IK",
        "outputId": "e74fa95c-fed7-4edf-db72-bd7eff5ba9ca"
      },
      "source": [
        "nrOfPoints=1\r\n",
        "for i in range(20):\r\n",
        "  nrOfPoints+=2\r\n",
        "\r\n",
        "  f=lambda x: x**2\r\n",
        "  x1 = np.linspace(-6,6,nrOfPoints)\r\n",
        "  a,b=assembly(f,x1)\r\n",
        "  alfa=np.linalg.solve(a,b)\r\n",
        "\r\n",
        "  x2=np.linspace(-6,6,nrOfPoints)\r\n",
        "  y2=[f(i) for i in x2]\r\n",
        "  print(\"nr of points: \",nrOfPoints,\" error: \",np.linalg.norm(alfa-y2))\r\n",
        "\r\n",
        "plt.plot(x1,alfa,label='Approximation')\r\n",
        "plt.plot(x2,y2,label='Exact')\r\n",
        "plt.legend(loc='upper right')"
      ],
      "execution_count": 85,
      "outputs": [
        {
          "output_type": "stream",
          "text": [
            "nr of points:  3  error:  10.392304845413275\n",
            "nr of points:  5  error:  3.3541019662496843\n",
            "nr of points:  7  error:  1.763834207376393\n",
            "nr of points:  9  error:  1.1250000000000009\n",
            "nr of points:  11  error:  0.79598994968529\n",
            "nr of points:  13  error:  0.6009252125773259\n",
            "nr of points:  15  error:  0.4742428587192867\n",
            "nr of points:  17  error:  0.3865411524016561\n",
            "nr of points:  19  error:  0.32288140322524833\n",
            "nr of points:  21  error:  0.27495454169734357\n",
            "nr of points:  23  error:  0.23780982760227687\n",
            "nr of points:  25  error:  0.20833333333331985\n",
            "nr of points:  27  error:  0.18447878423810293\n",
            "nr of points:  29  error:  0.16485198389187067\n",
            "nr of points:  31  error:  0.14847371634213422\n",
            "nr of points:  33  error:  0.13463818702823557\n",
            "nr of points:  35  error:  0.12282518580828133\n",
            "nr of points:  37  error:  0.1126437505610644\n",
            "nr of points:  39  error:  0.10379498058279774\n",
            "nr of points:  41  error:  0.09604686356151551\n"
          ],
          "name": "stdout"
        },
        {
          "output_type": "execute_result",
          "data": {
            "text/plain": [
              "<matplotlib.legend.Legend at 0x7fe07c674eb8>"
            ]
          },
          "metadata": {
            "tags": []
          },
          "execution_count": 85
        },
        {
          "output_type": "display_data",
          "data": {
            "image/png": "[encoded data removed]",
            "text/plain": [
              "<Figure size 432x288 with 1 Axes>"
            ]
          },
          "metadata": {
            "tags": [],
            "needs_background": "light"
          }
        }
      ]
    },
    {
      "cell_type": "code",
      "metadata": {
        "colab": {
          "base_uri": "https://localhost:8080/",
          "height": 622
        },
        "id": "XJRrBuWas1c7",
        "outputId": "a0fc4f3b-2da7-47a1-8472-0fc057838db7"
      },
      "source": [
        "nrOfPoints=0\r\n",
        "for i in range(20):\r\n",
        "  nrOfPoints+=2\r\n",
        "\r\n",
        "  f=lambda x: math.sin(x)/x\r\n",
        "  x1 = np.linspace(0.1,6*np.pi,nrOfPoints)\r\n",
        "  a,b=assembly(f,x1)\r\n",
        "  alfa=np.linalg.solve(a,b)\r\n",
        "\r\n",
        "  x2=np.linspace(0.1,6*np.pi,nrOfPoints)\r\n",
        "  y2=[f(i) for i in x2]\r\n",
        "  print(\"nr of points: \",nrOfPoints,\" error: \",np.linalg.norm(alfa-y2))\r\n",
        "\r\n",
        "plt.plot(x1,alfa,label='Approximation')\r\n",
        "plt.plot(x2,y2,label='Exact')\r\n",
        "plt.legend(loc='upper right')"
      ],
      "execution_count": 84,
      "outputs": [
        {
          "output_type": "stream",
          "text": [
            "nr of points:  2  error:  0.7101441454403837\n",
            "nr of points:  4  error:  0.3324941758698867\n",
            "nr of points:  6  error:  0.17970631703708476\n",
            "nr of points:  8  error:  0.21973265120016397\n",
            "nr of points:  10  error:  0.16042001169942147\n",
            "nr of points:  12  error:  0.11674861165542993\n",
            "nr of points:  14  error:  0.08878284565547745\n",
            "nr of points:  16  error:  0.07020875797647139\n",
            "nr of points:  18  error:  0.05725278380820221\n",
            "nr of points:  20  error:  0.0478239285517536\n",
            "nr of points:  22  error:  0.040719676353097485\n",
            "nr of points:  24  error:  0.035213135227318844\n",
            "nr of points:  26  error:  0.030844092351198893\n",
            "nr of points:  28  error:  0.02730921813719268\n",
            "nr of points:  30  error:  0.02440157968655033\n",
            "nr of points:  32  error:  0.021975775668391224\n",
            "nr of points:  34  error:  0.019927004579584153\n",
            "nr of points:  36  error:  0.018178037959837443\n",
            "nr of points:  38  error:  0.01667085248811056\n",
            "nr of points:  40  error:  0.015361102556236171\n"
          ],
          "name": "stdout"
        },
        {
          "output_type": "execute_result",
          "data": {
            "text/plain": [
              "<matplotlib.legend.Legend at 0x7fe07c5f4390>"
            ]
          },
          "metadata": {
            "tags": []
          },
          "execution_count": 84
        },
        {
          "output_type": "display_data",
          "data": {
            "image/png": "[encoded data removed]",
            "text/plain": [
              "<Figure size 432x288 with 1 Axes>"
            ]
          },
          "metadata": {
            "tags": [],
            "needs_background": "light"
          }
        }
      ]
    },
    {
      "cell_type": "markdown",
      "metadata": {
        "id": "_4GLBv0zWr7m"
      },
      "source": [
        "# **Discussion**\r\n",
        "The algorithm could without too many points approximate the tested functions. In the first test we see a fast convergence. In the second test the error was already low at 2 points. The norm was used to estimate the error. It can be misguiding because in this case we are comparing vectors lenght of different dimensions. Neverless in this case it gives a rough estimate of how the errors converge. "
      ]
    },
    {
      "cell_type": "markdown",
      "metadata": {
        "id": "1vcIILuQYsEA"
      },
      "source": [
        "# **APPENDIX**"
      ]
    }
  ]
}
{
 "cells": [
  {
   "cell_type": "markdown",
   "metadata": {
    "colab_type": "text",
    "id": "view-in-github"
   },
   "source": [
    "<a href=\"https://colab.research.google.com/github/johanhoffman/DD2363-VT20/blob/master/template-report-lab-X.ipynb\" target=\"_parent\"><img src=\"https://colab.research.google.com/assets/colab-badge.svg\" alt=\"Open In Colab\"/></a>"
   ]
  },
  {
   "cell_type": "markdown",
   "metadata": {
    "colab_type": "text",
    "id": "6RgtXlfYO_i7"
   },
   "source": [
    "### **Lab 3: Iterative methods**\n",
    "**Mathias Axelsson**"
   ]
  },
  {
   "cell_type": "markdown",
   "metadata": {
    "colab_type": "text",
    "id": "9x_J5FVuPzbm"
   },
   "source": [
    "# **Abstract**"
   ]
  },
  {
   "cell_type": "markdown",
   "metadata": {
    "colab_type": "text",
    "id": "yJipbXtnjrJZ"
   },
   "source": [
    "This report will implement a function for a L2 projection of a function to a piecewise linear approximation over a 1D mesh. In addition a FEM solution for the Poisson's equation will be implemented."
   ]
  },
  {
   "cell_type": "markdown",
   "metadata": {
    "colab_type": "text",
    "id": "OkT8J7uOWpT3"
   },
   "source": [
    "#**About the code**"
   ]
  },
  {
   "cell_type": "markdown",
   "metadata": {
    "colab_type": "text",
    "id": "HmB2noTr1Oyo"
   },
   "source": [
    "A short statement on who is the author of the file, and if the code is distributed under a certain license. "
   ]
  },
  {
   "cell_type": "code",
   "execution_count": 211,
   "metadata": {
    "colab": {
     "base_uri": "https://localhost:8080/",
     "height": 34
    },
    "colab_type": "code",
    "id": "Pdll1Xc9WP0e",
    "outputId": "6435158d-714b-4fa0-f688-bbd72fa2bc02"
   },
   "outputs": [
    {
     "data": {
      "text/plain": [
       "'KTH Royal Institute of Technology, Stockholm, Sweden.'"
      ]
     },
     "execution_count": 211,
     "metadata": {},
     "output_type": "execute_result"
    }
   ],
   "source": [
    "\"\"\"This program is a template for lab reports in the course\"\"\"\n",
    "\"\"\"DD2363 Methods in Scientific Computing, \"\"\"\n",
    "\"\"\"KTH Royal Institute of Technology, Stockholm, Sweden.\"\"\"\n",
    "\n",
    "# Copyright (C) 2020 Johan Hoffman (jhoffman@kth.se)\n",
    "\n",
    "# This file is part of the course DD2365 Advanced Computation in Fluid Mechanics\n",
    "# KTH Royal Institute of Technology, Stockholm, Sweden\n",
    "#\n",
    "# This is free software: you can redistribute it and/or modify\n",
    "# it under the terms of the GNU Lesser General Public License as published by\n",
    "# the Free Software Foundation, either version 3 of the License, or\n",
    "# (at your option) any later version.\n",
    "\n",
    "# This template is maintained by Johan Hoffman\n",
    "# Please report problems to jhoffman@kth.se"
   ]
  },
  {
   "cell_type": "markdown",
   "metadata": {
    "colab_type": "text",
    "id": "28xLGz8JX3Hh"
   },
   "source": [
    "# **Set up environment**"
   ]
  },
  {
   "cell_type": "markdown",
   "metadata": {
    "colab_type": "text",
    "id": "D2PYNusD08Wa"
   },
   "source": [
    "To have access to the neccessary modules you have to run this cell. If you need additional modules, this is where you add them. "
   ]
  },
  {
   "cell_type": "code",
   "execution_count": 212,
   "metadata": {
    "colab": {},
    "colab_type": "code",
    "id": "Xw7VlErAX7NS"
   },
   "outputs": [],
   "source": [
    "# Load neccessary modules.\n",
    "\n",
    "import time\n",
    "import numpy as np\n",
    "import scipy.integrate as integrate\n",
    "\n",
    "\n",
    "from matplotlib import pyplot as plt\n",
    "from matplotlib import tri\n",
    "from matplotlib import axes\n",
    "from mpl_toolkits.mplot3d import Axes3D"
   ]
  },
  {
   "cell_type": "markdown",
   "metadata": {
    "colab_type": "text",
    "id": "gnO3lhAigLev"
   },
   "source": [
    "# **Introduction**"
   ]
  },
  {
   "cell_type": "markdown",
   "metadata": {
    "colab_type": "text",
    "id": "l5zMzgPlRAF6"
   },
   "source": [
    "The L2 projection aproximates the function $f$ by projecting it onto a mesh. "
   ]
  },
  {
   "cell_type": "markdown",
   "metadata": {
    "colab_type": "text",
    "id": "jOQvukXZq5U5"
   },
   "source": [
    "# **Method**"
   ]
  },
  {
   "cell_type": "markdown",
   "metadata": {
    "colab_type": "text",
    "id": "zF4iBj5VURZx"
   },
   "source": [
    "#### L2 Projection\n",
    "The L2 projection creates an aproximation of a function $f$ on $L^2([x_0, x_n])$ using the functions \n",
    "$$\n",
    "\\phi_i(x) = \\begin{cases} \n",
    "    \\lambda_{k, 1}, & x \\in I_k \\\\\n",
    "    \\lambda_{k+1, 0}, & x \\in I_{k+1} \\\\\n",
    "    0, &\\mathrm{otherwise}\n",
    "\\end{cases}\n",
    "$$\n",
    "with\n",
    "$$\n",
    "    \\lambda_{k, 0} = \\frac{x_k - x}{h_k} \\quad \\lambda_{k, 1} = \\frac{x - x_{k-1}}{h_k}\n",
    "$$\n",
    "and $I_k = [x_{k-1},x_k]$ for a 1D mesh $[x_0, x_1, \\cdots, x_{x-1}, x_n]$. This is done by constructing a matrix equation $A\\alpha = b$ with\n",
    "$$\n",
    "a_{ij} = (\\phi_i, \\phi_j), \\quad b_i = (f, \\phi_i)\n",
    "$$\n",
    "The vector $\\alpha \\in \\mathbb{R}^n$ is then the L2 projection of the function.\n",
    "\n",
    "#### FEM Solution for Poisson's equation\n",
    "I consider the Poisson equtation \n",
    "$$\n",
    "-u''(x) = f(x), \\quad x \\in (0, 1)\n",
    "$$\n",
    "Following the method in Example 9.12 in the course literature I find that\n",
    "$$\n",
    "U(x) = \\sum^N_{j=1} U_i\\phi_j(x)\n",
    "$$\n",
    "With $U_i$ from the matrix equation $A\\alpha = b$ with $a_{ij} = a(\\phi_j, \\phi_i)= \\int^1_0\\phi_j'(x)\\phi_i'(x) dx$ and $b_i = L(\\phi_i) = \\int^1_0f(x)\\phi_i(x) dx$."
   ]
  },
  {
   "cell_type": "code",
   "execution_count": 213,
   "metadata": {},
   "outputs": [],
   "source": [
    "def basis_func(x, I):\n",
    "    \"\"\"\n",
    "    Implementation of the basis functions.\n",
    "    Input:\n",
    "    x: value of x.\n",
    "    I: start and end interval [x_k-1, x_k, x_k+1]\n",
    "    \n",
    "    Output:\n",
    "    x: value\n",
    "    \"\"\"\n",
    "    \n",
    "    \n",
    "    if x >= I[0] and x <= I[1]:\n",
    "        return (x - I[0])/(I[1] - I[0])\n",
    "    elif x >= I[1] and x <= I[2]:\n",
    "        return (I[2] - x)/(I[2] - I[1])\n",
    "    else:\n",
    "        return 0\n",
    "    \n",
    "def der_basis_func(x, I):\n",
    "    \"\"\"\n",
    "    Implementation of the basis function derivative.\n",
    "    Input:\n",
    "    x: value of x.\n",
    "    I: start and end interval [x_k-1, x_k, x_k+1]\n",
    "    \n",
    "    Output:\n",
    "    x: value\n",
    "    \"\"\"\n",
    "    \n",
    "    \n",
    "    if x >= I[0] and x <= I[1]:\n",
    "        return 1/(I[1] - I[0])\n",
    "    elif x >= I[1] and x <= I[2]:\n",
    "        return -1/(I[2] - I[1])\n",
    "    else:\n",
    "        return 0\n",
    "\n",
    "\n",
    "def L2_projection(f, X):\n",
    "    \"\"\"\n",
    "    Implementation of the L2 projection\n",
    "    Input:\n",
    "    f: function\n",
    "    X: mesh\n",
    "    \n",
    "    Output:\n",
    "    a: L2 projection of f\n",
    "    \"\"\"\n",
    "    \n",
    "    N = len(X)\n",
    "    \n",
    "    A = np.zeros((N,N))\n",
    "    \n",
    "    # Edge cases\n",
    "    A[0, 0] = integrate.quad(lambda x: basis_func(x, np.array([-np.NINF, X[0], X[1]]))**2, X[0], X[1])[0]\n",
    "    A[N-1, N-1] = integrate.quad(lambda x: basis_func(x, np.array([X[N-2], X[N-1], np.Inf]))**2, X[N-2], X[N-1])[0]\n",
    "    \n",
    "    f1 = lambda x: basis_func(x, np.array([-np.NINF, X[0], X[1]]))*basis_func(x, np.array([X[0], X[1], X[2]]))\n",
    "    offDiag = integrate.quad(f1, X[0], X[1])[0]\n",
    "    A[0, 1] = offDiag\n",
    "    A[1, 0] = offDiag\n",
    "    \n",
    "    # Construct A\n",
    "    f1 = lambda x: basis_func(x, np.array([X[N-2], X[N-1], np.Inf]))*basis_func(x, np.array([X[N-3], X[N-2], X[N-1]]))\n",
    "    offDiag = integrate.quad(f1, X[N-2], X[N-1])[0]\n",
    "    A[N-1, N-2] = offDiag\n",
    "    A[N-2, N-1] = offDiag\n",
    "    \n",
    "    for i in range(1, N-1):\n",
    "        A[i, i] = integrate.quad(lambda x: basis_func(x, np.array([X[i-1], X[i], X[i+1]]))**2, X[i-1], X[i+1])[0]\n",
    "    for i in range(1, N-2):\n",
    "        f1 = lambda x: basis_func(x, np.array([X[i-1], X[i], X[i+1]]))*basis_func(x, np.array([X[i], X[i+1], X[i+2]]))\n",
    "        offDiag = integrate.quad(f1, X[i], X[i+1])[0]\n",
    "        A[i, i+1] = offDiag\n",
    "        A[i+1, i] = offDiag\n",
    "    \n",
    "    b = np.zeros(N)\n",
    "    \n",
    "    # Handle edge elements\n",
    "    b[0] = integrate.quad(lambda x: f(x)*basis_func(x, np.array([-np.NINF, X[0], X[1]])), X[0], X[1])[0]\n",
    "    b[N-1] = integrate.quad(lambda x: f(x)*basis_func(x, np.array([X[N-2], X[N-1], np.Inf])), X[N-2], X[N-1])[0]\n",
    "    \n",
    "    # Construct b\n",
    "    for k in range(1, N-1):\n",
    "        b[k] = integrate.quad(lambda x: f(x)*basis_func(x, np.array([X[k-1], X[k], X[k+1]])), X[k-1], X[k+1])[0]\n",
    "    \n",
    "    \n",
    "    a = np.linalg.solve(A, b)\n",
    "    return a\n",
    "\n",
    "\n",
    "def poisson_solver(f, X):\n",
    "    \"\"\"\n",
    "    Implementation of a solver for the poisson equation\n",
    "    -u''(x) = f(x).\n",
    "    Input:\n",
    "    f: function\n",
    "    X: mesh\n",
    "    \n",
    "    Output:\n",
    "    U: The solution u(x) evaluated on the mesh nodes\n",
    "    \"\"\"\n",
    "    \n",
    "    N = len(X)\n",
    "    \n",
    "    A = np.zeros((N,N))\n",
    "    \n",
    "    \n",
    "    f1 = lambda x: der_basis_func(x, np.array([-np.NINF, X[0], X[1]]))*der_basis_func(x, np.array([X[0], X[1], X[2]]))\n",
    "    offDiag = integrate.quad(f1, X[0], X[1])[0]\n",
    "    A[0, 1] = offDiag\n",
    "    \n",
    "    # Construct A\n",
    "    f1 = lambda x: der_basis_func(x, np.array([X[N-2], X[N-1], np.Inf]))*der_basis_func(x, np.array([X[N-3], X[N-2], X[N-1]]))\n",
    "    offDiag = integrate.quad(f1, X[N-2], X[N-1])[0]\n",
    "    A[N-1, N-2] = offDiag\n",
    "    \n",
    "    for i in range(1, N-1):\n",
    "        A[i, i] = integrate.quad(lambda x: der_basis_func(x, np.array([X[i-1], X[i], X[i+1]]))**2, X[i-1], X[i+1])[0]\n",
    "    for i in range(1, N-2):\n",
    "        f1 = lambda x: der_basis_func(x, np.array([X[i-1], X[i], X[i+1]]))*der_basis_func(x, np.array([X[i], X[i+1], X[i+2]]))\n",
    "        offDiag = integrate.quad(f1, X[i], X[i+1])[0]\n",
    "        A[i, i+1] = offDiag\n",
    "        A[i+1, i] = offDiag\n",
    "\n",
    "    \n",
    "    b = np.zeros(N)\n",
    "    \n",
    "    # Handle edge elements\n",
    "    b[0] = integrate.quad(lambda x: f(x)*basis_func(x, np.array([-np.NINF, X[0], X[1]])), X[0], X[1])[0]\n",
    "    b[N-1] = integrate.quad(lambda x: f(x)*basis_func(x, np.array([X[N-2], X[N-1], np.Inf])), X[N-2], X[N-1])[0]\n",
    "    \n",
    "    # Construct b\n",
    "    for k in range(1, N-1):\n",
    "        b[k] = integrate.quad(lambda x: f(x)*basis_func(x, np.array([X[k-1], X[k], X[k+1]])), X[k-1], X[k+1])[0]\n",
    "    \n",
    "    (a, res, _, _) = np.linalg.lstsq(A[:, 1:N-1], b, rcond=None)\n",
    "    \n",
    "    U = np.zeros(X.shape)\n",
    "    U[1:N-1] = a\n",
    "    \n",
    "    return U*N\n",
    "    \n",
    "    "
   ]
  },
  {
   "cell_type": "markdown",
   "metadata": {
    "colab_type": "text",
    "id": "SsQLT38gVbn_"
   },
   "source": [
    "# **Results**"
   ]
  },
  {
   "cell_type": "code",
   "execution_count": 214,
   "metadata": {},
   "outputs": [
    {
     "data": {
      "image/png": "[encoded data removed]",
      "text/plain": [
       "<Figure size 432x288 with 1 Axes>"
      ]
     },
     "metadata": {
      "needs_background": "light"
     },
     "output_type": "display_data"
    },
    {
     "data": {
      "image/png": "[encoded data removed]",
      "text/plain": [
       "<Figure size 432x288 with 1 Axes>"
      ]
     },
     "metadata": {
      "needs_background": "light"
     },
     "output_type": "display_data"
    },
    {
     "data": {
      "image/png": "[encoded data removed]",
      "text/plain": [
       "<Figure size 432x288 with 1 Axes>"
      ]
     },
     "metadata": {
      "needs_background": "light"
     },
     "output_type": "display_data"
    },
    {
     "data": {
      "image/png": "[encoded data removed]",
      "text/plain": [
       "<Figure size 432x288 with 1 Axes>"
      ]
     },
     "metadata": {
      "needs_background": "light"
     },
     "output_type": "display_data"
    }
   ],
   "source": [
    "meshSize = np.array([5, 10, 20, 50, 100])\n",
    "res = np.zeros(meshSize.shape)\n",
    "\n",
    "# L2 Projection\n",
    "def f(x):\n",
    "    return np.cos(x)\n",
    "\n",
    "\n",
    "for k, s in enumerate(meshSize):\n",
    "    mesh = np.linspace(-2, 6, num=s)\n",
    "    X = np.linspace(-2, 6, num=1000)\n",
    "\n",
    "    N = len(mesh)\n",
    "\n",
    "    Y = np.zeros(X.shape)\n",
    "\n",
    "    for i, x in enumerate(X):\n",
    "        Y[i] = f(x)\n",
    "\n",
    "    a = L2_projection(f, mesh)\n",
    "\n",
    "    Y2 = np.zeros(X.shape)\n",
    "    for i in range(1, N - 1):\n",
    "        for j,x in enumerate(X):\n",
    "            Y2[j] += a[i]*basis_func(x, np.array([mesh[i-1], mesh[i], mesh[i+1]])) \n",
    "\n",
    "    for j,x in enumerate(X):\n",
    "        Y2[j] += a[0]*basis_func(x, np.array([-np.NINF, mesh[0], mesh[1]])) \n",
    "    for j,x in enumerate(X):\n",
    "        Y2[j] += a[N-1]*basis_func(x, np.array([mesh[N-2], mesh[N-1], np.Inf]))\n",
    "        \n",
    "    res[k] = np.linalg.norm(Y - Y2)\n",
    "\n",
    "\n",
    "plt.plot(X,Y)\n",
    "plt.plot(X,Y2)\n",
    "plt.title(\"Exact function and calculated projection for mesh size:\" + str(s))\n",
    "plt.show()\n",
    "\n",
    "plt.plot(res)\n",
    "plt.title(\"Norm of residual for each of mesh sizes: \" + str(meshSize))\n",
    "plt.show()\n",
    "\n",
    "# Poisson equation\n",
    "def f(x):\n",
    "    return 2\n",
    "\n",
    "def sol(x):\n",
    "    return -x**2 + x\n",
    "\n",
    "res = np.zeros(meshSize.shape)\n",
    "\n",
    "for k, s in enumerate(meshSize):\n",
    "    mesh = np.linspace(0, 1, num=s)\n",
    "    X = np.linspace(0, 1, num=2000)\n",
    "\n",
    "    N = len(mesh)\n",
    "    Y = np.zeros(X.shape)\n",
    "    for i, x in enumerate(X):\n",
    "        Y[i] = sol(x)\n",
    "\n",
    "    U = poisson_solver(f, mesh)\n",
    "    \n",
    "    Y2 = np.zeros(X.shape)\n",
    "    for i in range(1, N - 1):\n",
    "        for j,x in enumerate(X):\n",
    "            Y2[j] += U[i]*basis_func(x, np.array([mesh[i-1], mesh[i], mesh[i+1]]))\n",
    "            \n",
    "    res[k] = np.linalg.norm(Y - Y2)\n",
    "    \n",
    "plt.plot(X, Y2)\n",
    "plt.plot(X, Y)\n",
    "plt.title(\"Exact solution and calculated solution for mesh size:\" + str(s))\n",
    "plt.show()\n",
    "\n",
    "plt.plot(res)\n",
    "plt.title(\"Norm of residual for each of mesh sizes: \" + str(meshSize))\n",
    "plt.show()"
   ]
  },
  {
   "cell_type": "markdown",
   "metadata": {
    "colab_type": "text",
    "id": "_4GLBv0zWr7m"
   },
   "source": [
    "# **Discussion**"
   ]
  },
  {
   "cell_type": "markdown",
   "metadata": {
    "colab_type": "text",
    "id": "6bcsDSoRXHZe"
   },
   "source": [
    "The functions work as intended. I did not manage to get the Poisson equation solver to work for anything other than an uniform interval. My belief is that I have some sort of scaling issue for each element. I started with a fairly bad implementation of the basis functions which makes the code harder to read than necessary.\n",
    "\n",
    "The difference between the projection/solution and the exact functions goes to zero as the mesh size increases."
   ]
  }
 ],
 "metadata": {
  "colab": {
   "include_colab_link": true,
   "name": "template-report-lab-X.ipynb",
   "provenance": []
  },
  "kernelspec": {
   "display_name": "Python 3",
   "language": "python",
   "name": "python3"
  },
  "language_info": {
   "codemirror_mode": {
    "name": "ipython",
    "version": 3
   },
   "file_extension": ".py",
   "mimetype": "text/x-python",
   "name": "python",
   "nbconvert_exporter": "python",
   "pygments_lexer": "ipython3",
   "version": "3.7.7"
  }
 },
 "nbformat": 4,
 "nbformat_minor": 1
}

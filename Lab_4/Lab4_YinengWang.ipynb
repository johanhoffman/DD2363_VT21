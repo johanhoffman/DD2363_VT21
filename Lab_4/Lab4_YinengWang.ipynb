{
  "nbformat": 4,
  "nbformat_minor": 0,
  "metadata": {
    "colab": {
      "name": "Lab4_YinengWang.ipynb",
      "provenance": [],
      "collapsed_sections": [],
      "include_colab_link": true
    },
    "kernelspec": {
      "name": "python3",
      "display_name": "Python 3.8.2 64-bit",
      "metadata": {
        "interpreter": {
          "hash": "31f2aee4e71d21fbe5cf8b01ff0e069b9275f58929596ceb00d14d90e3e16cd6"
        }
      }
    }
  },
  "cells": [
    {
      "cell_type": "markdown",
      "metadata": {
        "id": "view-in-github",
        "colab_type": "text"
      },
      "source": [
        "<a href=\"https://colab.research.google.com/github/johanhoffman/DD2363_VT21/blob/YinengWang/Lab_4/Lab4_YinengWang.ipynb\" target=\"_parent\"><img src=\"https://colab.research.google.com/assets/colab-badge.svg\" alt=\"Open In Colab\"/></a>"
      ]
    },
    {
      "cell_type": "markdown",
      "metadata": {
        "id": "6RgtXlfYO_i7"
      },
      "source": [
        "# **Lab 4: Approximation**\n",
        "**Yineng Wang**"
      ]
    },
    {
      "cell_type": "markdown",
      "metadata": {
        "id": "9x_J5FVuPzbm"
      },
      "source": [
        "# **Abstract**"
      ]
    },
    {
      "cell_type": "markdown",
      "metadata": {
        "id": "6UFTSzW7P8kL"
      },
      "source": [
        "This report includes the implementation and test for l2 projection."
      ]
    },
    {
      "cell_type": "markdown",
      "metadata": {
        "id": "OkT8J7uOWpT3"
      },
      "source": [
        "#**About the code**"
      ]
    },
    {
      "cell_type": "markdown",
      "metadata": {
        "id": "HmB2noTr1Oyo"
      },
      "source": [
        "This report is written by Yineng Wang, based on Johan Hoffman's template."
      ]
    },
    {
      "cell_type": "code",
      "metadata": {
        "id": "Pdll1Xc9WP0e",
        "colab": {
          "base_uri": "https://localhost:8080/",
          "height": 37
        },
        "outputId": "9fb6a333-8975-4899-daca-ba4012495acd"
      },
      "source": [
        "\"\"\"This program is a template for lab reports in the course\"\"\"\n",
        "\"\"\"DD2363 Methods in Scientific Computing, \"\"\"\n",
        "\"\"\"KTH Royal Institute of Technology, Stockholm, Sweden.\"\"\"\n",
        "\n",
        "# Copyright (C) 2020 Johan Hoffman (jhoffman@kth.se)\n",
        "\n",
        "# This file is part of the course DD2365 Advanced Computation in Fluid Mechanics\n",
        "# KTH Royal Institute of Technology, Stockholm, Sweden\n",
        "#\n",
        "# This is free software: you can redistribute it and/or modify\n",
        "# it under the terms of the GNU Lesser General Public License as published by\n",
        "# the Free Software Foundation, either version 3 of the License, or\n",
        "# (at your option) any later version.\n",
        "\n",
        "# This template is maintained by Johan Hoffman\n",
        "# Please report problems to jhoffman@kth.se"
      ],
      "execution_count": 1,
      "outputs": [
        {
          "output_type": "execute_result",
          "data": {
            "application/vnd.google.colaboratory.intrinsic+json": {
              "type": "string"
            },
            "text/plain": [
              "'KTH Royal Institute of Technology, Stockholm, Sweden.'"
            ]
          },
          "metadata": {
            "tags": []
          },
          "execution_count": 1
        }
      ]
    },
    {
      "cell_type": "markdown",
      "metadata": {
        "id": "28xLGz8JX3Hh"
      },
      "source": [
        "# **Set up environment**"
      ]
    },
    {
      "cell_type": "markdown",
      "metadata": {
        "id": "D2PYNusD08Wa"
      },
      "source": [
        "To have access to the neccessary modules you have to run this cell."
      ]
    },
    {
      "cell_type": "code",
      "metadata": {
        "id": "Xw7VlErAX7NS"
      },
      "source": [
        "import numpy as np\n",
        "import scipy.integrate\n",
        "from matplotlib import pyplot as plt"
      ],
      "execution_count": 2,
      "outputs": []
    },
    {
      "cell_type": "markdown",
      "metadata": {
        "id": "gnO3lhAigLev"
      },
      "source": [
        "# **Introduction**"
      ]
    },
    {
      "cell_type": "markdown",
      "metadata": {
        "id": "l5zMzgPlRAF6"
      },
      "source": [
        "The L2 projection is a method of approximation by projection in the subspace $V_N \\subset V$. By equation (9.12), the L2 projection $P_N f \\in V_N$ of a function $f \\in V$ to a finite dimensional subspace $V_N$ is defined as\n",
        "\n",
        "$$\n",
        "(P_N f, v) = (f, v), \\quad \\forall v \\in V_N,\n",
        "$$\n",
        "\n",
        "where the inner product of the Hilbert space $L^2([a, b])$ is defined as\n",
        "\n",
        "$$\n",
        "(f, g) = \\int_a^b f(x)g(x) dx.\n",
        "$$\n",
        "\n",
        "By equation (9.13), this is equivalent to find a set of constants $\\alpha_i$, $i = 1, \\dots, N$ such that\n",
        "\n",
        "$$\n",
        "\\sum_{j=1}^N \\alpha_j (\\phi_j, \\phi_i) = (f, \\phi_i), \\quad i = 1, \\dots, N,\n",
        "$$\n",
        "\n",
        "where $\\{\\phi_i\\}_{i=1}^N$ is a basis of $V_N$. This can be presented as a linear system of equations\n",
        "$A \\alpha = b$\n",
        "where $a_{ij} = (\\phi_j, \\phi_i) = \\int_a^b \\phi_j(x) \\phi_i(x) dx$ and $b_i = (f, \\phi_i) = \\int_a^b f(x) \\phi_i(x) dx$."
      ]
    },
    {
      "cell_type": "markdown",
      "metadata": {
        "id": "jOQvukXZq5U5"
      },
      "source": [
        "# **Method**"
      ]
    },
    {
      "cell_type": "markdown",
      "metadata": {
        "id": "zF4iBj5VURZx"
      },
      "source": [
        "## 1. L2 projection to pw linear approximation over mesh in 1D"
      ]
    },
    {
      "cell_type": "markdown",
      "metadata": {
        "id": "RLwlnOzuV-Cd"
      },
      "source": [
        "Input: function f(x), 1D mesh with nodes (x0,...,xn)\n",
        "\n",
        "Output: vector of L2 projection of f(x) evaluated in (x0,...,xn) "
      ]
    },
    {
      "cell_type": "markdown",
      "metadata": {
        "id": "16dVvJBrY3yu"
      },
      "source": [
        "We use algorithm (9.2), the assembly algorithm, to generate the linear system. The basis functions as equation (9.8) construct a basis for $V_h^{(1)}$. According to equation (9.17), (9.18), (9.19), the non-zero matrix entries are $a_{ii} = h_i/3 + h_{i+1}/3$, $a_{i,i+1} = h_{i+1}/6$ and $a_{i,i-1} = h_i/6$. By using the assembly algorithm, the local matrix entries (indexed from 0) are\n",
        "\n",
        "$$\n",
        "\\begin{align*}\n",
        "a_{00}^{(k)} &= \\int_{x_k}^{x_{k+1}} \\left(\\frac{x_{k+1}-x}{h_k}\\right)^2 dx = \\frac{h_k}{3}, \\\\\n",
        "a_{01}^{(k)} &= a_{10}^{(k)} = \\int_{x_k}^{x_{k+1}} \\frac{x_{k+1}-x}{h_k} \\frac{x-x_{k}}{h_k} dx = \\frac{h_k}{6}, \\\\\n",
        "a_{11}^{(k)} &= \\int_{x_k}^{x_{k+1}} \\left(\\frac{x-x_{k}}{h_k}\\right)^2 dx = \\frac{h_k}{3}.\n",
        "\\end{align*}\n",
        "$$\n",
        "\n",
        "To compute the inner product $(f, \\phi_i)$, we use `scipy.integrate.quad`.\n",
        "\n",
        "The L2 projection of $f(x)$ evaluated on $(x_0, \\dots, x_n)$ is exactly the vector $(\\alpha_0, \\dots, \\alpha_n)$, since $\\phi_i(x_i) = 1$ and $\\phi_j(x_i) = 0$ if $i \\neq j$."
      ]
    },
    {
      "cell_type": "code",
      "metadata": {
        "id": "z8fF-nSIY3yu"
      },
      "source": [
        "def assembly_algorithm(f, x):\n",
        "    def integrate_vector(f, k, i):\n",
        "        a, b = x[k], x[k+1]\n",
        "        def f_lambda_0(x):\n",
        "            return f(x) * (b-x) / (b-a)    # f(x) * lambda_k,0(x)\n",
        "        def f_lambda_1(x):\n",
        "            return f(x) * (x-a) / (b-a)    # f(y) * lambda_k,1(y)\n",
        "        if i == 0:\n",
        "            return scipy.integrate.quad(f_lambda_0, a, b)[0]\n",
        "        else:\n",
        "            return scipy.integrate.quad(f_lambda_1, a, b)[0]\n",
        "\n",
        "    def integrate_matrix(k, i, j):\n",
        "        h = x[k+1]-x[k]\n",
        "        return h/3 if i == j else h/6\n",
        "\n",
        "    q = 1\n",
        "    n = len(x)\n",
        "    A = np.zeros((n, n))\n",
        "    b = np.zeros(n)\n",
        "\n",
        "    for k in range(n-1):\n",
        "        local_A = np.zeros((q+1, q+1))\n",
        "        local_b = np.zeros(q+1)\n",
        "        for i in range(q+1):\n",
        "            local_b[i] = integrate_vector(f, k, i)\n",
        "            for j in range(q+1):\n",
        "                local_A[i,j] = integrate_matrix(k, i, j)\n",
        "        A[k:k+2, k:k+2] += local_A\n",
        "        b[k:k+2] += local_b\n",
        "    return A, b\n",
        "\n",
        "def l2_projection(f, x):\n",
        "    n = len(x)\n",
        "    A, b = assembly_algorithm(f, x)\n",
        "    alpha = np.linalg.solve(A, b)\n",
        "    return alpha"
      ],
      "execution_count": 3,
      "outputs": []
    },
    {
      "cell_type": "markdown",
      "metadata": {
        "id": "SsQLT38gVbn_"
      },
      "source": [
        "# **Results**"
      ]
    },
    {
      "cell_type": "markdown",
      "metadata": {
        "id": "SotLLJX6Y3yv"
      },
      "source": [
        "We use the trigonometric function $f(x) = \\sin(x), x \\in [-\\pi, \\pi)$ to test the implementation. The mesh has uniform length 0.1."
      ]
    },
    {
      "cell_type": "code",
      "metadata": {
        "colab": {
          "base_uri": "https://localhost:8080/",
          "height": 265
        },
        "id": "MlLuEm1SY3yw",
        "outputId": "4bc6764e-075a-4c98-8f2d-d9f28144254e"
      },
      "source": [
        "def verify_l2_projection():\n",
        "    mesh = np.arange(-np.pi, np.pi, 0.1)\n",
        "    approx = l2_projection(np.sin, mesh)\n",
        "    exact = np.sin(mesh)\n",
        "    l1, = plt.plot(mesh, exact, color='red')\n",
        "    l2, = plt.plot(mesh, approx, '--', color='black')\n",
        "    plt.legend(handles=[l1,l2], labels=['exact curve', 'approximation'], loc='best')\n",
        "    plt.show()\n",
        "\n",
        "\n",
        "if __name__ == '__main__':\n",
        "    verify_l2_projection()"
      ],
      "execution_count": 4,
      "outputs": [
        {
          "output_type": "display_data",
          "data": {
            "image/png": "[encoded data removed]",
            "text/plain": [
              "<Figure size 432x288 with 1 Axes>"
            ]
          },
          "metadata": {
            "tags": [],
            "needs_background": "light"
          }
        }
      ]
    },
    {
      "cell_type": "markdown",
      "metadata": {
        "id": "_4GLBv0zWr7m"
      },
      "source": [
        "# **Discussion**"
      ]
    },
    {
      "cell_type": "markdown",
      "metadata": {
        "id": "6bcsDSoRXHZe"
      },
      "source": [
        "The curve shows the approximation is close to the exact function value. In solving the equation $A\\alpha = b$, there can be some improvement since $A$ is sparse if we use the basis function $\\{\\phi_i\\}_{i=0}^j$ of $V_h^{(1)}$. Specially, the Hessenberg QR factorization may be employed."
      ]
    }
  ]
}
{
 "cells": [
  {
   "cell_type": "markdown",
   "metadata": {
    "colab_type": "text",
    "id": "6RgtXlfYO_i7"
   },
   "source": [
    "# Lab 4: Approximation\n",
    "**Theo Puranen Åhfeldt**"
   ]
  },
  {
   "cell_type": "markdown",
   "metadata": {
    "colab_type": "text",
    "id": "9x_J5FVuPzbm"
   },
   "source": [
    "# **Abstract**"
   ]
  },
  {
   "cell_type": "markdown",
   "metadata": {
    "colab_type": "text",
    "id": "6UFTSzW7P8kL"
   },
   "source": [
    "TODO"
   ]
  },
  {
   "cell_type": "markdown",
   "metadata": {
    "colab_type": "text",
    "id": "28xLGz8JX3Hh"
   },
   "source": [
    "# **Set up environment**"
   ]
  },
  {
   "cell_type": "markdown",
   "metadata": {
    "colab_type": "text",
    "id": "D2PYNusD08Wa"
   },
   "source": [
    "To have access to the neccessary modules you have to run this cell."
   ]
  },
  {
   "cell_type": "code",
   "execution_count": 192,
   "metadata": {
    "colab": {},
    "colab_type": "code",
    "id": "Xw7VlErAX7NS"
   },
   "outputs": [],
   "source": [
    "# Load neccessary modules.\n",
    "import numpy as np\n",
    "import matplotlib.pyplot as plt\n",
    "import scipy.integrate as integrate"
   ]
  },
  {
   "cell_type": "markdown",
   "metadata": {
    "colab_type": "text",
    "id": "gnO3lhAigLev"
   },
   "source": [
    "# **Introduction**"
   ]
  },
  {
   "cell_type": "markdown",
   "metadata": {
    "colab_type": "text",
    "id": "l5zMzgPlRAF6"
   },
   "source": [
    "TODO"
   ]
  },
  {
   "cell_type": "markdown",
   "metadata": {
    "colab_type": "text",
    "id": "jOQvukXZq5U5"
   },
   "source": [
    "# **Method**"
   ]
  },
  {
   "cell_type": "markdown",
   "metadata": {
    "colab_type": "text",
    "id": "zF4iBj5VURZx"
   },
   "source": [
    "Numpy arrays are used to represent vectors and matrices. TODO"
   ]
  },
  {
   "cell_type": "markdown",
   "metadata": {},
   "source": [
    "## L2 projection to pw linear approximation over mesh in 1D"
   ]
  },
  {
   "cell_type": "markdown",
   "metadata": {},
   "source": [
    "To compute the $L^2$ projection we will need to compute:\n",
    "\n",
    "$$(f, \\phi_i) = \\int_a^b f(x)\\phi_i(x) dx = \\int_{I_i} f(x)\\phi_i(x) dx + \\int_{I_{i+1}} f(x)\\phi_i(x) dx$$\n",
    "\n",
    "Since $f$ can be any function it is not possible to come up with a general analytical solution. Therefor we will use a numerical approach and compute the integrals using Riemann sums."
   ]
  },
  {
   "cell_type": "code",
   "execution_count": 239,
   "metadata": {},
   "outputs": [],
   "source": [
    "def riemann_sum(f, start, stop, num):\n",
    "    dx = (stop - start)/num\n",
    "    xs = np.linspace(start + dx/2, stop - dx/2, num)\n",
    "    return np.sum(f(xs)*dx)\n",
    "\n",
    "def integrate_vector(f, k, i, xs):\n",
    "    prod = lambda x: f(x)*(x - xs[k + 1 - i])/(xs[k + i] - xs[k + 1 - i])\n",
    "    return integrate.quad(prod, xs[k], xs[k + 1])[0]"
   ]
  },
  {
   "cell_type": "markdown",
   "metadata": {},
   "source": [
    "For simplicity we will only use uniform subdivisions, which means that every subinterval will be of length $h = m^{-1}$ where $m$ is the number of subintervals. The integration corresponding to $(\\phi_i, \\phi_j)$ will then be equal to $\\frac{1}{6m}$ when $|i - j| = 1$ and $\\frac{2}{3m}$ when $i = j$, by the calculations (9.17-19) from the lecture notes.\n",
    "\n",
    "#consider projections over $L^2([0,1])$, and always\n",
    "\n",
    "We make the matrix $A$ and vector $b$ one larger then necessary in order to not have to worry about the edge case of adding the values for the first interval."
   ]
  },
  {
   "cell_type": "code",
   "execution_count": 249,
   "metadata": {},
   "outputs": [],
   "source": [
    "def integrate_matrix(k, i ,j, xs):\n",
    "    h = xs[k + 1] - xs[k]\n",
    "    return h/3 if i == j else h/6\n",
    "\n",
    "def assembly_system(f, xs):\n",
    "    n = len(xs)\n",
    "    A = np.zeros((n, n))\n",
    "    b = np.zeros(n)\n",
    "    for k in range(n - 1):\n",
    "        q = 2\n",
    "        A_loc = np.zeros((q, q))\n",
    "        b_loc = np.zeros(q)\n",
    "        for i in range(q):\n",
    "            b_loc[i] = integrate_vector(f, k, i, xs)\n",
    "            for j in range(q):\n",
    "                A_loc[i,j] = integrate_matrix(k, i, j, xs)\n",
    "        b[k:k+q] += b_loc\n",
    "        A[k:k+q, k:k+q] += A_loc\n",
    "    return A, b"
   ]
  },
  {
   "cell_type": "code",
   "execution_count": 250,
   "metadata": {},
   "outputs": [
    {
     "data": {
      "text/plain": [
       "[<matplotlib.lines.Line2D at 0x11fdc8130>]"
      ]
     },
     "execution_count": 250,
     "metadata": {},
     "output_type": "execute_result"
    },
    {
     "data": {
      "image/png": "[encoded data removed]",
      "text/plain": [
       "<Figure size 432x288 with 1 Axes>"
      ]
     },
     "metadata": {
      "needs_background": "light"
     },
     "output_type": "display_data"
    }
   ],
   "source": [
    "def L2_projection(f, xs):\n",
    "    A, b = assembly_system(f, xs)\n",
    "    return np.linalg.solve(A, b)\n",
    "\n",
    "xs = np.linspace(0,10,20)\n",
    "xss = np.linspace(0,10,100)\n",
    "\n",
    "f = lambda x: np.cos(x)\n",
    "alpha = L2_projection(f, xs)\n",
    "\n",
    "plt.plot(xss, f(xss))\n",
    "plt.plot(xs, alpha)"
   ]
  },
  {
   "cell_type": "markdown",
   "metadata": {},
   "source": [
    "### Tests"
   ]
  },
  {
   "cell_type": "markdown",
   "metadata": {},
   "source": [
    "TODO"
   ]
  },
  {
   "cell_type": "code",
   "execution_count": 313,
   "metadata": {},
   "outputs": [],
   "source": []
  },
  {
   "cell_type": "markdown",
   "metadata": {
    "colab_type": "text",
    "id": "SsQLT38gVbn_"
   },
   "source": [
    "# **Results**"
   ]
  },
  {
   "cell_type": "markdown",
   "metadata": {},
   "source": [
    "The following code cell runs all test and shows that the implementions are successful:"
   ]
  },
  {
   "cell_type": "code",
   "execution_count": null,
   "metadata": {},
   "outputs": [],
   "source": []
  },
  {
   "cell_type": "markdown",
   "metadata": {
    "colab_type": "text",
    "id": "_4GLBv0zWr7m"
   },
   "source": [
    "# **Discussion**"
   ]
  },
  {
   "cell_type": "markdown",
   "metadata": {},
   "source": [
    "TODO"
   ]
  }
 ],
 "metadata": {
  "colab": {
   "include_colab_link": true,
   "name": "template-report-lab-X.ipynb",
   "provenance": []
  },
  "kernelspec": {
   "display_name": "Python 3",
   "language": "python",
   "name": "python3"
  },
  "language_info": {
   "codemirror_mode": {
    "name": "ipython",
    "version": 3
   },
   "file_extension": ".py",
   "mimetype": "text/x-python",
   "name": "python",
   "nbconvert_exporter": "python",
   "pygments_lexer": "ipython3",
   "version": "3.8.7"
  }
 },
 "nbformat": 4,
 "nbformat_minor": 1
}

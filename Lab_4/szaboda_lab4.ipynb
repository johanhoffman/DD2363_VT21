{
  "nbformat": 4,
  "nbformat_minor": 0,
  "metadata": {
    "colab": {
      "name": "szaboda_lab4",
      "provenance": []
    },
    "kernelspec": {
      "name": "python3",
      "display_name": "Python 3"
    }
  },
  "cells": [
    {
      "cell_type": "markdown",
      "metadata": {
        "id": "6RgtXlfYO_i7"
      },
      "source": [
        "# **Lab 4: Approximation**\n",
        "**Dániel Szabó**"
      ]
    },
    {
      "cell_type": "markdown",
      "metadata": {
        "id": "9x_J5FVuPzbm"
      },
      "source": [
        "# **Abstract**"
      ]
    },
    {
      "cell_type": "markdown",
      "metadata": {
        "id": "yJipbXtnjrJZ"
      },
      "source": [
        "This laboratory is about approximating a function $f\\in V$ by calculating its projection $P_Nf\\in V_N\\subset V$, where $V_N$ is a finite dimensional subspace of $V$. The $L^2$ projection $P_Nf$ of function $f\\in L^2([a,b])$ onto $V_N\\subset L^2([a,b])$ is defined by $\\forall v\\in V_N\\ (P_Nf,v)=(f,v)$ with the inner product $(f,g)=\\int_a^bf(x)g(x)dx$."
      ]
    },
    {
      "cell_type": "markdown",
      "metadata": {
        "id": "OkT8J7uOWpT3"
      },
      "source": [
        "#**About the code**"
      ]
    },
    {
      "cell_type": "code",
      "metadata": {
        "id": "Pdll1Xc9WP0e",
        "colab": {
          "base_uri": "https://localhost:8080/",
          "height": 35
        },
        "outputId": "96720d84-1c33-4983-9599-ca65ee736047"
      },
      "source": [
        "\"\"\"DD2363 Methods in Scientific Computing, \"\"\"\n",
        "\"\"\"KTH Royal Institute of Technology, Stockholm, Sweden.\"\"\"\n",
        "\n",
        "# Copyright (C) 2021 Dániel Szabó (dszabo@kth.se)\n",
        "\n",
        "# This file is part of the course DD2365 Methods in Scientific Computing\n",
        "# KTH Royal Institute of Technology, Stockholm, Sweden\n",
        "#\n",
        "# This is free software: you can redistribute it and/or modify\n",
        "# it under the terms of the GNU Lesser General Public License as published by\n",
        "# the Free Software Foundation, either version 3 of the License, or\n",
        "# (at your option) any later version.\n",
        "\n",
        "# This template is maintained by Johan Hoffman\n",
        "# Please report problems to jhoffman@kth.se"
      ],
      "execution_count": 20,
      "outputs": [
        {
          "output_type": "execute_result",
          "data": {
            "application/vnd.google.colaboratory.intrinsic+json": {
              "type": "string"
            },
            "text/plain": [
              "'KTH Royal Institute of Technology, Stockholm, Sweden.'"
            ]
          },
          "metadata": {
            "tags": []
          },
          "execution_count": 20
        }
      ]
    },
    {
      "cell_type": "markdown",
      "metadata": {
        "id": "28xLGz8JX3Hh"
      },
      "source": [
        "# **Set up environment**"
      ]
    },
    {
      "cell_type": "code",
      "metadata": {
        "id": "Xw7VlErAX7NS"
      },
      "source": [
        "# Load neccessary modules.\n",
        "import numpy as np\n",
        "import scipy.integrate as integrate\n",
        "import random\n",
        "\n",
        "random.seed(0)"
      ],
      "execution_count": 21,
      "outputs": []
    },
    {
      "cell_type": "markdown",
      "metadata": {
        "id": "gnO3lhAigLev"
      },
      "source": [
        "# **Introduction**"
      ]
    },
    {
      "cell_type": "markdown",
      "metadata": {
        "id": "l5zMzgPlRAF6"
      },
      "source": [
        "With a basis $\\{\\phi_i\\}_{i=1}^N$ of $V_N$ the task of calculating the projection of a function $f$ onto $V_N$ can be formulated as a matrix equation $A\\alpha=b$ where $a_{ij}=(\\phi_i,\\phi_j)$ and $b_i=(f,\\phi_i)$. From the solution vector $\\alpha$ we can calculate the projection: $P_N f(x)=\\sum_{i=1}^N\\alpha_i\\phi_i(x)$. If we use the Lagrange basis, it is also true that $\\alpha_i=f(x_i)$, where $x_i$ are the nodes of the given mesh."
      ]
    },
    {
      "cell_type": "markdown",
      "metadata": {
        "id": "jOQvukXZq5U5"
      },
      "source": [
        "# **Method**"
      ]
    },
    {
      "cell_type": "markdown",
      "metadata": {
        "id": "C3l5q78KKQR3"
      },
      "source": [
        "Method \"mesh_check\" checks if the input array is a valid 1D mesh, i.e. that its elements are increasing.\r\n",
        "\r\n",
        "Method \"lagrange\" calculates the value of the first order Lagrange polynomial described by the input parameters. $\\lambda_{k,0}(x)=\\frac{x_{k+1}-x}{x_{k+1}-x_k}$ and $\\lambda_{k,1}(x)=\\frac{x-x_k}{x_{k+1}-x_k}$.\r\n",
        "\r\n",
        "Method \"assemble\" follows Algorithm 9.2 of the lecture notes. Using the fact that $\\phi_k(x)=\\begin{cases}\\lambda_{k,1}(x) \\textrm{ if } x\\in[x_{k-1},x_{k}]\\\\\\lambda_{{k+1},0}(x) \\textrm{ if } x\\in[x_{k},x_{k+1}]\\end{cases}$ we can rewrite the matrix and vector value updates (where we only look at one interval at a time) with the Lagrange polynomials. For each interval $[x_k,x_{k+1}]$, values $\\int_{x_k}^{x_{k+1}}f(x)\\lambda_{k,i}(x)dx$ are stored in the local $b$ vector; and values $\\int_{x_k}^{x_{k+1}}\\lambda_{k,i}(x)\\lambda_{k,j}(x)dx$ are stored in the local $A$ matrix (for $i,j\\in\\{0,1\\}$). Then the corresponding parts of the global matrix and vector are updated with the local ones.\r\n",
        "\r\n",
        "Method \"projection\" checks if the input mesh is a valid mesh. Then it calculates matrix $A$ and vector $b$ using the previous method, and returns vector $\\alpha$ that satisfies $A\\alpha=b$."
      ]
    },
    {
      "cell_type": "code",
      "metadata": {
        "id": "_KhPqxx3Z-Nw"
      },
      "source": [
        "def mesh_check(mesh):\r\n",
        "    for i in range(len(mesh)-1):\r\n",
        "        if mesh[i] >= mesh[i+1]:\r\n",
        "            raise Exception(\"Not a valid mesh\")\r\n",
        "\r\n",
        "def lagrange(x,k,t,mesh):\r\n",
        "    if t==0:\r\n",
        "        return (mesh[k+1]-x)/(mesh[k+1]-mesh[k])\r\n",
        "    if t==1:\r\n",
        "        return (x-mesh[k])/(mesh[k+1]-mesh[k])\r\n",
        "\r\n",
        "def assemble(f, mesh):\r\n",
        "    q_plus_1 = 1+1 # q=1, but q+1 is used more often, so this value is stored\r\n",
        "    n_o_intervals = len(mesh)-1\r\n",
        "    A = np.zeros((n_o_intervals+1, n_o_intervals+1)) # global A matrix\r\n",
        "    B = np.zeros(n_o_intervals+1) # global b vector\r\n",
        "    for k in range(n_o_intervals):\r\n",
        "        a = np.zeros((q_plus_1,q_plus_1)) # local A matrix\r\n",
        "        b = np.zeros(q_plus_1) # local b vector\r\n",
        "        for i in range(q_plus_1):\r\n",
        "            b[i] = integrate.quad(lambda x: f(x)*lagrange(x,k,i,mesh), mesh[k], mesh[k+1])[0]\r\n",
        "            for j in range(q_plus_1):\r\n",
        "                a[i,j] = integrate.quad(lambda x: lagrange(x,k,i,mesh)*lagrange(x,k,j,mesh), mesh[k], mesh[k+1])[0]\r\n",
        "        A[k:k+q_plus_1,k:k+q_plus_1] += a\r\n",
        "        B[k:k+q_plus_1] += b\r\n",
        "    return A, B\r\n",
        "\r\n",
        "def projection(f, mesh):\r\n",
        "    mesh_check(mesh)\r\n",
        "    A,b = assemble(f,mesh)\r\n",
        "    return np.linalg.solve(A,b)"
      ],
      "execution_count": 22,
      "outputs": []
    },
    {
      "cell_type": "markdown",
      "metadata": {
        "id": "SsQLT38gVbn_"
      },
      "source": [
        "# **Results**"
      ]
    },
    {
      "cell_type": "markdown",
      "metadata": {
        "id": "RLwlnOzuV-Cd"
      },
      "source": [
        "The verification of the method is done by computing the results for a random function: a polynomial that has degree between 2 and 10, and its coefficients are drawn from the standard normal distribution. Method \"f_ex\" returns the value of this polynomial at a given point. (Of course it is possible to return the values of any function -- not only polynomials -- by calling \"f_ex\" if we modify its code, like for example if we use the commented line instead of the rest.) Method \"print_poly\" prints a polynomial given by its array of coefficients in a readable way.\r\n",
        "\r\n"
      ]
    },
    {
      "cell_type": "code",
      "metadata": {
        "colab": {
          "base_uri": "https://localhost:8080/"
        },
        "id": "572wyMJMg0ep",
        "outputId": "7b648e7d-a1eb-4a88-f8e5-92dd7805f869"
      },
      "source": [
        "degree = random.randint(2,10)\r\n",
        "coefficients = []\r\n",
        "for i in range(degree+1):\r\n",
        "    coefficients.append(random.gauss(0,1))\r\n",
        "\r\n",
        "def f_ex(x):\r\n",
        "    # return np.sin(x**2)\r\n",
        "    res = 0\r\n",
        "    for i in range(degree+1):\r\n",
        "        res += coefficients[i] * x**i\r\n",
        "    return res\r\n",
        "\r\n",
        "def print_poly(coeffs):\r\n",
        "    print(coeffs[0], end='')\r\n",
        "    for i in range(1,len(coeffs)):\r\n",
        "        print(\" + \",coeffs[i],\" * x^\",i, end='', sep='')\r\n",
        "    print(\"\")\r\n",
        "\r\n",
        "print(\"f(x) = \",end='',sep='')\r\n",
        "print_poly(coefficients)"
      ],
      "execution_count": 23,
      "outputs": [
        {
          "output_type": "stream",
          "text": [
            "f(x) = 0.05219198828260849 + -1.0434089742005737 * x^1 + -0.06700651572905797 * x^2 + 1.1947466787499987 * x^3 + -1.4471231264273656 * x^4 + 0.9843395512466481 * x^5 + -0.37407684698672905 * x^6 + 1.0746503857790555 * x^7 + -1.8919635634885046 * x^8\n"
          ],
          "name": "stdout"
        }
      ]
    },
    {
      "cell_type": "markdown",
      "metadata": {
        "id": "E9BHVHdJrCfQ"
      },
      "source": [
        "For the testing of our method, we generate a mesh with subinterval length $h$. First, $h=1/2$, then it is halved again and again until it becomes small enough. For each value of $h$, the result $v$ of our method is calculated, as well as the exact result $v^*$, i.e. the values of the function at the points of the mesh. We calculate the error $||v-v^*||$, and check whether it is smaller than the error of the previous iteration, so if reducing the subinterval length makes the result converge to the correct solution. We also check if the final error is close to zero. Invalid input handling is also tested."
      ]
    },
    {
      "cell_type": "code",
      "metadata": {
        "id": "6Ki_zcTTq8sp"
      },
      "source": [
        "previous_error=np.inf\r\n",
        "h = 1/2\r\n",
        "while h > 2.5 * 10**-4:\r\n",
        "    mesh = np.arange(0,1+h,h)\r\n",
        "    approx = projection(f_ex, mesh)\r\n",
        "    correct = [f_ex(x_i) for x_i in mesh]\r\n",
        "    error = np.linalg.norm(np.subtract(approx, correct))\r\n",
        "    #print(error)\r\n",
        "    assert(error < previous_error)\r\n",
        "    previous_error = error\r\n",
        "    h /= 2\r\n",
        "np.testing.assert_almost_equal(error, 0, decimal=4)\r\n",
        "\r\n",
        "# Invalid mesh test\r\n",
        "np.testing.assert_raises(Exception, projection, f_ex, [0,0.5,0.5,1])"
      ],
      "execution_count": 24,
      "outputs": []
    },
    {
      "cell_type": "markdown",
      "metadata": {
        "id": "_4GLBv0zWr7m"
      },
      "source": [
        "# **Discussion**"
      ]
    },
    {
      "cell_type": "markdown",
      "metadata": {
        "id": "6bcsDSoRXHZe"
      },
      "source": [
        "The method, implemented for solving the tasks, actually succeeded in solving it, as it is confirmed by the test results.\r\n",
        "\r\n",
        "If the threshold for $h$ in the testing part is chosen to be much smaller than the current value (0.00025), then the computation takes significantly more time. This is due to the fact that while $h$ is decreasing exponentially, the number of iterations in our method is growing exponetially."
      ]
    }
  ]
}
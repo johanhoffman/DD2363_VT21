{
 "cells": [
  {
   "cell_type": "markdown",
   "metadata": {
    "colab_type": "text",
    "id": "view-in-github"
   },
   "source": [
    "<a href=\"https://colab.research.google.com/github/johanhoffman/DD2363-VT20/blob/master/template-report-lab-X.ipynb\" target=\"_parent\"><img src=\"https://colab.research.google.com/assets/colab-badge.svg\" alt=\"Open In Colab\"/></a>"
   ]
  },
  {
   "cell_type": "markdown",
   "metadata": {
    "colab_type": "text",
    "id": "6RgtXlfYO_i7"
   },
   "source": [
    "### **Lab 3: Iterative methods**\n",
    "**Mathias Axelsson**"
   ]
  },
  {
   "cell_type": "markdown",
   "metadata": {
    "colab_type": "text",
    "id": "9x_J5FVuPzbm"
   },
   "source": [
    "# **Abstract**"
   ]
  },
  {
   "cell_type": "markdown",
   "metadata": {
    "colab_type": "text",
    "id": "yJipbXtnjrJZ"
   },
   "source": [
    "This report will implement two functions for solving scalar and vector differential equations. It will also implement a function for simulating trajectories of a stochastic differential equation."
   ]
  },
  {
   "cell_type": "markdown",
   "metadata": {
    "colab_type": "text",
    "id": "OkT8J7uOWpT3"
   },
   "source": [
    "#**About the code**"
   ]
  },
  {
   "cell_type": "markdown",
   "metadata": {
    "colab_type": "text",
    "id": "HmB2noTr1Oyo"
   },
   "source": [
    "A short statement on who is the author of the file, and if the code is distributed under a certain license. "
   ]
  },
  {
   "cell_type": "code",
   "execution_count": 1,
   "metadata": {
    "colab": {
     "base_uri": "https://localhost:8080/",
     "height": 34
    },
    "colab_type": "code",
    "id": "Pdll1Xc9WP0e",
    "outputId": "6435158d-714b-4fa0-f688-bbd72fa2bc02"
   },
   "outputs": [
    {
     "data": {
      "text/plain": [
       "'KTH Royal Institute of Technology, Stockholm, Sweden.'"
      ]
     },
     "execution_count": 1,
     "metadata": {},
     "output_type": "execute_result"
    }
   ],
   "source": [
    "\"\"\"This program is a template for lab reports in the course\"\"\"\n",
    "\"\"\"DD2363 Methods in Scientific Computing, \"\"\"\n",
    "\"\"\"KTH Royal Institute of Technology, Stockholm, Sweden.\"\"\"\n",
    "\n",
    "# Copyright (C) 2020 Johan Hoffman (jhoffman@kth.se)\n",
    "\n",
    "# This file is part of the course DD2365 Advanced Computation in Fluid Mechanics\n",
    "# KTH Royal Institute of Technology, Stockholm, Sweden\n",
    "#\n",
    "# This is free software: you can redistribute it and/or modify\n",
    "# it under the terms of the GNU Lesser General Public License as published by\n",
    "# the Free Software Foundation, either version 3 of the License, or\n",
    "# (at your option) any later version.\n",
    "\n",
    "# This template is maintained by Johan Hoffman\n",
    "# Please report problems to jhoffman@kth.se"
   ]
  },
  {
   "cell_type": "markdown",
   "metadata": {
    "colab_type": "text",
    "id": "28xLGz8JX3Hh"
   },
   "source": [
    "# **Set up environment**"
   ]
  },
  {
   "cell_type": "markdown",
   "metadata": {
    "colab_type": "text",
    "id": "D2PYNusD08Wa"
   },
   "source": [
    "To have access to the neccessary modules you have to run this cell. If you need additional modules, this is where you add them. "
   ]
  },
  {
   "cell_type": "code",
   "execution_count": 2,
   "metadata": {
    "colab": {},
    "colab_type": "code",
    "id": "Xw7VlErAX7NS"
   },
   "outputs": [],
   "source": [
    "# Load neccessary modules.\n",
    "\n",
    "import time\n",
    "import numpy as np\n",
    "import scipy.integrate as integrate\n",
    "import numpy.random as nprnd\n",
    "\n",
    "import random as rnd\n",
    "\n",
    "\n",
    "from matplotlib import pyplot as plt\n",
    "from matplotlib import tri\n",
    "from matplotlib import axes\n",
    "from mpl_toolkits.mplot3d import Axes3D"
   ]
  },
  {
   "cell_type": "markdown",
   "metadata": {
    "colab_type": "text",
    "id": "gnO3lhAigLev"
   },
   "source": [
    "# **Introduction**"
   ]
  },
  {
   "cell_type": "markdown",
   "metadata": {
    "colab_type": "text",
    "id": "l5zMzgPlRAF6"
   },
   "source": [
    "The scalar and vector differential solver functions takes differential equations on the form $\\dot{u}=f(u,t),~ u(0) = u_0$ and returns $u(t_n)$ over $[0,T]$. The function for simulating trajectories of a stochastic differential equation takes a differential equation on the form $dX_t=\\mu X_tdt + \\sigma X_tdW$, with an initial probability distribution $X_0$."
   ]
  },
  {
   "cell_type": "markdown",
   "metadata": {
    "colab_type": "text",
    "id": "jOQvukXZq5U5"
   },
   "source": [
    "# **Method**"
   ]
  },
  {
   "cell_type": "markdown",
   "metadata": {
    "colab_type": "text",
    "id": "zF4iBj5VURZx"
   },
   "source": [
    "#### Time stepping for scalar initial value problem \n",
    "The function takes a function $f$, an initial value $x_0$ and a final time $T$. For this solver I have used the euler forward method. The function outputs an approximation $U_{t_n}$ with values on the interval $[0,T]$.\n",
    "\n",
    "#### Time stepping for a system of  initial value problems\n",
    "The function takes a vector valued function $f$, an initial value vector $x_0$ and a final time $T$. For this solver I have used the euler forward method. The function outputs an approximation $U_{t_n}$ with values on the interval $[0,T]$.\n",
    "\n",
    "#### Simulate a trajectory of a stochastic differential equation\n",
    "The function takes a drift $\\mu$, volatility $\\sigma$, a final time $T$ and an initial probability distribution $X_0$. It returns an approximation vector $X_t$. Multiple runs of this function has to be analyzed to gain an understanding of the function."
   ]
  },
  {
   "cell_type": "code",
   "execution_count": 21,
   "metadata": {},
   "outputs": [],
   "source": [
    "def scalar_step(f, x0, T, n=50):\n",
    "    t = np.linspace(0,T, num=n)\n",
    "    dt = t[1]\n",
    "    \n",
    "    X = np.zeros(n)\n",
    "    X[0] = x0\n",
    "    \n",
    "    for i in range(1,n):\n",
    "        X[i] = X[i-1] + dt*f(X[i-1], t[i-1])\n",
    "        \n",
    "    return X\n",
    "\n",
    "def vector_step(f, x0, T, n=50):\n",
    "    t = np.linspace(0,T, num=n)\n",
    "    dt = t[1]\n",
    "    \n",
    "    X = np.zeros((n, len(x0)))\n",
    "    X[0,:] = x0\n",
    "    \n",
    "    for i in range(1,n):\n",
    "        X[i,:] = X[i-1,:] + dt*f(X[i-1,:], t[i-1])\n",
    "        \n",
    "    return X\n",
    "\n",
    "def SDE(T, mu, sigma, X0, n=50):\n",
    "    t = np.linspace(0,T, num=n)\n",
    "    dt = t[1]\n",
    "    \n",
    "    X = np.zeros(n)\n",
    "    X[0] = X0\n",
    "    for i in range(1,n):\n",
    "        Z = nprnd.normal(0, 1, None)\n",
    "        X[i] = X[i-1] + dt*mu*X[i-1] + sigma*X[i-1]*Z*np.sqrt(dt)\n",
    "        \n",
    "    return X"
   ]
  },
  {
   "cell_type": "markdown",
   "metadata": {
    "colab_type": "text",
    "id": "SsQLT38gVbn_"
   },
   "source": [
    "# **Results**"
   ]
  },
  {
   "cell_type": "code",
   "execution_count": 29,
   "metadata": {},
   "outputs": [
    {
     "data": {
      "image/png": "[encoded data removed]",
      "text/plain": [
       "<Figure size 432x288 with 1 Axes>"
      ]
     },
     "metadata": {
      "needs_background": "light"
     },
     "output_type": "display_data"
    },
    {
     "data": {
      "image/png": "[encoded data removed]",
      "text/plain": [
       "<Figure size 432x288 with 1 Axes>"
      ]
     },
     "metadata": {
      "needs_background": "light"
     },
     "output_type": "display_data"
    },
    {
     "data": {
      "image/png": "[encoded data removed]",
      "text/plain": [
       "<Figure size 432x288 with 1 Axes>"
      ]
     },
     "metadata": {
      "needs_background": "light"
     },
     "output_type": "display_data"
    },
    {
     "data": {
      "image/png": "[encoded data removed]",
      "text/plain": [
       "<Figure size 432x288 with 1 Axes>"
      ]
     },
     "metadata": {
      "needs_background": "light"
     },
     "output_type": "display_data"
    },
    {
     "name": "stdout",
     "output_type": "stream",
     "text": [
      "For the stochastic differential equation: \n",
      "Norm of difference, ||E[XT] - X0*e^(mu*T)|| =  0.017367554382629713\n"
     ]
    }
   ],
   "source": [
    "def f(x, t, l):\n",
    "    return l*x\n",
    "# Accuracy\n",
    "N = [10, 20, 40, 80, 160, 320, 640, 1280]\n",
    "\n",
    "Xnorm = np.zeros(len(N))\n",
    "for i, n in enumerate(N):\n",
    "    T = 1\n",
    "    x0 = 1\n",
    "    l = 1\n",
    "\n",
    "    t = np.linspace(0,T, num=n)\n",
    "    X1 = scalar_step(lambda x, t: f(x, t, l), x0, T, n=n)\n",
    "    X2 = x0*np.exp(l*T)\n",
    "    \n",
    "    Xnorm[i] = np.linalg.norm(X1[-1] - X2)\n",
    "    \n",
    "plt.plot(N,Xnorm)\n",
    "plt.xlabel(\"Number of steps\")\n",
    "plt.ylabel(\"Norm of error\")\n",
    "plt.title(\"Error for scalar function\")\n",
    "plt.show()\n",
    "\n",
    "\n",
    "Xnorm = np.zeros(len(N))\n",
    "for i, n in enumerate(N):\n",
    "    T = 1\n",
    "    x0 = np.array([1, 2, -1, -2])\n",
    "    l = 1\n",
    "\n",
    "    t = np.linspace(0,T, num=n)\n",
    "    X1 = vector_step(lambda x, t: f(x, t, l), x0, T, n=n)\n",
    "    X2 = x0*np.exp(l*T)\n",
    "    \n",
    "    \n",
    "    Xnorm[i] = np.linalg.norm(X1[-1,:] - X2)\n",
    "    \n",
    "plt.plot(N,Xnorm)\n",
    "plt.xlabel(\"Number of steps\")\n",
    "plt.ylabel(\"Norm of endpoint error\")\n",
    "plt.title(\"Error for vector function\")\n",
    "plt.show()\n",
    "\n",
    "# Stability\n",
    "\n",
    "L = np.linspace(-60, -1)\n",
    "\n",
    "Xend = np.zeros(len(L))\n",
    "for i, l in enumerate(L):\n",
    "    T = 1\n",
    "    x0 = 1\n",
    "    n = 25\n",
    "\n",
    "    t = np.linspace(0,T, num=n)\n",
    "    X1 = scalar_step(lambda x, t: f(x, t, l), x0, T, n=n)\n",
    "    \n",
    "    Xend[i] = X1[-1]\n",
    "    \n",
    "Xreal = x0*np.exp(L*T)\n",
    "plt.plot(L, Xend, label=\"Endpoints\")\n",
    "plt.plot(L, Xreal, label=\"Expected values\")\n",
    "plt.legend()\n",
    "plt.xlabel(\"Value of lambda\")\n",
    "plt.ylabel(\"Endpoint value\")\n",
    "plt.title(\"Endpoint values as a function of lambda (scalar solver)\")\n",
    "plt.show()\n",
    "\n",
    "\n",
    "Xend = np.zeros(len(L))\n",
    "for i, l in enumerate(L):\n",
    "    T = 1\n",
    "    x0 = np.array([1, 2, -1, -2])\n",
    "    n = 25\n",
    "\n",
    "    t = np.linspace(0,T, num=n)\n",
    "    X1 = vector_step(lambda x, t: f(x, t, l), x0, T, n=n)\n",
    "    \n",
    "    Xend[i] = X1[-1, 0]\n",
    "\n",
    "Xreal = x0[0]*np.exp(L*T)\n",
    "plt.plot(L, Xend, label=\"Endpoints\")\n",
    "plt.plot(L, Xreal, label=\"Expected values\")\n",
    "plt.legend()\n",
    "plt.xlabel(\"Value of lambda\")\n",
    "plt.ylabel(\"Endpoint value\")\n",
    "plt.title(\"Endpoint values as a function of lambda (vector solver)\")\n",
    "plt.show()\n",
    "\n",
    "\n",
    "## SDE\n",
    "X0 = 1\n",
    "\n",
    "# Calculate E[X_t]\n",
    "samples = 500\n",
    "mu = 0.5\n",
    "sigma = 0.1\n",
    "T = 2\n",
    "\n",
    "XT = 0\n",
    "for i in range(samples):\n",
    "    X = SDE(T, mu, sigma, X0, n=500)\n",
    "    XT += X[-1]/samples\n",
    "\n",
    "EX = X0*np.exp(mu*T)\n",
    "print(\"For the stochastic differential equation: \")\n",
    "print(\"Norm of difference, ||E[XT] - X0*e^(mu*T)|| = \", np.linalg.norm(EX - XT))\n"
   ]
  },
  {
   "cell_type": "markdown",
   "metadata": {
    "colab_type": "text",
    "id": "_4GLBv0zWr7m"
   },
   "source": [
    "# **Discussion**"
   ]
  },
  {
   "cell_type": "markdown",
   "metadata": {
    "colab_type": "text",
    "id": "6bcsDSoRXHZe"
   },
   "source": [
    "The functions work as intended. As the euler forward method was used the solver becomes unstable for $dt*\\lambda < -2$. This was expected and can be seen in the last two plots of the fucntions. The error for the functions tends towards zero as expected. The stochastic differential equation results in the expected values.\n",
    "\n",
    "The stability of the functions depend partially on the step size. Therefore it is always possible to get stable results with some tuning. Since the stability criteria is known this could be solved with adaptive step sizes."
   ]
  },
  {
   "cell_type": "code",
   "execution_count": null,
   "metadata": {},
   "outputs": [],
   "source": []
  }
 ],
 "metadata": {
  "colab": {
   "include_colab_link": true,
   "name": "template-report-lab-X.ipynb",
   "provenance": []
  },
  "kernelspec": {
   "display_name": "Python 3",
   "language": "python",
   "name": "python3"
  },
  "language_info": {
   "codemirror_mode": {
    "name": "ipython",
    "version": 3
   },
   "file_extension": ".py",
   "mimetype": "text/x-python",
   "name": "python",
   "nbconvert_exporter": "python",
   "pygments_lexer": "ipython3",
   "version": "3.7.7"
  }
 },
 "nbformat": 4,
 "nbformat_minor": 1
}

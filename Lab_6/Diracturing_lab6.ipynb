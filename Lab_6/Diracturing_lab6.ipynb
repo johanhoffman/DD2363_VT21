{
  "nbformat": 4,
  "nbformat_minor": 0,
  "metadata": {
    "colab": {
      "name": "Diracturing_lab6.ipynb",
      "provenance": [],
      "collapsed_sections": [
        "OkT8J7uOWpT3"
      ],
      "include_colab_link": true
    },
    "kernelspec": {
      "name": "python3",
      "display_name": "Python 3"
    }
  },
  "cells": [
    {
      "cell_type": "markdown",
      "metadata": {
        "id": "view-in-github",
        "colab_type": "text"
      },
      "source": [
        "<a href=\"https://colab.research.google.com/github/johanhoffman/DD2363_VT21/blob/Diracturing/Lab_6/Diracturing_lab6.ipynb\" target=\"_parent\"><img src=\"https://colab.research.google.com/assets/colab-badge.svg\" alt=\"Open In Colab\"/></a>"
      ]
    },
    {
      "cell_type": "markdown",
      "metadata": {
        "id": "6RgtXlfYO_i7"
      },
      "source": [
        "# **Lab 6: Differential equations**\n",
        "**Julius Andersson**"
      ]
    },
    {
      "cell_type": "markdown",
      "metadata": {
        "id": "9x_J5FVuPzbm"
      },
      "source": [
        "# **Abstract**\r\n",
        "The theme for this lab was differential equations. The task is to solve scalar and system of inital value problem. This was achieved with the Euler explicit method. Tests was performed to see the accuracy and stability of some model problems."
      ]
    },
    {
      "cell_type": "markdown",
      "metadata": {
        "id": "OkT8J7uOWpT3"
      },
      "source": [
        "#**About the code**"
      ]
    },
    {
      "cell_type": "markdown",
      "metadata": {
        "id": "HmB2noTr1Oyo"
      },
      "source": [
        "A short statement on who is the author of the file, and if the code is distributed under a certain license. "
      ]
    },
    {
      "cell_type": "code",
      "metadata": {
        "id": "Pdll1Xc9WP0e",
        "colab": {
          "base_uri": "https://localhost:8080/",
          "height": 35
        },
        "outputId": "0dfae2ef-b402-4ba4-b7ce-99ec9aef1af5"
      },
      "source": [
        "\"\"\"This program is a template for lab reports in the course\"\"\"\n",
        "\"\"\"DD2363 Methods in Scientific Computing, \"\"\"\n",
        "\"\"\"KTH Royal Institute of Technology, Stockholm, Sweden.\"\"\"\n",
        "\n",
        "# Copyright (C) 2020 Johan Hoffman (jhoffman@kth.se)\n",
        "\n",
        "# This file is part of the course DD2365 Advanced Computation in Fluid Mechanics\n",
        "# KTH Royal Institute of Technology, Stockholm, Sweden\n",
        "#\n",
        "# This is free software: you can redistribute it and/or modify\n",
        "# it under the terms of the GNU Lesser General Public License as published by\n",
        "# the Free Software Foundation, either version 3 of the License, or\n",
        "# (at your option) any later version.\n",
        "\n",
        "# This template is maintained by Johan Hoffman\n",
        "# Please report problems to jhoffman@kth.se"
      ],
      "execution_count": 2,
      "outputs": [
        {
          "output_type": "execute_result",
          "data": {
            "application/vnd.google.colaboratory.intrinsic+json": {
              "type": "string"
            },
            "text/plain": [
              "'KTH Royal Institute of Technology, Stockholm, Sweden.'"
            ]
          },
          "metadata": {
            "tags": []
          },
          "execution_count": 2
        }
      ]
    },
    {
      "cell_type": "markdown",
      "metadata": {
        "id": "28xLGz8JX3Hh"
      },
      "source": [
        "# **Set up environment**"
      ]
    },
    {
      "cell_type": "markdown",
      "metadata": {
        "id": "D2PYNusD08Wa"
      },
      "source": [
        "To have access to the neccessary modules you have to run this cell. If you need additional modules, this is where you add them. "
      ]
    },
    {
      "cell_type": "code",
      "metadata": {
        "id": "Xw7VlErAX7NS"
      },
      "source": [
        "# Load neccessary modules.\n",
        "from google.colab import files\n",
        "\n",
        "import time\n",
        "import numpy as np\n",
        "\n",
        "#try:\n",
        "#    from dolfin import *; from mshr import *\n",
        "#except ImportError as e:\n",
        "#    !apt-get install -y -qq software-properties-common \n",
        "#    !add-apt-repository -y ppa:fenics-packages/fenics\n",
        "#    !apt-get update -qq\n",
        "#    !apt install -y --no-install-recommends fenics\n",
        "#    from dolfin import *; from mshr import *\n",
        "    \n",
        "#import dolfin.common.plotting as fenicsplot\n",
        "\n",
        "from matplotlib import pyplot as plt\n",
        "from matplotlib import tri\n",
        "from matplotlib import axes\n",
        "from mpl_toolkits.mplot3d import Axes3D"
      ],
      "execution_count": 3,
      "outputs": []
    },
    {
      "cell_type": "markdown",
      "metadata": {
        "id": "gnO3lhAigLev"
      },
      "source": [
        "# **Introduction**\r\n",
        "To be able to solve differential equations is an important task in science. Many solutions can not be done with analytic methods and therefore computational methods is often instead used. In this lab a simpel method named eulers explicit method was used. We have the problem $\\frac{du}{dt}=f(u,t)$ and $u(0)=u_0$. Where $u$ can be both a scalar and a vector function, $u: [0,T]->R^N$. Eulers explicit method is as follows: $u(t_n)\\approx u(t_{n-1})+k_nf(u(t_{n-1}),t_{n-1})$."
      ]
    },
    {
      "cell_type": "markdown",
      "metadata": {
        "id": "jOQvukXZq5U5"
      },
      "source": [
        "# **Method**\r\n",
        "The algorithm is taken from algorithm 13.1 in the lecture notes. It is the explicit euler method. (It is the same for scalar and system but I choose to divide them into two)"
      ]
    },
    {
      "cell_type": "code",
      "metadata": {
        "id": "DwBQiomkThx6"
      },
      "source": [
        "def explEuler(f,u0,T,k):\r\n",
        "  u_t=[]\r\n",
        "  t=0\r\n",
        "  while t<T:\r\n",
        "    u=u0+k*f(u0,t)\r\n",
        "    u_t.append(u)\r\n",
        "    u0=u\r\n",
        "    t=t+k\r\n",
        "  return u_t\r\n",
        "\r\n",
        "\r\n",
        "\r\n"
      ],
      "execution_count": 11,
      "outputs": []
    },
    {
      "cell_type": "code",
      "metadata": {
        "id": "fSt2CiKO3EQA"
      },
      "source": [
        "def SystemExplEuler(f,u0,T,k):\r\n",
        "  u_t=[]\r\n",
        "  t=0\r\n",
        "  while t<T:\r\n",
        "    u=u0+k*f(u0,t)\r\n",
        "    u_t.append(u)\r\n",
        "    u0=u\r\n",
        "    t=t+k\r\n",
        "  return u_t\r\n",
        "\r\n",
        "\r\n"
      ],
      "execution_count": 13,
      "outputs": []
    },
    {
      "cell_type": "markdown",
      "metadata": {
        "id": "SsQLT38gVbn_"
      },
      "source": [
        "# **Results**"
      ]
    },
    {
      "cell_type": "markdown",
      "metadata": {
        "id": "u2Rf5qdCAED4"
      },
      "source": [
        "1) The model problem we choose is $\\frac{du(t)}{dt}=-u(t)$ with $u(0)=u_0$. It has the solution $u(t)=u_0e^{-t}$. It has a stable equlibrium at $u^*=0$ (see lecture notes p.283). Here we test $u_0=-1,1,-10,10$."
      ]
    },
    {
      "cell_type": "code",
      "metadata": {
        "colab": {
          "base_uri": "https://localhost:8080/",
          "height": 1000
        },
        "id": "BwAYQR_jABzM",
        "outputId": "61bc8650-870f-4e99-c1bc-b64970b445f5"
      },
      "source": [
        "f=lambda u,t: -u\r\n",
        "\r\n",
        "ut=explEuler(f,-1,10,1/10)\r\n",
        "t=np.linspace(1/10,10,101)\r\n",
        "plt.plot(t,ut)\r\n",
        "plt.show()\r\n",
        "\r\n",
        "ut=explEuler(f,1,10,1/10)\r\n",
        "t=np.linspace(1/10,10,101)\r\n",
        "plt.plot(t,ut)\r\n",
        "plt.show()\r\n",
        "\r\n",
        "ut=explEuler(f,-10,10,1/10)\r\n",
        "t=np.linspace(1/10,10,101)\r\n",
        "plt.plot(t,ut)\r\n",
        "plt.show()\r\n",
        "\r\n",
        "\r\n",
        "ut=explEuler(f,10,10,1/10)\r\n",
        "t=np.linspace(1/10,10,101)\r\n",
        "plt.plot(t,ut)\r\n",
        "plt.show()\r\n"
      ],
      "execution_count": 6,
      "outputs": [
        {
          "output_type": "display_data",
          "data": {
            "image/png": "[encoded data removed]",
            "text/plain": [
              "<Figure size 432x288 with 1 Axes>"
            ]
          },
          "metadata": {
            "tags": [],
            "needs_background": "light"
          }
        },
        {
          "output_type": "display_data",
          "data": {
            "image/png": "[encoded data removed]",
            "text/plain": [
              "<Figure size 432x288 with 1 Axes>"
            ]
          },
          "metadata": {
            "tags": [],
            "needs_background": "light"
          }
        },
        {
          "output_type": "display_data",
          "data": {
            "image/png": "[encoded data removed]",
            "text/plain": [
              "<Figure size 432x288 with 1 Axes>"
            ]
          },
          "metadata": {
            "tags": [],
            "needs_background": "light"
          }
        },
        {
          "output_type": "display_data",
          "data": {
            "image/png": "[encoded data removed]",
            "text/plain": [
              "<Figure size 432x288 with 1 Axes>"
            ]
          },
          "metadata": {
            "tags": [],
            "needs_background": "light"
          }
        }
      ]
    },
    {
      "cell_type": "markdown",
      "metadata": {
        "id": "GrbSaMh1E01_"
      },
      "source": [
        "From the above results we see all approaching zero. This suggests it to be stable. Now we test the accuracy by setting $u_0=1$ and test the approximation against the analytic solution."
      ]
    },
    {
      "cell_type": "code",
      "metadata": {
        "colab": {
          "base_uri": "https://localhost:8080/",
          "height": 265
        },
        "id": "abKYnE9bFELw",
        "outputId": "1442cb90-8d19-4949-da46-e3e9f95b1fec"
      },
      "source": [
        "f=lambda u,t: -u\r\n",
        "\r\n",
        "ut=explEuler(f,1,10,1/10)\r\n",
        "t=np.linspace(1/10,10,101)\r\n",
        "plt.plot(t,ut)\r\n",
        "\r\n",
        "y=[ 1*np.exp(-i) for i in t]\r\n",
        "plt.plot(t,y)\r\n",
        "plt.show()"
      ],
      "execution_count": 7,
      "outputs": [
        {
          "output_type": "display_data",
          "data": {
            "image/png": "[encoded data removed]",
            "text/plain": [
              "<Figure size 432x288 with 1 Axes>"
            ]
          },
          "metadata": {
            "tags": [],
            "needs_background": "light"
          }
        }
      ]
    },
    {
      "cell_type": "markdown",
      "metadata": {
        "id": "o8MCUvGaFpNm"
      },
      "source": [
        "Here we see both the solution and the approximation by our explicit Euler method."
      ]
    },
    {
      "cell_type": "markdown",
      "metadata": {
        "id": "O1GziecxF7XH"
      },
      "source": [
        "2) Here we choose the model problem as $u_1'=u_2, u_2'=u_1$. This can be represented in vector notation as $A=((0,1),(1,0))$. It has equilibrium point at $u^*=0$. The matrix has eigenvalue $\\lambda_1=1, \\lambda_2=-1$. It should therefore not be stable. Below we test the stability and uses $u_0=(0.1,0),(-0.1,0)$ and lastly $(0,0)$. The graph only plot $(u_1,u_2)$ without time."
      ]
    },
    {
      "cell_type": "code",
      "metadata": {
        "colab": {
          "base_uri": "https://localhost:8080/",
          "height": 635
        },
        "id": "GXiV47ulIW1y",
        "outputId": "dfadb452-8977-4e9a-8742-5a859afe6d9f"
      },
      "source": [
        "f=lambda u,t: np.array([u[1],u[0]])\r\n",
        "arr=SystemExplEuler(f,np.array([0.1,0]),10,1/10)\r\n",
        "#print(arr)\r\n",
        "x=[]\r\n",
        "y=[]\r\n",
        "for i in arr:\r\n",
        "  x.append(i[0])\r\n",
        "  y.append(i[1])\r\n",
        "\r\n",
        "plt.plot(x,y)\r\n",
        "plt.show()\r\n",
        "print(arr)\r\n",
        "\r\n",
        "f=lambda u,t: np.array([u[1],u[0]])\r\n",
        "arr=SystemExplEuler(f,np.array([-0.1,0]),10,1/10)\r\n",
        "#print(arr)\r\n",
        "x=[]\r\n",
        "y=[]\r\n",
        "for i in arr:\r\n",
        "  x.append(i[0])\r\n",
        "  y.append(i[1])\r\n",
        "\r\n",
        "\r\n",
        "plt.plot(x,y)\r\n",
        "plt.show()\r\n",
        "print(arr)\r\n",
        "\r\n",
        "print()\r\n",
        "print()\r\n",
        "print(\"Data for u0=(0,0)\")\r\n",
        "f=lambda u,t: np.array([u[1],u[0]])\r\n",
        "arr=SystemExplEuler(f,np.array([0,0]),10,1/10)\r\n",
        "#print(arr)\r\n",
        "x=[]\r\n",
        "y=[]\r\n",
        "for i in arr:\r\n",
        "  x.append(i[0])\r\n",
        "  y.append(i[1])\r\n",
        "\r\n",
        "print(arr)"
      ],
      "execution_count": 9,
      "outputs": [
        {
          "output_type": "display_data",
          "data": {
            "image/png": "[encoded data removed]",
            "text/plain": [
              "<Figure size 432x288 with 1 Axes>"
            ]
          },
          "metadata": {
            "tags": [],
            "needs_background": "light"
          }
        },
        {
          "output_type": "stream",
          "text": [
            "[array([0.1 , 0.01]), array([0.101, 0.02 ]), array([0.103 , 0.0301]), array([0.10601, 0.0404 ]), array([0.11005 , 0.051001]), array([0.1151501, 0.062006 ]), array([0.1213507 , 0.07352101]), array([0.1287028 , 0.08565608]), array([0.13726841, 0.09852636]), array([0.14712105, 0.1122532 ]), array([0.15834637, 0.12696531]), array([0.1710429 , 0.14279994]), array([0.18532289, 0.15990423]), array([0.20131331, 0.17843652]), array([0.21915697, 0.19856785]), array([0.23901375, 0.22048355]), array([0.26106211, 0.24438492]), array([0.2855006 , 0.27049113]), array([0.31254971, 0.29904119]), array([0.34245383, 0.33029616]), array([0.37548345, 0.36454155]), array([0.4119376 , 0.40208989]), array([0.45214659, 0.44328365]), array([0.49647496, 0.48849831]), array([0.54532479, 0.53814581]), array([0.59913937, 0.59267829]), array([0.6584072 , 0.65259222]), array([0.72366642, 0.71843294]), array([0.79550971, 0.79079958]), array([0.87458967, 0.87035056]), array([0.96162473, 0.95780952]), array([1.05740568, 1.053972  ]), array([1.16280288, 1.15971256]), array([1.27877414, 1.27599285]), array([1.40637342, 1.40387026]), array([1.54676045, 1.54450761]), array([1.70121121, 1.69918365]), array([1.87112957, 1.86930477]), array([2.05806005, 2.05641773]), array([2.26370182, 2.26222373]), array([2.4899242 , 2.48859392]), array([2.73878359, 2.73758634]), array([3.01254222, 3.01146469]), array([3.31368869, 3.31271892]), array([3.64496058, 3.64408779]), array([4.00936936, 4.00858384]), array([4.41022775, 4.40952078]), array([4.85117982, 4.85054355]), array([5.33623418, 5.33566154]), array([5.86980033, 5.86928496]), array([6.45672883, 6.45626499]), array([7.10235533, 7.10193787]), array([7.81254911, 7.8121734 ]), array([8.59376645, 8.59342832]), array([9.45310929, 9.45280496]), array([10.39838978, 10.39811589]), array([11.43820137, 11.43795487]), array([12.58199686, 12.581775  ]), array([13.84017436, 13.83997469]), array([15.22417183, 15.22399213]), array([16.74657104, 16.74640931]), array([18.42121197, 18.42106641]), array([20.26331861, 20.26318761]), array([22.28963737, 22.28951947]), array([24.51858932, 24.51848321]), array([26.97043764, 26.97034214]), array([29.66747186, 29.66738591]), array([32.63421045, 32.63413309]), array([35.89762376, 35.89755414]), array([39.48737917, 39.48731651]), array([43.43611082, 43.43605443]), array([47.77971626, 47.77966551]), array([52.55768281, 52.55763714]), array([57.81344653, 57.81340542]), array([63.59478707, 63.59475007]), array([69.95426208, 69.95422878]), array([76.94968495, 76.94965498]), array([84.64465045, 84.64462348]), array([93.1091128 , 93.10908853]), array([102.42002165, 102.41999981]), array([112.66202163, 112.66200197]), array([123.92822183, 123.92820413]), array([136.32104224, 136.32102632]), array([149.95314488, 149.95313054]), array([164.94845793, 164.94844503]), array([181.44330243, 181.44329082]), array([199.58763152, 199.58762107]), array([219.54639362, 219.54638422]), array([241.50103204, 241.50102358]), array([265.6511344 , 265.65112678]), array([292.21624708, 292.21624022]), array([321.4378711 , 321.43786493]), array([353.5816576 , 353.58165204]), array([388.9398228, 388.9398178]), array([427.83380458, 427.83380008]), array([470.61718459, 470.61718054]), array([517.67890264, 517.678899  ]), array([569.44679254, 569.44678926]), array([626.39147147, 626.39146852]), array([689.03061832, 689.03061566]), array([757.93367989, 757.93367749])]\n"
          ],
          "name": "stdout"
        },
        {
          "output_type": "display_data",
          "data": {
            "image/png": "[encoded data removed]",
            "text/plain": [
              "<Figure size 432x288 with 1 Axes>"
            ]
          },
          "metadata": {
            "tags": [],
            "needs_background": "light"
          }
        },
        {
          "output_type": "stream",
          "text": [
            "[array([-0.1 , -0.01]), array([-0.101, -0.02 ]), array([-0.103 , -0.0301]), array([-0.10601, -0.0404 ]), array([-0.11005 , -0.051001]), array([-0.1151501, -0.062006 ]), array([-0.1213507 , -0.07352101]), array([-0.1287028 , -0.08565608]), array([-0.13726841, -0.09852636]), array([-0.14712105, -0.1122532 ]), array([-0.15834637, -0.12696531]), array([-0.1710429 , -0.14279994]), array([-0.18532289, -0.15990423]), array([-0.20131331, -0.17843652]), array([-0.21915697, -0.19856785]), array([-0.23901375, -0.22048355]), array([-0.26106211, -0.24438492]), array([-0.2855006 , -0.27049113]), array([-0.31254971, -0.29904119]), array([-0.34245383, -0.33029616]), array([-0.37548345, -0.36454155]), array([-0.4119376 , -0.40208989]), array([-0.45214659, -0.44328365]), array([-0.49647496, -0.48849831]), array([-0.54532479, -0.53814581]), array([-0.59913937, -0.59267829]), array([-0.6584072 , -0.65259222]), array([-0.72366642, -0.71843294]), array([-0.79550971, -0.79079958]), array([-0.87458967, -0.87035056]), array([-0.96162473, -0.95780952]), array([-1.05740568, -1.053972  ]), array([-1.16280288, -1.15971256]), array([-1.27877414, -1.27599285]), array([-1.40637342, -1.40387026]), array([-1.54676045, -1.54450761]), array([-1.70121121, -1.69918365]), array([-1.87112957, -1.86930477]), array([-2.05806005, -2.05641773]), array([-2.26370182, -2.26222373]), array([-2.4899242 , -2.48859392]), array([-2.73878359, -2.73758634]), array([-3.01254222, -3.01146469]), array([-3.31368869, -3.31271892]), array([-3.64496058, -3.64408779]), array([-4.00936936, -4.00858384]), array([-4.41022775, -4.40952078]), array([-4.85117982, -4.85054355]), array([-5.33623418, -5.33566154]), array([-5.86980033, -5.86928496]), array([-6.45672883, -6.45626499]), array([-7.10235533, -7.10193787]), array([-7.81254911, -7.8121734 ]), array([-8.59376645, -8.59342832]), array([-9.45310929, -9.45280496]), array([-10.39838978, -10.39811589]), array([-11.43820137, -11.43795487]), array([-12.58199686, -12.581775  ]), array([-13.84017436, -13.83997469]), array([-15.22417183, -15.22399213]), array([-16.74657104, -16.74640931]), array([-18.42121197, -18.42106641]), array([-20.26331861, -20.26318761]), array([-22.28963737, -22.28951947]), array([-24.51858932, -24.51848321]), array([-26.97043764, -26.97034214]), array([-29.66747186, -29.66738591]), array([-32.63421045, -32.63413309]), array([-35.89762376, -35.89755414]), array([-39.48737917, -39.48731651]), array([-43.43611082, -43.43605443]), array([-47.77971626, -47.77966551]), array([-52.55768281, -52.55763714]), array([-57.81344653, -57.81340542]), array([-63.59478707, -63.59475007]), array([-69.95426208, -69.95422878]), array([-76.94968495, -76.94965498]), array([-84.64465045, -84.64462348]), array([-93.1091128 , -93.10908853]), array([-102.42002165, -102.41999981]), array([-112.66202163, -112.66200197]), array([-123.92822183, -123.92820413]), array([-136.32104224, -136.32102632]), array([-149.95314488, -149.95313054]), array([-164.94845793, -164.94844503]), array([-181.44330243, -181.44329082]), array([-199.58763152, -199.58762107]), array([-219.54639362, -219.54638422]), array([-241.50103204, -241.50102358]), array([-265.6511344 , -265.65112678]), array([-292.21624708, -292.21624022]), array([-321.4378711 , -321.43786493]), array([-353.5816576 , -353.58165204]), array([-388.9398228, -388.9398178]), array([-427.83380458, -427.83380008]), array([-470.61718459, -470.61718054]), array([-517.67890264, -517.678899  ]), array([-569.44679254, -569.44678926]), array([-626.39147147, -626.39146852]), array([-689.03061832, -689.03061566]), array([-757.93367989, -757.93367749])]\n",
            "\n",
            "\n",
            "Data for u0=(0,0)\n",
            "[array([0., 0.]), array([0., 0.]), array([0., 0.]), array([0., 0.]), array([0., 0.]), array([0., 0.]), array([0., 0.]), array([0., 0.]), array([0., 0.]), array([0., 0.]), array([0., 0.]), array([0., 0.]), array([0., 0.]), array([0., 0.]), array([0., 0.]), array([0., 0.]), array([0., 0.]), array([0., 0.]), array([0., 0.]), array([0., 0.]), array([0., 0.]), array([0., 0.]), array([0., 0.]), array([0., 0.]), array([0., 0.]), array([0., 0.]), array([0., 0.]), array([0., 0.]), array([0., 0.]), array([0., 0.]), array([0., 0.]), array([0., 0.]), array([0., 0.]), array([0., 0.]), array([0., 0.]), array([0., 0.]), array([0., 0.]), array([0., 0.]), array([0., 0.]), array([0., 0.]), array([0., 0.]), array([0., 0.]), array([0., 0.]), array([0., 0.]), array([0., 0.]), array([0., 0.]), array([0., 0.]), array([0., 0.]), array([0., 0.]), array([0., 0.]), array([0., 0.]), array([0., 0.]), array([0., 0.]), array([0., 0.]), array([0., 0.]), array([0., 0.]), array([0., 0.]), array([0., 0.]), array([0., 0.]), array([0., 0.]), array([0., 0.]), array([0., 0.]), array([0., 0.]), array([0., 0.]), array([0., 0.]), array([0., 0.]), array([0., 0.]), array([0., 0.]), array([0., 0.]), array([0., 0.]), array([0., 0.]), array([0., 0.]), array([0., 0.]), array([0., 0.]), array([0., 0.]), array([0., 0.]), array([0., 0.]), array([0., 0.]), array([0., 0.]), array([0., 0.]), array([0., 0.]), array([0., 0.]), array([0., 0.]), array([0., 0.]), array([0., 0.]), array([0., 0.]), array([0., 0.]), array([0., 0.]), array([0., 0.]), array([0., 0.]), array([0., 0.]), array([0., 0.]), array([0., 0.]), array([0., 0.]), array([0., 0.]), array([0., 0.]), array([0., 0.]), array([0., 0.]), array([0., 0.]), array([0., 0.]), array([0., 0.])]\n"
          ],
          "name": "stdout"
        }
      ]
    },
    {
      "cell_type": "markdown",
      "metadata": {
        "id": "eIK2do88Lrt0"
      },
      "source": [
        "We see therefore it is not stable. Lets look at the accuracy. For $u_0=(-1,1)$ the solution is $u_1(t) =-e^{-t}, u_2(t)=e^{-t}$ (according to www.wolframalpha.com). "
      ]
    },
    {
      "cell_type": "code",
      "metadata": {
        "colab": {
          "base_uri": "https://localhost:8080/"
        },
        "id": "28WWSO30MrqF",
        "outputId": "774dd049-3b31-4a62-f21e-50d0f0a8c888"
      },
      "source": [
        "f=lambda u,t: np.array([u[1],u[0]])\r\n",
        "arr=SystemExplEuler(f,np.array([-1,1]),10,1/10)\r\n",
        "t=np.linspace(1/10,10,101)\r\n",
        "\r\n",
        "\r\n",
        "\r\n",
        "g=lambda t:np.array([-np.exp(-t),np.exp(-t)])\r\n",
        "sol=[g(i) for i in t]\r\n",
        "\r\n",
        "\r\n",
        "x=[]\r\n",
        "y=[]\r\n",
        "\r\n",
        "for i in arr:\r\n",
        "  x.append(i)\r\n",
        "for i in sol:\r\n",
        "  y.append(i)\r\n",
        "\r\n",
        "err=[]\r\n",
        "for i in range(len(arr)):\r\n",
        "  err.append(np.linalg.norm(x[i]-y[i]))\r\n",
        "\r\n",
        "print(err)\r\n",
        "\r\n"
      ],
      "execution_count": 10,
      "outputs": [
        {
          "output_type": "stream",
          "text": [
            "[0.006841142193322138, 0.013505588670639715, 0.018810935069034675, 0.022958379221616105, 0.02612284532457854, 0.028456191346468405, 0.030090041023000273, 0.03113828313224444, 0.0316992759897823, 0.03185779086951252, 0.031686724286727294, 0.031248605725490312, 0.030596924407236693, 0.029777296041726267, 0.02882848813918353, 0.02778332036166719, 0.026669454523894767, 0.025510087193452588, 0.024324556364836956, 0.02312887237084899, 0.021936182030444878, 0.0207571739981196, 0.019600432361923163, 0.018472744722475915, 0.01737937026246276, 0.016324272674876746, 0.015310322249706444, 0.014339470914746216, 0.013412903579572652, 0.012531168736083858, 0.011694290918637275, 0.010901867316686732, 0.010153150558391742, 0.009447119440944776, 0.008782539168757873, 0.008158012470998798, 0.007572022802440988, 0.007022970683680734, 0.006509204106250588, 0.006029043813032649, 0.005580804162892143, 0.005162810199042007, 0.004773411461927386, 0.00441099301814869, 0.004073984116031719, 0.0037608648249301572, 0.0034701709683503507, 0.0032004976197551886, 0.0029505013937591415, 0.0027189017337679094, 0.002504481369414385, 0.002306086092927276, 0.0021226239824228238, 0.0019530641816668695, 0.001796435329787083, 0.0016518237204368321, 0.0015183712577676624, 0.0013952732660331094, 0.0012817762005234489, 0.0011771752996446228, 0.0010808122111506948, 0.0009920726196814777, 0.0009103838977263546, 0.0008352127978257329, 0.0007660632001408317, 0.0007024739263887481, 0.0006440166284816843, 0.0005902937579637624, 0.000540936620451003, 0.000495603517701555, 0.0004539779786316446, 0.0004157670795112607, 0.0003806998526897108, 0.0003485257824868703, 0.00031901338631645717, 0.000291948878661726, 0.00026713491518283683, 0.0002443894139827371, 0.0002235444508806666, 0.0002044452254271808, 0.0001869490943314999, 0.00017092466895190242, 0.0001562509735151106, 0.00014281666077441938, 0.00013051928188307762, 0.00011926460734420476, 0.00010896599599722859, 9.954380910994445e-05, 9.092486676185822e-05, 8.304194382603997e-05, 7.583330298116359e-05, 6.924226231109343e-05, 6.321679517483433e-05, 5.770916015378132e-05, 5.267555900505177e-05, 4.8075820668530884e-05, 4.387310949054662e-05, 4.003365593838079e-05, 3.652650818681138e-05, 3.332330306035627e-05, 3.0398054912706966e-05]\n"
          ],
          "name": "stdout"
        }
      ]
    },
    {
      "cell_type": "markdown",
      "metadata": {
        "id": "OR-RRPe4RKdh"
      },
      "source": [
        "Above is the error for each time step of the approximation shown. We can see that the accuracy is good with not too many time steps. "
      ]
    },
    {
      "cell_type": "markdown",
      "metadata": {
        "id": "_4GLBv0zWr7m"
      },
      "source": [
        "# **Discussion**\r\n",
        "All the tests did follow the predicted values from the theory. Because many model problems are not easy to solve analytical it took some work to try find simple model problems where analytical solutions exist. When dealing with the scalar inital value problem it is easier to show the results by plots. In the case of system of initial value problem I was not sure how to present it (suggestions are welcome).  "
      ]
    },
    {
      "cell_type": "markdown",
      "metadata": {
        "id": "1vcIILuQYsEA"
      },
      "source": [
        "# **APPENDIX**"
      ]
    }
  ]
}
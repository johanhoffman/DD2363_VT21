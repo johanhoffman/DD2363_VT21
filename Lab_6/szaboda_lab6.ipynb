{
  "nbformat": 4,
  "nbformat_minor": 0,
  "metadata": {
    "colab": {
      "name": "szaboda_lab6",
      "provenance": [],
      "collapsed_sections": []
    },
    "kernelspec": {
      "display_name": "Python 3",
      "language": "python",
      "name": "python3"
    },
    "language_info": {
      "codemirror_mode": {
        "name": "ipython",
        "version": 3
      },
      "file_extension": ".py",
      "mimetype": "text/x-python",
      "name": "python",
      "nbconvert_exporter": "python",
      "pygments_lexer": "ipython3",
      "version": "3.8.3"
    }
  },
  "cells": [
    {
      "cell_type": "markdown",
      "metadata": {
        "id": "6RgtXlfYO_i7"
      },
      "source": [
        "# **Lab 6: Differential equations**\n",
        "**Dániel Szabó**"
      ]
    },
    {
      "cell_type": "markdown",
      "metadata": {
        "id": "9x_J5FVuPzbm"
      },
      "source": [
        "# **Abstract**"
      ]
    },
    {
      "cell_type": "markdown",
      "metadata": {
        "id": "yJipbXtnjrJZ"
      },
      "source": [
        "This laboratory is about approximating the solutions of differential equations. Given an initial value problem (IVP) \r\n",
        "$$\\dot{u}(t)=f(u(t),t);\\ u(0)=u_0,$$\r\n",
        "the goal is to determine function $u:[0,T]\\to\\mathbb{R}$.\r\n",
        "\r\n",
        "When approximating the solution, the task is to calculate the approximate value of the function at the final time $U(T)\\approx u(T)$. This is done by time stepping methods, e.g. the trapezoidal method that will be used in the lab."
      ]
    },
    {
      "cell_type": "markdown",
      "metadata": {
        "id": "OkT8J7uOWpT3"
      },
      "source": [
        "#**About the code**"
      ]
    },
    {
      "cell_type": "code",
      "metadata": {
        "colab": {
          "base_uri": "https://localhost:8080/",
          "height": 35
        },
        "id": "Pdll1Xc9WP0e",
        "outputId": "0fe9c06c-fb53-443a-c8b6-be1848e14021"
      },
      "source": [
        "\"\"\"DD2363 Methods in Scientific Computing, \"\"\"\n",
        "\"\"\"KTH Royal Institute of Technology, Stockholm, Sweden.\"\"\"\n",
        "\n",
        "# Copyright (C) 2021 Dániel Szabó (dszabo@kth.se)\n",
        "\n",
        "# This file is part of the course DD2365 Methods in Scientific Computing\n",
        "# KTH Royal Institute of Technology, Stockholm, Sweden\n",
        "#\n",
        "# This is free software: you can redistribute it and/or modify\n",
        "# it under the terms of the GNU Lesser General Public License as published by\n",
        "# the Free Software Foundation, either version 3 of the License, or\n",
        "# (at your option) any later version.\n",
        "\n",
        "# This template is maintained by Johan Hoffman\n",
        "# Please report problems to jhoffman@kth.se"
      ],
      "execution_count": 38,
      "outputs": [
        {
          "output_type": "execute_result",
          "data": {
            "application/vnd.google.colaboratory.intrinsic+json": {
              "type": "string"
            },
            "text/plain": [
              "'KTH Royal Institute of Technology, Stockholm, Sweden.'"
            ]
          },
          "metadata": {
            "tags": []
          },
          "execution_count": 38
        }
      ]
    },
    {
      "cell_type": "markdown",
      "metadata": {
        "id": "28xLGz8JX3Hh"
      },
      "source": [
        "# **Set up environment**"
      ]
    },
    {
      "cell_type": "code",
      "metadata": {
        "id": "Xw7VlErAX7NS"
      },
      "source": [
        "# Load neccessary modules.\n",
        "import numpy as np\n",
        "import scipy.optimize\n",
        "import random\n",
        "from matplotlib import pyplot as plt\n",
        "\n",
        "random.seed(0)"
      ],
      "execution_count": 39,
      "outputs": []
    },
    {
      "cell_type": "markdown",
      "metadata": {
        "id": "gnO3lhAigLev"
      },
      "source": [
        "# **Introduction**"
      ]
    },
    {
      "cell_type": "markdown",
      "metadata": {
        "id": "FgAmbEtuk2Po"
      },
      "source": [
        "The trapezoidal method calculates the output $U(T)$ by successive approximations of some values of function $u$. We have a partition of the interval $t_0,t_1,\\dots,t_N$, where $t_0=0$, $t_i<t_j$ if $i<j$ and $t_N=T$; and we start from the given initial value: $U(t_0)=u_0$. Then we use the following formula $N$ times to calculate the next approximation from the previous one. \r\n",
        "$$U(t_n)=U(t_{n-1})+\\frac{\\Delta t_n}{2}(f(U(t_n),t_n)+f(U(t_{n-1}),t_{n-1}))$$\r\n",
        "where $\\Delta t_n=t_n-t_{n-1}$. As the right hand side depends on $U(t_n)$, we cannot compute it directly, but we can use Newton's method to find a root of function $x-U(t_{n-1})-\\frac{\\Delta t_n}{2}(f(x,t_n)+f(U(t_{n-1}),t_{n-1}))$.\r\n",
        "\r\n",
        "The first task is to implement a time stepping method for solving a scalar IVP, and the second one is the same for a system of IVPs. The second task can be interpreted as an IVP of vectors."
      ]
    },
    {
      "cell_type": "markdown",
      "metadata": {
        "id": "jOQvukXZq5U5"
      },
      "source": [
        "# **Method**"
      ]
    },
    {
      "cell_type": "markdown",
      "metadata": {
        "id": "M86Cgc1Gt1Lu"
      },
      "source": [
        "Method \"trapezoidal\" first does some input validation: the number of steps and $T$ have to be positive, and the output of function $f$ needs to have the same shape as its input. Then it performs the calculations described in the Introduction section with every $\\Delta t_n=T/N$, where $N$ is the number of steps. We use the scipy.optimize.newton implementation of Newton's method.\r\n",
        "\r\n",
        "Note that method \"trapezoidal\" works for both the scalar and the vector case, so it solves both tasks."
      ]
    },
    {
      "cell_type": "code",
      "metadata": {
        "id": "TENrJZAtEZUK"
      },
      "source": [
        "def trapezoidal(T,f,u0,steps=1024):\r\n",
        "    if T<=0:\r\n",
        "        raise Exception(\"The final time has to be a positive number.\")\r\n",
        "    if steps<=0:\r\n",
        "        raise Exception(\"The number of steps has to be a positive number.\")\r\n",
        "    if np.shape(u0)!=np.shape(f(u0)):\r\n",
        "        raise Exception(\"The input and output dimensions of f have to be the same.\")\r\n",
        "    \r\n",
        "    t = 0\r\n",
        "    k = T/steps\r\n",
        "    while t<T:\r\n",
        "        u1 = scipy.optimize.newton(lambda u: u-u0-k/2*(f(u)+f(u0)), u0)\r\n",
        "        u0 = u1\r\n",
        "        t += k\r\n",
        "    return u1"
      ],
      "execution_count": 40,
      "outputs": []
    },
    {
      "cell_type": "markdown",
      "metadata": {
        "id": "SsQLT38gVbn_"
      },
      "source": [
        "# **Results**"
      ]
    },
    {
      "cell_type": "markdown",
      "metadata": {
        "id": "KGfU9jrlwFx8"
      },
      "source": [
        "For the verification of the first task we need a function $f:\\mathbb{R}\\to\\mathbb{R}$ that describes the relationship between $\\dot{u}$ and $u$. Method \"f\" implements a simple function: $f(u)=-\\alpha u$, where $\\alpha$ is a random number from interval $[0.5,5]$. The initial condition is $u_0=1$. This way, we know that the exact solution is $u(t)=\\exp(-\\alpha t)$, and we can easily check the precision of the approximate solution given by the trapezoidal method. We search the value of $u$ at many different $T$ values and plot the results (the approximate $u$ function).\r\n",
        "\r\n",
        "The IVP is always stable, because the only equilibrium point is $u^*=0$, and $f'(u)=-\\alpha$, which is always negative since $\\alpha\\in[0.5,5]$. The time stepping method is also stable because the trapezoidal method is unconditionally stable.\r\n",
        "\r\n",
        "The results show that the approximation is close to the exact solution for all the $T$ values that we looked at. We can see on the plot that the function is decaying, so the problem is stable indeed. Some tests with invalid input are also provided."
      ]
    },
    {
      "cell_type": "code",
      "metadata": {
        "colab": {
          "base_uri": "https://localhost:8080/",
          "height": 282
        },
        "id": "P-T6X2IFJnlI",
        "outputId": "a29fab30-796c-446d-b8da-60ddfa20cf75"
      },
      "source": [
        "alpha = random.uniform(0.5,5)\r\n",
        "print(\"u(t) = exp(-\", alpha, \"*t)\", sep='')\r\n",
        "\r\n",
        "def f(u):\r\n",
        "    return -alpha*u\r\n",
        "\r\n",
        "u0 = 1\r\n",
        "data = []\r\n",
        "x_axis = np.arange(0.1, 3, 0.1)\r\n",
        "for T in x_axis:\r\n",
        "    U_T = trapezoidal(T,f,u0)\r\n",
        "    u_T = np.exp(-alpha*T)\r\n",
        "    data.append(U_T)\r\n",
        "    np.testing.assert_almost_equal(u_T, U_T, decimal=3)\r\n",
        "\r\n",
        "plt.figure()\r\n",
        "plt.plot(x_axis, data, label=\"U(t)\")\r\n",
        "plt.legend()\r\n",
        "plt.show()\r\n",
        "\r\n",
        "# Invalid input test: non-positive T\r\n",
        "np.testing.assert_raises(Exception, trapezoidal, -1, f, u0, 128)\r\n",
        "\r\n",
        "# Invalid input test: non-positive N\r\n",
        "np.testing.assert_raises(Exception, trapezoidal, T, f, u0, 0)"
      ],
      "execution_count": 41,
      "outputs": [
        {
          "output_type": "stream",
          "text": [
            "u(t) = exp(-4.299898331862717*t)\n"
          ],
          "name": "stdout"
        },
        {
          "output_type": "display_data",
          "data": {
            "image/png": "[encoded data removed]",
            "text/plain": [
              "<Figure size 432x288 with 1 Axes>"
            ]
          },
          "metadata": {
            "tags": [],
            "needs_background": "light"
          }
        }
      ]
    },
    {
      "cell_type": "markdown",
      "metadata": {
        "id": "8F3BnAq2wECj"
      },
      "source": [
        "For the verification of the second task we need a function $f:\\mathbb{R}^d\\to\\mathbb{R}^d$ that describes the relationship between vectors $\\dot{u}$ and $u$. Method \"fv\" implements a function like the one in Example 14.1 of the lecture notes. The system has the following form\r\n",
        "$$\\begin{bmatrix} \\dot{u_1}\\\\ \\dot{u_2}\\end{bmatrix} =\r\n",
        "f\\left( \\begin{bmatrix} u_1\\\\ u_2\\end{bmatrix}\\right) =\r\n",
        "\\begin{bmatrix} -\\nu & \\gamma\\\\ 0 & -\\nu\\end{bmatrix}\r\n",
        "\\begin{bmatrix} u_1\\\\ u_2\\end{bmatrix}$$\r\n",
        "with initial conditions $u_1(0)=0$ and $u_2(0)=\\kappa$. All three greek letters ($\\nu$, $\\gamma$ and $\\kappa$) correspond to random numbers from interval $[0.5,5]$. We know that the exact solution of the system is $u_1(t)=\\gamma\\kappa t \\exp(-\\nu t)$ and $u_2(t)=\\kappa \\exp(-\\nu t)$. This way, we can easily check the precision of the approximate solution given by the trapezoidal method. We search the value of $u_1$ and $u_2$ at many different $T$ values and plot the results (the approximate $u_1$ and $u_2$ functions).\r\n",
        "\r\n",
        "Matrix $\\begin{bmatrix} -\\nu & \\gamma\\\\ 0 & -\\nu\\end{bmatrix}$ (which is both the system matrix and its Jacobian) is defective, it has only one eigenvalue: $\\nu$ (with algebraic multiplicity 2). As it is positive, it is stable. But with defective matrices, this kind of analysis is not always reliable, because there may be a strong (but transient) growth before the solution decays to zero.\r\n",
        "\r\n",
        "The results show that both coordinates of the approximation are close to the exact solution for all the $T$ values that we looked at. We can see on the plot that $U_2(t)$ is decaying, and that after a short growing phase, $U_1(t)$ is decaying too, so the problem seems stable. A test with invalid input is also provided."
      ]
    },
    {
      "cell_type": "code",
      "metadata": {
        "colab": {
          "base_uri": "https://localhost:8080/",
          "height": 299
        },
        "id": "yCtAxYqdQr32",
        "outputId": "44060f4a-87a0-4e1c-befc-f788e20021c7"
      },
      "source": [
        "gamma = random.uniform(0.5,5)\r\n",
        "nu = random.uniform(0.5,5)\r\n",
        "kappa = random.uniform(0.5,5)\r\n",
        "print(\"u1(t) = \", gamma*kappa, \"*t*exp(-\", nu, \"*t)\", sep='')\r\n",
        "print(\"u2(t) = \", kappa, \"*exp(-\", nu, \"*t)\", sep='')\r\n",
        "\r\n",
        "def fv(u):\r\n",
        "    A = np.array([[-nu, gamma], [0, -nu]])\r\n",
        "    return A @ u\r\n",
        "\r\n",
        "u0 = [0, kappa]\r\n",
        "data1 = []\r\n",
        "data2 = []\r\n",
        "x_axis = np.arange(0.1, 3, 0.1)\r\n",
        "for T in x_axis:\r\n",
        "    U2_T = trapezoidal(T,fv,u0)\r\n",
        "    u2_T = [gamma*kappa*T*np.exp(-nu*T), kappa*np.exp(-nu*T)]\r\n",
        "    data1.append(U2_T[0])\r\n",
        "    data2.append(U2_T[1])\r\n",
        "    np.testing.assert_almost_equal(u_T, U_T, decimal=5)\r\n",
        "\r\n",
        "plt.figure()\r\n",
        "plt.plot(x_axis, data1, label='U1(t)')\r\n",
        "plt.plot(x_axis, data2, label='U2(t)')\r\n",
        "plt.legend()\r\n",
        "plt.show()\r\n",
        "\r\n",
        "# Invalid input test: wrong function\r\n",
        "def g(u):\r\n",
        "    return u[0]\r\n",
        "np.testing.assert_raises(Exception, trapezoidal, T, g, u0)"
      ],
      "execution_count": 42,
      "outputs": [
        {
          "output_type": "stream",
          "text": [
            "u1(t) = 6.5119636850856635*t*exp(-2.3925721137388027*t)\n",
            "u2(t) = 1.6651253763183351*exp(-2.3925721137388027*t)\n"
          ],
          "name": "stdout"
        },
        {
          "output_type": "display_data",
          "data": {
            "image/png": "[encoded data removed]",
            "text/plain": [
              "<Figure size 432x288 with 1 Axes>"
            ]
          },
          "metadata": {
            "tags": [],
            "needs_background": "light"
          }
        }
      ]
    },
    {
      "cell_type": "markdown",
      "metadata": {
        "id": "_4GLBv0zWr7m"
      },
      "source": [
        "# **Discussion**"
      ]
    },
    {
      "cell_type": "markdown",
      "metadata": {
        "id": "6bcsDSoRXHZe"
      },
      "source": [
        "The method, implemented for solving the tasks, actually succeeded in solving them, as it is confirmed by the test results.\n",
        "\n",
        "The trapezoidal method was chosen because of its unconditional stability. The test functions are not too complicated because this way it is easy to check is the approximations given by our method are close enough to the exact solution. The plotting of the exact function next to the approximate one was also tried, but they were completely overlapping each other, so there was no point in showing both of them."
      ]
    }
  ]
}
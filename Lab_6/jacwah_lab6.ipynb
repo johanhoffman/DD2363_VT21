{
 "cells": [
  {
   "cell_type": "markdown",
   "metadata": {
    "colab_type": "text",
    "id": "view-in-github"
   },
   "source": [
    "<a href=\"https://colab.research.google.com/github/johanhoffman/DD2363_VT21/blob/jacwah/Lab_4/jacwah_lab4.ipynb\" target=\"_parent\"><img src=\"https://colab.research.google.com/assets/colab-badge.svg\" alt=\"Open In Colab\"/></a>"
   ]
  },
  {
   "cell_type": "markdown",
   "metadata": {
    "id": "6RgtXlfYO_i7"
   },
   "source": [
    "# **Lab 6: Differential equations**\n",
    "**Jacob Wahlgren**"
   ]
  },
  {
   "cell_type": "markdown",
   "metadata": {
    "id": "9x_J5FVuPzbm"
   },
   "source": [
    "# **Abstract**"
   ]
  },
  {
   "cell_type": "markdown",
   "metadata": {
    "id": "xVOs2yGjyNhe"
   },
   "source": [
    "The theta method for solving scalar intial value problems is implemented, and the convergence and stability is analyzed using sample problems."
   ]
  },
  {
   "cell_type": "markdown",
   "metadata": {
    "id": "OkT8J7uOWpT3"
   },
   "source": [
    "#**About the code**"
   ]
  },
  {
   "cell_type": "markdown",
   "metadata": {
    "id": "HmB2noTr1Oyo"
   },
   "source": [
    "The code was written by Jacob Wahlgren, based on a template by Johan Hoffman."
   ]
  },
  {
   "cell_type": "code",
   "execution_count": 78,
   "metadata": {
    "colab": {
     "base_uri": "https://localhost:8080/",
     "height": 36
    },
    "id": "Pdll1Xc9WP0e",
    "outputId": "75704cb9-8201-41ed-f17e-6acf91a7f7d0"
   },
   "outputs": [
    {
     "data": {
      "text/plain": [
       "'KTH Royal Institute of Technology, Stockholm, Sweden.'"
      ]
     },
     "execution_count": 78,
     "metadata": {},
     "output_type": "execute_result"
    }
   ],
   "source": [
    "\"\"\"This program is a template for lab reports in the course\"\"\"\n",
    "\"\"\"DD2363 Methods in Scientific Computing, \"\"\"\n",
    "\"\"\"KTH Royal Institute of Technology, Stockholm, Sweden.\"\"\"\n",
    "\n",
    "# Copyright (C) 2020 Johan Hoffman (jhoffman@kth.se)\n",
    "# Copyright (C) 2021 Jacob Wahlgren (jacobwah@kth.se)\n",
    "\n",
    "# This file is part of the course DD2365 Advanced Computation in Fluid Mechanics\n",
    "# KTH Royal Institute of Technology, Stockholm, Sweden\n",
    "#\n",
    "# This is free software: you can redistribute it and/or modify\n",
    "# it under the terms of the GNU Lesser General Public License as published by\n",
    "# the Free Software Foundation, either version 3 of the License, or\n",
    "# (at your option) any later version.\n",
    "\n",
    "# This template is maintained by Johan Hoffman\n",
    "# Please report problems to jhoffman@kth.se"
   ]
  },
  {
   "cell_type": "markdown",
   "metadata": {
    "id": "28xLGz8JX3Hh"
   },
   "source": [
    "# **Set up environment**"
   ]
  },
  {
   "cell_type": "code",
   "execution_count": 19,
   "metadata": {
    "id": "Xw7VlErAX7NS"
   },
   "outputs": [],
   "source": [
    "import numpy as np\n",
    "import matplotlib.pyplot as plt\n",
    "from scipy import optimize"
   ]
  },
  {
   "cell_type": "markdown",
   "metadata": {
    "id": "gnO3lhAigLev"
   },
   "source": [
    "# **Introduction**"
   ]
  },
  {
   "cell_type": "markdown",
   "metadata": {},
   "source": [
    "Differential equations are equations involving a function $f$ and its derivatives, where the goal usually is to find a closed form for $f$, or approximate the values of $f$ over some domain. A common type of problem is the scalar initial value problem, which is a type of ordinary differential equation. A scalar intial value problem (IVP) can be stated as follows, where $\\dot u$ is the time derivative of $u$, $f$ is some function and $u_0$ is constant.\n",
    "\n",
    "$\\displaystyle \\dot u(t) = f(u(t), t) \\\\ u(0) = u_0$\n",
    "\n",
    "In a scalar IVP, $u$ is $[0,T] \\rightarrow R$. This can be extended to systems of IVPs where $u$ is $[0,T] \\rightarrow R^N$. To solve an IVP the domain is discretized, and then the following equation is approximated.\n",
    "\n",
    "$\\displaystyle u(t_n) = u(t_{n-1}) + \\int_{t_{n-1}}^{t_n} f(u(t),t)dt$\n",
    "\n",
    "Depending which quadrature rule is used, a different method is obtained.\n",
    "\n",
    "Since I was ill this week I was only able to solve problem 1."
   ]
  },
  {
   "cell_type": "markdown",
   "metadata": {
    "id": "jOQvukXZq5U5"
   },
   "source": [
    "# **Method**"
   ]
  },
  {
   "cell_type": "markdown",
   "metadata": {},
   "source": [
    "### Time-stepping for scalar IVP"
   ]
  },
  {
   "cell_type": "markdown",
   "metadata": {},
   "source": [
    "I base my time-stepping implementation on the theta method as defined in Algorithm 13.3. To find a root I use the general function `optimize.root_scalar` from Scipy. The `theta` parameter determines the mix between the previous and current function value in the quadrature, where 1 gives the explicit Euler method, 0 gives the implicit Euler method and $\\frac{1}{2}$ give the trapezoidal method. The `k` parameter determines the step size."
   ]
  },
  {
   "cell_type": "code",
   "execution_count": 121,
   "metadata": {},
   "outputs": [],
   "source": [
    "def theta_method(f, u0, t0, T, k, theta):\n",
    "    t = t0\n",
    "    u = u0\n",
    "    while t < T:\n",
    "        g = lambda u: u - u0 - k*((1-theta)*f(u) + theta*f(u0))\n",
    "        u = optimize.root_scalar(g, x0=0, x1=1).root\n",
    "#        u = optimize.root_scalar(g, x0=u0, x1=(u0+k*f(u0))).root\n",
    "        u0 = u\n",
    "        t += k\n",
    "    return u"
   ]
  },
  {
   "cell_type": "markdown",
   "metadata": {
    "id": "SsQLT38gVbn_"
   },
   "source": [
    "# **Results**"
   ]
  },
  {
   "cell_type": "markdown",
   "metadata": {},
   "source": [
    "### Time-stepping for scalar IVP"
   ]
  },
  {
   "cell_type": "markdown",
   "metadata": {},
   "source": [
    "I use the following problem to illustrate the result.\n",
    "\n",
    "$\\displaystyle \\dot u(t) = 2u(t) = f(u(t),t)\\\\ u(0) = 1$\n",
    "\n",
    "The problem has the solution $u(t) = e^{2t}$."
   ]
  },
  {
   "cell_type": "code",
   "execution_count": 159,
   "metadata": {},
   "outputs": [
    {
     "data": {
      "text/plain": [
       "Text(0.5, 0, 't')"
      ]
     },
     "execution_count": 159,
     "metadata": {},
     "output_type": "execute_result"
    },
    {
     "data": {
      "image/png": "[encoded data removed]",
      "text/plain": [
       "<Figure size 432x288 with 1 Axes>"
      ]
     },
     "metadata": {
      "needs_background": "light"
     },
     "output_type": "display_data"
    }
   ],
   "source": [
    "f = lambda u: 2*u\n",
    "u_exact = lambda t: np.exp(2*t)\n",
    "u0 = 1\n",
    "\n",
    "ts = np.linspace(0, 1)\n",
    "\n",
    "plt.plot(ts, u_exact(ts), label=\"Exact solution\")\n",
    "u_approx = lambda t: theta_method(f, u0, 0, t, 0.05, 0.5)\n",
    "plt.plot(ts, [u_approx(t) for t in ts], label=f\"Approximation $k=0.05,\\\\theta=0.5$\")\n",
    "plt.legend()\n",
    "plt.ylabel(\"u(t)\")\n",
    "plt.xlabel(\"t\")"
   ]
  },
  {
   "cell_type": "markdown",
   "metadata": {},
   "source": [
    "The accuracy increases as $k$ decreases, which is shown by the following plot."
   ]
  },
  {
   "cell_type": "code",
   "execution_count": 143,
   "metadata": {},
   "outputs": [
    {
     "data": {
      "text/plain": [
       "Text(0.5, 0, 't')"
      ]
     },
     "execution_count": 143,
     "metadata": {},
     "output_type": "execute_result"
    },
    {
     "data": {
      "image/png": "[encoded data removed]",
      "text/plain": [
       "<Figure size 432x288 with 1 Axes>"
      ]
     },
     "metadata": {
      "needs_background": "light"
     },
     "output_type": "display_data"
    }
   ],
   "source": [
    "for k in (0.1, 0.05, 0.025, 0.0125):\n",
    "    u_approx = lambda t: theta_method(f, u0, 0, t, k, 0.5)\n",
    "    plt.plot(ts, [abs(u_exact(t)-u_approx(t)) for t in ts], label=f\"$k={k}$\")\n",
    "\n",
    "plt.legend()\n",
    "plt.ylabel(\"Error\")\n",
    "plt.xlabel(\"t\")"
   ]
  },
  {
   "cell_type": "markdown",
   "metadata": {},
   "source": [
    "To test the stability of the time-stepping method I use the following problem.\n",
    "\n",
    "$\\displaystyle \\dot u(t) = \\lambda u(t) \\quad u(0) = 1$\n",
    "\n",
    "Depending on the values of $\\theta,k,\\lambda$ the approximation converges to 0, or diverges. To test if a sequence converges I examine the first few values and see if they approach 0. I illustrate the stability of the implicit Euler method below for $k=1$. The green region is where the method is A-stable. To limit the computation time only a limited set of points are evaluated, so the resulting plot is not completely round, but it would be if more points were evaluated."
   ]
  },
  {
   "cell_type": "code",
   "execution_count": null,
   "metadata": {},
   "outputs": [],
   "source": [
    "k = 1\n",
    "\n",
    "def conv(re, im):\n",
    "    l = complex(re, im)\n",
    "    f = lambda u: l*u\n",
    "    u_last = None\n",
    "    for t in np.linspace(0, 10, num=10):\n",
    "        u = theta_method(f, complex(1,0), 0, t, k, 0)\n",
    "        if u_last is not None and abs(u) >= abs(u_last):\n",
    "            return 0\n",
    "        u_last = u\n",
    "    #print(l)\n",
    "    return 1\n",
    "\n",
    "xs = np.arange(-0.5, 2.5, 0.1)\n",
    "ys = np.arange(-1.5, 1.5, 0.1)\n",
    "xx, yy = np.meshgrid(xs, ys, sparse=True)\n",
    "z = np.vectorize(conv)(xx, yy)"
   ]
  },
  {
   "cell_type": "code",
   "execution_count": 156,
   "metadata": {},
   "outputs": [
    {
     "data": {
      "text/plain": [
       "<matplotlib.lines.Line2D at 0x125beff98>"
      ]
     },
     "execution_count": 156,
     "metadata": {},
     "output_type": "execute_result"
    },
    {
     "data": {
      "image/png": "[encoded data removed]",
      "text/plain": [
       "<Figure size 432x288 with 1 Axes>"
      ]
     },
     "metadata": {
      "needs_background": "light"
     },
     "output_type": "display_data"
    }
   ],
   "source": [
    "plt.contourf(xs, ys, z, levels=1)\n",
    "plt.xlabel(\"Re($\\\\lambda$)\")\n",
    "plt.ylabel(\"Im($\\\\lambda$)\")\n",
    "plt.title(\"Stability region for $\\\\theta=0,k=1$\")\n",
    "plt.axvline(0)"
   ]
  },
  {
   "cell_type": "markdown",
   "metadata": {
    "id": "_4GLBv0zWr7m"
   },
   "source": [
    "# **Discussion**"
   ]
  },
  {
   "cell_type": "markdown",
   "metadata": {},
   "source": [
    "Time-stepping is generally applicable to many types of problems. As long as an appropriate step size is used accurate results are possible. Many variations are possible based on what quadrature rules are used, and these have different stability properties, thus it is important to adapt the method to the problem at hand. As usual, the more computing time is available, the better approximation is possible."
   ]
  }
 ],
 "metadata": {
  "colab": {
   "include_colab_link": true,
   "name": "template-report-lab-X.ipynb",
   "provenance": []
  },
  "kernelspec": {
   "display_name": "Python 3",
   "language": "python",
   "name": "python3"
  },
  "language_info": {
   "codemirror_mode": {
    "name": "ipython",
    "version": 3
   },
   "file_extension": ".py",
   "mimetype": "text/x-python",
   "name": "python",
   "nbconvert_exporter": "python",
   "pygments_lexer": "ipython3",
   "version": "3.6.7"
  }
 },
 "nbformat": 4,
 "nbformat_minor": 1
}

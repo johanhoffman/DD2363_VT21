{
  "nbformat": 4,
  "nbformat_minor": 0,
  "metadata": {
    "colab": {
      "name": "ChrillePille_Lab3.ipynb",
      "provenance": [],
      "collapsed_sections": [],
      "include_colab_link": true
    },
    "kernelspec": {
      "name": "python3",
      "display_name": "Python 3"
    }
  },
  "cells": [
    {
      "cell_type": "markdown",
      "metadata": {
        "id": "view-in-github",
        "colab_type": "text"
      },
      "source": [
        "<a href=\"https://colab.research.google.com/github/johanhoffman/DD2363_VT21/blob/ChrillePille/Lab_3/ChrillePille_Lab3.ipynb\" target=\"_parent\"><img src=\"https://colab.research.google.com/assets/colab-badge.svg\" alt=\"Open In Colab\"/></a>"
      ]
    },
    {
      "cell_type": "markdown",
      "metadata": {
        "id": "6RgtXlfYO_i7"
      },
      "source": [
        "# **Lab 3: Iterative methods**\n",
        "**Christian Weigelt**"
      ]
    },
    {
      "cell_type": "markdown",
      "metadata": {
        "id": "9x_J5FVuPzbm"
      },
      "source": [
        "# **Abstract**"
      ]
    },
    {
      "cell_type": "markdown",
      "metadata": {
        "id": "6UFTSzW7P8kL"
      },
      "source": [
        "This lab consisted of the implementation of a selection of iterative methods for solving linear equations, with varying properties.\n",
        "Test code was written to verify function outputs with random, test cases.\n",
        "In the introduction section, the functions are given a brief description, both of input/output, and what is to be tested.\n",
        "In the method section, short definition of the functions are given, and their respective implementation and test function is presented.\n",
        "In the results section, the output of the test cases is presented."
      ]
    },
    {
      "cell_type": "markdown",
      "metadata": {
        "id": "28xLGz8JX3Hh"
      },
      "source": [
        "# **Set up environment**"
      ]
    },
    {
      "cell_type": "code",
      "metadata": {
        "id": "Xw7VlErAX7NS"
      },
      "source": [
        "import numpy as np\n",
        "import math"
      ],
      "execution_count": 208,
      "outputs": []
    },
    {
      "cell_type": "markdown",
      "metadata": {
        "id": "gnO3lhAigLev"
      },
      "source": [
        "# **Introduction**"
      ]
    },
    {
      "cell_type": "markdown",
      "metadata": {
        "id": "l5zMzgPlRAF6"
      },
      "source": [
        "In this lab, the assignment was to implement 3 functions, with input and output as defined in the lab instructions, as well as write code tests to test output.\n",
        "  \n",
        "1. Function: Jacobi iteration for Ax=b\n",
        "\n",
        "  Input: matrix A, vector b</br>\n",
        "  Output: vector x\n",
        "\n",
        "  Test: convergence of residual || Ax-b ||, || x-y || for manufactured/exact solution y \n",
        "</br>\n",
        "2. Function: Gauss-Seidel iteration for Ax=b\n",
        "\n",
        "  Input: matrix A, vector b</br>\n",
        "  Output: vector x\n",
        "\n",
        "  Test: convergence of residual || Ax-b ||, || x-y || for manufactured/exact solution y\n",
        "</br>\n",
        "3. Function: Newton's method for scalar nonlinear equation f(x)=0\n",
        "\n",
        "  Input: scalar function f(x)</br>\n",
        "  Output: real number x\n",
        "\n",
        "  Test: convergence of residual |f(x)|, |x-y| for manufactured/exact solution y\n",
        "</br>"
      ]
    },
    {
      "cell_type": "markdown",
      "metadata": {
        "id": "jOQvukXZq5U5"
      },
      "source": [
        "# **Method**"
      ]
    },
    {
      "cell_type": "markdown",
      "metadata": {
        "id": "zF4iBj5VURZx"
      },
      "source": [
        "Here the code for the assignment is provided."
      ]
    },
    {
      "cell_type": "markdown",
      "metadata": {
        "id": "kuNVpbANc566"
      },
      "source": [
        "###Jacobi iteration for $Ax = b$\r\n",
        "Function 1 is 'Jacobi iteration for $Ax = b$'\r\n",
        "\r\n",
        "From chapter 7.7, we get the Jacobi iteration matrix as $M_J = -D^{-1}(A - D) = (I - D^{-1}A)$,\r\n",
        "and the formula for iteratively calculating $x^{(k+1)}$ is:\r\n",
        "\r\n",
        " $x^{(k+1)} = (I - D^{-1}A)x^{k} + D^{-1}b $\r\n",
        "\r\n",
        " Where $c = D^{-1}b$ is constant, and we start with $x^{(0)} = c$.\r\n",
        "\r\n",
        " For testing we will use a preconditioner for convergence, with $B$ being an approximate inverse of $A$"
      ]
    },
    {
      "cell_type": "code",
      "metadata": {
        "id": "UhXMPubWft4P"
      },
      "source": [
        "def jacobi_iteration(a, b, tol):\r\n",
        "  # Assume a is square (n*n) and b is a vector of length n\r\n",
        "  i = np.identity(a.shape[0])\r\n",
        "  d = np.diag(np.diag(a))\r\n",
        "  # since d is a diagonal matrix, the inverse is simple each element e replaced by 1/e\r\n",
        "  d_inv = np.linalg.inv(d) \r\n",
        "  c = np.dot(d_inv, b)\r\n",
        "  x = c\r\n",
        "  while np.linalg.norm(np.dot(a, x) - b) > tol:\r\n",
        "    x = np.dot((i - np.matmul(d_inv, a)), x) + c\r\n",
        "  return x"
      ],
      "execution_count": 141,
      "outputs": []
    },
    {
      "cell_type": "markdown",
      "metadata": {
        "id": "3G7WZ4hRmDmT"
      },
      "source": [
        "To test the above code, we can run the following test function:"
      ]
    },
    {
      "cell_type": "code",
      "metadata": {
        "id": "Bzbb30oLmHdJ"
      },
      "source": [
        "def test_jacobi_iteration():\r\n",
        "  print(\"Testing jacobi_iteration()\")\r\n",
        "  a = np.random.rand(10, 10)\r\n",
        "  y = np.random.rand(10)\r\n",
        "  b = np.dot(a, y)\r\n",
        "\r\n",
        "  # Use preconditioner for convergence\r\n",
        "  pre = np.linalg.inv(a)\r\n",
        "  pre = pre * 0.95\r\n",
        "  a = np.matmul(pre, a)\r\n",
        "  b = np.dot(pre, b)\r\n",
        "\r\n",
        "  x = jacobi_iteration(a, b, 1e-10)\r\n",
        "\r\n",
        "  #test if |Ax - b| is close to 0\r\n",
        "  assert np.isclose(np.linalg.norm(np.dot(a, x) - b), 0.) == True, \"incorrect result from jacobi_iteration\"\r\n",
        "\r\n",
        "  #test if |x - y| is close to 0\r\n",
        "  assert np.isclose(np.linalg.norm(x - y), 0.) == True, \"solution not close to manufactured solution\""
      ],
      "execution_count": 142,
      "outputs": []
    },
    {
      "cell_type": "markdown",
      "metadata": {
        "id": "4yqBpLi8M9y4"
      },
      "source": [
        "###Gauss-Seidel iteration for Ax=b\r\n",
        "\r\n",
        "Function 2 is 'Gauss-Seidel iteration for Ax=b'\r\n",
        "\r\n",
        "From chapter 7.7, we get the Gauss-Seidel iteration matrix as $M_GS = -L^{-1}(A - L) = (I - L^{-1}A)$,\r\n",
        "and the formula for iteratively calculating $x^{(k+1)}$ is:\r\n",
        "\r\n",
        " $x^{(k+1)} = (I - L^{-1}A)x^{k} + L^{-1}b $\r\n",
        "\r\n",
        " Where $c = L^{-1}b$ is constant, and we start with $x^{(0)} = c$.\r\n",
        "\r\n",
        " For testing we will use a preconditioner for convergence, with $B$ being an approximate inverse of $A$"
      ]
    },
    {
      "cell_type": "code",
      "metadata": {
        "id": "dHKYYFdsNPk-"
      },
      "source": [
        "def gauss_seidel_iteration(a, b, tol):\r\n",
        "  # Assume a is square (n*n) and b is a vector of length n\r\n",
        "  i = np.identity(a.shape[0])\r\n",
        "  l = np.zeros_like(a)\r\n",
        "  for i in range(a.shape[0]):\r\n",
        "    for j in range(a.shape[0]):\r\n",
        "      if i >= j:\r\n",
        "        l[i, j] = a[i, j]\r\n",
        "  #since l is a lower triangular matrix, it is easily invertible by forward substitution\r\n",
        "  l_inv = np.linalg.inv(l)\r\n",
        "  c = np.dot(l_inv, b)\r\n",
        "  x = c\r\n",
        "  while np.linalg.norm(np.dot(a, x) - b) > tol:\r\n",
        "    x = np.dot((i - np.matmul(l_inv, a)), x) + c\r\n",
        "  return x"
      ],
      "execution_count": 162,
      "outputs": []
    },
    {
      "cell_type": "markdown",
      "metadata": {
        "id": "iaqX39LcOkxo"
      },
      "source": [
        "To test the above code, we can run the following test function:"
      ]
    },
    {
      "cell_type": "code",
      "metadata": {
        "id": "8nezkBjkOlI-"
      },
      "source": [
        "def test_gauss_seidel_iteration():\r\n",
        "  print(\"Testing gauss_seidel_iteration()\")\r\n",
        "  a = np.random.rand(10, 10)\r\n",
        "  y = np.random.rand(10)\r\n",
        "  b = np.dot(a, y)\r\n",
        "\r\n",
        "  # Use preconditioner for convergence\r\n",
        "  pre = np.linalg.inv(a)\r\n",
        "  pre = pre * 0.95\r\n",
        "  a = np.matmul(pre, a)\r\n",
        "  b = np.dot(pre, b)\r\n",
        "\r\n",
        "  x = gauss_seidel_iteration(a, b, 1e-9)\r\n",
        "\r\n",
        "  #test if |Ax - b| is close to 0\r\n",
        "  assert np.isclose(np.linalg.norm(np.dot(a, x) - b), 0.) == True, \"incorrect result from gauss_seidel_iteration\"\r\n",
        "  \r\n",
        "  #test if |x - y| is close to 0\r\n",
        "  assert np.isclose(np.linalg.norm(x - y), 0.) == True, \"solution not close to manufactured solution\""
      ],
      "execution_count": 165,
      "outputs": []
    },
    {
      "cell_type": "markdown",
      "metadata": {
        "id": "wPJ9zJADXc4n"
      },
      "source": [
        "###Newton's method for scalar nonlinear equation f(x)=0\r\n",
        "\r\n",
        "Function 3 is 'Newton's method for scalar nonlinear equation f(x)=0'\r\n",
        "\r\n",
        "The function finds a solution to the nonlinear equation $f(x) = 0$ by derivating the function and using a tangent line to the function to find a solution x that solves the equation.\r\n",
        "\r\n",
        "A polynomial function is used, by use of 'numpy.polynomial'.\r\n"
      ]
    },
    {
      "cell_type": "code",
      "metadata": {
        "id": "8pVAsBrTbIe-"
      },
      "source": [
        "def newton_nonlinear(f, tol):\r\n",
        "  # Guess x0 = 0\r\n",
        "  x = 0\r\n",
        "  while np.abs(f(x)) > tol:\r\n",
        "    df = np.polyder(f)\r\n",
        "    x -= f(x)/df(x)\r\n",
        "  return x"
      ],
      "execution_count": 183,
      "outputs": []
    },
    {
      "cell_type": "markdown",
      "metadata": {
        "id": "5qGl8Z-xd6c-"
      },
      "source": [
        "To test the above code, we can run the following test function:"
      ]
    },
    {
      "cell_type": "code",
      "metadata": {
        "id": "QA6R-mMLd8WD"
      },
      "source": [
        "def test_newton_nonlinear():\r\n",
        "  print(\"Testing newton_nonlinear()\")\r\n",
        "  coeffs = np.random.randint(30, size=4)\r\n",
        "  f = np.poly1d(coeffs, True)\r\n",
        "  x = newton_nonlinear(f, 1e-10)\r\n",
        "\r\n",
        "  # Test if f(x) is very close to zero, i.e. root found\r\n",
        "  assert np.isclose(f(x), 0), \"No root f(x)=0 found\"\r\n",
        "\r\n",
        "  # Check if x is close to a given root to the polynomial function\r\n",
        "  match = False\r\n",
        "  for c in coeffs:\r\n",
        "    if np.isclose(c, x):\r\n",
        "      match = True\r\n",
        "  assert match == True, \"x not one of f's given roots?\""
      ],
      "execution_count": 205,
      "outputs": []
    },
    {
      "cell_type": "markdown",
      "metadata": {
        "id": "8wXdjY6B7BFN"
      },
      "source": [
        "###Testing\r\n",
        "Then to perform all the tests, we can run the following code:"
      ]
    },
    {
      "cell_type": "code",
      "metadata": {
        "id": "_ib6wHc-7Gr8",
        "colab": {
          "base_uri": "https://localhost:8080/"
        },
        "outputId": "a514ea96-39b3-45c6-cf71-8cef6c694c0e"
      },
      "source": [
        "def run_all_tests():\r\n",
        "  test_jacobi_iteration()\r\n",
        "  test_gauss_seidel_iteration()\r\n",
        "  test_newton_nonlinear()\r\n",
        "  print(\"All tests OK\")\r\n",
        "\r\n",
        "if __name__ == '__main__':\r\n",
        "  run_all_tests()"
      ],
      "execution_count": 206,
      "outputs": [
        {
          "output_type": "stream",
          "text": [
            "Testing jacobi_iteration()\n",
            "Testing gauss_seidel_iteration()\n",
            "Testing newton_nonlinear()\n",
            "All tests OK\n"
          ],
          "name": "stdout"
        }
      ]
    },
    {
      "cell_type": "markdown",
      "metadata": {
        "id": "SsQLT38gVbn_"
      },
      "source": [
        "# **Results**"
      ]
    },
    {
      "cell_type": "markdown",
      "metadata": {
        "id": "RLwlnOzuV-Cd"
      },
      "source": [
        "Running the test cases here in google colab, after importing required libraries, defining all functions, etc., generates the following output:\r\n",
        "```\r\n",
        "Testing jacobi_iteration()\r\n",
        "Testing gauss_seidel_iteration()\r\n",
        "Testing newton_nonlinear()\r\n",
        "All tests OK\r\n",
        "```\r\n",
        "From which we can see that all test cases were passed."
      ]
    },
    {
      "cell_type": "markdown",
      "metadata": {
        "id": "_4GLBv0zWr7m"
      },
      "source": [
        "# **Discussion**"
      ]
    },
    {
      "cell_type": "markdown",
      "metadata": {
        "id": "6bcsDSoRXHZe"
      },
      "source": [
        "In this lab, I think that the hardest part, for me at least, was to understand how functions were supposed to be represented in python. I made an attempt to solve the extra assigment of implementing newton's method for vector nonlinear equations, but figuring out an appropriate way to represent and handle vector functions generally was not something I had time nor energy to figure out by myself."
      ]
    }
  ]
}
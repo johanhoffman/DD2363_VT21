{
 "cells": [
  {
   "cell_type": "markdown",
   "metadata": {
    "colab_type": "text",
    "id": "view-in-github"
   },
   "source": [
    "<a href=\"https://colab.research.google.com/github/johanhoffman/DD2363-VT20/blob/master/template-report-lab-X.ipynb\" target=\"_parent\"><img src=\"https://colab.research.google.com/assets/colab-badge.svg\" alt=\"Open In Colab\"/></a>"
   ]
  },
  {
   "cell_type": "markdown",
   "metadata": {
    "colab_type": "text",
    "id": "6RgtXlfYO_i7"
   },
   "source": [
    "# **Lab 3: Iterative Methods**\n",
    "**Hilaire Bouaddi**"
   ]
  },
  {
   "cell_type": "markdown",
   "metadata": {
    "colab_type": "text",
    "id": "9x_J5FVuPzbm"
   },
   "source": [
    "# **Abstract**"
   ]
  },
  {
   "cell_type": "markdown",
   "metadata": {
    "colab_type": "text",
    "id": "6UFTSzW7P8kL"
   },
   "source": [
    "In this report, we are going to implement first some methods to approximate solutions of the linear system $Ax = b$. We will implement Jacobi's iteration and Gauss-Seidel's iteration based on the lecture notes. Then we will implement the Newton's Method seen in lecture to approximate the solution of $f(x) = 0$ when f is non linear both in 1d and in multi dimensions. For that we will expand the formula seen in lecture from the derivative of the function to the Jacobian. \n",
    "\n"
   ]
  },
  {
   "cell_type": "markdown",
   "metadata": {
    "colab_type": "text",
    "id": "28xLGz8JX3Hh"
   },
   "source": [
    "# **Set up environment**"
   ]
  },
  {
   "cell_type": "markdown",
   "metadata": {
    "colab_type": "text",
    "id": "D2PYNusD08Wa"
   },
   "source": [
    "To have access to the neccessary modules you have to run this cell. If you need additional modules, this is where you add them. "
   ]
  },
  {
   "cell_type": "code",
   "execution_count": 200,
   "metadata": {
    "ExecuteTime": {
     "end_time": "2021-02-09T22:22:40.479105Z",
     "start_time": "2021-02-09T22:22:40.466081Z"
    },
    "colab": {},
    "colab_type": "code",
    "id": "Xw7VlErAX7NS"
   },
   "outputs": [],
   "source": [
    "import time\n",
    "import numpy as np\n",
    "\n",
    "import matplotlib.pyplot as plt\n",
    "from mpl_toolkits.mplot3d import Axes3D\n"
   ]
  },
  {
   "cell_type": "markdown",
   "metadata": {
    "colab_type": "text",
    "id": "gnO3lhAigLev"
   },
   "source": [
    "# **Introduction**"
   ]
  },
  {
   "cell_type": "markdown",
   "metadata": {
    "colab_type": "text",
    "id": "l5zMzgPlRAF6"
   },
   "source": [
    "System of equations are omnipresent in physics when scientists try to write the laws of motion in a dynamical system. The equations can be either nonlinear or linear/linearized. The linear systems take the form $Ax = b$. It is important to have efficient algorithms this kind of equations. A naive solver would have to invert A. In this lab, we will explore solutions that don't have a fixed number of iterations but stop when the approximation becomes good enough. Through the lab we are going to represent this using the variable $TOL$ for tolerance. \n",
    "\n",
    "Non-linear systems are harder to solve but are very easy to find (the most famous example is the pendulum). We will explore the Newton's method. \n",
    "\n",
    "Hypotheses: \n",
    "* Some routine operations like the dot product are allowed to be done with the NumPy Library\n",
    "* We don't have to approximate the inverse of matrices for Newton's Methods. \n",
    "* We don't have to use approximations for the derivatives and assume they are given. \n"
   ]
  },
  {
   "cell_type": "markdown",
   "metadata": {
    "colab_type": "text",
    "id": "jOQvukXZq5U5"
   },
   "source": [
    "# **Method**"
   ]
  },
  {
   "cell_type": "markdown",
   "metadata": {},
   "source": [
    "## Jacobi iteration "
   ]
  },
  {
   "cell_type": "markdown",
   "metadata": {},
   "source": [
    "This algorithm is based on this formula from the course:\n",
    "$x_i^{(k+1)} = a_{ii}^{-1} (b_i - \\sum_{j\\neq i}{a_{ij}x_{j}^{(k)}})$"
   ]
  },
  {
   "cell_type": "code",
   "execution_count": 201,
   "metadata": {
    "ExecuteTime": {
     "end_time": "2021-02-09T22:22:41.375169Z",
     "start_time": "2021-02-09T22:22:41.362205Z"
    }
   },
   "outputs": [],
   "source": [
    "# Input: matrix A, vector b\n",
    "# Output: vector x\n",
    "\n",
    "def jacobi_iteration(A, b):\n",
    "    x = np.random.rand(len(b))\n",
    "    \n",
    "    res = [b-np.dot(A, x)]\n",
    "    \n",
    "    TOL = 1e-9\n",
    "    \n",
    "    counter = 0\n",
    "    \n",
    "    while np.linalg.norm(res[-1]) > TOL:\n",
    "        counter += 1\n",
    "        \n",
    "        new_x = []\n",
    "        \n",
    "        for i in range(len(b)):            \n",
    "            sum_ = 0\n",
    "            for j in range(len(b)):\n",
    "                if j != i:\n",
    "                    sum_ += A[i, j]*x[j]\n",
    "            \n",
    "            new_x.append(1/A[i, i] * (b[i] - sum_))\n",
    "            \n",
    "        x = new_x\n",
    "        \n",
    "        res.append(b-np.dot(A, x))\n",
    "        #print(f\"x^{counter} = {x}\")\n",
    "        #print(f\"residual = {res}\")\n",
    "    \n",
    "    return x, np.array(res)\n"
   ]
  },
  {
   "cell_type": "markdown",
   "metadata": {},
   "source": [
    "## Gauss-Seidel Iteration"
   ]
  },
  {
   "cell_type": "markdown",
   "metadata": {},
   "source": [
    "This algorithm is based on this formula from the course: \n",
    "\n",
    "$x_i^{(k+1)} = a_{ii}^{-1} (b_i - \\sum_{j<i}{a_{ij}x_j^{(k+1)}} - \\sum_{j>i}{a_{ij}x_{j}^{(k)}})$"
   ]
  },
  {
   "cell_type": "code",
   "execution_count": 202,
   "metadata": {
    "ExecuteTime": {
     "end_time": "2021-02-09T22:22:41.812105Z",
     "start_time": "2021-02-09T22:22:41.792105Z"
    }
   },
   "outputs": [],
   "source": [
    "# Input: matrix A, vector b\n",
    "# Output: vector x\n",
    "\n",
    "def gauss_seidel_iteration(A, b):\n",
    "    x = np.random.rand(len(b))\n",
    "    \n",
    "    res = [b-np.dot(A, x)]\n",
    "    \n",
    "    TOL = 1e-9\n",
    "    \n",
    "    counter = 0\n",
    "    \n",
    "    while np.linalg.norm(res[-1]) > TOL:\n",
    "        counter += 1\n",
    "        \n",
    "        new_x = []\n",
    "        \n",
    "        for i in range(len(b)):            \n",
    "            sum_less = 0\n",
    "            sum_more = 0 \n",
    "            for j in range(i):\n",
    "                sum_less += A[i, j]*new_x[j]\n",
    "            for j in range(i+1, len(b)):\n",
    "                sum_more += A[i, j]*x[j]\n",
    "            \n",
    "            new_x.append(1/A[i, i] * (b[i] - sum_less - sum_more))\n",
    "            \n",
    "        x = new_x\n",
    "        \n",
    "        res.append(b-np.dot(A, x))\n",
    "        #print(f\"x^{counter} = {x}\")\n",
    "        #print(f\"residual = {res}\")\n",
    "    \n",
    "    return x, np.array(res)\n"
   ]
  },
  {
   "cell_type": "markdown",
   "metadata": {},
   "source": [
    "## Newton's method"
   ]
  },
  {
   "cell_type": "markdown",
   "metadata": {},
   "source": [
    "This algorithm is based on algorithm 8.2 from the course."
   ]
  },
  {
   "cell_type": "code",
   "execution_count": 203,
   "metadata": {
    "ExecuteTime": {
     "end_time": "2021-02-09T22:22:42.253964Z",
     "start_time": "2021-02-09T22:22:42.240965Z"
    }
   },
   "outputs": [],
   "source": [
    "# Input: scalar function f(x)\n",
    "# Output: real number x\n",
    "\n",
    "def newton_method(f):\n",
    "    x = 1\n",
    "    TOL = 1e-9\n",
    "    \n",
    "    while abs(f(x)) > TOL: \n",
    "        x = x - f(x) / f.prime(x)\n",
    "    \n",
    "    return x"
   ]
  },
  {
   "cell_type": "markdown",
   "metadata": {},
   "source": [
    "## Extra: Newton's method for vector nonlinear equation f(x)=0"
   ]
  },
  {
   "cell_type": "code",
   "execution_count": 204,
   "metadata": {
    "ExecuteTime": {
     "end_time": "2021-02-09T22:22:42.553692Z",
     "start_time": "2021-02-09T22:22:42.549727Z"
    }
   },
   "outputs": [],
   "source": [
    "\n",
    "\n",
    "def newton_method_multi_d(f, expected_solution):\n",
    "    x = np.random.rand(2)\n",
    "    TOL = 1e-9\n",
    "    \n",
    "    errors = [np.abs(expected_solution - f(x))]\n",
    "    \n",
    "    while np.linalg.norm(f(x)) > TOL: \n",
    "        \n",
    "        jacobian_x_inverted = np.linalg.inv(f.jacobian_x(x))   \n",
    "        x = x - np.dot(f(x), jacobian_x_inverted)\n",
    "        errors.append(np.abs(expected_solution - f(x)))\n",
    "    return x, errors\n",
    "    \n",
    "    "
   ]
  },
  {
   "cell_type": "markdown",
   "metadata": {
    "colab_type": "text",
    "id": "SsQLT38gVbn_"
   },
   "source": [
    "# **Results**"
   ]
  },
  {
   "cell_type": "markdown",
   "metadata": {
    "colab_type": "text",
    "id": "RLwlnOzuV-Cd"
   },
   "source": [
    "Here we are going to test the different algoritms implemented in the lab. "
   ]
  },
  {
   "cell_type": "markdown",
   "metadata": {},
   "source": [
    "## Testing Jacobi Iteration and Gauss-Seildel iteration"
   ]
  },
  {
   "cell_type": "code",
   "execution_count": 205,
   "metadata": {
    "ExecuteTime": {
     "end_time": "2021-02-09T22:22:43.200892Z",
     "start_time": "2021-02-09T22:22:43.187858Z"
    }
   },
   "outputs": [],
   "source": [
    "## Tests convergence of residual || Ax-b ||, || x-y || for manufactured/exact solution y \n",
    "\n",
    "A = np.array([[6, 3, 1], \n",
    "             [1, 2, 1], \n",
    "             [-2, 0, 1]]) \n",
    "\n",
    "b = np.array([1, 2, 5])"
   ]
  },
  {
   "cell_type": "markdown",
   "metadata": {},
   "source": [
    "We have defined $Ax = b$ such that $\\begin{cases}\n",
    "    6x_0 &+ 3x_1 &+x_2 &= 1 \\\\ \n",
    "    x_0 &+ 2x_1 &+ x_2 &= 2 \\\\ \n",
    "    -2x_0 &&+ x_2 &= 5\n",
    "\\end{cases}$ with the theoretical solution $x = (1/7, -12/7, 37/7)$"
   ]
  },
  {
   "cell_type": "code",
   "execution_count": 206,
   "metadata": {
    "ExecuteTime": {
     "end_time": "2021-02-09T22:22:43.668710Z",
     "start_time": "2021-02-09T22:22:43.514750Z"
    }
   },
   "outputs": [
    {
     "name": "stdout",
     "output_type": "stream",
     "text": [
      "The solution given by jacobi_iteration is [0.14285714285367548, -1.714285714190103, 5.285714286023652]\n",
      "A(x)=[1. 2. 5.] ; ||Ax-b|| = 8.235643185954079e-10\n",
      "(112, 3)\n",
      "The solution given by gauss-seidel is [0.1428571429254033, -1.7142857142288084, 5.285714285850807]\n",
      "A(x)=[1. 2. 5.] ; ||Ax-b|| = 7.84413820591349e-10\n",
      "(82, 3)\n"
     ]
    },
    {
     "data": {
      "text/plain": [
       "<matplotlib.legend.Legend at 0x1e50725b490>"
      ]
     },
     "execution_count": 206,
     "metadata": {},
     "output_type": "execute_result"
    },
    {
     "data": {
      "image/png": "[encoded data removed]",
      "text/plain": [
       "<Figure size 432x288 with 1 Axes>"
      ]
     },
     "metadata": {
      "needs_background": "light"
     },
     "output_type": "display_data"
    }
   ],
   "source": [
    "x, residuals_jacobi = jacobi_iteration(A, b)\n",
    "\n",
    "print(f\"The solution given by jacobi_iteration is {x}\")\n",
    "print(f\"A(x)={np.dot(A,x)} ; ||Ax-b|| = {np.linalg.norm(np.dot(A,x)-b)}\")\n",
    "print(residuals_jacobi.shape)\n",
    "\n",
    "x, residuals_gs = gauss_seidel_iteration(A, b)\n",
    "\n",
    "print(f\"The solution given by gauss-seidel is {x}\")\n",
    "print(f\"A(x)={np.dot(A,x)} ; ||Ax-b|| = {np.linalg.norm(np.dot(A,x)-b)}\")\n",
    "print(residuals_gs.shape)\n",
    "\n",
    "\n",
    "plt.plot([np.linalg.norm(res) for res in residuals_jacobi], label=\"jacobi\")\n",
    "plt.plot([np.linalg.norm(res) for res in residuals_gs], label=\"gauss-seidel\")\n",
    "plt.title(\"Norm of the residual with every iteration\")\n",
    "plt.legend()"
   ]
  },
  {
   "cell_type": "markdown",
   "metadata": {},
   "source": [
    "## Testing Newton Method Iteration "
   ]
  },
  {
   "cell_type": "markdown",
   "metadata": {},
   "source": [
    "For this test, we will try to solve the simple (non linear) equation $cos(x) = 0$ "
   ]
  },
  {
   "cell_type": "code",
   "execution_count": 207,
   "metadata": {
    "ExecuteTime": {
     "end_time": "2021-02-09T22:22:44.029350Z",
     "start_time": "2021-02-09T22:22:44.013318Z"
    }
   },
   "outputs": [
    {
     "name": "stdout",
     "output_type": "stream",
     "text": [
      "The solution given by our newton's method is x = 1.5707963267954879\n",
      "f(x)=-5.91243550575401e-13 ; ||f(x)|| = 5.91243550575401e-13\n"
     ]
    }
   ],
   "source": [
    "class Cos:\n",
    "    \n",
    "    def __call__(self, x):\n",
    "        return np.cos(x)\n",
    "    \n",
    "    def prime(self, x):\n",
    "        return -np.sin(x)\n",
    "    \n",
    "f = Cos()\n",
    "\n",
    "x = newton_method(f)\n",
    "\n",
    "print(f\"The solution given by our newton's method is x = {x}\")\n",
    "print(f\"f(x)={f(x)} ; ||f(x)|| = {np.linalg.norm(f(x))}\")"
   ]
  },
  {
   "cell_type": "markdown",
   "metadata": {},
   "source": [
    "## Testing Newton's method for vector nonlinear equation f(x)=0"
   ]
  },
  {
   "cell_type": "code",
   "execution_count": 208,
   "metadata": {
    "ExecuteTime": {
     "end_time": "2021-02-09T22:22:44.388117Z",
     "start_time": "2021-02-09T22:22:44.369088Z"
    }
   },
   "outputs": [],
   "source": [
    "class f1:\n",
    "    def __call__(self, x):\n",
    "        return np.cos(x[0]) + np.sin(x[1]) \n",
    "    \n",
    "    # derivative of f1 with respect to x_0\n",
    "    def df1_x0(self, x):\n",
    "        return -np.sin(x[0])\n",
    "    \n",
    "    def df1_x1(self, x):\n",
    "        return np.cos(x[1])\n",
    "\n",
    "class f2:\n",
    "    def __call__(self, x):\n",
    "        return np.sin(x[0]* x[1])\n",
    "    \n",
    "    def df2_x0(self, x):\n",
    "        return np.cos(x[0]*x[1])\n",
    "    \n",
    "    def df2_x1(self, x):\n",
    "        return np.cos(x[0]*x[1])\n",
    "\n",
    "class f: \n",
    "    def __init__(self, f1, f2):\n",
    "        self.f1 = f1\n",
    "        self.f2 = f2\n",
    "    \n",
    "    def __call__(self, x):\n",
    "        return np.array([self.f1(x), self.f2(x)])\n",
    "    \n",
    "    # returns the jacobian evaluated in x\n",
    "    def jacobian_x(self, x):\n",
    "        \n",
    "        return np.array([[self.f1.df1_x0(x), self.f1.df1_x1(x)], \n",
    "                         [self.f2.df2_x0(x), self.f2.df2_x1(x)]])\n",
    "    \n",
    "f1 = f1()\n",
    "f2 = f2()\n",
    "f = f(f1, f2)\n"
   ]
  },
  {
   "cell_type": "markdown",
   "metadata": {},
   "source": [
    "We have defined the following function: \n",
    "$f(x) = \\begin{pmatrix}\n",
    "    cos(x_0) + sin(x_1) \\\\\n",
    "    sin(x_0x_1)\n",
    "\\end{pmatrix}$ with the following Jacobian: \n",
    "$J_f(x) = \\begin{pmatrix} \n",
    "    -sin(x_0) & cos(x_1) \\\\\n",
    "    cos(x_0x_1) & cos(x_0x_1)\n",
    "\\end{pmatrix}$ \n",
    "\n",
    "The obvious solution of $f(x) = 0$ is $x = (\\pi/2, 0)$"
   ]
  },
  {
   "cell_type": "code",
   "execution_count": 209,
   "metadata": {
    "ExecuteTime": {
     "end_time": "2021-02-09T22:22:44.854966Z",
     "start_time": "2021-02-09T22:22:44.725931Z"
    },
    "scrolled": true
   },
   "outputs": [
    {
     "name": "stdout",
     "output_type": "stream",
     "text": [
      "The solution given by our newton's method is [ 1.57079633e+00 -2.64015876e-10]\n",
      "f(x)=[ 1.05113795e-16 -4.14715169e-10] ; ||f(x)|| = 4.147151687254031e-10\n"
     ]
    },
    {
     "data": {
      "text/plain": [
       "Text(0.5, 0, 'k iteration')"
      ]
     },
     "execution_count": 209,
     "metadata": {},
     "output_type": "execute_result"
    },
    {
     "data": {
      "image/png": "[encoded data removed]",
      "text/plain": [
       "<Figure size 432x288 with 1 Axes>"
      ]
     },
     "metadata": {
      "needs_background": "light"
     },
     "output_type": "display_data"
    }
   ],
   "source": [
    "x, errors = newton_method_multi_d(f, [np.pi/2, 0])\n",
    "\n",
    "print(f\"The solution given by our newton's method is {x}\")\n",
    "print(f\"f(x)={f(x)} ; ||f(x)|| = {np.linalg.norm(f(x))}\")\n",
    "\n",
    "residuals_norms = [np.linalg.norm(f(e)) for e in errors] \n",
    "\n",
    "plt.plot(residuals_norms)\n",
    "plt.title(\"norm of the residual\")\n",
    "plt.xlabel(\"k iteration\")"
   ]
  },
  {
   "cell_type": "markdown",
   "metadata": {
    "colab_type": "text",
    "id": "_4GLBv0zWr7m"
   },
   "source": [
    "# **Discussion**"
   ]
  },
  {
   "cell_type": "markdown",
   "metadata": {
    "colab_type": "text",
    "id": "6bcsDSoRXHZe"
   },
   "source": [
    "Let's first talk about the Jacobi and Gauss Seidel iterations. They both manage to find a good approximation to the solution. \n",
    "The Gauss-Seidel iteration consistently converges faster than Jacobi's. From the graph of the norm of the residuals, it also seems like the Gauss-Seidel iteration is more stable. "
   ]
  },
  {
   "cell_type": "markdown",
   "metadata": {},
   "source": [
    "The Newton method managed to find the solutions of the non linear systems. It could have been interesting to implement an approximation of the derivative/jacobian instead of it being given. "
   ]
  }
 ],
 "metadata": {
  "colab": {
   "include_colab_link": true,
   "name": "template-report-lab-X.ipynb",
   "provenance": []
  },
  "kernelspec": {
   "display_name": "Python 3",
   "language": "python",
   "name": "python3"
  },
  "language_info": {
   "codemirror_mode": {
    "name": "ipython",
    "version": 3
   },
   "file_extension": ".py",
   "mimetype": "text/x-python",
   "name": "python",
   "nbconvert_exporter": "python",
   "pygments_lexer": "ipython3",
   "version": "3.8.7"
  },
  "toc": {
   "base_numbering": 1,
   "nav_menu": {},
   "number_sections": true,
   "sideBar": true,
   "skip_h1_title": false,
   "title_cell": "Table of Contents",
   "title_sidebar": "Contents",
   "toc_cell": false,
   "toc_position": {},
   "toc_section_display": true,
   "toc_window_display": false
  }
 },
 "nbformat": 4,
 "nbformat_minor": 1
}

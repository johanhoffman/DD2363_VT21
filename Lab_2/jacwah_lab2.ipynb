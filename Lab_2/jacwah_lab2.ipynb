{
  "nbformat": 4,
  "nbformat_minor": 0,
  "metadata": {
    "colab": {
      "name": "template-report-lab-X.ipynb",
      "provenance": []
    },
    "kernelspec": {
      "name": "python3",
      "display_name": "Python 3"
    }
  },
  "cells": [
    {
      "cell_type": "markdown",
      "metadata": {
        "id": "6RgtXlfYO_i7"
      },
      "source": [
        "# **Lab 2: Matrix Factorization**\n",
        "**Jacob Wahlgren**"
      ]
    },
    {
      "cell_type": "markdown",
      "metadata": {
        "id": "9x_J5FVuPzbm"
      },
      "source": [
        "# **Abstract**"
      ]
    },
    {
      "cell_type": "markdown",
      "metadata": {
        "id": "yJipbXtnjrJZ"
      },
      "source": [
        "The goal of lab 2 was to implement sparse matrix-vectoro multiplication, a QR factorization algorithm, and a direct solver of systems of equations. The algorithms were successfully implemented in Python using Numpy and tested with some unit tests."
      ]
    },
    {
      "cell_type": "markdown",
      "metadata": {
        "id": "OkT8J7uOWpT3"
      },
      "source": [
        "#**About the code**"
      ]
    },
    {
      "cell_type": "markdown",
      "metadata": {
        "id": "HmB2noTr1Oyo"
      },
      "source": [
        "The code was written by the author (Jacob Wahlgren), based on a template by Johan Hoffman."
      ]
    },
    {
      "cell_type": "code",
      "metadata": {
        "id": "Pdll1Xc9WP0e",
        "colab": {
          "base_uri": "https://localhost:8080/",
          "height": 36
        },
        "outputId": "3e060936-6857-41f3-86e6-ef0e56bf5269"
      },
      "source": [
        "\"\"\"This program is a template for lab reports in the course\"\"\"\n",
        "\"\"\"DD2363 Methods in Scientific Computing, \"\"\"\n",
        "\"\"\"KTH Royal Institute of Technology, Stockholm, Sweden.\"\"\"\n",
        "\n",
        "# Copyright (C) 2020 Johan Hoffman (jhoffman@kth.se)\n",
        "# Copyright (C) 2021 Jacob Wahlgren (jacobwah@kth.se)\n",
        "\n",
        "# This file is part of the course DD2365 Advanced Computation in Fluid Mechanics\n",
        "# KTH Royal Institute of Technology, Stockholm, Sweden\n",
        "#\n",
        "# This is free software: you can redistribute it and/or modify\n",
        "# it under the terms of the GNU Lesser General Public License as published by\n",
        "# the Free Software Foundation, either version 3 of the License, or\n",
        "# (at your option) any later version.\n",
        "\n",
        "# This template is maintained by Johan Hoffman\n",
        "# Please report problems to jhoffman@kth.se"
      ],
      "execution_count": 2,
      "outputs": [
        {
          "output_type": "execute_result",
          "data": {
            "application/vnd.google.colaboratory.intrinsic+json": {
              "type": "string"
            },
            "text/plain": [
              "'KTH Royal Institute of Technology, Stockholm, Sweden.'"
            ]
          },
          "metadata": {
            "tags": []
          },
          "execution_count": 2
        }
      ]
    },
    {
      "cell_type": "markdown",
      "metadata": {
        "id": "28xLGz8JX3Hh"
      },
      "source": [
        "# **Set up environment**"
      ]
    },
    {
      "cell_type": "code",
      "metadata": {
        "id": "Xw7VlErAX7NS"
      },
      "source": [
        "# Load neccessary modules.\n",
        "from google.colab import files\n",
        "\n",
        "import time\n",
        "import numpy as np\n",
        "import unittest\n",
        "\n",
        "#try:\n",
        "#    from dolfin import *; from mshr import *\n",
        "#except ImportError as e:\n",
        "#    !apt-get install -y -qq software-properties-common \n",
        "#    !add-apt-repository -y ppa:fenics-packages/fenics\n",
        "#    !apt-get update -qq\n",
        "#    !apt install -y --no-install-recommends fenics\n",
        "#    from dolfin import *; from mshr import *\n",
        "    \n",
        "#import dolfin.common.plotting as fenicsplot\n",
        "\n",
        "from matplotlib import pyplot as plt\n",
        "from matplotlib import tri\n",
        "from matplotlib import axes\n",
        "from mpl_toolkits.mplot3d import Axes3D"
      ],
      "execution_count": 3,
      "outputs": []
    },
    {
      "cell_type": "markdown",
      "metadata": {
        "id": "gnO3lhAigLev"
      },
      "source": [
        "# **Introduction**"
      ]
    },
    {
      "cell_type": "markdown",
      "metadata": {
        "id": "PxRmGsGjH6c3"
      },
      "source": [
        "A sparse matrix has only $O(n)$ nonzero components. They are common in many applications, and can be handled more efficiently than general matrices by use of special data structures and algorithms. One common structure is CRS (compressed row storage), which is used in this lab to implement the matrix-vector product for sparse matrices."
      ]
    },
    {
      "cell_type": "markdown",
      "metadata": {
        "id": "VZ67rr5aN_Bz"
      },
      "source": [
        "The goal of matrix factorization is to decompose a matrix into a product of two matrices on some special form. It is useful for computing the inverse of a matrix when the resulting matrices theselves are easy to invert, such as triangular or orthogonal. This is called a direct method of to solve the system of equations represented by the matrix. This lab includes an implementation of QR factorization, i.e. finding an orthogonal matrix $Q$ and a triangular matrix $R$ such that $A=QR$.\n"
      ]
    },
    {
      "cell_type": "markdown",
      "metadata": {
        "id": "jOQvukXZq5U5"
      },
      "source": [
        "# **Method**"
      ]
    },
    {
      "cell_type": "markdown",
      "metadata": {
        "id": "NiuJE4dDQZ7N"
      },
      "source": [
        "Pseudocode for sparse matrix vector product using CRS is given as Algorithm 5.9 in the lecture notes. Unlike the examples in the book, the representation here is zero-indexed to fit better with Python and Numpy array indexing. Consequently the last element of the row pointer vector is the number of non-zero elements (not plus one)."
      ]
    },
    {
      "cell_type": "code",
      "metadata": {
        "id": "augJYlNxPpoA"
      },
      "source": [
        "def sparse_matrix_vector_product(x, val, col_idx, row_ptr):\n",
        "  n = len(x)\n",
        "  b = np.zeros(n)\n",
        "  for i in range(n):\n",
        "    for j in range(row_ptr[i], row_ptr[i+1]):\n",
        "      b[i] += val[j] * x[col_idx[j]]\n",
        "  return b"
      ],
      "execution_count": 4,
      "outputs": []
    },
    {
      "cell_type": "markdown",
      "metadata": {
        "id": "xI_agpSNayok"
      },
      "source": [
        "Pseudocode for modified Gram-Schmidt QR factorization is given as Algorithm 5.3 in the lecture notes. Note that we have to make a copy of `a[:,j]` so the original matrix is not overwritten."
      ]
    },
    {
      "cell_type": "code",
      "metadata": {
        "id": "wkZ-JohiYRx_"
      },
      "source": [
        "def modified_gram_schmidt_iteration(a):\n",
        "  n = len(a)\n",
        "  q = np.zeros((n,n))\n",
        "  r = np.zeros((n,n))\n",
        "  for j in range(n):\n",
        "    v = np.copy(a[:,j])\n",
        "    for i in range(j):\n",
        "      r[i,j] = np.inner(q[:,i], v)\n",
        "      v -= r[i,j] * q[:,i]\n",
        "    r[j,j] = np.linalg.norm(v)\n",
        "    q[:,j] = v / r[j,j]\n",
        "  return q, r"
      ],
      "execution_count": 13,
      "outputs": []
    },
    {
      "cell_type": "markdown",
      "metadata": {
        "id": "Rp200dGSDfm1"
      },
      "source": [
        "The implementation of the direct solver makes use of the QR factorization method above, combined with the backward substitution algorithm from the lecture notes (Algorithm 5.2). First the $Q$ matrix is inverted by taking the transpose, and then $R$ is inverted using backward substitution.\n",
        "\n",
        "$\\displaystyle Ax=QRx=b \\implies x = Q^{-1}R^{-1}b = Q^T R^{-1} b$"
      ]
    },
    {
      "cell_type": "code",
      "metadata": {
        "id": "hQBzjzfvbJb9"
      },
      "source": [
        "def backward_substitution(u, b):\n",
        "  n = len(u)\n",
        "  x = np.zeros(n)\n",
        "  x[n-1] = b[n-1] / u[n-1,n-1]\n",
        "  for i in range(n-2,-1,-1):\n",
        "    sum = 0\n",
        "    for j in range(i+1, n):\n",
        "      sum += u[i,j] * x[j]\n",
        "    x[i] = (b[i] - sum) / u[i,i]\n",
        "  return x\n",
        "\n",
        "def direct_solve(a, b):\n",
        "  q, r = modified_gram_schmidt_iteration(a)\n",
        "  rx = q.T @ b\n",
        "  x = backward_substitution(r, rx)\n",
        "  return x"
      ],
      "execution_count": 32,
      "outputs": []
    },
    {
      "cell_type": "markdown",
      "metadata": {
        "id": "SsQLT38gVbn_"
      },
      "source": [
        "# **Results**"
      ]
    },
    {
      "cell_type": "markdown",
      "metadata": {
        "id": "Fu5sICZsJNe2"
      },
      "source": [
        "The following test cases verify the implementations of sparse matrix-vector product, modified Gram-Schmidt factorization and direct solver."
      ]
    },
    {
      "cell_type": "code",
      "metadata": {
        "colab": {
          "base_uri": "https://localhost:8080/"
        },
        "id": "JlXxDtbsSheX",
        "outputId": "ec5f8708-8371-465b-e6a1-67e7488da2cc"
      },
      "source": [
        "class SparseTest(unittest.TestCase):\n",
        "  def test_id(self):\n",
        "    val = [1, 1, 1]\n",
        "    col_idx = [0, 1, 2]\n",
        "    row_ptr = [0, 1, 2, 3]\n",
        "    np.testing.assert_equal(\n",
        "        sparse_matrix_vector_product([1, 2, 3], val, col_idx, row_ptr),\n",
        "        np.array([1, 2, 3]))\n",
        "    \n",
        "  def test_full(self):\n",
        "    val = [1,2,3,4,5,6,7,8,9]\n",
        "    col_idx = [0,1,2,0,1,2,0,1,2]\n",
        "    row_ptr = [0,3,6,9]\n",
        "    x = [10,11,12]\n",
        "    np.testing.assert_almost_equal(\n",
        "        sparse_matrix_vector_product(x, val, col_idx, row_ptr),\n",
        "        np.array([[1,2,3],[4,5,6],[7,8,9]]) @ x\n",
        "    )\n",
        "\n",
        "  def test_ex5_5(self):\n",
        "    # Example 5.5 in the lecture notes\n",
        "    a = np.array([[3,2,0,2,0,0],\n",
        "                  [0,2,1,0,0,0],\n",
        "                  [0,0,1,0,0,0],\n",
        "                  [0,0,3,2,0,0],\n",
        "                  [0,0,0,0,1,0],\n",
        "                  [0,0,0,0,2,3]])\n",
        "    val = [3,2,2,2,1,1,3,2,1,2,3]\n",
        "    col_idx = np.array([1,2,4,2,3,3,3,4,5,5,6]) - 1\n",
        "    row_ptr = np.array([1,4,6,7,9,10,12]) - 1\n",
        "\n",
        "    x = [1,2,3,4,5,6]\n",
        "\n",
        "    np.testing.assert_almost_equal(\n",
        "        sparse_matrix_vector_product(x, val, col_idx, row_ptr),\n",
        "        a @ x\n",
        "    )\n",
        "\n",
        "class QRTest(unittest.TestCase):\n",
        "  def is_upper_triangular(self, r):\n",
        "    n = len(r)\n",
        "    for i in range(n):\n",
        "      for j in range(i):\n",
        "        if not np.isclose(r[i,j], 0):\n",
        "          return False\n",
        "    return True\n",
        "\n",
        "  def frobenius_norm(self, q):\n",
        "    n = len(q)\n",
        "    x = 0\n",
        "    for i in range(n):\n",
        "      for j in range(n):\n",
        "        x += q[i,j]**2\n",
        "    return x\n",
        "\n",
        "  def test_id(self):\n",
        "    self.check(np.identity(3))\n",
        "  \n",
        "  def test_full(self):\n",
        "    self.check(np.array([[1.,3.,2.],\n",
        "                        [0.,2.,2.],\n",
        "                        [1.,-1.,0.]]))\n",
        "\n",
        "  def check(self, a):\n",
        "    q, r = modified_gram_schmidt_iteration(a)\n",
        "    self.assertTrue(self.is_upper_triangular(r))\n",
        "    np.testing.assert_almost_equal(self.frobenius_norm(q.T @ q - np.identity(3)), 0)\n",
        "    np.testing.assert_almost_equal(self.frobenius_norm(q @ r - a), 0)\n",
        "\n",
        "class SolveTest(unittest.TestCase):\n",
        "  def check(self, a, y):\n",
        "    b = a @ y\n",
        "    x = direct_solve(a, b)\n",
        "    np.testing.assert_almost_equal(np.linalg.norm(x - y), 0)\n",
        "    np.testing.assert_almost_equal(np.linalg.norm(a @ x - b), 0)\n",
        "\n",
        "  def test_id(self):\n",
        "    a = np.identity(3)\n",
        "    y = np.array([1., 2., 3.])\n",
        "    self.check(a, y)\n",
        "\n",
        "  def test_full(self):\n",
        "    a = np.array([[1.,3.,2.],\n",
        "                  [0.,2.,2.],\n",
        "                  [1.,-1.,0.]])\n",
        "    y = np.array([1.,2.,3.])\n",
        "    self.check(a, y)\n",
        "  \n",
        "unittest.main(argv=[''], verbosity=2, exit=False)"
      ],
      "execution_count": 34,
      "outputs": [
        {
          "output_type": "stream",
          "text": [
            "test_full (__main__.QRTest) ... ok\n",
            "test_id (__main__.QRTest) ... ok\n",
            "test_full (__main__.SolveTest) ... ok\n",
            "test_id (__main__.SolveTest) ... ok\n",
            "test_ex5_5 (__main__.SparseTest) ... ok\n",
            "test_full (__main__.SparseTest) ... ok\n",
            "test_id (__main__.SparseTest) ... ok\n",
            "\n",
            "----------------------------------------------------------------------\n",
            "Ran 7 tests in 0.014s\n",
            "\n",
            "OK\n"
          ],
          "name": "stderr"
        },
        {
          "output_type": "execute_result",
          "data": {
            "text/plain": [
              "<unittest.main.TestProgram at 0x7fc926725940>"
            ]
          },
          "metadata": {
            "tags": []
          },
          "execution_count": 34
        }
      ]
    },
    {
      "cell_type": "markdown",
      "metadata": {
        "id": "_4GLBv0zWr7m"
      },
      "source": [
        "# **Discussion**"
      ]
    },
    {
      "cell_type": "markdown",
      "metadata": {
        "id": "lAmnq9NTaFrr"
      },
      "source": [
        "I had some troubles due to mismatch between the pseduocode in the lecture notes and the Python language. When implementing algorithms specified in pseudocode it is important to keep track of 1-indexed vs 0-indexed code and by-reference vs by-value assignments.\n",
        "\n",
        "The algorithms implemented in this lab have many applications, but faster and more well tested implementations are found in libraries."
      ]
    }
  ]
}
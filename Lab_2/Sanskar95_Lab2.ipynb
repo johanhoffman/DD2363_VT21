{
  "nbformat": 4,
  "nbformat_minor": 0,
  "metadata": {
    "colab": {
      "name": "Sanskar95_Lab2.ipynb",
      "provenance": [],
      "collapsed_sections": []
    },
    "kernelspec": {
      "name": "python3",
      "display_name": "Python 3"
    }
  },
  "cells": [
    {
      "cell_type": "markdown",
      "metadata": {
        "id": "BjgiruZqASkd"
      },
      "source": [
        "# **Lab 2: Matrix Factorization Methods**\r\n",
        "**Sanskar Gupta**"
      ]
    },
    {
      "cell_type": "markdown",
      "metadata": {
        "id": "CixwzxQ-E0w7"
      },
      "source": [
        "#**Abstract**"
      ]
    },
    {
      "cell_type": "markdown",
      "metadata": {
        "id": "s-iP8qs9Afxp"
      },
      "source": [
        "The following matrix methods are implemented in this notebook as part of programming assignment 2\r\n",
        "\r\n",
        "1. Function: Sparse matrix-vector product $b = Ax$,\r\n",
        "2. Function: QR Factorization ,orthogonal matrix Q, upper triangular matrix R, such that $A=QR$\r\n",
        "3. Function:  A Direct Solver using Backsubstitution and QR Factorization $Ax = b \\iff QRx = b$,\r\n",
        "4. Function: Least Squares problem\r\n",
        "5. Function: $QR$ eigenvalue algorithm\r\n",
        "6. Function: Blocked matrix-matrix product\r\n",
        "\r\n",
        "\r\n",
        "The following implementations closely follow the results that are derived using the numpy library."
      ]
    },
    {
      "cell_type": "markdown",
      "metadata": {
        "id": "Jg4NR_asEPA5"
      },
      "source": [
        "#**About the code**"
      ]
    },
    {
      "cell_type": "code",
      "metadata": {
        "id": "n19ZuyRLERa4"
      },
      "source": [
        "\"\"\"This program is a template for lab reports in the course\"\"\"\r\n",
        "\"\"\"DD2363 Methods in Scientific Computing, \"\"\"\r\n",
        "\"\"\"KTH Royal Institute of Technology, Stockholm, Sweden.\"\"\"\r\n",
        "\r\n",
        "# Copyright (C) 2021 Sanskar Gupta (sanskar@kth.se)\r\n",
        "\r\n",
        "# This file is part of the course DD2363 Methods in Scientific Computing\r\n",
        "# KTH Royal Institute of Technology, Stockholm, Sweden\r\n",
        "#\r\n",
        "# This is free software: you can redistribute it and/or modify\r\n",
        "# it under the terms of the GNU Lesser General Public License as published by\r\n",
        "# the Free Software Foundation, either version 3 of the License, or\r\n",
        "# (at your option) any later version.\r\n",
        "\r\n",
        "# This template is maintained by Johan Hoffman\r\n",
        "# Please report problems to jhoffman@kth.se"
      ],
      "execution_count": null,
      "outputs": []
    },
    {
      "cell_type": "markdown",
      "metadata": {
        "id": "5FimskTNFuVK"
      },
      "source": [
        "#**Introduction**"
      ]
    },
    {
      "cell_type": "markdown",
      "metadata": {
        "id": "nf2TpvZ1Fx_A"
      },
      "source": [
        "Methods listed in abstract are implemented one by one manually with unit tests for each method.\r\n",
        "The tests are evaluated together in the results secton and insights generated from tests are discussed briefly in the discussion section."
      ]
    },
    {
      "cell_type": "markdown",
      "metadata": {
        "id": "qakhUQ7UEere"
      },
      "source": [
        "#**Environment Setup**"
      ]
    },
    {
      "cell_type": "code",
      "metadata": {
        "id": "5JmGghH8EkO5"
      },
      "source": [
        "#Importing necessary stuffs\r\n",
        "from google.colab import files\r\n",
        "\r\n",
        "import time\r\n",
        "import numpy as np\r\n",
        "import unittest\r\n",
        "import random\r\n",
        "\r\n",
        "from matplotlib import pyplot as plt\r\n",
        "from matplotlib import tri\r\n",
        "from matplotlib import axes\r\n",
        "from mpl_toolkits.mplot3d import Axes3D\r\n"
      ],
      "execution_count": null,
      "outputs": []
    },
    {
      "cell_type": "markdown",
      "metadata": {
        "id": "biLS73-rGqf-"
      },
      "source": [
        "# **Methods**"
      ]
    },
    {
      "cell_type": "markdown",
      "metadata": {
        "id": "olfNrHsnGuL-"
      },
      "source": [
        "## **Sparse Matrix-Vector Product**"
      ]
    },
    {
      "cell_type": "markdown",
      "metadata": {
        "id": "Vw8cLiN_GxNu"
      },
      "source": [
        "Here sparse matrix product algorithm is implemented where the input is a  matrix $A \\in R^{m\\times n}$ which is represented in compressed row storage (CRS) format and a vector $x \\in R^n$, and output is the vector $b = Ax, \\ b \\in R^m$.\r\n",
        "\r\n",
        "In numerical analysis and scientific computing, a sparse matrix or sparse array is a matrix in which most of the elements are zero. There is no strict definition how many elements need to be zero for a matrix to be considered sparse but a common criterion is that the number of non-zero elements is roughly the number of rows or columns\r\n",
        "\r\n",
        "\r\n",
        "A matrix in the CRS format can be represented using the arrays: *val*, *col_idx*, and *row_ptr*. val stores the nonzero matrix values, col_idx the nonzero values column indices, and row_ptr the indices of the of the first nonzero values of each row in val and count of non 0 values.\r\n",
        "\r\n",
        "It is to be noted that all column and row indixes start from 0."
      ]
    },
    {
      "cell_type": "code",
      "metadata": {
        "id": "rb_c_9e8IpOI"
      },
      "source": [
        "#Function\r\n",
        "def sparseMatrixVectorProduct(x, val, col_idx, row_ptr):\r\n",
        "  assert x.size == (len(row_ptr)-1) #asserting if length of vector is same as matrix dimension\r\n",
        "\r\n",
        "  result = np.zeros(len(row_ptr)-1)\r\n",
        "\r\n",
        "  for row in range(len(row_ptr)-1):\r\n",
        "    temp = 0\r\n",
        "    for i in range(row_ptr[row], row_ptr[row+1]):\r\n",
        "      temp = temp + val[i] * x[col_idx[i]]\r\n",
        "    result[row] = temp\r\n",
        "  \r\n",
        "  return result"
      ],
      "execution_count": null,
      "outputs": []
    },
    {
      "cell_type": "code",
      "metadata": {
        "id": "LV5M_L_MKuO2"
      },
      "source": [
        "#Test\r\n",
        "def testAgainstDenseMatrix():\r\n",
        "\r\n",
        "    #Matrix to test\r\n",
        "    A = np.array([[3,2,0,2,0,0],\r\n",
        "                  [0,2,1,0,0,0],\r\n",
        "                  [0,0,1,0,0,0],\r\n",
        "                  [0,0,3,2,0,0],\r\n",
        "                  [0,0,0,0,1,0],\r\n",
        "                  [0,0,0,0,2,3]])\r\n",
        "    x = np.array([2,1,2,4,1,3])\r\n",
        "    val = [3,2,2,2,1,1,3,2,1,2,3]\r\n",
        "    col_idx = [0,1,3,1,2,2,2,3,4,4,5]\r\n",
        "    row_ptr = [0,3,5,6,8,9,11]\r\n",
        "    expectedSolution = np.matmul(A,x)\r\n",
        "    assert np.array_equal(np.matmul(A,x), sparseMatrixVectorProduct(x,val,col_idx,row_ptr))==True , \"Value mismatch , test failed\""
      ],
      "execution_count": null,
      "outputs": []
    },
    {
      "cell_type": "code",
      "metadata": {
        "colab": {
          "base_uri": "https://localhost:8080/"
        },
        "id": "dCdH_EKfFR4L",
        "outputId": "06d619c3-cfc6-4921-b3b3-69126c653922"
      },
      "source": [
        "start_time = time.time()\r\n",
        "testAgainstDenseMatrix()\r\n",
        "print(\"--- test ran in %s seconds ---\" % (time.time() - start_time))"
      ],
      "execution_count": null,
      "outputs": [
        {
          "output_type": "stream",
          "text": [
            "--- 0.0003952980041503906 seconds ---\n"
          ],
          "name": "stdout"
        }
      ]
    },
    {
      "cell_type": "markdown",
      "metadata": {
        "id": "uZTUrfceO_rM"
      },
      "source": [
        "## **QR Factorization using Gram Schmidt Process**\r\n",
        "Given a non-singular matrix $A\\in R^{n\\times n}$, it can be factorized as  $A=QR$, where $Q$ is an orthogonal matrix and $R$ is a upper triangular matrix.\r\n",
        "\r\n",
        "The following function implements classical Gram Schmidt Process to get the factor matrices $Q$ and $R$. \r\n",
        "\r\n",
        "\\begin{align*}\r\n",
        "\\left( \\begin{array}{c|c|c|c} & & &  \\\\ a_{:1} & a_{:2} & \\dots & a_{:n} \\\\ & & & \\end{array} \\right) = \\left( \\begin{array}{c|c|c|c} & & &  \\\\ q_{1} & q_{2} & \\dots & q_{n} \\\\ & & & \\end{array} \\right)\\left( \\begin{array}{cccc} r_{11} & r_{12} & \\dots & r_{1n} \\\\  & r_{22} &  &  \\\\ \\vdots & & \\ddots & \\vdots \\\\ 0 & \\dots & & r_{nn}\\end{array} \\right)\r\n",
        "\\end{align*}"
      ]
    },
    {
      "cell_type": "code",
      "metadata": {
        "id": "pSCTLZeNPtp1"
      },
      "source": [
        "#Function\r\n",
        "def qrFactorization(A):\r\n",
        "  v = np.copy(A) #Copying to prevent writing to same reference\r\n",
        "  numRows = A.shape[0]\r\n",
        "  R = np.zeros((numRows,numRows))\r\n",
        "  Q = np.zeros((numRows,numRows))\r\n",
        "  for i in range(numRows):\r\n",
        "    R[i,i] = np.sqrt(np.dot(v[:,i],v[:,i])) #length of v\r\n",
        "    Q[:,i] = v[:,i]/R[i,i] #dividing by the length to normalize\r\n",
        "    for j in range(i+1, numRows):\r\n",
        "      R[i,j] = np.dot(Q[:,i], v[:,j]) \r\n",
        "      v[:,j] = np.subtract(v[:,j], R[i,j]*Q[:,i])\r\n",
        "  return Q,R"
      ],
      "execution_count": null,
      "outputs": []
    },
    {
      "cell_type": "markdown",
      "metadata": {
        "id": "8Ggm6DNWRuzU"
      },
      "source": [
        "When p = q = 2 for $L_{p,q}$ it is called the Frobenius norm or the Hilbert–Schmidt norm, though the latter term is used more frequently in the context of operators on (possibly infinite-dimensional) Hilbert space"
      ]
    },
    {
      "cell_type": "code",
      "metadata": {
        "id": "5I7T_3IrQK1q"
      },
      "source": [
        "#Frobenius norm\r\n",
        "def getFrobeniusNorm(A):\r\n",
        "  result = 0\r\n",
        "  for i in A:\r\n",
        "    for j in i:\r\n",
        "      result = result+ j*j\r\n",
        "  return np.sqrt(result)"
      ],
      "execution_count": null,
      "outputs": []
    },
    {
      "cell_type": "code",
      "metadata": {
        "id": "qpyM_paWTYl-"
      },
      "source": [
        "#Tests\r\n",
        "def testRUpperTriangular():\r\n",
        "    test_case = unittest.TestCase()\r\n",
        "    for n in range(20):\r\n",
        "      size = random.randint(2, 500) \r\n",
        "      A = np.random.rand(size, size)\r\n",
        "      Q, R = qrFactorization(A)\r\n",
        "\r\n",
        "      for i in range(size):\r\n",
        "        for j in range(0, i):\r\n",
        "          test_case.assertEqual(R[i,j], 0)\r\n",
        "\r\n",
        "\r\n",
        "def testEqualityOfQRwithA():\r\n",
        "    test_case = unittest.TestCase()\r\n",
        "    for n in range(20):\r\n",
        "      size = random.randint(2,100) \r\n",
        "      A = np.random.rand(size, size)\r\n",
        "      Q, R = qrFactorization(A)\r\n",
        "      expectedSolution = np.matmul(Q,R)\r\n",
        "      np.testing.assert_array_almost_equal(expectedSolution, A, 10)  #Raises an AssertionError if two objects are not equal up to desired precision.\r\n",
        "\r\n",
        "  \r\n",
        "def testFrobeniusNorm():\r\n",
        "  test_case = unittest.TestCase()\r\n",
        "  for n in range(20):\r\n",
        "    size = random.randint(2,100) \r\n",
        "    A = np.random.rand(size, size)\r\n",
        "    Q, R = qrFactorization(A)\r\n",
        "    test_case.assertAlmostEqual(getFrobeniusNorm(np.matmul(Q,R)) , getFrobeniusNorm(A), 10)"
      ],
      "execution_count": null,
      "outputs": []
    },
    {
      "cell_type": "code",
      "metadata": {
        "colab": {
          "base_uri": "https://localhost:8080/"
        },
        "id": "AKjSx3XYCzrV",
        "outputId": "54957741-49e1-4f23-a16c-fc8fb5861c3c"
      },
      "source": [
        "start_time = time.time()\r\n",
        "testRUpperTriangular()\r\n",
        "print(\"--- test ran in %s seconds ---\" % (time.time() - start_time))"
      ],
      "execution_count": null,
      "outputs": [
        {
          "output_type": "stream",
          "text": [
            "--- test ran in 8.430670261383057 seconds ---\n"
          ],
          "name": "stdout"
        }
      ]
    },
    {
      "cell_type": "code",
      "metadata": {
        "colab": {
          "base_uri": "https://localhost:8080/"
        },
        "id": "kqlcojBvFEHk",
        "outputId": "caa005f1-e548-42c6-9237-7b1f794ebff3"
      },
      "source": [
        "start_time = time.time()\r\n",
        "testEqualityOfQRwithA()\r\n",
        "print(\"--- test ran in %s seconds ---\" % (time.time() - start_time))"
      ],
      "execution_count": null,
      "outputs": [
        {
          "output_type": "stream",
          "text": [
            "--- test ran in 0.40532445907592773 seconds ---\n"
          ],
          "name": "stdout"
        }
      ]
    },
    {
      "cell_type": "code",
      "metadata": {
        "colab": {
          "base_uri": "https://localhost:8080/"
        },
        "id": "0hfD6nSkFPYN",
        "outputId": "8ecf757c-ebc8-4449-841e-bf5631b84ffd"
      },
      "source": [
        "start_time = time.time()\r\n",
        "testFrobeniusNorm()\r\n",
        "print(\"--- test ran in %s seconds ---\" % (time.time() - start_time))"
      ],
      "execution_count": null,
      "outputs": [
        {
          "output_type": "stream",
          "text": [
            "--- test ran in 0.43219757080078125 seconds ---\n"
          ],
          "name": "stdout"
        }
      ]
    },
    {
      "cell_type": "markdown",
      "metadata": {
        "id": "qu3nSZAoXAsf"
      },
      "source": [
        "## **Direct Solver**\r\n",
        "\r\n",
        "Here we solve the equation for x $Ax = b, \\ A\\in R^{n\\times n}, \\ b \\in R^n, \\ x \\in R^n$, where $A$ is non-singular\r\n",
        "\r\n",
        "Matrix $A$ will be factorized using  Gram-Schmidt QR factorization $A = QR$ we then have  $QRx = b$. This equation can be solved easily using backward substitution.\r\n",
        "\r\n",
        "### Backwards substitution\r\n",
        "\r\n",
        "$x_j = b_i - \\sum_{j=i+1}^{n} (u_{ij}x_j) / u_{ii}$\r\n",
        "\r\n",
        "\r\n",
        "\r\n"
      ]
    },
    {
      "cell_type": "code",
      "metadata": {
        "id": "NuUaey2uZyy0"
      },
      "source": [
        "#Function\r\n",
        "def backWardsSubstitution(U, b):\r\n",
        "  test_case = unittest.TestCase()\r\n",
        "  n = b.size\r\n",
        "  x = np.zeros(n)\r\n",
        "  x[n-1] = b[n-1]/U[n-1, n-1]\r\n",
        "  for i in range(n-2, -1, -1):\r\n",
        "    sum = 0\r\n",
        "    for j in range(i+1, n):\r\n",
        "      sum += U[i,j]*x[j]\r\n",
        "    x[i] = (b[i] - sum) / U[i,i]\r\n",
        "  return x\r\n",
        "\r\n",
        "\r\n",
        "def directSolver(A,b):\r\n",
        "  Q,R = qrFactorization(A)\r\n",
        "  m,n = A.shape\r\n",
        "  Q_T = np.zeros((n,m))\r\n",
        "  for i in range(n):\r\n",
        "    Q_T[i,:] = Q[:,i]\r\n",
        "  \r\n",
        "  Q_Tb = Q_T.dot(b)\r\n",
        "  x = backWardsSubstitution(R, Q_Tb)\r\n",
        "  return x"
      ],
      "execution_count": null,
      "outputs": []
    },
    {
      "cell_type": "code",
      "metadata": {
        "id": "vazz7fe7cfzd"
      },
      "source": [
        "#Tests\r\n",
        "def testBackWardSubstitution():\r\n",
        "    for n in range(20):\r\n",
        "      size = random.randint(2,100) \r\n",
        "      A = np.random.rand(size, size)\r\n",
        "      b = np.random.rand(size)\r\n",
        "      Q, R = qrFactorization(A)\r\n",
        "      x = backWardsSubstitution(R, b)\r\n",
        "      np.testing.assert_array_almost_equal(np.matmul(R,x), b, 11)\r\n",
        "\r\n",
        "def testResiduals():\r\n",
        "    test_case = unittest.TestCase()\r\n",
        "    for n in range(20):\r\n",
        "      size = random.randint(2,100) \r\n",
        "      A = np.random.rand(size, size)\r\n",
        "      b = np.random.rand(size)\r\n",
        "\r\n",
        "      derivedSolutionY = directSolver(A, b)\r\n",
        "\r\n",
        "      result_vector = np.matmul(A,derivedSolutionY)-b\r\n",
        "     \r\n",
        "      \r\n",
        "      #||Ax-b||\r\n",
        "      test_case.assertAlmostEqual(np.sqrt(np.dot(result_vector,result_vector)), 0, 10)\r\n",
        "\r\n",
        "      expectedSolutionX = np.linalg.solve(A, b)\r\n",
        "      vector_difference = expectedSolutionX-derivedSolutionY\r\n",
        "\r\n",
        "\r\n",
        "      #||x-y||\r\n",
        "      test_case.assertAlmostEqual(np.sqrt(np.dot(vector_difference,vector_difference)), 0, 3)"
      ],
      "execution_count": null,
      "outputs": []
    },
    {
      "cell_type": "code",
      "metadata": {
        "colab": {
          "base_uri": "https://localhost:8080/"
        },
        "id": "0NTOoIWIHYUx",
        "outputId": "62cf6682-9913-4b5c-eda6-a9883319f5a1"
      },
      "source": [
        "start_time = time.time()\r\n",
        "testBackWardSubstitution()\r\n",
        "print(\"--- test ran in %s seconds ---\" % (time.time() - start_time))"
      ],
      "execution_count": null,
      "outputs": [
        {
          "output_type": "stream",
          "text": [
            "--- test ran in 0.48583197593688965 seconds ---\n"
          ],
          "name": "stdout"
        }
      ]
    },
    {
      "cell_type": "code",
      "metadata": {
        "colab": {
          "base_uri": "https://localhost:8080/"
        },
        "id": "BfiyJG-XHYjf",
        "outputId": "da1d3e58-d714-4fdd-973a-3742b0113150"
      },
      "source": [
        "start_time = time.time()\r\n",
        "testResiduals()\r\n",
        "print(\"--- test ran in %s seconds ---\" % (time.time() - start_time))"
      ],
      "execution_count": null,
      "outputs": [
        {
          "output_type": "stream",
          "text": [
            "--- test ran in 0.4924960136413574 seconds ---\n"
          ],
          "name": "stdout"
        }
      ]
    },
    {
      "cell_type": "markdown",
      "metadata": {
        "id": "U4MShgVZ9aZi"
      },
      "source": [
        "##**Least Squares**\r\n",
        "For a system of equations,\r\n",
        "\\begin{align}\r\n",
        "Ax = b,\r\n",
        "\\end{align}\r\n",
        "when $ A\\in R^{m\\times n}, \\ x \\in R^n, \\ b \\in R^m, m > n$,\r\n",
        "the method of least squares is a standard approach to approximate the solution of overdetermined systems (sets of equations in which there are more equations than unknowns) by minimizing the sum of the squares of the residuals made in the results of every single equation.\r\n",
        "\r\n",
        "$$\r\n",
        "\\bar{x} = (A^T A)^{-1}A^Tb.\r\n",
        "$$"
      ]
    },
    {
      "cell_type": "code",
      "metadata": {
        "id": "JpuUwfTj9YrG"
      },
      "source": [
        "#Functions\r\n",
        "def transpose(A):\r\n",
        "  m,n = A.shape\r\n",
        "  A_T = np.zeros((n,m))\r\n",
        "  for i in range(n):\r\n",
        "    A_T[i,:] = A[:,i]\r\n",
        "  return A_T\r\n",
        "\r\n",
        "def leastSquares(A, b):\r\n",
        "  if not(A.shape[0] == b.size):\r\n",
        "    raise Exception(\"The dimensions of the vector and the matrix do not match\")\r\n",
        "  else:\r\n",
        "    A_T=transpose(A)\r\n",
        "    A_TA = A_T.dot(A)\r\n",
        "    A_Tb = A_T.dot(b)\r\n",
        "    Q, R = qrFactorization(A_TA)\r\n",
        "    Q_T = transpose(Q)\r\n",
        "    Q_TA_Tb = Q_T.dot(A_Tb)\r\n",
        "    x = backWardsSubstitution(R, Q_TA_Tb)\r\n",
        "    return x"
      ],
      "execution_count": null,
      "outputs": []
    },
    {
      "cell_type": "code",
      "metadata": {
        "id": "NvD7RpS1CnYu"
      },
      "source": [
        "#Tests\r\n",
        "def testResidualLeastSquare():\r\n",
        "  test_case = unittest.TestCase()\r\n",
        "\r\n",
        "  m = np.random.randint(2,10);\r\n",
        "  n = m + np.random.randint(2,10);\r\n",
        "\r\n",
        "  A = np.random.rand(n,m);\r\n",
        "  b = np.random.rand(n);\r\n",
        "\r\n",
        "  x1 = leastSquares(A,b);\r\n",
        "  x2 = np.linalg.lstsq(A,b, rcond=None)[0];\r\n",
        "  vector_difference=x1-x2\r\n",
        "  test_case.assertAlmostEqual(np.sqrt(np.dot(vector_difference,vector_difference)), 0, 3)\r\n",
        "  "
      ],
      "execution_count": null,
      "outputs": []
    },
    {
      "cell_type": "code",
      "metadata": {
        "colab": {
          "base_uri": "https://localhost:8080/"
        },
        "id": "GuF5NbL1JiOJ",
        "outputId": "c0bf6d93-8960-4c75-d9e5-e4305e84d3a3"
      },
      "source": [
        "start_time = time.time()\r\n",
        "testResidualLeastSquare()\r\n",
        "print(\"--- test ran in %s seconds ---\" % (time.time() - start_time))"
      ],
      "execution_count": null,
      "outputs": [
        {
          "output_type": "stream",
          "text": [
            "--- test ran in 0.027906179428100586 seconds ---\n"
          ],
          "name": "stdout"
        }
      ]
    },
    {
      "cell_type": "markdown",
      "metadata": {
        "id": "lYt4A8kLDy7M"
      },
      "source": [
        "##**QR eigenvalue algorithm**\r\n",
        "$A=UTU^*$\r\n",
        "where U has the eigenvectors as column vectors and T is a upper triangular matrix with the eigenvalues on the diagonal.\r\n",
        "\r\n",
        "The iteration algorithm is slow to run, it is thus only tested by small matrices of size 5, with 2000 iterations which gives a precision of over 5 decimals. "
      ]
    },
    {
      "cell_type": "code",
      "metadata": {
        "id": "t-aEtmWLHVT9"
      },
      "source": [
        "#Functions\r\n",
        "def QREigenvalue(A):\r\n",
        "\r\n",
        "  n = A.shape[0]\r\n",
        "  U = np.identity(n)\r\n",
        "\r\n",
        "  for i in range(0, 2000):\r\n",
        "    (Q,R) = qrFactorization(A)\r\n",
        "    A = R.dot(Q)\r\n",
        "    U = U.dot(Q)\r\n",
        "\r\n",
        "  return A, U;"
      ],
      "execution_count": null,
      "outputs": []
    },
    {
      "cell_type": "code",
      "metadata": {
        "id": "nAhktG3oHZ6f"
      },
      "source": [
        "#Tests\r\n",
        "def testDeterminantAndNorm():\r\n",
        "    for i in range(0,3):\r\n",
        "\r\n",
        "      n = 8\r\n",
        "      I = np.identity(n)\r\n",
        "\r\n",
        "      # A is a real symmetric matrix\r\n",
        "      A_sym = np.random.rand(n,n)\r\n",
        "      for i in range(0, n):\r\n",
        "        for j in range(0, n):\r\n",
        "          A_sym[i,j] = A_sym[j,i]\r\n",
        "\r\n",
        "      (A,U) = QREigenvalue(A_sym)\r\n",
        "\r\n",
        "      for i in range(0, n):\r\n",
        "\r\n",
        "        #norm (A-lambda*i)       \r\n",
        "        np.testing.assert_almost_equal(np.linalg.norm(A_sym.dot(U[:,i]) - A[i,i]*U[:,i]), 0, decimal=2)\r\n",
        "        \r\n",
        "        #determinant\r\n",
        "        np.testing.assert_almost_equal(np.linalg.det(A_sym - A[i,i]*I), 0, decimal=2)\r\n",
        "\r\n",
        "\r\n"
      ],
      "execution_count": null,
      "outputs": []
    },
    {
      "cell_type": "code",
      "metadata": {
        "colab": {
          "base_uri": "https://localhost:8080/"
        },
        "id": "uKY7Tdb5LgrT",
        "outputId": "902445fe-1b3b-464c-86f0-5db987985ce7"
      },
      "source": [
        "start_time = time.time()\r\n",
        "testDeterminantAndNorm()\r\n",
        "print(\"--- test ran in %s seconds ---\" % (time.time() - start_time))"
      ],
      "execution_count": null,
      "outputs": [
        {
          "output_type": "stream",
          "text": [
            "--- test ran in 1.6452171802520752 seconds ---\n"
          ],
          "name": "stdout"
        }
      ]
    },
    {
      "cell_type": "code",
      "metadata": {
        "id": "YfCVUnE2Lg0B"
      },
      "source": [
        ""
      ],
      "execution_count": null,
      "outputs": []
    },
    {
      "cell_type": "markdown",
      "metadata": {
        "id": "cP9U1ww6IC_2"
      },
      "source": [
        "##**Block matrix product**\r\n",
        "The complexity of an algorithm is only one part of the computational cost. Often the cost to\r\n",
        "access slow memory through read or write operations is the dominating cost. We define the\r\n",
        "computational intensity q of an algorithm as the ratio between the average number of floating\r\n",
        "point operations f and memory references m,\r\n",
        "$$q = f/m$$\r\n",
        "The blocked matrix multiplication is done by matching and dividing matrices A and B along rows and columns"
      ]
    },
    {
      "cell_type": "code",
      "metadata": {
        "id": "exLEiIoPIJJg"
      },
      "source": [
        "def blockedMatrixMultiplication(A, B, n, m, p):\r\n",
        "    if not (A.shape[1] == B.shape[0]):\r\n",
        "        raise Exception(\"Matrix dimensions are not compatible for multiplication\")\r\n",
        "\r\n",
        "    i_initial, delta_i = 0, 0\r\n",
        "    C = np.zeros((A.shape[0], B.shape[1]))\r\n",
        "\r\n",
        "    for i in range(n):\r\n",
        "        i_initial = i_initial + delta_i\r\n",
        "        delta_i = int(np.ceil((A.shape[0] - delta_i) / (n - i)))\r\n",
        "        j_initial, delta_j = 0, 0\r\n",
        "        for j in range(m):\r\n",
        "            j_initial = j_initial + delta_j\r\n",
        "            delta_j = int(np.ceil((B.shape[1] - delta_j) / (m - j)))\r\n",
        "            k_initial, delta_k = 0, 0\r\n",
        "            for k in range(p):\r\n",
        "                k_initial = k_initial + delta_k\r\n",
        "                delta_k = int(np.ceil(A.shape[1] - delta_k) / (p - k))\r\n",
        "                C[i_initial:i_initial + delta_i, j_initial:j_initial + delta_j] += A[i_initial:i_initial + delta_i, k_initial:k_initial + delta_k].dot(B[k_initial:k_initial + delta_k, j_initial:j_initial + delta_j])\r\n",
        "\r\n",
        "    return C"
      ],
      "execution_count": null,
      "outputs": []
    },
    {
      "cell_type": "code",
      "metadata": {
        "id": "Beed2tJVJffz"
      },
      "source": [
        "def testAccuracyOfblockedMatrixMultiplication():\r\n",
        "    test_case = unittest.TestCase()\r\n",
        "    for i in range(10):\r\n",
        "        p = np.random.randint(1, 10)\r\n",
        "        n = np.random.randint(1, 10)\r\n",
        "        m = np.random.randint(1, 10)\r\n",
        "        A = np.random.rand(n, p)\r\n",
        "        B = np.random.rand(p, m)\r\n",
        "        n = np.random.randint(1, n + 1)\r\n",
        "        m = np.random.randint(1, m + 1)\r\n",
        "        p = np.random.randint(1, p + 1)\r\n",
        "        x = blockedMatrixMultiplication(A, B, n, m, p)\r\n",
        "        y = A.dot(B)\r\n",
        "        np.testing.assert_almost_equal(x, y, 0)"
      ],
      "execution_count": null,
      "outputs": []
    },
    {
      "cell_type": "code",
      "metadata": {
        "id": "6mdRrayI6f6L",
        "colab": {
          "base_uri": "https://localhost:8080/"
        },
        "outputId": "cff7a460-fcb7-4549-8ddc-57e4a5f544af"
      },
      "source": [
        "start_time = time.time()\r\n",
        "testAccuracyOfblockedMatrixMultiplication()\r\n",
        "print(\"--- test ran in %s seconds ---\" % (time.time() - start_time))"
      ],
      "execution_count": null,
      "outputs": [
        {
          "output_type": "stream",
          "text": [
            "--- test ran in 0.008306741714477539 seconds ---\n"
          ],
          "name": "stdout"
        }
      ]
    },
    {
      "cell_type": "markdown",
      "metadata": {
        "id": "E9gnX6VMdKOk"
      },
      "source": [
        "#**Results**\r\n",
        "All the methods demonstrated above were verified using unit test cases referencing the assignment test cases with various degrees of precision that immediately followed the functions"
      ]
    }
  ]
}
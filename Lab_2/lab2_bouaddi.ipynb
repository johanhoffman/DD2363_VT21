{
 "cells": [
  {
   "cell_type": "markdown",
   "metadata": {
    "colab_type": "text",
    "id": "view-in-github"
   },
   "source": [
    "<a href=\"https://colab.research.google.com/github/johanhoffman/DD2363-VT20/blob/master/template-report-lab-X.ipynb\" target=\"_parent\"><img src=\"https://colab.research.google.com/assets/colab-badge.svg\" alt=\"Open In Colab\"/></a>"
   ]
  },
  {
   "cell_type": "markdown",
   "metadata": {
    "colab_type": "text",
    "id": "6RgtXlfYO_i7"
   },
   "source": [
    "# **Lab 2: Matrix Factorization**\n",
    "**Hilaire Bouaddi**"
   ]
  },
  {
   "cell_type": "markdown",
   "metadata": {
    "colab_type": "text",
    "id": "9x_J5FVuPzbm"
   },
   "source": [
    "# **Abstract**"
   ]
  },
  {
   "cell_type": "markdown",
   "metadata": {
    "colab_type": "text",
    "id": "6UFTSzW7P8kL"
   },
   "source": [
    "Objectives: \n",
    "The objectives of the lab were to:\n",
    "\n",
    "    * understand how matrix vector product can be dramatically sped up using other data representation for certain matrices.\n",
    "    * implement a direct linear solver\n",
    "    \n",
    "The 2nd objective encompasses the implementation of some procedure to have mtrices that can be easily inverted. In this lab, we are going to use the QR factorization. \n",
    "\n",
    "Methods:\n",
    "In this lab, we allowed ourselves to use the numpy library to represent some of the data (matrices and vectors) and to use some built-in operations that were not the primary focus of the lab such as the dot product. \n",
    "\n",
    "Main Results: \n",
    "The choice of data representation of a matrix has a huge impact on the algorithm used and their running time. The sparse matrix vector product is linear.\n",
    "\n",
    "Conclusion: \n",
    "The different objectives of the lab were reached. The first question gave great results regarding the speedup of the sparse product. The 2rd and 3rd question fulfilled the 2nd objective. "
   ]
  },
  {
   "cell_type": "markdown",
   "metadata": {
    "colab_type": "text",
    "id": "28xLGz8JX3Hh"
   },
   "source": [
    "# **Set up environment**"
   ]
  },
  {
   "cell_type": "markdown",
   "metadata": {
    "colab_type": "text",
    "id": "D2PYNusD08Wa"
   },
   "source": [
    "To have access to the neccessary modules you have to run this cell. If you need additional modules, this is where you add them. "
   ]
  },
  {
   "cell_type": "code",
   "execution_count": 7,
   "metadata": {
    "ExecuteTime": {
     "end_time": "2021-02-03T22:12:32.342837Z",
     "start_time": "2021-02-03T22:12:30.915180Z"
    }
   },
   "outputs": [],
   "source": [
    "import numpy as np\n",
    "import time\n",
    "import matplotlib.pyplot as plt "
   ]
  },
  {
   "cell_type": "markdown",
   "metadata": {
    "colab_type": "text",
    "id": "gnO3lhAigLev"
   },
   "source": [
    "# **Introduction**"
   ]
  },
  {
   "cell_type": "markdown",
   "metadata": {
    "colab_type": "text",
    "id": "l5zMzgPlRAF6"
   },
   "source": [
    "For the sparse matrix vector product, we assume that A is sparse ($O(n)$ elements in the matrix). The pseudo code of the implementation of the matrix was studied in lecture. \n",
    "\n",
    "For the QR Factorization, we used the pseudo code seen in lecture. The aim of this factorization is to get two matrices that can be easily inverted, Q an orthogonal matrix and R an unpper triangular matrix. \n",
    "\n",
    "For the direct solver, we have: $Ax = b \\iff QRx = b \\iff Rx = Q^{-1}b \\iff Rx = Q^Tb$.\n",
    "\n",
    "We used the backward substitution seen in lecture to solve the upper triangular system. "
   ]
  },
  {
   "cell_type": "markdown",
   "metadata": {
    "colab_type": "text",
    "id": "jOQvukXZq5U5"
   },
   "source": [
    "# **Method**"
   ]
  },
  {
   "cell_type": "markdown",
   "metadata": {
    "colab_type": "text",
    "id": "zF4iBj5VURZx"
   },
   "source": [
    "Describe the methods you used to solve the problem. This may be a combination of text, mathematical formulas (Latex), algorithms (code), data and output.  "
   ]
  },
  {
   "cell_type": "markdown",
   "metadata": {},
   "source": [
    "## Sparse matrix vector product "
   ]
  },
  {
   "cell_type": "code",
   "execution_count": 8,
   "metadata": {
    "ExecuteTime": {
     "end_time": "2021-02-03T22:12:32.368409Z",
     "start_time": "2021-02-03T22:12:32.343841Z"
    }
   },
   "outputs": [],
   "source": [
    "def sparse_representation(A):\n",
    "    val = []\n",
    "    col_idx = []\n",
    "    row_pointer = []\n",
    "    pointer = 0\n",
    "    for i in range(len(A)):\n",
    "        row_pointer.append(pointer)\n",
    "        for j in range(len(A[0])):\n",
    "            if A[i][j]:\n",
    "                val.append(A[i][j])\n",
    "                col_idx.append(j)\n",
    "                pointer+=1\n",
    "    row_pointer.append(len(val))\n",
    "    return val, col_idx, row_pointer\n",
    "\n",
    "def sparse_matrix_vector_product(val, col_idx, row_ptr, x):\n",
    "    n = len(x)\n",
    "    b = []\n",
    "    for i in range(n):\n",
    "        b.append(0)\n",
    "        for j in range(row_ptr[i], row_ptr[i+1]):\n",
    "            b[i] = b[i] + val[j] * x[col_idx[j]]\n",
    "    \n",
    "    return np.array(b)\n"
   ]
  },
  {
   "cell_type": "markdown",
   "metadata": {},
   "source": [
    "## QR Factorization "
   ]
  },
  {
   "cell_type": "markdown",
   "metadata": {},
   "source": [
    "We will implement the Gram-Schimdt QR factorization seen in lecture. "
   ]
  },
  {
   "cell_type": "code",
   "execution_count": 9,
   "metadata": {
    "ExecuteTime": {
     "end_time": "2021-02-03T22:12:32.382921Z",
     "start_time": "2021-02-03T22:12:32.371366Z"
    }
   },
   "outputs": [],
   "source": [
    "# Input: (real quadratic) matrix A\n",
    "# Output: orthogonal matrix Q, upper triangular matrix R, such that A=QR\n",
    "\n",
    "\n",
    "def QR_factorization(A):\n",
    "    n = len(A)\n",
    "    R = np.zeros((n, n))\n",
    "    Q = np.zeros((n, n))\n",
    "    for j in range(n):\n",
    "        v = A[:,j]\n",
    "        for i in range(j):\n",
    "            R[i, j] = np.dot(Q[:, i], v) \n",
    "            v = v - R[i, j]*Q[:, i]\n",
    "        R[j, j] = np.linalg.norm(v)\n",
    "        Q[:, j] = v / R[j, j]\n",
    "    return Q, R\n"
   ]
  },
  {
   "cell_type": "markdown",
   "metadata": {},
   "source": [
    "## Direct Solver"
   ]
  },
  {
   "cell_type": "code",
   "execution_count": 10,
   "metadata": {
    "ExecuteTime": {
     "end_time": "2021-02-03T22:12:32.466482Z",
     "start_time": "2021-02-03T22:12:32.450309Z"
    }
   },
   "outputs": [],
   "source": [
    "# Input: (real, quadratic) matrix A, vector b\n",
    "# Output: vector x=A^-1b\n",
    "\n",
    "def backward_substitution(R, b):\n",
    "    n = len(b)\n",
    "    x = np.zeros(n)\n",
    "    x[n-1] = b[n-1]/R[n-1, n-1]\n",
    "    for i in range(n-2, -1, -1):\n",
    "        sum_ = 0 \n",
    "        for j in range(i+1, n):\n",
    "            sum_ = sum_ + R[i,j]*x[j]\n",
    "        x[i] = (b[i] - sum_) / R[i, i]\n",
    "    return x\n",
    "\n",
    "def direct_solver(A, b):\n",
    "    Q, R = QR_factorization(A)\n",
    "    b2 = np.dot(Q.T, b)\n",
    "    return backward_substitution(R, b2)    \n",
    "        \n"
   ]
  },
  {
   "cell_type": "markdown",
   "metadata": {
    "colab_type": "text",
    "id": "SsQLT38gVbn_"
   },
   "source": [
    "# **Results**"
   ]
  },
  {
   "cell_type": "markdown",
   "metadata": {},
   "source": [
    "## Tests: Sparse Matrix vector product "
   ]
  },
  {
   "cell_type": "code",
   "execution_count": 11,
   "metadata": {
    "ExecuteTime": {
     "end_time": "2021-02-03T22:14:54.434482Z",
     "start_time": "2021-02-03T22:12:32.876067Z"
    }
   },
   "outputs": [],
   "source": [
    "## SEE BELOW THIS CELL TO SEE GRAPHS, will take a while if you run this (several minutes)\n",
    "\n",
    "###\n",
    "#We will use this code from lab1 for testing\n",
    "\"\"\"\n",
    "@param x: vector represented by 1D-array\n",
    "@param A: matrix represented by 2D-array\n",
    "returns Ax\n",
    "\"\"\"\n",
    "def matrix_vector_product(x, A):\n",
    "    nbLinesA = len(A)\n",
    "    nbColA = len(A[0])\n",
    "    \n",
    "    result = []\n",
    "    for line in range(nbLinesA):\n",
    "        element_line_i = 0\n",
    "        for i in range(nbColA):\n",
    "            element_line_i += A[line][i]*x[i]\n",
    "        result.append(element_line_i)\n",
    "    \n",
    "    return result\n",
    "###\n",
    "\n",
    "\n",
    "number_of_tests_n = 20\n",
    "\n",
    "time_mean = []\n",
    "time_std = []\n",
    "time_sparse_mean = []\n",
    "time_sparse_std = []\n",
    "\n",
    "N = list(range(1, 31)) \n",
    "\n",
    "for n in N: # this will take a while (minutes), see results below\n",
    "    time_n = []\n",
    "    time_sparse_n = []\n",
    "\n",
    "    for _ in range(number_of_tests_n):\n",
    "        M = np.random.randint(n**2, size=(n, n)) # this creates a mtrix of size (n*n) with random elements in 0, ... n²\n",
    "        ## Removing n(n-1) elements so that there are n non null elements in the matrix\n",
    "        for i in np.random.choice(range(n**2), n*(n-1), replace=False):\n",
    "            j = i%n\n",
    "            i = i//n\n",
    "            M[i][j] = 0\n",
    "\n",
    "        x = np.random.randint(n, size=(n,)) # creating a random vector\n",
    "\n",
    "        val, col_idx, row_ptr = sparse_representation(M)\n",
    "\n",
    "        n_operations = 500 # we make a lot of operations so we can measure something since the operations are very fast\n",
    "\n",
    "        t1 = round(time.time() * 1000)\n",
    "        for _ in range(n_operations):\n",
    "            res1 = sparse_matrix_vector_product(val, col_idx, row_ptr, x)\n",
    "        delta = (round(time.time()*1000) - t1) / n_operations\n",
    "        time_sparse_n.append(delta) \n",
    "\n",
    "\n",
    "        t1 = round(time.time() * 1000)\n",
    "        for _ in range(n_operations):\n",
    "            res2 = np.array(matrix_vector_product(x, M))\n",
    "            #res2 = np.dot(M, x)\n",
    "        delta = (round(time.time()*1000) - t1) / n_operations\n",
    "        time_n.append(delta) \n",
    "\n",
    "\n",
    "        if not np.array_equal(res1, res2): # we can verify while we are here that both methods return the same results \n",
    "            print(\"----PROBLEM----\")\n",
    "            print(res1)\n",
    "            print(res2)\n",
    "\n",
    "    time_n = np.array(time_n)\n",
    "    time_sparse_n = np.array(time_sparse_n)\n",
    "    time_mean.append(time_n.mean())\n",
    "    time_std.append(time_n.std())\n",
    "    time_sparse_mean.append(time_sparse_n.mean())\n",
    "    time_sparse_std.append(time_sparse_n.std())\n",
    "    \n"
   ]
  },
  {
   "cell_type": "code",
   "execution_count": 12,
   "metadata": {
    "ExecuteTime": {
     "end_time": "2021-02-03T22:14:55.232492Z",
     "start_time": "2021-02-03T22:14:54.435483Z"
    }
   },
   "outputs": [
    {
     "data": {
      "text/plain": [
       "<matplotlib.legend.Legend at 0x22f7c2cea90>"
      ]
     },
     "execution_count": 12,
     "metadata": {},
     "output_type": "execute_result"
    },
    {
     "data": {
      "image/png": "[encoded data removed]",
      "text/plain": [
       "<Figure size 1080x432 with 2 Axes>"
      ]
     },
     "metadata": {
      "needs_background": "light"
     },
     "output_type": "display_data"
    }
   ],
   "source": [
    "fig=plt.figure(figsize=(15,6))\n",
    "fig.suptitle(\"Execution time of matrix (n*n) vector product depending on n\")\n",
    "\n",
    "plt.subplot(121)\n",
    "plt.plot(N, time_sparse_mean, label=\"sparse\")\n",
    "plt.plot(N, time_mean, label=\"dense\")\n",
    "plt.xlabel(\"n\")\n",
    "plt.ylabel(\"Execution time (ms)\")\n",
    "plt.ylim(0)\n",
    "plt.legend()\n",
    "\n",
    "plt.subplot(122)\n",
    "plt.plot(N, time_sparse_mean, label=\"sparse\")\n",
    "plt.xlabel(\"n\")\n",
    "plt.ylabel(\"Execution time (ms)\")\n",
    "plt.ylim(0)\n",
    "plt.legend()\n"
   ]
  },
  {
   "cell_type": "markdown",
   "metadata": {},
   "source": [
    "## Tests: QR Factorization"
   ]
  },
  {
   "cell_type": "code",
   "execution_count": 13,
   "metadata": {
    "ExecuteTime": {
     "end_time": "2021-02-03T22:14:58.024752Z",
     "start_time": "2021-02-03T22:14:55.238023Z"
    }
   },
   "outputs": [],
   "source": [
    "# Test: R upper triangular, Frobenius norms || Q^TQ-I ||_F, || QR-A ||_F\n",
    "\n",
    "# IF NOTHING IS PRINTED, EVERYTHING WORKS\n",
    "\n",
    "N_tests = 10000\n",
    "n = 5\n",
    "tolerance = 1e-10\n",
    "\n",
    "for _ in range(N_tests): \n",
    "    A = np.random.rand(n, n)\n",
    "    Q, R = QR_factorization(A)\n",
    "    \n",
    "    ## assert R is upper triangular\n",
    "    for i in range(n):\n",
    "        for j in range(i):\n",
    "            if R[i, j]>0:\n",
    "                print(f\"Non null term at position ({i},{j})\")\n",
    "    \n",
    "    ## Q is supposed to be orthogonal. That means that Q^-1 = Q^T\n",
    "    # This means that Q^T * Q = I \n",
    "    # Let's verify that || Q^T * Q - I ||_F = 0 \n",
    "    norm1 = np.linalg.norm(np.dot(Q.T, Q) - np.identity(n))\n",
    "    if norm1 > tolerance:\n",
    "        print(f\"QR doesn't seem to be orthogonal with tolerance {tolerance}\")\n",
    "    \n",
    "    ## assert that || QR-A ||_F is 0\n",
    "    norm2 = np.linalg.norm(np.dot(Q, R) - A)\n",
    "    if norm2 > tolerance:\n",
    "        print(f\"QR doesn't seem to be equal to A with tolerance {tolerance}\")\n",
    "\n"
   ]
  },
  {
   "cell_type": "markdown",
   "metadata": {},
   "source": [
    "## Tests: Direct Solver "
   ]
  },
  {
   "cell_type": "code",
   "execution_count": 14,
   "metadata": {
    "ExecuteTime": {
     "end_time": "2021-02-03T22:14:58.360567Z",
     "start_time": "2021-02-03T22:14:58.027799Z"
    }
   },
   "outputs": [
    {
     "name": "stdout",
     "output_type": "stream",
     "text": [
      "Expected x: \n",
      "[5 0 5]\n",
      "Found x:\n",
      "[ 5.00000000e+00 -6.95109563e-15  5.00000000e+00]\n",
      "Error: 2.3011364206183087e-14\n"
     ]
    }
   ],
   "source": [
    "# First of all, we are going to generate random matrices A and vectors b and solve the linear system Ax = b. \n",
    "# We are then going to check if np.dot(A, x) is indeed equal to b. \n",
    "\n",
    "# Test: residual || Ax-b ||, and || x-y || where y is a manufactured solution with b=Ay\n",
    "\n",
    "N_tests = 1000\n",
    "n = 5\n",
    "tolerance = 1e-10\n",
    "\n",
    "for _ in range(N_tests): \n",
    "    A = np.random.rand(n, n)\n",
    "    b = np.random.rand(n)\n",
    "    \n",
    "    x = direct_solver(A, b)\n",
    "    \n",
    "    # Let's verify that || Ax-b || = 0\n",
    "    norm1 = np.linalg.norm(np.dot(A,x) - b)\n",
    "    if norm1 > tolerance: \n",
    "        print(f\"Error (norm1) superior than {tolerance}\")\n",
    "        \n",
    "        \n",
    "A = np.array([\n",
    "    [1, 4, 6], \n",
    "    [2, 0, 5], \n",
    "    [0, 0, 1]\n",
    "])\n",
    "b = np.array([35, 35, 5])\n",
    "\n",
    "# We solve this system easily on paper: \n",
    "# x_3 = 5 \n",
    "# x_1 = 5 \n",
    "# x_2 = 0\n",
    "y = np.array([5, 0, 5])\n",
    "\n",
    "x = direct_solver(A, b)\n",
    "\n",
    "print(\"Expected x: \")\n",
    "print(y)\n",
    "print(\"Found x:\")\n",
    "print(x)\n",
    "print(f\"Error: {np.linalg.norm(y-x)}\")"
   ]
  },
  {
   "cell_type": "markdown",
   "metadata": {
    "colab_type": "text",
    "id": "_4GLBv0zWr7m"
   },
   "source": [
    "# **Discussion**, additional remarks"
   ]
  },
  {
   "cell_type": "markdown",
   "metadata": {},
   "source": [
    "## Sparse Matrix Vector multiplication "
   ]
  },
  {
   "cell_type": "markdown",
   "metadata": {},
   "source": [
    "As we can see on the graphs, the sparse multiplication performs extremely well and way better than the naive implementation of lab1. It is interesting to note that the function np.dot of numpy gave even better results than our sparse matrix multiplication function meaning that np.dot has even more optimisations. We also observe that it looks like the sparse matrix multiplication is in $O(n)$. This is expected since the algorithm consists of 2 nested loops with one iterating n times and one that should iterate with an average of 1 (a sparse matrix has $O(n)$ non null elements)."
   ]
  },
  {
   "cell_type": "markdown",
   "metadata": {},
   "source": [
    "## QR factorization "
   ]
  },
  {
   "cell_type": "markdown",
   "metadata": {},
   "source": [
    "The QR factorization seems to work. Over 10 000 tests have been made and R is strictly diagonal. However we had to have a tolerance on the orthogonality of Q and on the A = QR equality. This is due to finite precision computation mistakes. "
   ]
  },
  {
   "cell_type": "markdown",
   "metadata": {},
   "source": [
    "## Direct Solver "
   ]
  },
  {
   "cell_type": "markdown",
   "metadata": {},
   "source": [
    "The direct solver took advantage of what we did before with the QR factorization. Since there were some errors with the QR factorization, we also had to set a tolerance. "
   ]
  }
 ],
 "metadata": {
  "colab": {
   "include_colab_link": true,
   "name": "template-report-lab-X.ipynb",
   "provenance": []
  },
  "kernelspec": {
   "display_name": "Python 3",
   "language": "python",
   "name": "python3"
  },
  "language_info": {
   "codemirror_mode": {
    "name": "ipython",
    "version": 3
   },
   "file_extension": ".py",
   "mimetype": "text/x-python",
   "name": "python",
   "nbconvert_exporter": "python",
   "pygments_lexer": "ipython3",
   "version": "3.8.7"
  },
  "toc": {
   "base_numbering": 1,
   "nav_menu": {},
   "number_sections": true,
   "sideBar": true,
   "skip_h1_title": false,
   "title_cell": "Table of Contents",
   "title_sidebar": "Contents",
   "toc_cell": false,
   "toc_position": {},
   "toc_section_display": true,
   "toc_window_display": false
  }
 },
 "nbformat": 4,
 "nbformat_minor": 1
}

{
  "nbformat": 4,
  "nbformat_minor": 0,
  "metadata": {
    "colab": {
      "name": "Diracturing_lab2.ipynb",
      "provenance": [],
      "collapsed_sections": [
        "OkT8J7uOWpT3"
      ],
      "include_colab_link": true
    },
    "kernelspec": {
      "name": "python3",
      "display_name": "Python 3"
    }
  },
  "cells": [
    {
      "cell_type": "markdown",
      "metadata": {
        "id": "view-in-github",
        "colab_type": "text"
      },
      "source": [
        "<a href=\"https://colab.research.google.com/github/johanhoffman/DD2363_VT21/blob/Diracturing/Lab_2/Diracturing_lab2.ipynb\" target=\"_parent\"><img src=\"https://colab.research.google.com/assets/colab-badge.svg\" alt=\"Open In Colab\"/></a>"
      ]
    },
    {
      "cell_type": "markdown",
      "metadata": {
        "id": "6RgtXlfYO_i7"
      },
      "source": [
        "# **Lab 2: **\n",
        "**Julius Andersson**"
      ]
    },
    {
      "cell_type": "markdown",
      "metadata": {
        "id": "9x_J5FVuPzbm"
      },
      "source": [
        "# **Abstract**"
      ]
    },
    {
      "cell_type": "markdown",
      "metadata": {
        "id": "OkT8J7uOWpT3"
      },
      "source": [
        "#**About the code**"
      ]
    },
    {
      "cell_type": "markdown",
      "metadata": {
        "id": "HmB2noTr1Oyo"
      },
      "source": [
        "A short statement on who is the author of the file, and if the code is distributed under a certain license. "
      ]
    },
    {
      "cell_type": "code",
      "metadata": {
        "id": "Pdll1Xc9WP0e",
        "colab": {
          "base_uri": "https://localhost:8080/",
          "height": 0
        },
        "outputId": "ef2dee9b-a0d7-4f94-cae9-5a7f152fe005"
      },
      "source": [
        "\"\"\"This program is a template for lab reports in the course\"\"\"\n",
        "\"\"\"DD2363 Methods in Scientific Computing, \"\"\"\n",
        "\"\"\"KTH Royal Institute of Technology, Stockholm, Sweden.\"\"\"\n",
        "\n",
        "# Copyright (C) 2020 Johan Hoffman (jhoffman@kth.se)\n",
        "\n",
        "# This file is part of the course DD2365 Advanced Computation in Fluid Mechanics\n",
        "# KTH Royal Institute of Technology, Stockholm, Sweden\n",
        "#\n",
        "# This is free software: you can redistribute it and/or modify\n",
        "# it under the terms of the GNU Lesser General Public License as published by\n",
        "# the Free Software Foundation, either version 3 of the License, or\n",
        "# (at your option) any later version.\n",
        "\n",
        "# This template is maintained by Johan Hoffman\n",
        "# Please report problems to jhoffman@kth.se"
      ],
      "execution_count": 15,
      "outputs": [
        {
          "output_type": "execute_result",
          "data": {
            "application/vnd.google.colaboratory.intrinsic+json": {
              "type": "string"
            },
            "text/plain": [
              "'KTH Royal Institute of Technology, Stockholm, Sweden.'"
            ]
          },
          "metadata": {
            "tags": []
          },
          "execution_count": 15
        }
      ]
    },
    {
      "cell_type": "markdown",
      "metadata": {
        "id": "28xLGz8JX3Hh"
      },
      "source": [
        "# **Set up environment**"
      ]
    },
    {
      "cell_type": "markdown",
      "metadata": {
        "id": "D2PYNusD08Wa"
      },
      "source": [
        "To have access to the neccessary modules you have to run this cell. If you need additional modules, this is where you add them. "
      ]
    },
    {
      "cell_type": "code",
      "metadata": {
        "id": "Xw7VlErAX7NS"
      },
      "source": [
        "# Load neccessary modules.\n",
        "from google.colab import files\n",
        "\n",
        "import time\n",
        "import numpy as np\n",
        "\n",
        "#try:\n",
        "#    from dolfin import *; from mshr import *\n",
        "#except ImportError as e:\n",
        "#    !apt-get install -y -qq software-properties-common \n",
        "#    !add-apt-repository -y ppa:fenics-packages/fenics\n",
        "#    !apt-get update -qq\n",
        "#    !apt install -y --no-install-recommends fenics\n",
        "#    from dolfin import *; from mshr import *\n",
        "    \n",
        "#import dolfin.common.plotting as fenicsplot\n",
        "\n",
        "from matplotlib import pyplot as plt\n",
        "from matplotlib import tri\n",
        "from matplotlib import axes\n",
        "from mpl_toolkits.mplot3d import Axes3D"
      ],
      "execution_count": 16,
      "outputs": []
    },
    {
      "cell_type": "markdown",
      "metadata": {
        "id": "gnO3lhAigLev"
      },
      "source": [
        "# **Introduction**\r\n",
        "Not much to say"
      ]
    },
    {
      "cell_type": "markdown",
      "metadata": {
        "id": "jOQvukXZq5U5"
      },
      "source": [
        "# **Method**"
      ]
    },
    {
      "cell_type": "markdown",
      "metadata": {
        "id": "uv4b9tHVJqEj"
      },
      "source": [
        "1) Sparse matrix-vector product. It follows algorithm 5.9 presented in the lecture notes."
      ]
    },
    {
      "cell_type": "code",
      "metadata": {
        "id": "jbQPA_3amIo6"
      },
      "source": [
        "def Sparse_Ax(A,x):\r\n",
        "  b=[]\r\n",
        "  for i in range(len(x)):\r\n",
        "    tmp=0\r\n",
        "    for j in range(A.row_ptr[i],A.row_ptr[i+1]):\r\n",
        "      tmp+=A.val[j]*x[A.col_idx[j]]\r\n",
        "    b.append(tmp)\r\n",
        "  return b\r\n",
        "\r\n",
        "class A:\r\n",
        "  def __init__(self,A, x):\r\n",
        "    self.A = A\r\n",
        "    self.x = x\r\n",
        "    self.val=[]\r\n",
        "    self.col_idx=[]\r\n",
        "    self.row_ptr=[]\r\n",
        "\r\n",
        "  def init(self):\r\n",
        "    next=0\r\n",
        "    print=True\r\n",
        "    for i in range(len(self.A)):\r\n",
        "      for j in range(len(self.A[0])):\r\n",
        "        if(self.A[i][j]!=0):\r\n",
        "          if(print):\r\n",
        "            self.row_ptr.append(next)\r\n",
        "            print=False\r\n",
        "          next+=1\r\n",
        "          self.val.append(self.A[i][j])\r\n",
        "          self.col_idx.append(j)\r\n",
        "        if(j==len(self.A[0])-1 and print==True):  ###\r\n",
        "          self.row_ptr.append(self.row_ptr[-1])\r\n",
        "      print=True\r\n",
        "    self.row_ptr.append(len(self.val))\r\n",
        "      \r\n",
        "\r\n",
        "######Test##########\r\n",
        "Arr=[[1,0,0],[0,1,0],[0,0,1]]\r\n",
        "x=[23,35,40]\r\n",
        "\r\n",
        "Arr2=[[3,2,0,2,0,0],[0,2,1,0,0,0],[0,0,1,0,0,0],[0,0,3,2,0,0],[0,0,0,0,1,0],[0,0,0,0,2,3]]\r\n",
        "x2=[2,3,2,3,2,3]\r\n",
        "\r\n",
        "tmp=A(Arr,x)\r\n",
        "tmp2=A(Arr2,x2)\r\n",
        "tmp.init()\r\n",
        "tmp2.init()\r\n",
        "\r\n",
        "if(not (Sparse_Ax(tmp,tmp.x)==np.matmul(Arr,x)).all()):\r\n",
        "    print(\"err\")\r\n",
        "\r\n",
        "if(not (Sparse_Ax(tmp2,tmp2.x)==np.matmul(Arr2,x2)).all()):\r\n",
        "    print(\"err\")\r\n"
      ],
      "execution_count": 90,
      "outputs": []
    },
    {
      "cell_type": "markdown",
      "metadata": {
        "id": "-10ojx4oJuWZ"
      },
      "source": [
        "2) QR factorization. It is the modified gram schmidt algorithm from algorithm 5.3 in the lectures notes. "
      ]
    },
    {
      "cell_type": "code",
      "metadata": {
        "colab": {
          "base_uri": "https://localhost:8080/"
        },
        "id": "mTX0g700Jx-6",
        "outputId": "b2b28dd9-a250-4f0b-fcb4-424cf99cfaa1"
      },
      "source": [
        "def QR(A):\r\n",
        "  Q=np.zeros(A.shape)\r\n",
        "  R=np.zeros(A.shape)\r\n",
        "\r\n",
        "  for j in range(A.shape[0]):\r\n",
        "    v=A[:,j]\r\n",
        "    for i in range(j):\r\n",
        "      R[i,j]=np.dot(Q[:,i], v)\r\n",
        "      v=v-R[i,j]*Q[:,i]\r\n",
        "    R[j,j]=np.dot(v,v)**(1/2)\r\n",
        "    Q[:,j]=v/R[j,j]         #\r\n",
        "  return Q,R\r\n",
        "\r\n",
        "\r\n",
        "\r\n",
        "\r\n",
        "#####Test########\r\n",
        "A=np.array([[2,-1,5],[-1,2,4],[10,3,5]])\r\n",
        "A2=np.array([[2,-1],[-1,2]])\r\n",
        "\r\n",
        "Q,R=QR(A)\r\n",
        "print(np.allclose(R, np.triu(R))) # check if upper triangular\r\n",
        "print(np.linalg.norm(np.matmul(np.transpose(Q),Q)-np.identity(Q.shape[0])))      ## linalg.norm uses frebenius norm\r\n",
        "print(np.linalg.norm(np.matmul(Q,R)-A))\r\n",
        "\r\n",
        "\r\n",
        "Q,R=QR(A2)\r\n",
        "print(np.allclose(R, np.triu(R))) # check if upper triangular\r\n",
        "print(np.linalg.norm(np.matmul(np.transpose(Q),Q)-np.identity(Q.shape[0])))\r\n",
        "print(np.linalg.norm(np.matmul(Q,R)-A2))\r\n",
        "\r\n",
        "\r\n",
        "\r\n"
      ],
      "execution_count": 94,
      "outputs": [
        {
          "output_type": "stream",
          "text": [
            "True\n",
            "1.890129964886933e-16\n",
            "4.965068306494546e-16\n",
            "True\n",
            "2.6901577681355055e-16\n",
            "0.0\n"
          ],
          "name": "stdout"
        }
      ]
    },
    {
      "cell_type": "markdown",
      "metadata": {
        "id": "cDFaZuRpG8bD"
      },
      "source": [
        "3) Direct solver Ax=b. From 2) we know how to solve $A=QR$. To solve $Ax=b$ we can rewrite it as $QRx=b$. $Rx=Q^{-1}b=b'$. We can solve $Rx=b'$ with backward substitution as presented in algorithm 5.2."
      ]
    },
    {
      "cell_type": "code",
      "metadata": {
        "colab": {
          "base_uri": "https://localhost:8080/"
        },
        "id": "ljSx9CjFG9uT",
        "outputId": "5a733e05-db54-4d6e-fe41-7bce90b47cb5"
      },
      "source": [
        "def backward(U,b):\r\n",
        "  x=np.zeros(len(b))\r\n",
        "  n=len(b)\r\n",
        "  x[n-1]=b[n-1]/U[n-1,n-1]\r\n",
        "  for i in reversed(range(n-1)):\r\n",
        "    sum=0\r\n",
        "    for j in range(i+1,n):\r\n",
        "      sum+=U[i,j]*x[j]\r\n",
        "    x[i]=(b[i]-sum)/U[i,i]\r\n",
        "  return x\r\n",
        "\r\n",
        "def directSolver(A,b):\r\n",
        "  Q,R=QR(A)\r\n",
        "  bprime=np.matmul(np.transpose(Q),b)\r\n",
        "  return backward(R,bprime)\r\n",
        "\r\n",
        "\r\n",
        "#####TEST##########\r\n",
        "\r\n",
        "A=np.array([[2,3],[1,3]])\r\n",
        "b=np.array([5,4])\r\n",
        "x=directSolver(A,b)\r\n",
        "\r\n",
        "print(np.dot(np.matmul(A,x)-b,np.matmul(A,x)-b)**(1/2))\r\n",
        "y=directSolver(A,b)\r\n",
        "print(np.dot(x-y,x-y))\r\n",
        "\r\n",
        "A=np.array([[2,3,5],[1,3,6],[3,6,1]])\r\n",
        "b=np.array([5,4,9])\r\n",
        "x=directSolver(A,b)\r\n",
        "\r\n",
        "print(np.dot(np.matmul(A,x)-b,np.matmul(A,x)-b)**(1/2))\r\n",
        "y=directSolver(A,b)\r\n",
        "print(np.dot(x-y,x-y))\r\n"
      ],
      "execution_count": 96,
      "outputs": [
        {
          "output_type": "stream",
          "text": [
            "1.9860273225978185e-15\n",
            "0.0\n",
            "8.103867617357112e-15\n",
            "0.0\n"
          ],
          "name": "stdout"
        }
      ]
    },
    {
      "cell_type": "markdown",
      "metadata": {
        "id": "SsQLT38gVbn_"
      },
      "source": [
        "# **Results**"
      ]
    },
    {
      "cell_type": "markdown",
      "metadata": {
        "id": "_4GLBv0zWr7m"
      },
      "source": [
        "# **Discussion**"
      ]
    },
    {
      "cell_type": "markdown",
      "metadata": {
        "id": "1vcIILuQYsEA"
      },
      "source": [
        "# **APPENDIX**"
      ]
    }
  ]
}
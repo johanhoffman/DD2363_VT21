{
  "nbformat": 4,
  "nbformat_minor": 0,
  "metadata": {
    "colab": {
      "name": "joakieri_lab2.ipynb",
      "provenance": [],
      "collapsed_sections": []
    },
    "kernelspec": {
      "name": "python3",
      "display_name": "Python 3"
    }
  },
  "cells": [
    {
      "cell_type": "markdown",
      "metadata": {
        "id": "view-in-github"
      },
      "source": [
        "<a href=\"https://colab.research.google.com/github/johanhoffman/DD2363-VT20/blob/master/template-report-lab-X.ipynb\" target=\"_parent\"><img src=\"https://colab.research.google.com/assets/colab-badge.svg\" alt=\"Open In Colab\"/></a>"
      ]
    },
    {
      "cell_type": "markdown",
      "metadata": {
        "id": "6RgtXlfYO_i7"
      },
      "source": [
        "# **Lab 2: Matrix Factorization**\n",
        "**Joakim Eriksson**"
      ]
    },
    {
      "cell_type": "markdown",
      "metadata": {
        "id": "9x_J5FVuPzbm"
      },
      "source": [
        "# **Abstract**"
      ]
    },
    {
      "cell_type": "markdown",
      "metadata": {
        "id": "yJipbXtnjrJZ"
      },
      "source": [
        "The objective of this lab was to implement a sparce matrix-vector product, a QR factorization funtion and a direct solver of a matrix vector equation solver.\r\n",
        "The algorithms used was taken from the lecture notes,\r\n",
        "and when implemented gave small errros in the tests.\r\n",
        "This could probably have been solve by using other algorithms."
      ]
    },
    {
      "cell_type": "markdown",
      "metadata": {
        "id": "OkT8J7uOWpT3"
      },
      "source": [
        "#**About the code**"
      ]
    },
    {
      "cell_type": "code",
      "metadata": {
        "id": "Pdll1Xc9WP0e"
      },
      "source": [
        "# Copyright (C) 2021 Joakim Eriksson (joakieri@kth.se)\n",
        "\n",
        "# This file is part of the course DD2363 Methods in Scientific Computing\n",
        "# KTH Royal Institute of Technology, Stockholm, Sweden\n",
        "#\n",
        "# This is free software: you can redistribute it and/or modify\n",
        "# it under the terms of the GNU Lesser General Public License as published by\n",
        "# the Free Software Foundation, either version 3 of the License, or\n",
        "# (at your option) any later version."
      ],
      "execution_count": null,
      "outputs": []
    },
    {
      "cell_type": "markdown",
      "metadata": {
        "id": "28xLGz8JX3Hh"
      },
      "source": [
        "# **Set up environment**"
      ]
    },
    {
      "cell_type": "code",
      "metadata": {
        "id": "Xw7VlErAX7NS"
      },
      "source": [
        "# Load neccessary modules.\n",
        "from google.colab import files\n",
        "\n",
        "import math\n",
        "import numpy as np"
      ],
      "execution_count": null,
      "outputs": []
    },
    {
      "cell_type": "markdown",
      "metadata": {
        "id": "gnO3lhAigLev"
      },
      "source": [
        "# **Introduction**"
      ]
    },
    {
      "cell_type": "markdown",
      "metadata": {
        "id": "_5R0YIswYUCB"
      },
      "source": [
        "This report tries to solve the problem of implementing functions for computing \r\n",
        "sparce matrix product, QR factorisation of a matrix and a solver function for the equation type $Ax = b$, where $A$ is a matrix and $x$ and $b$ are vectors.\r\n",
        "The algorithms used when solving the problems where taken from the lecture notes, and was choosen based on how well I undestood them.\r\n",
        "\r\n",
        "All the matrices used in the tests of the functions were real and quadratic and the compressed row storage(CRS) format was used to represent a sparce matrix. "
      ]
    },
    {
      "cell_type": "markdown",
      "metadata": {
        "id": "jOQvukXZq5U5"
      },
      "source": [
        "# **Method**"
      ]
    },
    {
      "cell_type": "markdown",
      "metadata": {
        "id": "cK9HxmVqyDnw"
      },
      "source": [
        "I wrote a class to represent CRS matrix,\r\n",
        "to easily build a matrix from a list.\r\n",
        "The defenitions of the algorithms were taken from the lecture notes and adjusted where nessesary to work in python.\r\n",
        "\r\n",
        "To implement the first function I used algorithm 5.9, sparce_matrix_vector_product, from the lecture notes.\r\n",
        "Its implementation in Python was straight forward using the MatrixCRS class,\r\n",
        "and not much had to change from the definition in order to get it to work.\r\n",
        "\r\n",
        "To implement the second function I used algorithm 5.3,\r\n",
        "modified_gram_schmidt_iteration, from the lecture notes.\r\n",
        "This algorithm tooksome time to implement.\r\n",
        "There where a lot of operations in this algorithm that I had to implement\r\n",
        "because I used regular Python lists instead of Numpy arrays.\r\n",
        "\r\n",
        "To implement the third function I used algorithm 5.2, backward_substitution, from the lecture notes, togeather with my implementation of a QR factorisation algorithm\r\n",
        "in order to create a solver function.\r\n",
        "The algorithm uses the fact that a matrix can be factorized into a Q and R matrix, where Q is an orthogonal matrix and R is an upper triangular matrix.\r\n",
        "This gives you the equation $Ax = b \\Leftrightarrow Rx = Q^Tb$.\r\n",
        "This lets you solve the equation using backwards sustitution.\r\n"
      ]
    },
    {
      "cell_type": "code",
      "metadata": {
        "id": "X06NDJ9taa-m"
      },
      "source": [
        "# 1. Function: sparse matrix-vector product\r\n",
        "def matrix(r, c, l):\r\n",
        "    m = [[0]*c for _ in range(r)]\r\n",
        "    for i in range(r):\r\n",
        "        for j in range(c):\r\n",
        "            m[i][j] = l[i*c + j]\r\n",
        "    return m\r\n",
        "\r\n",
        "class MatrixCRS:\r\n",
        "    def __init__(self, r, c, l):\r\n",
        "        self.val = []\r\n",
        "        self.col_idx = []\r\n",
        "        self.row_ptr = []\r\n",
        "        index = 0\r\n",
        "        for i in range(r):\r\n",
        "            for j in range(c):\r\n",
        "                v = l[j + c*i]\r\n",
        "                if v != 0:\r\n",
        "                    if index == i:\r\n",
        "                        self.row_ptr.append(len(self.val))\r\n",
        "                        index += 1\r\n",
        "                    self.val.append(v)\r\n",
        "                    self.col_idx.append(j)\r\n",
        "            if index == i:\r\n",
        "                self.row_ptr.append(len(self.val))\r\n",
        "        self.row_ptr.append(len(self.val))\r\n",
        "\r\n",
        "    def __str__(self):\r\n",
        "        return \"val: {}\\ncol_idx: {}\\nrow_ptr: {}\".format(self.val, self.col_idx, self.row_ptr)\r\n",
        "\r\n",
        "def sparce_matrix_vector_product(A, x):\r\n",
        "    b = []\r\n",
        "    for i in range(len(A.row_ptr) - 1):\r\n",
        "        b.append(0)\r\n",
        "        for j in range(A.row_ptr[i], A.row_ptr[i+1]):\r\n",
        "            b[i] += A.val[j] * x[A.col_idx[j]]\r\n",
        "    return b\r\n",
        "\r\n",
        "\r\n",
        "# 2. Function: QR factorization\r\n",
        "def column(A, j):\r\n",
        "    v = []\r\n",
        "    for a in A:\r\n",
        "        v.append(a[j])\r\n",
        "    return v\r\n",
        "\r\n",
        "def scalar_product(x, y):\r\n",
        "    s = 0\r\n",
        "    for i in range(len(x)):\r\n",
        "        s += x[i] * y[i]\r\n",
        "    return s\r\n",
        "\r\n",
        "def norm(v):\r\n",
        "    sum = 0\r\n",
        "    for s in v:\r\n",
        "        sum += s * s\r\n",
        "    return math.sqrt(sum)\r\n",
        "\r\n",
        "def vector_vector_sub(u, v):\r\n",
        "    w = [0] * len(u)\r\n",
        "    for i in range(len(u)):\r\n",
        "        w[i] = u[i] - v[i]\r\n",
        "    return w\r\n",
        "\r\n",
        "def scalar_vector_product(s, v):\r\n",
        "    u = [0] * len(v)\r\n",
        "    for i in range(len(v)):\r\n",
        "        u[i] = s * v[i]\r\n",
        "    return u\r\n",
        "\r\n",
        "def qr_factorization(A):\r\n",
        "    R = [[0] * len(A[0]) for _ in A]\r\n",
        "    Q = [[0] * len(A[0]) for _ in A]\r\n",
        "    for j in range(len(A)):\r\n",
        "        v = column(A,j)\r\n",
        "        for i in range(j):\r\n",
        "            R[i][j] = scalar_product(column(Q, i), v)\r\n",
        "            v = vector_vector_sub(v, scalar_vector_product(R[i][j], column(Q, i)))\r\n",
        "\r\n",
        "        R[j][j] = norm(v)\r\n",
        "        v = [x / R[j][j] for x in v]\r\n",
        "\r\n",
        "        for i in range(len(Q)):\r\n",
        "            Q[i][j] = v[i]\r\n",
        "\r\n",
        "    return (Q, R)\r\n",
        "\r\n",
        "# 3. Function: direct solver Ax=b\r\n",
        "\r\n",
        "def transpose(A):\r\n",
        "    B = [[0]*len(A) for _ in A[0]]\r\n",
        "    for i in range(len(A)):\r\n",
        "        for j in range(len(A[0])):\r\n",
        "            B[j][i] = A[i][j]\r\n",
        "    return B\r\n",
        "\r\n",
        "def matrix_vector_product(A, x):\r\n",
        "    b = [0] * len(A)\r\n",
        "    for i in range(len(A)):\r\n",
        "        b[i] = scalar_product(A[i], x)\r\n",
        "    return b\r\n",
        "\r\n",
        "def backwards_substitution(U, b):\r\n",
        "    n = len(U)\r\n",
        "    x = [0] * n\r\n",
        "    x[n-1] = b[n-1] / U[n-1][n-1]\r\n",
        "    for i in range(n-2, -1, -1):\r\n",
        "        sum = 0\r\n",
        "        for j in range(i+1, n):\r\n",
        "            sum += U[i][j] * x[j]\r\n",
        "        x[i] = (b[i] - sum) / U[i][i]\r\n",
        "    return x\r\n",
        "\r\n",
        "def direct_solver(A, b):\r\n",
        "    qr = qr_factorization(A)\r\n",
        "    return backwards_substitution(qr[1], matrix_vector_product(transpose(qr[0]), b))\r\n",
        "\r\n",
        "# Test 1\r\n",
        "l = [3,2,0,2,0,0,0,2,1,0,0,0,0,0,1,0,0,0,0,0,3,2,0,0,0,0,0,0,1,0,0,0,0,0,2,3]\r\n",
        "x = [1,2,3,4,5,6]\r\n",
        "M = MatrixCRS(6, 6, l)\r\n",
        "N = np.array(matrix(6, 6, l))\r\n",
        "\r\n",
        "R1 = np.array(sparce_matrix_vector_product(M, x))\r\n",
        "R2 = N.dot(x)\r\n",
        "assert((R1 == R2).all())\r\n",
        "\r\n",
        "#Test 2\r\n",
        "l = [1,1,0,1,0,1,0,1,1]\r\n",
        "A = np.array(matrix(3, 3, l))\r\n",
        "I = np.identity(3)\r\n",
        "qr = qr_factorization(A.tolist())\r\n",
        "Q = np.array(qr[0])\r\n",
        "R = np.array(qr[1])\r\n",
        "\r\n",
        "assert(np.allclose(R, np.triu(R)))\r\n",
        "#print(np.linalg.norm(np.matmul(Q.T, Q) - np.identity(3), 'fro'))\r\n",
        "assert(np.linalg.norm(np.matmul(Q.T, Q) - np.identity(3), 'fro') == 0)\r\n",
        "#print(np.linalg.norm(np.matmul(Q ,R) - np.array(A)))\r\n",
        "assert(np.linalg.norm(np.matmul(Q ,R) - np.array(A)) == 0)\r\n",
        "\r\n",
        "#Test 3\r\n",
        "y = np.array([1,2,3])\r\n",
        "b = A.dot(y)\r\n",
        "x = np.array(direct_solver(A.tolist(), b.tolist()))\r\n",
        "\r\n",
        "#print(np.linalg.norm(np.matmul(A, x) - b))\r\n",
        "assert(np.linalg.norm(np.matmul(A, x) - b) == 0)\r\n",
        "#print(np.linalg.norm(x - y))\r\n",
        "assert(np.linalg.norm(x - y) == 0)"
      ],
      "execution_count": null,
      "outputs": []
    },
    {
      "cell_type": "markdown",
      "metadata": {
        "id": "SsQLT38gVbn_"
      },
      "source": [
        "# **Results**"
      ]
    },
    {
      "cell_type": "markdown",
      "metadata": {
        "id": "G71SRGh32BiO"
      },
      "source": [
        "The code passes the first test, but the other two fails.\r\n",
        "In the second test case, the algorithm manages to factorize the input matrix into an orthogonal matrix and upper triangular matrix.\r\n",
        "\r\n",
        "The erros from the second and thrid tests were:\r\n",
        "$$||Q^TQ-I||_F = 4.0542616684110986 \\times 10^{-16},$$\r\n",
        "$$||QR-A||_F = 1.6208456643253248 \\times 10^{-16},$$\r\n",
        "$$||Ax-b||_F = 1.2560739669470201 \\times 10^{-15},$$\r\n",
        "$$||x-y||_F = 1.1801832636420706 \\times 10^{-15}.$$"
      ]
    },
    {
      "cell_type": "markdown",
      "metadata": {
        "id": "_4GLBv0zWr7m"
      },
      "source": [
        "# **Discussion**"
      ]
    },
    {
      "cell_type": "markdown",
      "metadata": {
        "id": "s6wxE_Hv4MnF"
      },
      "source": [
        "The results were not surprising.\r\n",
        "Using an other, more accurate, algorithm for the second function might have given a better result.\r\n",
        "Since the thrid algorithm relies on the second one it is not a surprice that it also fails.\r\n",
        "The implication of this error is that it will probably become larger when larger matrices and vectors are used, as the matrices and vectors used in the test case is quite small.\r\n",
        "\r\n",
        "Looking at the number of function used to implement the second algorithm, I will concider using Numpy to represent vectors and matrices instead of list, as these implementation already have the basic operations for vectors and matrices implemented and are easier to use.\r\n"
      ]
    }
  ]
}
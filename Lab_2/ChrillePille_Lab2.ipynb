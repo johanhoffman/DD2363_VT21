{
  "nbformat": 4,
  "nbformat_minor": 0,
  "metadata": {
    "colab": {
      "name": "ChrillePille_Lab2.ipynb",
      "provenance": [],
      "collapsed_sections": [
        "OP-tO3_Nh_Th",
        "vcsCWlNjrdF8",
        "BeigRko00fZo"
      ],
      "include_colab_link": true
    },
    "kernelspec": {
      "name": "python3",
      "display_name": "Python 3"
    }
  },
  "cells": [
    {
      "cell_type": "markdown",
      "metadata": {
        "id": "view-in-github",
        "colab_type": "text"
      },
      "source": [
        "<a href=\"https://colab.research.google.com/github/johanhoffman/DD2363_VT21/blob/ChrillePille/Lab_2/ChrillePille_Lab2.ipynb\" target=\"_parent\"><img src=\"https://colab.research.google.com/assets/colab-badge.svg\" alt=\"Open In Colab\"/></a>"
      ]
    },
    {
      "cell_type": "markdown",
      "metadata": {
        "id": "6RgtXlfYO_i7"
      },
      "source": [
        "# **Lab 2: Matrix factorization**\n",
        "**Christian Weigelt**"
      ]
    },
    {
      "cell_type": "markdown",
      "metadata": {
        "id": "9x_J5FVuPzbm"
      },
      "source": [
        "# **Abstract**"
      ]
    },
    {
      "cell_type": "markdown",
      "metadata": {
        "id": "6UFTSzW7P8kL"
      },
      "source": [
        "This lab consisted of the implementation of a selection of linear algebra functions, one simple method, but with more memory efficient input than before, as well as some functions related to matrix factorization and the direct solving of linear equation systems. Test code is written to verify the correctness of performance of output. In the introduction section, the functions are given a brief description, both of input/output, and what is to be tested. In the method section, short definitions of the functions are given, and their respective implementation and test function is presented.\n",
        "In the results section, the output of the test cases is presented."
      ]
    },
    {
      "cell_type": "markdown",
      "metadata": {
        "id": "28xLGz8JX3Hh"
      },
      "source": [
        "# **Set up environment**"
      ]
    },
    {
      "cell_type": "code",
      "metadata": {
        "id": "Xw7VlErAX7NS"
      },
      "source": [
        "import numpy as np\n",
        "import math"
      ],
      "execution_count": 1,
      "outputs": []
    },
    {
      "cell_type": "markdown",
      "metadata": {
        "id": "gnO3lhAigLev"
      },
      "source": [
        "# **Introduction**"
      ]
    },
    {
      "cell_type": "markdown",
      "metadata": {
        "id": "l5zMzgPlRAF6"
      },
      "source": [
        "In this lab, the assignment was to implement 4 functions, with input and output as defined in the lab instructions, as well as write code tests to test output.\n",
        "  \n",
        "1. Function: sparse matrix-vector product\n",
        "\n",
        "  Input: vector x, sparse (real, quadratic) matrix A: CRS arrays val, col_idx, row_ptr</br>\n",
        "  Output: matrix-vector product b=Ax\n",
        "  \n",
        "  Test: verify accuracy against dense matrix-vector product. \n",
        "</br>\n",
        "2. Function: QR factorization\n",
        "\n",
        "  Input: (real quadratic) matrix A</br>\n",
        "  Output: orthogonal matrix Q, upper triangular matrix R, such that A=QR\n",
        "  \n",
        "  Test: R upper triangular, Frobenius norms || Q^TQ-I ||_F, || QR-A ||_F\n",
        "</br>\n",
        "3. Function: direct solver Ax=b\n",
        "\n",
        "  Input: (real, quadratic) matrix A, vector b</br>\n",
        "  Output: vector x=A^-1b\n",
        "  \n",
        "  Test: residual || Ax-b ||, and || x-y || where y is a manufactured solution with b=Ay\n",
        "</br>\n",
        "4. Function: least squares problem Ax=b\n",
        "\n",
        "  Input: rectangular matrix A, vector b</br>\n",
        "  Output: vector x \n",
        "\n",
        "  Test: residual || Ax-b ||\n",
        "  </br>"
      ]
    },
    {
      "cell_type": "markdown",
      "metadata": {
        "id": "jOQvukXZq5U5"
      },
      "source": [
        "# **Method**"
      ]
    },
    {
      "cell_type": "markdown",
      "metadata": {
        "id": "zF4iBj5VURZx"
      },
      "source": [
        "Here the code for the assignment is provided."
      ]
    },
    {
      "cell_type": "markdown",
      "metadata": {
        "id": "OP-tO3_Nh_Th"
      },
      "source": [
        "###Sparse matrix-vector product\r\n",
        "Function 1 is 'sparse matrix-vector product'\r\n",
        "\r\n",
        "Given a vector $x$ and a sparse, real, quadratic matrix $A$ represented by CRS arrays val, col_idx, and row_ptr, this function returns $b = Ax$. It is also assumed that correct input is provided to the function."
      ]
    },
    {
      "cell_type": "code",
      "metadata": {
        "id": "raTJGSSTj0Cm"
      },
      "source": [
        "def sparse_matrix_vector_product(x, val, col_idx, row_ptr):\r\n",
        "\r\n",
        "  b = np.zeros(x.shape[0])\r\n",
        "  for i in range(x.shape[0]):\r\n",
        "    for j in range(row_ptr[i], row_ptr[i+1], 1): # index by zero in row_ptr and col_idx\r\n",
        "      b[i] += val[j]*x[col_idx[j]]\r\n",
        "  return b"
      ],
      "execution_count": 24,
      "outputs": []
    },
    {
      "cell_type": "markdown",
      "metadata": {
        "id": "IW0fzTuhp_6d"
      },
      "source": [
        "To test the above code, we can run the following test function:"
      ]
    },
    {
      "cell_type": "code",
      "metadata": {
        "id": "_rkFEmytqCAx",
        "colab": {
          "base_uri": "https://localhost:8080/"
        },
        "outputId": "5113f0db-68f7-4446-f440-1b0655b734ce"
      },
      "source": [
        "def test_sparse_matrix_vector_product():\r\n",
        "  print(\"Testing spare_matrix_vector_product()\")\r\n",
        "  a = np.matrix([[1, 0, 2, 0, 0, 0, 0],\r\n",
        "                 [0, 5, 2, 0, 0, 0, 0],\r\n",
        "                 [0, 0, 3, 2, 0, 0, 0],\r\n",
        "                 [0, 0, 5, 2, 1, 0, 0],\r\n",
        "                 [0, 0, 0, 2, 7, 1, 0],\r\n",
        "                 [0, 0, 0, 0, 5, 3, 0],\r\n",
        "                 [0, 0, 0, 0, 0, 6, 3]])\r\n",
        "  val =     [1, 2, 5, 2, 3, 2, 5, 2, 1, 2, 7, 1, 5, 3, 6, 3]\r\n",
        "  col_idx = [0, 2, 1, 2, 2, 3, 2, 3, 4, 3, 4, 5, 4, 5, 5, 6]\r\n",
        "  row_ptr = [0, 2, 4, 6, 9, 12, 14, 16]\r\n",
        "  x = np.random.randint(10, size=7)\r\n",
        "  test = sparse_matrix_vector_product(x, val, col_idx, row_ptr)\r\n",
        "  control = np.dot(a, x)\r\n",
        "  assert np.allclose(test, control) == True, \"incorrect result for sparse matrix-vector product\"\r\n",
        "\r\n",
        "if __name__ == '__main__':\r\n",
        "  test_sparse_matrix_vector_product()"
      ],
      "execution_count": 25,
      "outputs": [
        {
          "output_type": "stream",
          "text": [
            "Testing spare_matrix_vector_product()\n"
          ],
          "name": "stdout"
        }
      ]
    },
    {
      "cell_type": "markdown",
      "metadata": {
        "id": "vcsCWlNjrdF8"
      },
      "source": [
        "###QR factorization\r\n",
        "Function 2 is 'QR factorization'\r\n",
        "\r\n",
        "Given a real, quadratic matrix $A$, this function returns an orthogonal matrix $Q$ and an upper triangular matrix $R$, such that $A = QR$ "
      ]
    },
    {
      "cell_type": "code",
      "metadata": {
        "id": "2mYKlKEjtaaV"
      },
      "source": [
        "def qr_factorization(a):\r\n",
        "  if a.ndim != 2:\r\n",
        "      return \"error: a is not a matrix\"\r\n",
        "  if a.shape[0] != a.shape[1]:\r\n",
        "      return \"error: a is not a square matrix\"\r\n",
        "  r = np.zeros(a.shape)\r\n",
        "  q = np.zeros(a.shape)\r\n",
        "  for j in range(a.shape[0]):\r\n",
        "    v = a[:, j]\r\n",
        "    for i in range(0, j, 1):\r\n",
        "      r[i,j] = np.dot(q[:, i], v)\r\n",
        "      v = np.subtract(v, r[i, j]*q[:, i])\r\n",
        "    r[j, j] = np.linalg.norm(v)\r\n",
        "    q[:, j] = v * (1 / r[j, j])\r\n",
        "  return q, r"
      ],
      "execution_count": 20,
      "outputs": []
    },
    {
      "cell_type": "markdown",
      "metadata": {
        "id": "is_OnqZyus4s"
      },
      "source": [
        "To test the above code, we can run the following test function:"
      ]
    },
    {
      "cell_type": "code",
      "metadata": {
        "id": "fICplWxkuvma"
      },
      "source": [
        "def test_qr_factorization():\r\n",
        "  print(\"Testing qr_factorization()\")\r\n",
        "  a = np.random.randint(10, size=(5, 5))\r\n",
        "  test_q, test_r = qr_factorization(a)\r\n",
        "  control = np.dot(test_q, test_r)\r\n",
        "  assert np.allclose(a, control) == True, \"incorrect result for qr factorization\"\r\n",
        "  # check if r is an upper triangular matrix\r\n",
        "  tri = True\r\n",
        "  for i in range(test_r.shape[0]):\r\n",
        "    for j in range(0, i - 1, 1):\r\n",
        "      if test_r[i, j] != 0:\r\n",
        "        tri = False\r\n",
        "  assert tri, \"r is not a triangular matrix\"\r\n",
        "  # Calculate || Q^TQ-I ||_F\r\n",
        "  sum1 = 0\r\n",
        "  qt_q = np.dot(np.transpose(test_q), test_q)\r\n",
        "  id_m = np.identity(a.shape[0])\r\n",
        "  for i in range(a.shape[0]):\r\n",
        "    for j in range(a.shape[0]):\r\n",
        "      s = qt_q[i, j] - id_m[i,j]\r\n",
        "      sum1 += s*s\r\n",
        "  frob1 =  math.sqrt(sum1)\r\n",
        "  assert np.isclose(0, frob1), \"frobenius norm || Q^TQ-I ||_F is not very small\"\r\n",
        "  # Calculate || QR-A ||_F\r\n",
        "  sum2 = 0\r\n",
        "  for i in range(a.shape[0]):\r\n",
        "    for j in range(a.shape[0]):\r\n",
        "      s = control[i, j] - a[i, j]\r\n",
        "      sum2 += s*s\r\n",
        "  frob2 =  math.sqrt(sum2)\r\n",
        "  assert np.isclose(0, frob2), \"frobenius norm || QR-A ||_F is not very small\" "
      ],
      "execution_count": 27,
      "outputs": []
    },
    {
      "cell_type": "markdown",
      "metadata": {
        "id": "XuMq-KJr6y-Y"
      },
      "source": [
        "This test function will check if $A = QR$, as well as if $Q$ is orthogonal (i.e. the distance between $Q^T Q$ and $I$ (identity matrix) is small), and if the distance between $QR$ and $A$ is small."
      ]
    },
    {
      "cell_type": "markdown",
      "metadata": {
        "id": "BeigRko00fZo"
      },
      "source": [
        "###Direct solver Ax=b\r\n",
        "Function 3 is 'direct solver Ax=b'\r\n",
        "\r\n",
        "Given a real, quadratic matrix $A$, and a vector $b$, this function returns the solution to the linear equation system $Ax = b$,  $x = A^{-1}b$. This is done by QR factorization of $A$ into $A = QR$, computation of $y = Q^T b$, and then solving $Rx = y$ by back substitution."
      ]
    },
    {
      "cell_type": "code",
      "metadata": {
        "id": "6nbaWwpTJnmx"
      },
      "source": [
        "def direct_solve(a, b):\r\n",
        "  q, r = qr_factorization(a)\r\n",
        "  y = np.dot(np.transpose(q), b)\r\n",
        "  n = a.shape[0]\r\n",
        "  x = np.zeros(n)\r\n",
        "  x[n - 1] = y[n - 1]/r[n - 1, n - 1]\r\n",
        "  for i in range(n - 2, -1, -1):\r\n",
        "    sum = 0\r\n",
        "    for j in range(i + 1, n, 1):\r\n",
        "      sum += r[i, j]*x[j]\r\n",
        "    x[i] = (y[i] - sum)/r[i, i]\r\n",
        "  return x"
      ],
      "execution_count": 3,
      "outputs": []
    },
    {
      "cell_type": "markdown",
      "metadata": {
        "id": "slnVKs9qMZLX"
      },
      "source": [
        "To test the above code, we can run the following test function:"
      ]
    },
    {
      "cell_type": "code",
      "metadata": {
        "id": "8-igllCYMbgt"
      },
      "source": [
        "def test_direct_solve():\r\n",
        "  print(\"Testing direct_solve()\")\r\n",
        "  a = np.random.randint(10, size=(10, 10))\r\n",
        "  b = np.random.randint(10, size=10)\r\n",
        "  x = direct_solve(a, b)\r\n",
        "  residual = np.linalg.norm(np.subtract(np.dot(a, x), b))\r\n",
        "  assert np.isclose(0, residual) == True, \"incorrect result for direct solve\"\r\n",
        "  man_a = np.zeros((3,3))\r\n",
        "  man_a[0, :] = [5, 3, 2]\r\n",
        "  man_a[1, :] = [1, 1, 1]\r\n",
        "  man_a[2, :] = [1, 3, 2]\r\n",
        "  #matrix([[5, 3, 2], [1, 1, 1], [1, 3, 2]])\r\n",
        "  man_b = np.array([60, 16, 36])\r\n",
        "  man_x = np.matrix([6, 10, 0])\r\n",
        "  y = direct_solve(man_a, man_b)\r\n",
        "  assert np.isclose(0, np.linalg.norm(np.subtract(man_x, y))) == True, \"distance to manufactured solution\""
      ],
      "execution_count": 35,
      "outputs": []
    },
    {
      "cell_type": "markdown",
      "metadata": {
        "id": "X09_q1ulmhQ4"
      },
      "source": [
        "###Least squares problem Ax = b\r\n",
        "Function 4 is 'least squares problem Ax = b'\r\n",
        "\r\n",
        "Given a rectangular matrix $A$, and a vector $b$, this function returns an approximation of the solution to the linear equation system $Ax = b$."
      ]
    },
    {
      "cell_type": "code",
      "metadata": {
        "id": "3qlfg7M3n_2o"
      },
      "source": [
        "def least_squares(a, b):\r\n",
        "  sq_a = np.dot(np.transpose(a), a)\r\n",
        "  new_b = np.dot(np.transpose(a), b)\r\n",
        "  return direct_solve(sq_a, new_b)\r\n"
      ],
      "execution_count": 38,
      "outputs": []
    },
    {
      "cell_type": "markdown",
      "metadata": {
        "id": "K_r-o301p9vb"
      },
      "source": [
        "To test the above code, we can run the following test function:"
      ]
    },
    {
      "cell_type": "code",
      "metadata": {
        "id": "k6sr83jFp_PA"
      },
      "source": [
        "def test_least_squares():\r\n",
        "  print(\"Testing least_squares()\")\r\n",
        "  sum = 0\r\n",
        "  k = 100\r\n",
        "  m = 20\r\n",
        "  n = 5\r\n",
        "  for i in range(k):\r\n",
        "    a = np.random.randint(10, size=(m, n))\r\n",
        "    b = np.random.randint(10, size=m)\r\n",
        "    x = least_squares(a, b)\r\n",
        "    sum += np.linalg.norm(np.subtract(np.dot(a, x), b))\r\n",
        "  sum = sum/100\r\n",
        "  print(f'Least squares method produced a mean norm of {sum} over {k} tests of {m}*{n}-matrices (A), and {m}-vectors (b)')\r\n"
      ],
      "execution_count": 68,
      "outputs": []
    },
    {
      "cell_type": "markdown",
      "metadata": {
        "id": "8wXdjY6B7BFN"
      },
      "source": [
        "###Testing\r\n",
        "Then to perform all the tests, we can run the following code:"
      ]
    },
    {
      "cell_type": "code",
      "metadata": {
        "id": "_ib6wHc-7Gr8",
        "colab": {
          "base_uri": "https://localhost:8080/"
        },
        "outputId": "41de7d6a-e053-4a6d-937d-aa0f1ef667e1"
      },
      "source": [
        "def run_all_tests():\r\n",
        "  test_sparse_matrix_vector_product()\r\n",
        "  test_qr_factorization()\r\n",
        "  test_direct_solve()\r\n",
        "  test_least_squares()\r\n",
        "  print(\"All tests OK\")\r\n",
        "\r\n",
        "if __name__ == '__main__':\r\n",
        "  run_all_tests()"
      ],
      "execution_count": 70,
      "outputs": [
        {
          "output_type": "stream",
          "text": [
            "Testing spare_matrix_vector_product()\n",
            "Testing qr_factorization()\n",
            "Testing direct_solve()\n",
            "Testing least_squares()\n",
            "Least squares method produced a mean norm of 12.083311383755506 over 100 tests of 20*5-matrices (A), and 20-vectors (b)\n",
            "All tests OK\n"
          ],
          "name": "stdout"
        }
      ]
    },
    {
      "cell_type": "markdown",
      "metadata": {
        "id": "SsQLT38gVbn_"
      },
      "source": [
        "# **Results**"
      ]
    },
    {
      "cell_type": "markdown",
      "metadata": {
        "id": "RLwlnOzuV-Cd"
      },
      "source": [
        "Running the test cases here in google colab, after importing required libraries, defining all functions, etc., generates the following output:\r\n",
        "```\r\n",
        "Testing spare_matrix_vector_product()\r\n",
        "Testing qr_factorization()\r\n",
        "Testing direct_solve()\r\n",
        "Testing least_squares()\r\n",
        "Least squares method produced a mean norm of 12.083311383755506 over 100 tests of 20*5-matrices (A), and 20-vectors (b)\r\n",
        "All tests OK\r\n",
        "```\r\n",
        "From which we can see that all test cases were passed, as well as the performance of the least squares method implementation."
      ]
    },
    {
      "cell_type": "markdown",
      "metadata": {
        "id": "_4GLBv0zWr7m"
      },
      "source": [
        "# **Discussion**"
      ]
    },
    {
      "cell_type": "markdown",
      "metadata": {
        "id": "6bcsDSoRXHZe"
      },
      "source": [
        "The functions have the correct input and output as required by the lab instructions, as verified by the test cases.\r\n",
        "\r\n",
        "I was not sure what the required margin of error would be for the least squares method, and I did not implement an extensive test case suite for plotting performance."
      ]
    }
  ]
}
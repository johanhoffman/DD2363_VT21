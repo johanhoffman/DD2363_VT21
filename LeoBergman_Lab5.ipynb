{
  "nbformat": 4,
  "nbformat_minor": 0,
  "metadata": {
    "colab": {
      "name": "LeoBergman_Lab5_solved.ipynb",
      "provenance": [],
      "collapsed_sections": [],
      "history_visible": true,
      "include_colab_link": true
    },
    "kernelspec": {
      "name": "python3",
      "display_name": "Python 3"
    }
  },
  "cells": [
    {
      "cell_type": "markdown",
      "metadata": {
        "id": "view-in-github",
        "colab_type": "text"
      },
      "source": [
        "<a href=\"https://colab.research.google.com/github/johanhoffman/DD2363_VT21/blob/leobergman/LeoBergman_Lab5.ipynb\" target=\"_parent\"><img src=\"https://colab.research.google.com/assets/colab-badge.svg\" alt=\"Open In Colab\"/></a>"
      ]
    },
    {
      "cell_type": "markdown",
      "metadata": {
        "id": "6RgtXlfYO_i7"
      },
      "source": [
        "# **Lab 5: Integration**\n",
        "**Leo Bergman**"
      ]
    },
    {
      "cell_type": "markdown",
      "metadata": {
        "id": "9x_J5FVuPzbm"
      },
      "source": [
        "# **Abstract**"
      ]
    },
    {
      "cell_type": "markdown",
      "metadata": {
        "id": "yJipbXtnjrJZ"
      },
      "source": [
        "In this lab I have tested some numerical methods applied to calculus, in this case integration methods. I tried both exact and approximative methods. More specifically the methods used was Gauss-Legendre and the Montecarlo method. The latter developed by Neumann and others during the Manhattan project."
      ]
    },
    {
      "cell_type": "markdown",
      "metadata": {
        "id": "OkT8J7uOWpT3"
      },
      "source": [
        "#**About the code**"
      ]
    },
    {
      "cell_type": "markdown",
      "metadata": {
        "id": "HmB2noTr1Oyo"
      },
      "source": [
        "A short statement on who is the author of the file, and if the code is distributed under a certain license. "
      ]
    },
    {
      "cell_type": "code",
      "metadata": {
        "id": "Pdll1Xc9WP0e",
        "colab": {
          "base_uri": "https://localhost:8080/",
          "height": 36
        },
        "outputId": "4b2472e6-33b4-438c-9d4e-6303419e801a"
      },
      "source": [
        "\"\"\"This program is a template for lab reports in the course\"\"\"\n",
        "\"\"\"DD2363 Methods in Scientific Computing, \"\"\"\n",
        "\"\"\"KTH Royal Institute of Technology, Stockholm, Sweden.\"\"\"\n",
        "\n",
        "# Copyright (C) 2021 Leo Bergman (bergmanleo@gmail.com)\n",
        "# Template by Johan Hoffman (jhoffman@kth.se)\n",
        "\n",
        "# This file is part of the course DD2365 Advanced Computation in Fluid Mechanics\n",
        "# KTH Royal Institute of Technology, Stockholm, Sweden\n",
        "#\n",
        "# This is free software: you can redistribute it and/or modify\n",
        "# it under the terms of the GNU Lesser General Public License as published by\n",
        "# the Free Software Foundation, either version 3 of the License, or\n",
        "# (at your option) any later version."
      ],
      "execution_count": 4,
      "outputs": [
        {
          "output_type": "execute_result",
          "data": {
            "application/vnd.google.colaboratory.intrinsic+json": {
              "type": "string"
            },
            "text/plain": [
              "'KTH Royal Institute of Technology, Stockholm, Sweden.'"
            ]
          },
          "metadata": {
            "tags": []
          },
          "execution_count": 4
        }
      ]
    },
    {
      "cell_type": "markdown",
      "metadata": {
        "id": "28xLGz8JX3Hh"
      },
      "source": [
        "# **Set up environment**"
      ]
    },
    {
      "cell_type": "markdown",
      "metadata": {
        "id": "D2PYNusD08Wa"
      },
      "source": [
        "To have access to the neccessary modules you have to run this cell. If you need additional modules, this is where you add them. "
      ]
    },
    {
      "cell_type": "code",
      "metadata": {
        "id": "Xw7VlErAX7NS"
      },
      "source": [
        "# Load neccessary modules.\n",
        "from google.colab import files\n",
        "from scipy.sparse import random\n",
        "import time\n",
        "import timeit\n",
        "import numpy as np\n",
        "import random\n",
        "from matplotlib import pyplot as plt\n",
        "from matplotlib import tri, axes\n",
        "import mpl_toolkits\n",
        "from mpl_toolkits.mplot3d import Axes3D\n",
        "from mpl_toolkits.mplot3d.art3d import Poly3DCollection\n",
        "import scipy.sparse as sparse\n",
        "from scipy import integrate as integr8\n",
        "from scipy.interpolate import lagrange\n",
        "import scipy\n",
        "import numpy as np\n",
        "from numpy.linalg import inv,norm,solve,lstsq,det\n",
        "import unittest\n",
        "from functools import reduce\n",
        "from numpy.polynomial import polynomial as Poly\n",
        "import pandas as pd\n",
        "from sympy import symbols, Eq, solve,integrate\n"
      ],
      "execution_count": 5,
      "outputs": []
    },
    {
      "cell_type": "markdown",
      "metadata": {
        "id": "gnO3lhAigLev"
      },
      "source": [
        "# **Introduction**"
      ]
    },
    {
      "cell_type": "markdown",
      "metadata": {
        "id": "l5zMzgPlRAF6"
      },
      "source": [
        "I did 2-point and 3-point Gauss. The first one was done over a unit interval while the second over a unit triangle. The 2-point Gauss method is exact when polynomials have a degree of 3 or less. While the 3-point Gauss method over the triangle is exact when both x,y have a degree 2 or less, this since we're dealing with two variables.\r\n",
        "\r\n",
        "In the lab I was also dealing with a monte-carlo integration which is a approximative method but works quite nice with large polynomials when a exact solution is exhausting to compute."
      ]
    },
    {
      "cell_type": "markdown",
      "metadata": {
        "id": "jOQvukXZq5U5"
      },
      "source": [
        "# **Method**"
      ]
    },
    {
      "cell_type": "markdown",
      "metadata": {
        "id": "zF4iBj5VURZx"
      },
      "source": [
        "Using Gauss quadrature we can achieve a exact integration method for polynomial integrands equal or less then equal to $n= 2q+1$ using $q+1$ quadrature points. \r\n",
        "\r\n",
        "Since the Gauss integration method is evaluated at the symmetric interval $\\hat{x} \\in [-1,1]$ we have to perform a variable change in the range. This is actually the problem $11.3$ in the coursebook. The trick is to go from the symmetric unit interval to a arbitrary interval $x \\in [a,b]$\r\n",
        "\r\n",
        "So \r\n",
        "$-1\\leq \\hat{x} \\leq 1 \\leftrightarrow a \\leq x \\leq b $\r\n",
        "\r\n",
        "if the following relationship holds\r\n",
        "\r\n",
        "$\\frac{\\hat{x}-(-1)}{1-(-1)} = \\frac{x-a}{b-a}$\r\n",
        "Solving for x we retrieve\r\n",
        "$x = \\frac{(b-a)(\\hat{x}+1)}{2} + a = \\frac{b-a}{2}\\hat{x} + \\frac{a+b}{2}$\r\n",
        "\r\n",
        "with $b = -1$, $a = 1$ \r\n",
        "\r\n",
        "we have\r\n",
        "\r\n",
        "$x = \\frac{(b-a)(\\hat{x}+1)}{2} + a = \\frac{1}{2}\\hat{x} + \\frac{1}{2}$\r\n",
        "which yields the integral\r\n",
        "\r\n",
        "  $\\frac{1}{2} \\int^1_{-1}p(\\frac{1}{2}\\hat{x} + \\frac{1}{2})  d\\hat{x}$\r\n",
        "\r\n",
        "**First task**\r\n",
        "\r\n",
        "In the first task p is a cubic polynomial\r\n",
        "$p(x) = c_0 +c_1 x + c_2 x^2 + c_3 x^3$\r\n",
        "we compare the result from above with the exact integral\r\n",
        "$\\frac{1}{2}\\int^b_{a}p(x)dx = [c_0x + \\frac{c_1 x^2}{2} +  \\frac{c_3x^3}{3} + \\frac{c_4x^4}{4}]^b_a$\r\n",
        "which is nice since I can reuse the coefficients!\r\n",
        "\r\n",
        "**Second task**\r\n",
        "\r\n",
        "From example 11.5 we have that \r\n",
        "\r\n",
        "$w_i = \\frac{1}{6}$ with $i \\in [0,2]$ \r\n",
        "\r\n",
        "when the triangle is covered by the points (0,1), (1,0) and origo.Using the midpoints of those we get the quadrature points\r\n",
        "\r\n",
        "(0,1/2),(1/2,0),(1/2,1/2)\r\n",
        "The Gauss rule approximation is then\r\n",
        "\r\n",
        "$\\sum^2_{i=0}p(x_i,y_i)w_i$\r\n",
        "with \r\n",
        "\r\n",
        "$p(x,y) = c_5 y^2 + c_4 x^2 + c_3 xy + c_2 y+c_1x + c_0$\r\n",
        "\r\n",
        "After some trivial calculus operations, we end up with the exact solution which is given by\r\n",
        "$\\int^1_0 \\int^{1-y}_0 p(x,y)dxdy = \\frac{c_5+c_4}{12} + \\frac{c_3}{24} + \\frac{c_1+c_2}{6}+\\frac{c_0}{2} $\r\n",
        "\r\n",
        "again, I can reuse the coefficients!\r\n",
        "\r\n",
        "**Third task**\r\n",
        "Using montecarlo methods we can approximate a integral over a interval $I \\in [a,b]$ for a smooth function by a sum\r\n",
        "\r\n",
        "\r\n",
        "$\\int^b_a f(x)dx \\approx \\frac{b-a}{n}\\sum^n_{i=1}f(x_i)$\r\n",
        "\r\n",
        "with the attribute that\r\n",
        "\r\n",
        " $lim_{n \\rightarrow \\infty} \\frac{b-a}{n}\\sum^n_{i=1}f(x_i) = \\int^b_a f(x)dx $\r\n",
        "\r\n",
        "Here $x_i$ is a random point in the interval I and n is then number of quadrature points.\r\n",
        "\r\n",
        "I simulated a wide range of polynomials (50) with random constants. I looked at convergence by looking at the average error for all randomly generated polynomials between the MC-generated integral and the exact integral."
      ]
    },
    {
      "cell_type": "code",
      "metadata": {
        "id": "YuFb_heQpWGj"
      },
      "source": [
        "'''Gaussian quadrature over a one-dim interval'''\r\n",
        "\r\n",
        "def gauss1DIntegral(f,a,b,quadraticPoints):\r\n",
        "  s = 0\r\n",
        "  w = 1\r\n",
        "  for x in quadraticPoints:\r\n",
        "    s += f(x)*w\r\n",
        "  return s\r\n",
        "\r\n",
        "def int1dExact(coeff):\r\n",
        "  I = 0\r\n",
        "  i = 0\r\n",
        "  for c in coeff:\r\n",
        "    I =I+ c/(i+1)\r\n",
        "    i+=1\r\n",
        "  return I\r\n",
        "\r\n",
        "'''Gaussian quadrature over a reference triangle'''\r\n",
        "\r\n",
        "def gauss2dTriangle(f,quadraturePoints,w = 1/6):\r\n",
        "  I = 0\r\n",
        "\r\n",
        "  for qp in quadraturePoints:\r\n",
        "    I += f(qp[0], qp[1])*w\r\n",
        "  return I\r\n",
        "\r\n",
        "def exact2dTriangle(coeff):\r\n",
        "  I = (coeff[0]/2) + ((coeff[1]+coeff[2])/6)+ ((coeff[4]+coeff[5])/12) + (coeff[3]/24)\r\n",
        "  return I\r\n",
        "\r\n",
        "'''Montecarlo on unit interval'''\r\n",
        "\r\n",
        "def monteCarlo(f, quadpoints):\r\n",
        "  I = 0\r\n",
        "  for i in range(quadpoints):\r\n",
        "    qpRandom = np.random.rand(1)\r\n",
        "    I += (f(qpRandom))/quadpoints\r\n",
        "  return I\r\n",
        "\r\n"
      ],
      "execution_count": 6,
      "outputs": []
    },
    {
      "cell_type": "markdown",
      "metadata": {
        "id": "SsQLT38gVbn_"
      },
      "source": [
        "# **Results**"
      ]
    },
    {
      "cell_type": "markdown",
      "metadata": {
        "id": "vvcmVvUPiT5I"
      },
      "source": [
        "**Proof of correctness**"
      ]
    },
    {
      "cell_type": "code",
      "metadata": {
        "id": "9YGoPM-cI-pZ",
        "colab": {
          "base_uri": "https://localhost:8080/",
          "height": 410
        },
        "outputId": "fcd1232a-59b7-46eb-9897-25e21769b8e7"
      },
      "source": [
        "\r\n",
        "class Test(unittest.TestCase):\r\n",
        "\r\n",
        "  def testGauss1d(self):\r\n",
        "    coeff = [random.randrange(0,10) for i in range(4)]\r\n",
        "    g = lambda x:  coeff[3]*x**3 +coeff[2]*x**2 + coeff[1]*x + coeff[0]\r\n",
        "    a = 0\r\n",
        "    b = 1\r\n",
        "    quadraticPoints = [1/(np.sqrt(3)), -1/(np.sqrt(3))]\r\n",
        "    approx = ((b-a)/2)*gauss1DIntegral(lambda x: g((x+1) * (b-a) * (1/2) + a),a,b,quadraticPoints)\r\n",
        "    exact = int1dExact(coeff)\r\n",
        "    np.testing.assert_approx_equal(approx,exact,significant=1)\r\n",
        "\r\n",
        "  def testGauss2dTriangle(self):\r\n",
        "    coeff = [random.randrange(0,10) for i in range(6)]\r\n",
        "    g = lambda x,y: coeff[4]*x**2 +coeff[5]*y**2 +coeff[1]*x+coeff[2]*y+coeff[3]*x*y + coeff[0]\r\n",
        "    exact = exact2dTriangle(coeff)\r\n",
        "    quadraturePoints = [[0.5, 0], [0, 0.5], [0.5, 0.5]]\r\n",
        "    approx = gauss2dTriangle(g,quadraturePoints)\r\n",
        "    np.testing.assert_approx_equal(approx,exact,significant=1)\r\n",
        "\r\n",
        "  def testMonteCarlo(self):\r\n",
        "    q = [i**2 for i in range(12)]\r\n",
        "    num = 50\r\n",
        "    q = np.array(q)\r\n",
        "    #x = np.linspace(q[0], q[-1], num)\r\n",
        "    avgE = np.zeros(q.shape[0])  \r\n",
        "    for i in range(num):\r\n",
        "      er = np.zeros(q.shape[0])\r\n",
        "      coeff = [random.randrange(0,10) for i in range(4)]\r\n",
        "      g = lambda x:  coeff[3]*x**3 +coeff[2]*x**2 + coeff[1]*x + coeff[0]\r\n",
        "      for j in range(q.shape[0]):\r\n",
        "        er[j] = abs(int1dExact(coeff) - monteCarlo(g, q[j]))\r\n",
        "      avgE += er\r\n",
        "    plt.plot(q, avgE/num, color='red', label='$\\hat{E}$')\r\n",
        "    plt.plot(q, 1/np.sqrt(q), color='orange', label=r'$\\frac{1}{\\sqrt{N}}$')\r\n",
        "    plt.legend(loc = 'upper right')\r\n",
        "    plt.xlabel(\"N quadrature points\")\r\n",
        "    plt.ylabel(\"y\")\r\n",
        "    \r\n",
        "if __name__ == '__main__':\r\n",
        "  unittest.main(argv=['first-arg-is-ignored'],exit = False)"
      ],
      "execution_count": 7,
      "outputs": [
        {
          "output_type": "stream",
          "text": [
            "../usr/local/lib/python3.7/dist-packages/ipykernel_launcher.py:36: RuntimeWarning: divide by zero encountered in true_divide\n",
            ".\n",
            "----------------------------------------------------------------------\n",
            "Ran 3 tests in 0.427s\n",
            "\n",
            "OK\n"
          ],
          "name": "stderr"
        },
        {
          "output_type": "display_data",
          "data": {
            "image/png": "[encoded data removed]",
            "text/plain": [
              "<Figure size 432x288 with 1 Axes>"
            ]
          },
          "metadata": {
            "tags": [],
            "needs_background": "light"
          }
        }
      ]
    },
    {
      "cell_type": "markdown",
      "metadata": {
        "id": "-yP7ClCCiPJ-"
      },
      "source": [
        "**Performance test**"
      ]
    },
    {
      "cell_type": "markdown",
      "metadata": {
        "id": "_4GLBv0zWr7m"
      },
      "source": [
        "# **Discussion**"
      ]
    },
    {
      "cell_type": "markdown",
      "metadata": {
        "id": "6bcsDSoRXHZe"
      },
      "source": [
        "I learned about integration in numerical methods in this lab. Previously I mainly used trapezius rules, and Riemann sums in numerical methods. \r\n",
        "\r\n",
        "I did some experiments with numpy and found that we have different methods whether we integrate over a function or a scalar vector.  Simps seems to be very common in the latter case while Gauss-Legendre or even Gauss-Lobatto seems to be common. When using np.quadrature we use Gaussian quadrature rules. "
      ]
    }
  ]
}
{
  "nbformat": 4,
  "nbformat_minor": 0,
  "metadata": {
    "colab": {
      "name": "LeoBergman_Lab8_final.ipynb",
      "provenance": [],
      "collapsed_sections": [],
      "history_visible": true,
      "include_colab_link": true
    },
    "kernelspec": {
      "name": "python3",
      "display_name": "Python 3"
    }
  },
  "cells": [
    {
      "cell_type": "markdown",
      "metadata": {
        "id": "view-in-github",
        "colab_type": "text"
      },
      "source": [
        "<a href=\"https://colab.research.google.com/github/johanhoffman/DD2363_VT21/blob/leobergman/LeoBergman_Lab8.ipynb\" target=\"_parent\"><img src=\"https://colab.research.google.com/assets/colab-badge.svg\" alt=\"Open In Colab\"/></a>"
      ]
    },
    {
      "cell_type": "markdown",
      "metadata": {
        "id": "6RgtXlfYO_i7"
      },
      "source": [
        "# **Lab 7: Optimization**\n",
        "**Leo Bergman**"
      ]
    },
    {
      "cell_type": "markdown",
      "metadata": {
        "id": "9x_J5FVuPzbm"
      },
      "source": [
        "# **Abstract**"
      ]
    },
    {
      "cell_type": "markdown",
      "metadata": {
        "id": "yJipbXtnjrJZ"
      },
      "source": [
        "In this lab I performed some experiments with optimization techniques to find extreme points. I tried out both gradient descent as well as newtons method."
      ]
    },
    {
      "cell_type": "markdown",
      "metadata": {
        "id": "OkT8J7uOWpT3"
      },
      "source": [
        "#**About the code**"
      ]
    },
    {
      "cell_type": "markdown",
      "metadata": {
        "id": "HmB2noTr1Oyo"
      },
      "source": [
        "A short statement on who is the author of the file, and if the code is distributed under a certain license. "
      ]
    },
    {
      "cell_type": "code",
      "metadata": {
        "id": "Pdll1Xc9WP0e",
        "colab": {
          "base_uri": "https://localhost:8080/",
          "height": 36
        },
        "outputId": "bded6271-4ec5-47a6-e91a-39acb8fee1a7"
      },
      "source": [
        "\"\"\"This program is a template for lab reports in the course\"\"\"\n",
        "\"\"\"DD2363 Methods in Scientific Computing, \"\"\"\n",
        "\"\"\"KTH Royal Institute of Technology, Stockholm, Sweden.\"\"\"\n",
        "\n",
        "# Copyright (C) 2021 Leo Bergman (bergmanleo@gmail.com)\n",
        "# Template by Johan Hoffman (jhoffman@kth.se)\n",
        "\n",
        "# This file is part of the course DD2365 Advanced Computation in Fluid Mechanics\n",
        "# KTH Royal Institute of Technology, Stockholm, Sweden\n",
        "#\n",
        "# This is free software: you can redistribute it and/or modify\n",
        "# it under the terms of the GNU Lesser General Public License as published by\n",
        "# the Free Software Foundation, either version 3 of the License, or\n",
        "# (at your option) any later version."
      ],
      "execution_count": 13,
      "outputs": [
        {
          "output_type": "execute_result",
          "data": {
            "application/vnd.google.colaboratory.intrinsic+json": {
              "type": "string"
            },
            "text/plain": [
              "'KTH Royal Institute of Technology, Stockholm, Sweden.'"
            ]
          },
          "metadata": {
            "tags": []
          },
          "execution_count": 13
        }
      ]
    },
    {
      "cell_type": "markdown",
      "metadata": {
        "id": "28xLGz8JX3Hh"
      },
      "source": [
        "# **Set up environment**"
      ]
    },
    {
      "cell_type": "markdown",
      "metadata": {
        "id": "D2PYNusD08Wa"
      },
      "source": [
        "To have access to the neccessary modules you have to run this cell. If you need additional modules, this is where you add them. "
      ]
    },
    {
      "cell_type": "code",
      "metadata": {
        "id": "Xw7VlErAX7NS"
      },
      "source": [
        "# Load neccessary modules.\n",
        "from google.colab import files\n",
        "from scipy.sparse import random\n",
        "import time\n",
        "import timeit\n",
        "import numpy as np\n",
        "import random\n",
        "from matplotlib import pyplot as plt\n",
        "from matplotlib import tri, axes\n",
        "import mpl_toolkits\n",
        "from scipy.interpolate import lagrange\n",
        "import scipy.optimize as opt\n",
        "import numpy as np\n",
        "from numpy.linalg import inv,norm,solve,lstsq,det\n",
        "import unittest\n",
        "from functools import reduce\n",
        "from numpy.polynomial import polynomial as Poly\n",
        "import pandas as pd\n"
      ],
      "execution_count": 14,
      "outputs": []
    },
    {
      "cell_type": "markdown",
      "metadata": {
        "id": "gnO3lhAigLev"
      },
      "source": [
        "# **Introduction**"
      ]
    },
    {
      "cell_type": "markdown",
      "metadata": {
        "id": "l5zMzgPlRAF6"
      },
      "source": [
        "In this lab I tried to find the global minimum of a function with two different methods. I randomly picked the starting guess and then moved downwards to the global minima in every iteration."
      ]
    },
    {
      "cell_type": "markdown",
      "metadata": {
        "id": "jOQvukXZq5U5"
      },
      "source": [
        "# **Method**"
      ]
    },
    {
      "cell_type": "markdown",
      "metadata": {
        "id": "zF4iBj5VURZx"
      },
      "source": [
        "**Gradient descent**\r\n",
        "\r\n",
        "We have a differentiable convex function $ f: R^n \\rightarrow R$\r\n",
        "\r\n",
        "I used algorithm 15.1 from the lecture notes. I picked a constant learning rate of $\\alpha = 0.01$ The gradient descent methods moves the approximative point in the direction of the greatest descent. In the case of a $x^2$ function we move against the global minimum. There could be situations when the gradient descent is moving towards a local minima and get stucked there.\r\n",
        "\r\n",
        "**Newtons method in optimization**\r\n",
        "Given a twice differentiable function $f: R \\rightarrow R$ we try to find $min f(x)$\r\n",
        "The method uses taylor expansion \r\n",
        "\r\n",
        "$f(x_n+x) \\approx f(x_n) + f'(x_n)*x + \\frac{1}{2} f''(x_n)*x^2$\r\n",
        "\r\n",
        "min can be found when we set the derivative to zero given that we know that the function is convex, and that the second derivative is positive:\r\n",
        "\r\n",
        "$\\frac{d}{dx} f(x_n+x) \\Rightarrow$\r\n",
        "$x = - \\frac{f'(x_n)}{f''(x_n)}$\r\n",
        "\r\n",
        "I decided to pick a $x^2$ function which was\r\n",
        "\r\n",
        "$f(x) = 8x^2 - 10x + 1000$\r\n",
        "\r\n",
        "in 1d I get\r\n",
        "\r\n",
        "$ \\nabla f(x) = 16x - 10$\r\n",
        "\r\n",
        "and \r\n",
        "\r\n",
        "$ \\triangle f(x) = 16$"
      ]
    },
    {
      "cell_type": "code",
      "metadata": {
        "id": "YuFb_heQpWGj"
      },
      "source": [
        "\r\n",
        "\r\n",
        "def gradientDescent(f, x0,TOL = 1e-4):\r\n",
        "  x = x0\r\n",
        "  df = lambda x: 16*x-10 \r\n",
        "  Df = df(x)\r\n",
        "  alpha = 0.01\r\n",
        "  e = []\r\n",
        "  while np.linalg.norm(Df) > TOL:\r\n",
        "    Df = df(x)\r\n",
        "    x -= alpha*Df\r\n",
        "    e.append(x)\r\n",
        "  return x,e\r\n",
        "\r\n",
        "\r\n",
        "def newtonMin(f,x0,TOL = 1e-4):\r\n",
        "  x = x0\r\n",
        "  df = lambda x: 16*x-10 \r\n",
        "  Df = df(x)\r\n",
        "  e = []\r\n",
        "  while np.linalg.norm(Df)>TOL:\r\n",
        "    Df = df(x)\r\n",
        "\r\n",
        "    Hf = 16\r\n",
        "    dx = -Df/Hf\r\n",
        "    x+=dx\r\n",
        "    e.append(x)\r\n",
        "  return x,e\r\n",
        "\r\n",
        "if __name__ == '__main__':\r\n",
        "  #backpropagation()\r\n",
        "  #f = lambda x: 2*x[0]**2 + 3*x[1]**2 + 3\r\n",
        "  x0 = np.random.random(2)\r\n",
        "\r\n"
      ],
      "execution_count": 15,
      "outputs": []
    },
    {
      "cell_type": "markdown",
      "metadata": {
        "id": "SsQLT38gVbn_"
      },
      "source": [
        "# **Results**"
      ]
    },
    {
      "cell_type": "markdown",
      "metadata": {
        "id": "vvcmVvUPiT5I"
      },
      "source": [
        "**Proof of correctness**"
      ]
    },
    {
      "cell_type": "code",
      "metadata": {
        "id": "9YGoPM-cI-pZ",
        "colab": {
          "base_uri": "https://localhost:8080/",
          "height": 1000
        },
        "outputId": "5f62f466-f5e9-412f-bd8a-86024669425e"
      },
      "source": [
        "\r\n",
        "class Test(unittest.TestCase):\r\n",
        "  def testGradientDescent(self):\r\n",
        "    x0 = np.linspace(-30,30,num = 10000000)\r\n",
        "    xp = np.random.randint(1)\r\n",
        "    f = lambda x: 8*x**2 - 10*x + 1000\r\n",
        "    x,e = gradientDescent(f,xp)\r\n",
        "    np.testing.assert_almost_equal(min(f(x0)),f(x),decimal =3)\r\n",
        "    plt.figure(1)\r\n",
        "    plt.plot(x0,f(x0),'--',label = 'f(x)')\r\n",
        "    plt.legend('f(x)')\r\n",
        "    plt.plot(x,f(x),'*',label = 'approximate min')\r\n",
        "    plt.legend(loc=\"upper left\")\r\n",
        "    plt.title(\"Gradient descent\")\r\n",
        "\r\n",
        "    plt.figure(2)\r\n",
        "\r\n",
        "    i = np.argmin(f(x0))\r\n",
        "    n = [i for i in range(len(e))]\r\n",
        "\r\n",
        "    print(x0[i])\r\n",
        "    print(x)\r\n",
        "    plt.plot(n,abs(x0[i]-e))\r\n",
        "    plt.title(\"Gradient descent E\")\r\n",
        "\r\n",
        "    plt.xlabel('Iteration')\r\n",
        "    plt.ylabel('Absolute error')\r\n",
        "\r\n",
        "\r\n",
        "  def testNewton(self):\r\n",
        "    x0 = np.linspace(-30,30,num = 10000000)\r\n",
        "    xp = np.random.randint(1)\r\n",
        "    f = lambda x: 8*x**2 - 10*x + 1000\r\n",
        "    x,e = newtonMin(f,xp)\r\n",
        "    np.testing.assert_almost_equal(min(f(x0)),f(x),decimal =4)\r\n",
        "    plt.figure(3)\r\n",
        "    plt.plot(x0,f(x0),'--',label = 'f(x)')\r\n",
        "    plt.legend('f(x)')\r\n",
        "    plt.plot(x,f(x),'*',label = 'approximate min')\r\n",
        "    plt.legend(loc=\"upper left\")\r\n",
        "    plt.title(\"Newtons method\")\r\n",
        "\r\n",
        "\r\n",
        "    i = np.argmin(f(x0))\r\n",
        "    n = [i for i in range(len(e))]\r\n",
        "    print(n)\r\n",
        "    print(x0[i])\r\n",
        "    print(x)\r\n",
        "    plt.figure(4)\r\n",
        "    plt.plot(n,abs(x0[i]-e))\r\n",
        "\r\n",
        "    plt.xlabel('Iteration')\r\n",
        "    plt.ylabel('Absolute error')\r\n",
        "    plt.title(\"Newtons method E\")\r\n",
        "\r\n",
        "if __name__ == '__main__':\r\n",
        "  unittest.main(argv=['first-arg-is-ignored'],exit = False)"
      ],
      "execution_count": 16,
      "outputs": [
        {
          "output_type": "stream",
          "text": [
            "."
          ],
          "name": "stderr"
        },
        {
          "output_type": "stream",
          "text": [
            "0.6249990624999064\n",
            "0.6249955652262364\n"
          ],
          "name": "stdout"
        },
        {
          "output_type": "stream",
          "text": [
            "."
          ],
          "name": "stderr"
        },
        {
          "output_type": "stream",
          "text": [
            "[0, 1]\n",
            "0.6249990624999064\n",
            "0.625\n"
          ],
          "name": "stdout"
        },
        {
          "output_type": "stream",
          "text": [
            "\n",
            "----------------------------------------------------------------------\n",
            "Ran 2 tests in 3.220s\n",
            "\n",
            "OK\n"
          ],
          "name": "stderr"
        },
        {
          "output_type": "display_data",
          "data": {
            "image/png": "[encoded data removed]",
            "text/plain": [
              "<Figure size 432x288 with 1 Axes>"
            ]
          },
          "metadata": {
            "tags": [],
            "needs_background": "light"
          }
        },
        {
          "output_type": "display_data",
          "data": {
            "image/png": "[encoded data removed]",
            "text/plain": [
              "<Figure size 432x288 with 1 Axes>"
            ]
          },
          "metadata": {
            "tags": [],
            "needs_background": "light"
          }
        },
        {
          "output_type": "display_data",
          "data": {
            "image/png": "[encoded data removed]",
            "text/plain": [
              "<Figure size 432x288 with 1 Axes>"
            ]
          },
          "metadata": {
            "tags": [],
            "needs_background": "light"
          }
        },
        {
          "output_type": "display_data",
          "data": {
            "image/png": "[encoded data removed]",
            "text/plain": [
              "<Figure size 432x288 with 1 Axes>"
            ]
          },
          "metadata": {
            "tags": [],
            "needs_background": "light"
          }
        }
      ]
    },
    {
      "cell_type": "markdown",
      "metadata": {
        "id": "_4GLBv0zWr7m"
      },
      "source": [
        "# **Discussion**"
      ]
    },
    {
      "cell_type": "markdown",
      "metadata": {
        "id": "6bcsDSoRXHZe"
      },
      "source": [
        "I did some simuations of both methods and from what I can see the newton's method seems to be faster than gradient descent. If course this needs more quantitative arguments to be proven in general."
      ]
    }
  ]
}
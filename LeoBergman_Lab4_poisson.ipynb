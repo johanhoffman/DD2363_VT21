{
  "nbformat": 4,
  "nbformat_minor": 0,
  "metadata": {
    "colab": {
      "name": "LeoBergman_Lab4_poisson.ipynb",
      "provenance": [],
      "collapsed_sections": [],
      "toc_visible": true,
      "history_visible": true,
      "include_colab_link": true
    },
    "kernelspec": {
      "name": "python3",
      "display_name": "Python 3"
    }
  },
  "cells": [
    {
      "cell_type": "markdown",
      "metadata": {
        "id": "view-in-github",
        "colab_type": "text"
      },
      "source": [
        "<a href=\"https://colab.research.google.com/github/johanhoffman/DD2363_VT21/blob/leobergman/LeoBergman_Lab4_poisson.ipynb\" target=\"_parent\"><img src=\"https://colab.research.google.com/assets/colab-badge.svg\" alt=\"Open In Colab\"/></a>"
      ]
    },
    {
      "cell_type": "markdown",
      "metadata": {
        "id": "6RgtXlfYO_i7"
      },
      "source": [
        "# **Lab 3: Iterative methods**\n",
        "**Leo Bergman**"
      ]
    },
    {
      "cell_type": "markdown",
      "metadata": {
        "id": "9x_J5FVuPzbm"
      },
      "source": [
        "# **Abstract**"
      ]
    },
    {
      "cell_type": "markdown",
      "metadata": {
        "id": "yJipbXtnjrJZ"
      },
      "source": [
        "In this lab I performed some experiments with function approximation. There many of those, in this lab I tried out the L2 norm in Hilbert space, which is the best possible approximation."
      ]
    },
    {
      "cell_type": "markdown",
      "metadata": {
        "id": "OkT8J7uOWpT3"
      },
      "source": [
        "#**About the code**"
      ]
    },
    {
      "cell_type": "markdown",
      "metadata": {
        "id": "HmB2noTr1Oyo"
      },
      "source": [
        "A short statement on who is the author of the file, and if the code is distributed under a certain license. "
      ]
    },
    {
      "cell_type": "code",
      "metadata": {
        "id": "Pdll1Xc9WP0e",
        "colab": {
          "base_uri": "https://localhost:8080/",
          "height": 36
        },
        "outputId": "8c87fc1b-2711-4d4f-a7b0-c93d9f95996d"
      },
      "source": [
        "\"\"\"This program is a template for lab reports in the course\"\"\"\n",
        "\"\"\"DD2363 Methods in Scientific Computing, \"\"\"\n",
        "\"\"\"KTH Royal Institute of Technology, Stockholm, Sweden.\"\"\"\n",
        "\n",
        "# Copyright (C) 2021 Leo Bergman (bergmanleo@gmail.com)\n",
        "# Template by Johan Hoffman (jhoffman@kth.se)\n",
        "\n",
        "# This file is part of the course DD2365 Advanced Computation in Fluid Mechanics\n",
        "# KTH Royal Institute of Technology, Stockholm, Sweden\n",
        "#\n",
        "# This is free software: you can redistribute it and/or modify\n",
        "# it under the terms of the GNU Lesser General Public License as published by\n",
        "# the Free Software Foundation, either version 3 of the License, or\n",
        "# (at your option) any later version."
      ],
      "execution_count": 13,
      "outputs": [
        {
          "output_type": "execute_result",
          "data": {
            "application/vnd.google.colaboratory.intrinsic+json": {
              "type": "string"
            },
            "text/plain": [
              "'KTH Royal Institute of Technology, Stockholm, Sweden.'"
            ]
          },
          "metadata": {
            "tags": []
          },
          "execution_count": 13
        }
      ]
    },
    {
      "cell_type": "markdown",
      "metadata": {
        "id": "28xLGz8JX3Hh"
      },
      "source": [
        "# **Set up environment**"
      ]
    },
    {
      "cell_type": "markdown",
      "metadata": {
        "id": "D2PYNusD08Wa"
      },
      "source": [
        "To have access to the neccessary modules you have to run this cell. If you need additional modules, this is where you add them. "
      ]
    },
    {
      "cell_type": "code",
      "metadata": {
        "id": "Xw7VlErAX7NS"
      },
      "source": [
        "# Load neccessary modules.\n",
        "\n",
        "\n",
        "from google.colab import files\n",
        "from scipy.sparse import random\n",
        "import time\n",
        "import timeit\n",
        "import numpy as np\n",
        "import random\n",
        "from matplotlib import pyplot as plt\n",
        "from matplotlib import tri, axes\n",
        "import mpl_toolkits\n",
        "from mpl_toolkits.mplot3d import Axes3D\n",
        "from mpl_toolkits.mplot3d.art3d import Poly3DCollection\n",
        "import scipy.sparse as sparse\n",
        "from scipy import stats, integrate\n",
        "import scipy\n",
        "import numpy as np\n",
        "from numpy.linalg import inv,norm,solve,lstsq,det\n",
        "import unittest\n",
        "from functools import reduce\n",
        "from numpy.polynomial import polynomial as Poly\n",
        "from scipy.spatial import Delaunay\n",
        "#try:\n",
        "#    from dolfin import *; from mshr import *\n",
        "#except ImportError as e:\n",
        "#    !apt-get install -y -qq software-properties-common \n",
        "#    !add-apt-repository -y ppa:fenics-packages/fenics\n",
        "#    !apt-get update -qq\n",
        "#    !apt install -y --no-install-recommends fenics\n",
        "#    from dolfin import *; from mshr import *\n",
        "    \n",
        "#import dolfin.common.plotting as fenicsplot\n"
      ],
      "execution_count": 14,
      "outputs": []
    },
    {
      "cell_type": "markdown",
      "metadata": {
        "id": "gnO3lhAigLev"
      },
      "source": [
        "# **Introduction**"
      ]
    },
    {
      "cell_type": "markdown",
      "metadata": {
        "id": "l5zMzgPlRAF6"
      },
      "source": [
        "In this lab I have tried out approximations of functions using a piece wise linear, the best of those namely the L2 norm.\n",
        "\n",
        "---\n",
        "Problems to solve:\n"
      ]
    },
    {
      "cell_type": "markdown",
      "metadata": {
        "id": "zF4iBj5VURZx"
      },
      "source": [
        "1. Function: L2 projection to pw linear approximation over mesh in 1D\r\n",
        "\r\n",
        "Input: function f(x), 1D mesh with nodes (x0,...,xn)\r\n",
        "Output: vector of L2 projection of f(x) evaluated in (x0,...,xn) \r\n",
        "Test: verify accuracy and convergence rate against exact function\r\n",
        "\r\n",
        "2. Function: L2 projection to pw linear approximation over triangular mesh in 2D\r\n",
        "\r\n",
        "Input: function f(x), triangular mesh data structure with nodes (x0,...,xn)\r\n",
        "Output: vector of L2 projection of f(x) evaluated in (x0,...,xn) \r\n",
        "Test: verify accuracy and convergence rate against exact function\r\n",
        "\r\n",
        "$h_i$ is the interval length of interval $I_i$"
      ]
    },
    {
      "cell_type": "markdown",
      "metadata": {
        "id": "jOQvukXZq5U5"
      },
      "source": [
        "# **Method**"
      ]
    },
    {
      "cell_type": "markdown",
      "metadata": {
        "id": "qq87Qndx4rpE"
      },
      "source": [
        "For the mesh we will have one and only one basis function defined in one node in the mesh such that \r\n",
        "\r\n",
        "$\\phi_i (x_i) = 1$\r\n",
        "\r\n",
        "In each iteration over the basis functions we calculate the inner products to add the results to the vector $b_i = (f,\\phi_i)$ and similar for A:\r\n",
        "\r\n",
        "$a_{ij} = (\\phi_j,\\phi_i)$\r\n",
        "\r\n",
        "where the elements $a_{ij}$ fills up the matrix A.\r\n",
        "\r\n",
        "Why do we do this at all? Well to solve the equation system \r\n",
        "$Ax = b$\r\n",
        "\r\n",
        "Easy as that.\r\n",
        "\r\n",
        "Anyway, going further we have that \r\n",
        "\r\n",
        "$(\\phi_i,\\phi_j) = 0$ \r\n",
        "\r\n",
        "if $|j-i|$ is strictly larger than 1 in other cases we have that\r\n",
        "\r\n",
        "$(\\phi_i,\\phi_i) = h/3$\r\n",
        "\r\n",
        "$(\\phi_i,\\phi_{i+1}) = h/6$\r\n"
      ]
    },
    {
      "cell_type": "code",
      "metadata": {
        "id": "tF8rtSNEoZnX"
      },
      "source": [
        "def meshgen(dim,meshdim,xlen=10,ylen=10,zlen=10):\r\n",
        "  if dim == 1:\r\n",
        "    X = np.linspace(0,xlen,num = meshdim)\r\n",
        "    return X\r\n",
        "\r\n",
        "  elif dim == 2:\r\n",
        "    X = np.zeros((meshdim*meshdim))\r\n",
        "    Y = np.zeros((meshdim*meshdim))\r\n",
        "    for i in range(meshdim):\r\n",
        "      for j in range(meshdim):\r\n",
        "        X[i*meshdim+j] = i*xlen/ (meshdim-1)\r\n",
        "        Y[i*meshdim+j] = j*ylen/(meshdim-1)\r\n",
        "    return Delaunay(np.vstack((X,Y)).T) #triangulation of those\r\n",
        "\r\n",
        "        "
      ],
      "execution_count": 15,
      "outputs": []
    },
    {
      "cell_type": "code",
      "metadata": {
        "id": "m4gfCe3JnRJf"
      },
      "source": [
        "class L2:\r\n",
        "\r\n",
        "  def __init__(self, mesh,n,dim):\r\n",
        "    self.mesh = mesh\r\n",
        "    self.dim = dim\r\n",
        "    self.n = n\r\n",
        "    self.globalM = np.zeros((n,n))\r\n",
        "    self.globalb = np.zeros((n))\r\n",
        "\r\n",
        "  def assemble_system(self, f):\r\n",
        "    if self.dim == 1:\r\n",
        "      for k in range(0,self.n-1):\r\n",
        "        q = 1 #number of quadrature points\r\n",
        "        A = np.zeros((q+1,q+1))\r\n",
        "        b = np.zeros((q+1))\r\n",
        "        for i in range(q+1):\r\n",
        "          b[i] = self.integrate_vector(f,k,i)\r\n",
        "          for j in range(q+1):\r\n",
        "            A[i,j] = self.integrate_matrix(k,i,j)\r\n",
        "        self.add_to_global_vector(b,k)\r\n",
        "        self.add_to_global_matrix(A,k)\r\n",
        "\r\n",
        "    if self.dim == 2:\r\n",
        "      for k in range(0,self.n-1):\r\n",
        "        q = 1 #number of quadrature points\r\n",
        "        A = np.zeros((q+1,q+1))\r\n",
        "        b = np.zeros((q+1))\r\n",
        "        for i in range(q+1):\r\n",
        "          b[i] = self.integrate_vector(f,k,i)\r\n",
        "          for j in range(q+1):\r\n",
        "            A[i,j] = self.integrate_matrix(k,i,j)\r\n",
        "            #Hard stuff!\r\n",
        "        self.add_to_global_vector(b,k)\r\n",
        "        self.add_to_global_matrix(A,k)\r\n",
        "\r\n",
        "  def integrate_matrix(self,k, i, j):\r\n",
        "    h = abs(self.mesh[k] - self.mesh[k+1])\r\n",
        "    if i == j:\r\n",
        "      return h/3\r\n",
        "    elif abs(j-i) == 1:\r\n",
        "      return h/6\r\n",
        "\r\n",
        "\r\n",
        "  def integrate_vector(self, f, k, i):\r\n",
        "    h = abs(self.mesh[k] - self.mesh[k+1])\r\n",
        "    if i == 0:\r\n",
        "      return integrate.quad(lambda x: f(x) * (self.mesh[k+1] - x) / h, self.mesh[k], self.mesh[k+1])[0]\r\n",
        "    elif i == 1:\r\n",
        "      return integrate.quad(lambda x: f(x) * (x - self.mesh[k]) / h , self.mesh[k], self.mesh[k+1])[0]\r\n",
        "\r\n",
        "  def add_to_global_vector(self, b, k):\r\n",
        "    self.globalb[k] += b[0]\r\n",
        "    self.globalb[k+1] += b[1]\r\n",
        "                \r\n",
        "  def add_to_global_matrix(self, A, k):\r\n",
        "    self.globalM[k,k] += A[0,0]\r\n",
        "    self.globalM[k,k+1] += A[0,1]\r\n",
        "    self.globalM[k+1,k] += A[1,0]\r\n",
        "    self.globalM[k+1,k+1] = +A[1,1]\r\n",
        "\r\n",
        "  def l2projection(self,f):\r\n",
        "    self.assemble_system(f)\r\n",
        "    return np.linalg.solve(self.globalM, self.globalb)\r\n",
        "\r\n"
      ],
      "execution_count": 16,
      "outputs": []
    },
    {
      "cell_type": "markdown",
      "metadata": {
        "id": "SsQLT38gVbn_"
      },
      "source": [
        "# **Results**"
      ]
    },
    {
      "cell_type": "code",
      "metadata": {
        "id": "i2e0m81wvPwX",
        "colab": {
          "base_uri": "https://localhost:8080/",
          "height": 617
        },
        "outputId": "503c844e-6e71-401b-ca0d-0b903a5d551a"
      },
      "source": [
        "\r\n",
        "if __name__ == '__main__':\r\n",
        "  dim = 1\r\n",
        "  meshdim = 15\r\n",
        "  mesh = meshgen(dim,meshdim)\r\n",
        "  fsquare = lambda x: x*x\r\n",
        "  f = lambda x: np.sin(x)\r\n",
        "  O = L2(mesh,meshdim,dim)  \r\n",
        "  alpha = O.l2projection(f)\r\n",
        "\r\n",
        "  plt.plot(mesh,alpha,'orange',label='L2-approx')\r\n",
        "  plt.plot(mesh,f(mesh),'r',label = 'real function')\r\n",
        "  plt.xlabel('x')\r\n",
        "  plt.ylabel('y')\r\n",
        "  plt.legend(loc='upper right')\r\n",
        "  er = alpha-f(mesh)\r\n",
        "  print('error: ' + str(er))\r\n",
        "  conv = []\r\n",
        "  meshdimensions = [10,20,30,40,50,100,200,300,400,500,1000]\r\n",
        "  for i in range(len(meshdimensions)):\r\n",
        "    dim = 1\r\n",
        "    meshdim = meshdimensions[i]\r\n",
        "    mesh = meshgen(dim,meshdim)\r\n",
        "    fsquare = lambda x: x*x\r\n",
        "    f = lambda x: np.sin(x)\r\n",
        "    O = L2(mesh,meshdim,dim)  \r\n",
        "    alpha = O.l2projection(f)\r\n",
        "    er = norm(alpha-f(mesh))\r\n",
        "    #er = np.average(alpha-f(mesh))\r\n",
        "    conv.append(er)\r\n",
        "  plt.figure(2)\r\n",
        "  plt.xlabel('meshpoints')\r\n",
        "  plt.ylabel('$l_2$ norm of error')\r\n",
        "  plt.plot(meshdimensions,conv)\r\n",
        "  \r\n",
        "  dim = 1\r\n",
        "  meshdim = 15\r\n",
        "  mesh = meshgen(dim,meshdim)\r\n",
        "  fsquare = lambda x: x*x\r\n",
        "  f = lambda x: np.sin(x)\r\n",
        "  O = L2(mesh,meshdim,dim)  \r\n",
        "  alpha = O.l2projection(f)\r\n",
        "  \r\n",
        "  #L2 in 2D\r\n",
        "  #dim = 2\r\n",
        "  #meshdim = 10\r\n",
        "  #mesh = meshgen(dim,meshdim)\r\n",
        "  #axes = Axes3D(plt.figure())\r\n",
        "\r\n",
        "\r\n"
      ],
      "execution_count": 17,
      "outputs": [
        {
          "output_type": "stream",
          "text": [
            "error: [ 0.00745208  0.02630186  0.04329776  0.03617771  0.01216131 -0.01801225\n",
            " -0.03932306 -0.04142583 -0.02326896  0.00624973  0.03276096  0.04307839\n",
            "  0.03299873  0.00431261 -0.01724828]\n"
          ],
          "name": "stdout"
        },
        {
          "output_type": "display_data",
          "data": {
            "image/png": "[encoded data removed]",
            "text/plain": [
              "<Figure size 432x288 with 1 Axes>"
            ]
          },
          "metadata": {
            "tags": [],
            "needs_background": "light"
          }
        },
        {
          "output_type": "display_data",
          "data": {
            "image/png": "[encoded data removed]",
            "text/plain": [
              "<Figure size 432x288 with 1 Axes>"
            ]
          },
          "metadata": {
            "tags": [],
            "needs_background": "light"
          }
        }
      ]
    },
    {
      "cell_type": "markdown",
      "metadata": {
        "id": "0RzBVXyiB9Lo"
      },
      "source": [
        "To solve the Poiosson equation I tried out a basis function $v_i = x^{i+1}$ since we require that $v_i(0) = v_i(1) = 0 $due to the fact that $u$ is defined and $u(0) = 0$ there.\r\n",
        "\r\n",
        "After solving and going through the variational formulation I ended up with:\r\n",
        "\r\n",
        "$b_i = \\int^1_0 f(x) v_i dx$\r\n",
        "\r\n",
        "with $f(x) = sin(x)$\r\n",
        "\r\n",
        "\r\n",
        "$a_{ij} = \\int^1_0 v_j'(x)v_i(x)dx = [\\frac{(i+1)x^(2i)}{2i+1}]^1_0$\r\n",
        "\r\n"
      ]
    },
    {
      "cell_type": "code",
      "metadata": {
        "id": "QOAvnuKh_R-G",
        "colab": {
          "base_uri": "https://localhost:8080/",
          "height": 290
        },
        "outputId": "8bfb30d3-1476-4de5-c35e-3a0a41975db1"
      },
      "source": [
        "class L2_Poisson:\r\n",
        "\r\n",
        "  def __init__(self, mesh,n,dim):\r\n",
        "    self.mesh = mesh\r\n",
        "    self.dim = dim\r\n",
        "    self.n = n\r\n",
        "    self.globalM = np.zeros((n,n))\r\n",
        "    self.globalb = np.zeros((n))\r\n",
        "\r\n",
        "  def assemble_system(self, f):\r\n",
        "    if self.dim == 1:\r\n",
        "      for k in range(0,self.n-1):\r\n",
        "        q = 1 #number of quadrature points\r\n",
        "        A = np.zeros((q+1,q+1))\r\n",
        "        b = np.zeros((q+1))\r\n",
        "        for i in range(q+1):\r\n",
        "          b[i] = self.integrate_vector(f,k,i)\r\n",
        "          for j in range(q+1):\r\n",
        "            A[i,j] = self.integrate_matrix(k,i,j)\r\n",
        "        self.add_to_global_vector(b,k)\r\n",
        "        self.add_to_global_matrix(A,k)\r\n",
        "\r\n",
        "\r\n",
        "  def integrate_matrix(self,k, i, j):\r\n",
        "    return integrate.quad(lambda x: (1+i)*x**(2*i+1), self.mesh[k], self.mesh[k+1])[0]\r\n",
        "\r\n",
        "\r\n",
        "  def integrate_vector(self, f, k, i):\r\n",
        "    return integrate.quad(lambda x: f(x) * x**(i+1), self.mesh[k], self.mesh[k+1])[0]\r\n",
        "\r\n",
        "  def add_to_global_vector(self, b, k):\r\n",
        "    self.globalb[k] += b[0]\r\n",
        "    self.globalb[k+1] += b[1]\r\n",
        "                \r\n",
        "  def add_to_global_matrix(self, A, k):\r\n",
        "    self.globalM[k,k] += A[0,0]\r\n",
        "    self.globalM[k,k+1] += A[0,1]\r\n",
        "    self.globalM[k+1,k] += A[1,0]\r\n",
        "    self.globalM[k+1,k+1] = +A[1,1]\r\n",
        "\r\n",
        "  def l2projection(self,f):\r\n",
        "    self.assemble_system(f)\r\n",
        "    return np.linalg.solve(self.globalM, self.globalb)\r\n",
        "\r\n",
        "def boundary(x):\r\n",
        "    return x[0] < DOLFIN_EPS or x[0] > 1.0 - DOLFIN_EPS\r\n",
        "if __name__ == '__main__':\r\n",
        "\r\n",
        "  dim = 1\r\n",
        "  meshdim = 15\r\n",
        "  mesh = meshgen(dim,meshdim,xlen = 1)\r\n",
        "  f = lambda x: np.sin(x)\r\n",
        "  O = L2_Poisson(mesh,meshdim,dim)  \r\n",
        "  alpha = O.l2projection(f)\r\n",
        "  plt.plot(mesh,alpha,'orange',label='L2-approx')\r\n",
        "  #plt.plot(mesh,f(mesh),'r',label = 'real function')\r\n",
        "  plt.xlabel('x')\r\n",
        "  plt.ylabel('y')\r\n",
        "  plt.xlabel('meshpoints')\r\n",
        "  plt.ylabel('Solution to the Poisson equation')\r\n",
        "  #mesh = UnitSquareMesh(meshdim, 0)\r\n",
        "  #V = FunctionSpace(mesh, \"Lagrange\", 1)\r\n",
        "  #u0 = Constant(0.0)\r\n",
        "  #bc = DirichletBC(V, u0, boundary)\r\n",
        "  #u = TrialFunction(V)\r\n",
        "  #v = TestFunction(V)\r\n",
        "  #f = Expression(\"sin(x[0])\")\r\n",
        "  #g = Expression(\"0*x[0]\")\r\n",
        "  #a = inner(grad(u), grad(v))*dx\r\n",
        "  #L = f*v*dx + g*v*ds\r\n",
        "  #u = Function(V)\r\n",
        "  #solve(a == L, u, bc)\r\n",
        "  #print(u)\r\n",
        "  "
      ],
      "execution_count": 18,
      "outputs": [
        {
          "output_type": "display_data",
          "data": {
            "image/png": "[encoded data removed]",
            "text/plain": [
              "<Figure size 432x288 with 1 Axes>"
            ]
          },
          "metadata": {
            "tags": [],
            "needs_background": "light"
          }
        }
      ]
    },
    {
      "cell_type": "markdown",
      "metadata": {
        "id": "_4GLBv0zWr7m"
      },
      "source": [
        "# **Discussion**"
      ]
    },
    {
      "cell_type": "markdown",
      "metadata": {
        "id": "6bcsDSoRXHZe"
      },
      "source": [
        "Regarding the comparison for the Poisson problem I tried to install fenics but had some issues with importing Dolfin. The result looks by the way very odd.\r\n",
        "\r\n",
        "I worked quite alot to try to solve the 2dim problem.  But I didn't figure out a nice way to integrate over the mesh yet. Maybe I learn a nice method next week :) I would be awesome to learn how the methods for 3d. I believe though that they are pretty similar to the 2d case."
      ]
    }
  ]
}
{
  "nbformat": 4,
  "nbformat_minor": 0,
  "metadata": {
    "colab": {
      "name": "szaboda_lab5",
      "provenance": [],
      "collapsed_sections": []
    },
    "kernelspec": {
      "display_name": "Python 3",
      "language": "python",
      "name": "python3"
    },
    "language_info": {
      "codemirror_mode": {
        "name": "ipython",
        "version": 3
      },
      "file_extension": ".py",
      "mimetype": "text/x-python",
      "name": "python",
      "nbconvert_exporter": "python",
      "pygments_lexer": "ipython3",
      "version": "3.8.3"
    }
  },
  "cells": [
    {
      "cell_type": "markdown",
      "metadata": {
        "id": "6RgtXlfYO_i7"
      },
      "source": [
        "# **Lab 5: Integration**\n",
        "**Dániel Szabó**"
      ]
    },
    {
      "cell_type": "markdown",
      "metadata": {
        "id": "9x_J5FVuPzbm"
      },
      "source": [
        "# **Abstract**"
      ]
    },
    {
      "cell_type": "markdown",
      "metadata": {
        "id": "yJipbXtnjrJZ"
      },
      "source": [
        "This laboratory is about approximating definite integrals of functions. Given a function $f: D\\to R$ and a subset of the domain $S\\subseteq D$ the task is to approximately determine the value of $\\int_S f(x) dx$. For this, we will use Gauss and Monte Carlo quadrature in this lab."
      ]
    },
    {
      "cell_type": "markdown",
      "metadata": {
        "id": "OkT8J7uOWpT3"
      },
      "source": [
        "#**About the code**"
      ]
    },
    {
      "cell_type": "code",
      "metadata": {
        "colab": {
          "base_uri": "https://localhost:8080/",
          "height": 35
        },
        "id": "Pdll1Xc9WP0e",
        "outputId": "9f051574-59ee-4567-a6d5-62a8ae401f3e"
      },
      "source": [
        "\"\"\"DD2363 Methods in Scientific Computing, \"\"\"\n",
        "\"\"\"KTH Royal Institute of Technology, Stockholm, Sweden.\"\"\"\n",
        "\n",
        "# Copyright (C) 2021 Dániel Szabó (dszabo@kth.se)\n",
        "\n",
        "# This file is part of the course DD2365 Methods in Scientific Computing\n",
        "# KTH Royal Institute of Technology, Stockholm, Sweden\n",
        "#\n",
        "# This is free software: you can redistribute it and/or modify\n",
        "# it under the terms of the GNU Lesser General Public License as published by\n",
        "# the Free Software Foundation, either version 3 of the License, or\n",
        "# (at your option) any later version.\n",
        "\n",
        "# This template is maintained by Johan Hoffman\n",
        "# Please report problems to jhoffman@kth.se"
      ],
      "execution_count": 1,
      "outputs": [
        {
          "output_type": "execute_result",
          "data": {
            "application/vnd.google.colaboratory.intrinsic+json": {
              "type": "string"
            },
            "text/plain": [
              "'KTH Royal Institute of Technology, Stockholm, Sweden.'"
            ]
          },
          "metadata": {
            "tags": []
          },
          "execution_count": 1
        }
      ]
    },
    {
      "cell_type": "markdown",
      "metadata": {
        "id": "28xLGz8JX3Hh"
      },
      "source": [
        "# **Set up environment**"
      ]
    },
    {
      "cell_type": "code",
      "metadata": {
        "id": "Xw7VlErAX7NS"
      },
      "source": [
        "# Load neccessary modules.\n",
        "import numpy as np\n",
        "import scipy.integrate as integrate\n",
        "import random\n",
        "from matplotlib import pyplot as plt\n",
        "\n",
        "random.seed(0)"
      ],
      "execution_count": 2,
      "outputs": []
    },
    {
      "cell_type": "markdown",
      "metadata": {
        "id": "gnO3lhAigLev"
      },
      "source": [
        "# **Introduction**"
      ]
    },
    {
      "cell_type": "markdown",
      "metadata": {
        "id": "l5zMzgPlRAF6"
      },
      "source": [
        "In the Gauss quadrature, we have $q+1$ quadrature points, and the approximation of the integral is calculated as a weighted sum of the function values at these points. This way, the result is exact for any polynomial up to degree $2q+1$. Using this fact, the quadrature points and the weights can be calculated: for any polynomial $p$ of degree at most $2q+1$ the following holds: $\\int_S p(x)dx=\\sum_{j=0}^q w_jp(x_j)$. It is equivalent to solving a system of equations with an arbitrary polynomial basis $\\{\\varphi_i\\}_{i=0}^{2q+1}$ of the $2q+1$-degree polynomials: $\\forall i\\in\\{0,1,\\dots,2q+1\\}\\ \\int_S\\varphi_i(x) dx=\\sum_{j=0}^qw_j\\varphi_i(x_j)$.\r\n",
        "\r\n",
        "The Monte Carlo quadrature works similarly, but the quadrature points are generated uniformly at random over the set $S$; and the weights are $|S|/n$ for each point, where $n$ is the number of generated quadrature points. Based on the law of large numbers, we know that for large $n$'s $\\int_Sf(x)dx\\approx\\frac{|S|}{n}\\sum_{i=1}^nf(x_i)$. By the central limit theorem, the rate of convergence is $\\Theta(1/\\sqrt{n})$.\r\n",
        "\r\n",
        "The first task is to implement a 2-point Gauss quadrature over the unit interval. The second one is a bivariate version of Gauss quadrature: 3-point edge midpoint quadrature over a reference triangle. In the third task, a Monte Carlo quadrature over the unit interval is to be implemented. The fourth, extra assignment is a bivariate version of the third task: Monte Carlo quadrature over a reference triangle."
      ]
    },
    {
      "cell_type": "markdown",
      "metadata": {
        "id": "jOQvukXZq5U5"
      },
      "source": [
        "# **Method**"
      ]
    },
    {
      "cell_type": "markdown",
      "metadata": {
        "id": "z6JL3_BmO533"
      },
      "source": [
        "1. 2-point Gauss quadrature over a unit interval. The main problem in this assignment was not the implementation (it is just a weighted sum of some values of a given function: $\\sum_{i=0}^1w_if(x_i)$), but determining the weights and the quadrature points. \r\n",
        "\r\n",
        " The calculation was done in the way that was desribed in the Introduction part of this report, and similarly to Example 11.3 of the lecture notes. (For the problems task 11.3, the calculation was also done by using a coordinate map, and it gave the same results as this method.) We know that the approximation is exact for any polynomial of degree at most 3, i.e. $\\int_0^1\\sum_{i=0}^3c_ix^idx=w_0\\sum_{i=0}^3c_ix_0^i+w_1\\sum_{i=0}^3c_ix_1^i$. It can be rearranged into equation $c_0(1-w_0-w_1)+c_1(1/2-w_0x_0-w_1x_1)+c_2(1/3-w_0x_0^2-w_1x_1^2)+c_3(1/4-w_0x_0^3-w_1x_1^3)=0$, which has to hold for any values of coefficients $c_i$. It means that the four parenthesized expressions all need to be zero. Solving this system of equations, we get the following: $w_0=w_1=1/2,\\ x_0=\\frac{1}{2}(1-\\frac{1}{\\sqrt{3}}),\\ x_1=\\frac{1}{2}(1+\\frac{1}{\\sqrt{3}})$."
      ]
    },
    {
      "cell_type": "code",
      "metadata": {
        "id": "ssmy6-QItYcC"
      },
      "source": [
        "def gauss2(f):\n",
        "    w0, w1 = 0.5, 0.5\n",
        "    x0, x1 = 0.5*(1-1/(3**0.5)), 0.5*(1+1/(3**0.5))\n",
        "    return w0*f(x0) + w1*f(x1)"
      ],
      "execution_count": 3,
      "outputs": []
    },
    {
      "cell_type": "markdown",
      "metadata": {
        "id": "R2xSvV2WTTq2"
      },
      "source": [
        "2. 3-point edge midpoint quadrature over a reference triangle. We use the reference triangle with vertices $A=(0,0)$, $B=(0,1)$, $C=(1,0)$. This way, the midpoints of the edges are $x_0=(0,0.5)$, $x_1=(0.5,0)$, $x_2=(0.5,0.5)$. The weights can be calculated similarly to the previous task: we know that the approximation is exact for all quadratic bivariate functions $f(x)=c_0+c_1x[0]+c_2x[1]+c_3x[0]x[1]+c_4x[0]^2+c_5x[1]^2$. Example 11.5 gives us the result: $w_0=w_1=w_2=1/6$.\r\n",
        "\r\n",
        " The code just calculates the weighted sum $\\sum_{i=0}^2w_if(x_i)$."
      ]
    },
    {
      "cell_type": "code",
      "metadata": {
        "id": "2sX3a4hVTT8e"
      },
      "source": [
        "def midpoint3(f):\r\n",
        "    x0, x1, x2 = [0,0.5], [0.5,0], [0.5,0.5]\r\n",
        "    w0, w1, w2 = 1/6, 1/6, 1/6\r\n",
        "    return w0*f(x0) + w1*f(x1) + w2*f(x2)"
      ],
      "execution_count": 4,
      "outputs": []
    },
    {
      "cell_type": "markdown",
      "metadata": {
        "id": "gaIVmtdlTXGO"
      },
      "source": [
        "3. Monte Carlo quadrature over a unit interval. The method has two inputs: the function $f$ and the number $n$ of quadrature points. It generates $n$ values $\\{x_i\\}_{i=1}^n$ uniformly from interval $[0,1]$ and returns the average $\\frac{1}{n}\\sum_{i=1}^nf(x_i)$ (the size of the set we integrate over is one: $|S|=|[0,1]|=1$)."
      ]
    },
    {
      "cell_type": "code",
      "metadata": {
        "id": "aWORSWsiTXhv"
      },
      "source": [
        "def mcunit(f, n):\r\n",
        "    if n <= 0: raise Exception(\"The number of quadrature points should be positive.\")\r\n",
        "    sum = 0\r\n",
        "    for i in range(n):\r\n",
        "        xi = random.uniform(0,1)\r\n",
        "        sum += f(xi)\r\n",
        "    return sum/n"
      ],
      "execution_count": 5,
      "outputs": []
    },
    {
      "cell_type": "markdown",
      "metadata": {
        "id": "GI4N6hx7TZjt"
      },
      "source": [
        "4. Monte Carlo quadrature over a reference triangle. Similarly to the previous task, the number of quadrature points is also part of the input. We generate $n$ points $\\{x_i\\}_{i=1}^n$ (where each $x_i$ is from $\\mathbb{R}^2$) uniformly over the reference triangle given by vertices $A=(0,0),\\ B=(0,1),\\ C=(1,0)$. The result is $\\frac{1}{2n}\\sum_{i=1}^nf(x_i)$, because the size of $S$ (the area of the triangle) is 1/2, so the weights are $\\frac{|S|}{n}=\\frac{1}{2n}$.\r\n",
        "\r\n",
        " But how do we calculate uniformly random points over our reference triangle? It can be shown that if $r_1$ and $r_2$ are drawn from the uniform distribution over $[0,1]$, then point $((1-r_2)\\sqrt{r_1},\\ r_2\\sqrt{r_1})$ is uniformly distributed over our reference triangle (see https://math.stackexchange.com/questions/18686/uniform-random-point-in-triangle-in-3d)."
      ]
    },
    {
      "cell_type": "code",
      "metadata": {
        "id": "xp-tt4EHTZ1K"
      },
      "source": [
        "def mctriangle(f, n):\r\n",
        "    if n <= 0: raise Exception(\"The number of quadrature points should be positive.\")\r\n",
        "    sum = 0\r\n",
        "    for i in range(n):\r\n",
        "        r1 = random.uniform(0,1)\r\n",
        "        r2 = random.uniform(0,1)\r\n",
        "        xi = [(r1**0.5)*(1-r2), r2*(r1**0.5)] # uniform over ref. triangle\r\n",
        "        sum += f(xi)\r\n",
        "    return sum/n/2"
      ],
      "execution_count": 6,
      "outputs": []
    },
    {
      "cell_type": "markdown",
      "metadata": {
        "id": "SsQLT38gVbn_"
      },
      "source": [
        "# **Results**"
      ]
    },
    {
      "cell_type": "markdown",
      "metadata": {
        "id": "5ex82xWN7Xgf"
      },
      "source": [
        "The verification of the methods is done by computing the results for a random function. For tasks 1 and 3 it is a univariate polynomial $f$ of degree 3, and for tasks 2 and 4 it is a quadratic bivariate polynomial $g$. The coefficients of the polynomials are drawn from the standard normal distribution. Method \"f\" returns the value of $f$ at a given point, and \"g\" is the same for function $g$."
      ]
    },
    {
      "cell_type": "code",
      "metadata": {
        "id": "2f8ZkAbMtYcC"
      },
      "source": [
        "f_coeffs = []\n",
        "g_coeffs = []\n",
        "for i in range(4):\n",
        "    f_coeffs.append(random.gauss(0,1))\n",
        "for i in range(6):\n",
        "    g_coeffs.append(random.gauss(0,1))\n",
        "    \n",
        "def f(x):\n",
        "    sum = 0\n",
        "    for i in range(4):\n",
        "        sum += f_coeffs[i] * x**i\n",
        "    return sum\n",
        "    \n",
        "def g(x):\n",
        "    return g_coeffs[0]*x[0]*x[0] + g_coeffs[1]*x[1]*x[1] + g_coeffs[2]*x[0]*x[1] + g_coeffs[3]*x[0] + g_coeffs[4]*x[1] + g_coeffs[5]"
      ],
      "execution_count": 7,
      "outputs": []
    },
    {
      "cell_type": "markdown",
      "metadata": {
        "id": "ex_rLKGx8XoH"
      },
      "source": [
        "1. For the verification of task 1, we calculate the exact value of the integral using the scipy.integrate.quad method, and then the approximation given by our method. As the 2-point Gauss quadrature is exact for polynomials of degree at most 3, it should be the same as the exact solution (but of course some minor differences are possible beacuse computer calculations are imprecise)."
      ]
    },
    {
      "cell_type": "code",
      "metadata": {
        "id": "9EP27L-_8X0G"
      },
      "source": [
        "corrf = integrate.quad(f, 0, 1)[0]\r\n",
        "res1 = gauss2(f)\r\n",
        "np.testing.assert_almost_equal(res1,corrf)"
      ],
      "execution_count": 8,
      "outputs": []
    },
    {
      "cell_type": "markdown",
      "metadata": {
        "id": "OI0wrvZS9vqP"
      },
      "source": [
        "2. For the verification of task 2, we calculate the exact value of the integral using the scipy.integrate.dblquad method, and then the approximation given by our method. As the 3-point edge midpoint quadrature is exact for quadratic polynomials, it should be the same as the exact solution (but of course some minor differences are possible beacuse computer calculations are imprecise)."
      ]
    },
    {
      "cell_type": "code",
      "metadata": {
        "id": "wfDEtu-m9v1o"
      },
      "source": [
        "corrg = integrate.dblquad(lambda x,y: g([x,y]), 0, 1, lambda x: 0, lambda x: 1-x)[0]\r\n",
        "res2 = midpoint3(g)\r\n",
        "np.testing.assert_almost_equal(res2,corrg)"
      ],
      "execution_count": 9,
      "outputs": []
    },
    {
      "cell_type": "markdown",
      "metadata": {
        "id": "4jh0PXMH9wCV"
      },
      "source": [
        "3. For the verification of task 3, we calculate the exact value of the integral using the scipy.integrate.quad method, and then the approximations given by our method for different numbers of quadrature points (from 9 to 4999). For each case, the error is calculated and collected into an array. Finally, the content of this array is plotted together with function $1/\\sqrt{x}$ for $x\\in [9,4999]$. It is clearly visible that the two plots are very close to each other, which verifies the fact that the convergence rate is $\\Theta(1/\\sqrt{x})$."
      ]
    },
    {
      "cell_type": "code",
      "metadata": {
        "colab": {
          "base_uri": "https://localhost:8080/",
          "height": 265
        },
        "id": "nAnFk6579wMF",
        "outputId": "df9c67fe-4427-4a10-b36b-c707417af320"
      },
      "source": [
        "corrf = integrate.quad(f, 0, 1)[0]\r\n",
        "res3 = []\r\n",
        "for n in range(9, 5000):\r\n",
        "    res = mcunit(f,n)\r\n",
        "    error = np.abs(res-corrf)\r\n",
        "    res3.append(error)\r\n",
        "plt.figure()\r\n",
        "plt.plot(res3)\r\n",
        "plt.plot([1/(x**(0.5)) for x in range(9,5000)])\r\n",
        "plt.show()"
      ],
      "execution_count": 10,
      "outputs": [
        {
          "output_type": "display_data",
          "data": {
            "image/png": "[encoded data removed]",
            "text/plain": [
              "<Figure size 432x288 with 1 Axes>"
            ]
          },
          "metadata": {
            "tags": [],
            "needs_background": "light"
          }
        }
      ]
    },
    {
      "cell_type": "markdown",
      "metadata": {
        "id": "eEpZhthV9wT9"
      },
      "source": [
        "4. For the verification of task 4, we calculate the exact value of the integral using the scipy.integrate.dblquad method, and then the approximations given by our method for different numbers of quadrature points (from 9 to 4999). For each case, the error is calculated and collected into an array. Finally, the content of this array is plotted together with function $1/(2\\sqrt{x})$ for $x\\in [9,4999]$. It is clearly visible that the two plots are very close to each other, which verifies the fact that the convergence rate is $\\Theta(1/\\sqrt{x})$."
      ]
    },
    {
      "cell_type": "code",
      "metadata": {
        "colab": {
          "base_uri": "https://localhost:8080/",
          "height": 265
        },
        "id": "SCEQM2-r9wcm",
        "outputId": "afcdc6d3-6149-4d3b-9744-c83553637720"
      },
      "source": [
        "corrg = integrate.dblquad(lambda x,y: g([x,y]), 0, 1, lambda x: 0, lambda x: 1-x)[0]\r\n",
        "res4 = []\r\n",
        "for n in range(9, 5000):\r\n",
        "    res = mctriangle(g,n)\r\n",
        "    error = np.abs(res-corrg)\r\n",
        "    res4.append(error)\r\n",
        "plt.figure()\r\n",
        "plt.plot(res4)\r\n",
        "plt.plot([1/(x**(0.5)*2) for x in range(9,5000)])\r\n",
        "plt.show()"
      ],
      "execution_count": 11,
      "outputs": [
        {
          "output_type": "display_data",
          "data": {
            "image/png": "[encoded data removed]",
            "text/plain": [
              "<Figure size 432x288 with 1 Axes>"
            ]
          },
          "metadata": {
            "tags": [],
            "needs_background": "light"
          }
        }
      ]
    },
    {
      "cell_type": "markdown",
      "metadata": {
        "id": "_4GLBv0zWr7m"
      },
      "source": [
        "# **Discussion**"
      ]
    },
    {
      "cell_type": "markdown",
      "metadata": {
        "id": "6bcsDSoRXHZe"
      },
      "source": [
        "The methods, implemented for solving the tasks, actually succeeded in solving them, as it is confirmed by the test results.\n",
        "\n",
        "In the testing of tasks 3 and 4, the range (9, 5000) was chosen for the following reasons: computations for too many points take a lot of time; for very small values of $n$, the results are not that important, as they are good approximations only for large $n$'s; and including small values of $n$ would also make the differences close to the right hand side of the plot less visible."
      ]
    }
  ]
}
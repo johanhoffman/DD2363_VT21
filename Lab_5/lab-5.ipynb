{
 "cells": [
  {
   "cell_type": "markdown",
   "metadata": {
    "colab_type": "text",
    "id": "view-in-github"
   },
   "source": [
    "<a href=\"https://colab.research.google.com/github/johanhoffman/DD2363-VT20/blob/master/template-report-lab-X.ipynb\" target=\"_parent\"><img src=\"https://colab.research.google.com/assets/colab-badge.svg\" alt=\"Open In Colab\"/></a>"
   ]
  },
  {
   "cell_type": "markdown",
   "metadata": {
    "colab_type": "text",
    "id": "6RgtXlfYO_i7"
   },
   "source": [
    "# **Lab 5: Integration**\n",
    "**Hilaire Bouaddi**"
   ]
  },
  {
   "cell_type": "markdown",
   "metadata": {
    "colab_type": "text",
    "id": "9x_J5FVuPzbm"
   },
   "source": [
    "# **Abstract**"
   ]
  },
  {
   "cell_type": "markdown",
   "metadata": {
    "colab_type": "text",
    "id": "6UFTSzW7P8kL"
   },
   "source": [
    "This lab consisted of implementing 3 functions to approximate integrals. The 2 first functions are deterministic while the monte-carlo function is based on stochastic methods. "
   ]
  },
  {
   "cell_type": "markdown",
   "metadata": {
    "colab_type": "text",
    "id": "28xLGz8JX3Hh"
   },
   "source": [
    "# **Set up environment**"
   ]
  },
  {
   "cell_type": "code",
   "execution_count": 69,
   "metadata": {
    "ExecuteTime": {
     "end_time": "2021-02-24T21:20:48.635967Z",
     "start_time": "2021-02-24T21:20:48.617974Z"
    },
    "colab": {},
    "colab_type": "code",
    "id": "Xw7VlErAX7NS"
   },
   "outputs": [],
   "source": [
    "import time\n",
    "import numpy as np\n",
    "\n",
    "from matplotlib import pyplot as plt\n",
    "from matplotlib import tri\n",
    "from matplotlib import axes\n",
    "from mpl_toolkits.mplot3d import Axes3D"
   ]
  },
  {
   "cell_type": "markdown",
   "metadata": {
    "colab_type": "text",
    "id": "gnO3lhAigLev"
   },
   "source": [
    "# **Introduction**"
   ]
  },
  {
   "cell_type": "markdown",
   "metadata": {
    "colab_type": "text",
    "id": "l5zMzgPlRAF6"
   },
   "source": [
    "For the first function, we will implemement a 2-point Gauss quadrature over the unit interval. Thanks to the Problems assignment, we know that the points for such an prroximation are: \n",
    "$x_0 = \\frac{\\sqrt 3 + 1}{2\\sqrt 3}$, $x_1 = \\frac{\\sqrt 3 - 1}{2\\sqrt 3}$ and $w_0 = w_1 = 0.5$.\n",
    "\n",
    "We can then compute $\\int_0^1 p(x)dx = p(x_0)w_0 + p(x_1)w_1$ \n",
    "\n",
    "For the 2nd function, we know from the course that we should pick the midpoints of the three edges of the reference triangle. That means that: \n",
    "$v_0 = (0.5, 0)$, $v_1 = (0, 0.5)$, $v_2 = (0.5, 0.5)$ and $w_0 = w_1 = w_2 = 1/6$\n",
    "\n",
    "\n",
    "Lastly for the 3rd function, we will use the Monte Carlo integration: \n",
    "\n",
    "$\\int_D g(x)dx \\approx \\frac{|D|}{n} \\sum_{i=1}^n{g(x_i)}$ (here $|D| = 1$)"
   ]
  },
  {
   "cell_type": "markdown",
   "metadata": {
    "colab_type": "text",
    "id": "jOQvukXZq5U5"
   },
   "source": [
    "# **Method**"
   ]
  },
  {
   "cell_type": "markdown",
   "metadata": {
    "colab_type": "text",
    "id": "zF4iBj5VURZx"
   },
   "source": [
    "Describe the methods you used to solve the problem. This may be a combination of text, mathematical formulas (Latex), algorithms (code), data and output.  "
   ]
  },
  {
   "cell_type": "markdown",
   "metadata": {},
   "source": [
    "## Function: 2-point Gauss quadrature over a unit interval"
   ]
  },
  {
   "cell_type": "markdown",
   "metadata": {},
   "source": [
    "Input: function f(x) \n",
    "\n",
    "Output: quadrature approximation of integral $\\int_0^1 f(x) dx$"
   ]
  },
  {
   "cell_type": "code",
   "execution_count": 80,
   "metadata": {
    "ExecuteTime": {
     "end_time": "2021-02-24T21:28:31.500705Z",
     "start_time": "2021-02-24T21:28:31.492343Z"
    }
   },
   "outputs": [],
   "source": [
    "def gauss_2_points_quadrature_over_unit_interval(f):\n",
    "    \n",
    "    x_0 = (np.sqrt(3) + 1) / (2*np.sqrt(3))\n",
    "    x_1 = (np.sqrt(3) - 1) / (2*np.sqrt(3))\n",
    "    \n",
    "    w_0 = 1/2\n",
    "    w_1 = 1/2\n",
    "    \n",
    "    return f(x_0)*w_0 + f(x_1)*w_1 "
   ]
  },
  {
   "cell_type": "markdown",
   "metadata": {},
   "source": [
    "## Function: 3-point edge midpoint quadrature over a reference triangle"
   ]
  },
  {
   "cell_type": "markdown",
   "metadata": {},
   "source": [
    "Input: function f(x) \n",
    "\n",
    "Output: quadrature approximation of integral int_ref-triangle f(x) dx"
   ]
  },
  {
   "cell_type": "code",
   "execution_count": 81,
   "metadata": {
    "ExecuteTime": {
     "end_time": "2021-02-24T21:28:31.919540Z",
     "start_time": "2021-02-24T21:28:31.911863Z"
    }
   },
   "outputs": [],
   "source": [
    "def midpoint_quadrature_ref_triangle(f): \n",
    "    v_0 = np.array([0.5, 0])\n",
    "    v_1 = np.array([0, 0.5])\n",
    "    v_2 = np.array([1/2, 1/2])\n",
    "    \n",
    "    w_0 = 1/6\n",
    "    w_1 = 1/6\n",
    "    w_2 = 1/6\n",
    "    \n",
    "    return f(v_0)*w_0 + f(v_1)*w_1 + f(v_2)*w_2"
   ]
  },
  {
   "cell_type": "markdown",
   "metadata": {},
   "source": [
    "## Monte Carlo quadrature over a unit interval"
   ]
  },
  {
   "cell_type": "markdown",
   "metadata": {},
   "source": [
    "Input: a function f(x) \n",
    "\n",
    "Output: MC quadrature approximation of integral $\\int_0^1 f(x) dx$"
   ]
  },
  {
   "cell_type": "code",
   "execution_count": 82,
   "metadata": {
    "ExecuteTime": {
     "end_time": "2021-02-24T21:28:32.330072Z",
     "start_time": "2021-02-24T21:28:32.322074Z"
    }
   },
   "outputs": [],
   "source": [
    "def MC_quadrature_approx_unit(f, n=1000):\n",
    "    \n",
    "    return np.mean([f(s) for s in np.random.rand(n)])\n"
   ]
  },
  {
   "cell_type": "markdown",
   "metadata": {
    "colab_type": "text",
    "id": "SsQLT38gVbn_"
   },
   "source": [
    "# **Results**"
   ]
  },
  {
   "cell_type": "markdown",
   "metadata": {
    "colab_type": "text",
    "id": "RLwlnOzuV-Cd"
   },
   "source": [
    "Present the results. If the result is an algorithm that you have described under the *Methods* section, you can present the data from verification and performance tests in this section. If the result is the output from a computational experiment this is where you present a selection of that data. "
   ]
  },
  {
   "cell_type": "markdown",
   "metadata": {},
   "source": [
    "## Testing 2-point Gauss quadrature over a unit interval"
   ]
  },
  {
   "cell_type": "code",
   "execution_count": 83,
   "metadata": {
    "ExecuteTime": {
     "end_time": "2021-02-24T21:28:32.907811Z",
     "start_time": "2021-02-24T21:28:32.900817Z"
    }
   },
   "outputs": [],
   "source": [
    "class polynomial:\n",
    "    def __init__(self, a, b, c, d):\n",
    "        self.a = a\n",
    "        self.b = b\n",
    "        self.c = c\n",
    "        self.d = d\n",
    "    \n",
    "    def __call__(self, x):\n",
    "        return self.a*x**3 + self.b*x**2 + self.c*x + self.d"
   ]
  },
  {
   "cell_type": "code",
   "execution_count": 84,
   "metadata": {
    "ExecuteTime": {
     "end_time": "2021-02-24T21:28:33.063847Z",
     "start_time": "2021-02-24T21:28:33.049202Z"
    }
   },
   "outputs": [],
   "source": [
    "p = polynomial(2, 5, 3, 1)"
   ]
  },
  {
   "cell_type": "markdown",
   "metadata": {},
   "source": [
    "We have $p(x) = 2x^3 + 5x^2 + 3x + 1$, that means that we expect: \n",
    "$\\int_0^1{p(x)dx} = [\\frac 1 2 x^4 + \\frac 5 3 x^3 + \\frac 3 2 x^2 + x]_0^1 = \\frac 1 2 + \\frac 5 3 + \\frac 3 2 + 1 = \\frac{14} 3 \\approx 4.66$"
   ]
  },
  {
   "cell_type": "code",
   "execution_count": 85,
   "metadata": {
    "ExecuteTime": {
     "end_time": "2021-02-24T21:28:33.374857Z",
     "start_time": "2021-02-24T21:28:33.360860Z"
    }
   },
   "outputs": [
    {
     "data": {
      "text/plain": [
       "4.666666666666666"
      ]
     },
     "execution_count": 85,
     "metadata": {},
     "output_type": "execute_result"
    }
   ],
   "source": [
    "gauss_2_points_quadrature_over_unit_interval(p)"
   ]
  },
  {
   "cell_type": "markdown",
   "metadata": {},
   "source": [
    "We can see that we were able to give the \"exact\" result. This corresponds to the theory since the polynomial has degree $\\leq$ 3. "
   ]
  },
  {
   "cell_type": "markdown",
   "metadata": {},
   "source": [
    "## Testing 3-point edge midpoint quadrature over a reference triangle"
   ]
  },
  {
   "cell_type": "markdown",
   "metadata": {
    "ExecuteTime": {
     "end_time": "2021-02-24T19:41:25.064878Z",
     "start_time": "2021-02-24T19:41:25.058131Z"
    }
   },
   "source": [
    "We will take as example the quadratic integrand $p(v) = x^2 + 2y^2 +xy + 4x$ with $v = (x, y)$. "
   ]
  },
  {
   "cell_type": "markdown",
   "metadata": {},
   "source": [
    "We can compute the integral over a reference triangle by hand. First, let D be the the domain, the reference triangle. \n",
    "Then we have $D = \\{(x, y) \\in \\mathbb{R^2}, x\\in [0, 1], y \\in [0, 1-x]\\}$\n",
    "\n",
    "We can then compute \n",
    "\n",
    "\n",
    "$\n",
    "\\begin{align*}\n",
    "    \\int_D p(v) dv &= \\int_0^1 \\int_0^{1-x} (x^2 + 2y^2 +xy + 4x)dy\\;dx \\\\ \n",
    "    &= 23/24 \\\\\n",
    "    &\\approx 0.95833\n",
    "\\end{align*}\n",
    "$"
   ]
  },
  {
   "cell_type": "code",
   "execution_count": 86,
   "metadata": {
    "ExecuteTime": {
     "end_time": "2021-02-24T21:28:34.173804Z",
     "start_time": "2021-02-24T21:28:34.160797Z"
    }
   },
   "outputs": [],
   "source": [
    "class quadratic_integrand:\n",
    "    \n",
    "    def __init__(self, x2, y2, xy, x, y, c):\n",
    "        self.x2 = x2\n",
    "        self.y2 = y2\n",
    "        self.xy = xy\n",
    "        self.x = x\n",
    "        self.y = y\n",
    "        self.c = c\n",
    "        \n",
    "    def __call__(self, v):\n",
    "        return self.x2*v[0]**2 + self.y2*v[1]**2 + self.xy*v[0]*v[1] + self.x * v[0] + self.y * v[1] + self.c\n",
    "\n",
    "qi = quadratic_integrand(1, 2, 1, 4, 0, 0)"
   ]
  },
  {
   "cell_type": "code",
   "execution_count": 87,
   "metadata": {
    "ExecuteTime": {
     "end_time": "2021-02-24T21:28:34.346674Z",
     "start_time": "2021-02-24T21:28:34.332667Z"
    }
   },
   "outputs": [
    {
     "data": {
      "text/plain": [
       "0.9583333333333333"
      ]
     },
     "execution_count": 87,
     "metadata": {},
     "output_type": "execute_result"
    }
   ],
   "source": [
    "midpoint_quadrature_ref_triangle(qi)"
   ]
  },
  {
   "cell_type": "markdown",
   "metadata": {},
   "source": [
    "This is what we expected. The result shows that we managed to exactly approximate the integral. "
   ]
  },
  {
   "cell_type": "markdown",
   "metadata": {},
   "source": [
    "## Testing Monte Carlo quadrature over a unit interval"
   ]
  },
  {
   "cell_type": "markdown",
   "metadata": {},
   "source": [
    "Test: verify convergence rate 1/sqrt(n) with respect to number of quadrature points n. "
   ]
  },
  {
   "cell_type": "markdown",
   "metadata": {},
   "source": [
    "We will use the function $f(x) = x^2 + cos(x)$. We know that \n",
    "\n",
    "$\n",
    "\\begin{align*}\n",
    " \\int_0^1 f(x) dx &= \\int_0^1 (x^2 + cos(x)) dx \\\\ &= [1/3x^3 + sin(x)]_0^1 \\\\ &= \\frac 1 3 +sin(1) \\approx 1.17480\n",
    "\\end{align*}\n",
    "$"
   ]
  },
  {
   "cell_type": "code",
   "execution_count": 90,
   "metadata": {
    "ExecuteTime": {
     "end_time": "2021-02-24T21:28:46.956297Z",
     "start_time": "2021-02-24T21:28:45.373013Z"
    }
   },
   "outputs": [],
   "source": [
    "class functionMC:\n",
    "    def __call__(self, x):\n",
    "        return np.cos(x) + x**2\n",
    "\n",
    "f = functionMC()\n",
    "results = []\n",
    "ns = []\n",
    "for sqrt_n in range(1, 100):\n",
    "    n = sqrt_n ** 2\n",
    "    ns.append(n)\n",
    "    results.append(MC_quadrature_approx_unit(f, n))"
   ]
  },
  {
   "cell_type": "code",
   "execution_count": 91,
   "metadata": {
    "ExecuteTime": {
     "end_time": "2021-02-24T21:28:48.816484Z",
     "start_time": "2021-02-24T21:28:48.449488Z"
    }
   },
   "outputs": [
    {
     "data": {
      "text/plain": [
       "<matplotlib.legend.Legend at 0x246fbcb8ac0>"
      ]
     },
     "execution_count": 91,
     "metadata": {},
     "output_type": "execute_result"
    },
    {
     "data": {
      "image/png": "[encoded data removed]",
      "text/plain": [
       "<Figure size 432x288 with 1 Axes>"
      ]
     },
     "metadata": {
      "needs_background": "light"
     },
     "output_type": "display_data"
    }
   ],
   "source": [
    "sigma_f = 1/(np.sqrt(12))\n",
    "theoretical_value = (1/3 + np.sin(1))\n",
    "\n",
    "plt.plot(ns, np.abs(results - theoretical_value), label='error')\n",
    "plt.plot(ns, sigma_f/np.sqrt(ns) * theoretical_value, label='expected error with rate 1/sqrt(n)')\n",
    "plt.legend()"
   ]
  },
  {
   "cell_type": "markdown",
   "metadata": {},
   "source": [
    "Once again, we get exactly the results that we wanted: a decreasing error with rate $1/\\sqrt n$"
   ]
  },
  {
   "cell_type": "markdown",
   "metadata": {
    "colab_type": "text",
    "id": "_4GLBv0zWr7m"
   },
   "source": [
    "# **Discussion**"
   ]
  },
  {
   "cell_type": "markdown",
   "metadata": {},
   "source": [
    "The most notable thing in this lab is to notice that we managed to exactly approximate the values of the integrals for the dirst function and the 2nd function in $O(1)$ (if you consider that the evaluation of a point is $O(1)$ by the function). Apart from that, the results are simply conform to what we would expect."
   ]
  }
 ],
 "metadata": {
  "colab": {
   "include_colab_link": true,
   "name": "template-report-lab-X.ipynb",
   "provenance": []
  },
  "kernelspec": {
   "display_name": "Python 3",
   "language": "python",
   "name": "python3"
  },
  "language_info": {
   "codemirror_mode": {
    "name": "ipython",
    "version": 3
   },
   "file_extension": ".py",
   "mimetype": "text/x-python",
   "name": "python",
   "nbconvert_exporter": "python",
   "pygments_lexer": "ipython3",
   "version": "3.8.7"
  },
  "toc": {
   "base_numbering": 1,
   "nav_menu": {},
   "number_sections": true,
   "sideBar": true,
   "skip_h1_title": false,
   "title_cell": "Table of Contents",
   "title_sidebar": "Contents",
   "toc_cell": false,
   "toc_position": {},
   "toc_section_display": true,
   "toc_window_display": false
  }
 },
 "nbformat": 4,
 "nbformat_minor": 1
}

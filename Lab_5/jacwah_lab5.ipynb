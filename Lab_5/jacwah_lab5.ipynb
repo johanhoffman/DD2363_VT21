{
 "cells": [
  {
   "cell_type": "markdown",
   "metadata": {
    "colab_type": "text",
    "id": "view-in-github"
   },
   "source": [
    "<a href=\"https://colab.research.google.com/github/johanhoffman/DD2363_VT21/blob/jacwah/Lab_4/jacwah_lab4.ipynb\" target=\"_parent\"><img src=\"https://colab.research.google.com/assets/colab-badge.svg\" alt=\"Open In Colab\"/></a>"
   ]
  },
  {
   "cell_type": "markdown",
   "metadata": {
    "id": "6RgtXlfYO_i7"
   },
   "source": [
    "# **Lab 5: Integration**\n",
    "**Jacob Wahlgren**"
   ]
  },
  {
   "cell_type": "markdown",
   "metadata": {
    "id": "9x_J5FVuPzbm"
   },
   "source": [
    "# **Abstract**"
   ]
  },
  {
   "cell_type": "markdown",
   "metadata": {
    "id": "xVOs2yGjyNhe"
   },
   "source": [
    "Four numerical methods for integration are implemented and compared to known closed form solutions. All the exactness and convergence tests pass."
   ]
  },
  {
   "cell_type": "markdown",
   "metadata": {
    "id": "OkT8J7uOWpT3"
   },
   "source": [
    "#**About the code**"
   ]
  },
  {
   "cell_type": "markdown",
   "metadata": {
    "id": "HmB2noTr1Oyo"
   },
   "source": [
    "The code was written by Jacob Wahlgren, based on a template by Johan Hoffman."
   ]
  },
  {
   "cell_type": "code",
   "execution_count": 78,
   "metadata": {
    "colab": {
     "base_uri": "https://localhost:8080/",
     "height": 36
    },
    "id": "Pdll1Xc9WP0e",
    "outputId": "75704cb9-8201-41ed-f17e-6acf91a7f7d0"
   },
   "outputs": [
    {
     "data": {
      "text/plain": [
       "'KTH Royal Institute of Technology, Stockholm, Sweden.'"
      ]
     },
     "execution_count": 78,
     "metadata": {},
     "output_type": "execute_result"
    }
   ],
   "source": [
    "\"\"\"This program is a template for lab reports in the course\"\"\"\n",
    "\"\"\"DD2363 Methods in Scientific Computing, \"\"\"\n",
    "\"\"\"KTH Royal Institute of Technology, Stockholm, Sweden.\"\"\"\n",
    "\n",
    "# Copyright (C) 2020 Johan Hoffman (jhoffman@kth.se)\n",
    "# Copyright (C) 2021 Jacob Wahlgren (jacobwah@kth.se)\n",
    "\n",
    "# This file is part of the course DD2365 Advanced Computation in Fluid Mechanics\n",
    "# KTH Royal Institute of Technology, Stockholm, Sweden\n",
    "#\n",
    "# This is free software: you can redistribute it and/or modify\n",
    "# it under the terms of the GNU Lesser General Public License as published by\n",
    "# the Free Software Foundation, either version 3 of the License, or\n",
    "# (at your option) any later version.\n",
    "\n",
    "# This template is maintained by Johan Hoffman\n",
    "# Please report problems to jhoffman@kth.se"
   ]
  },
  {
   "cell_type": "markdown",
   "metadata": {
    "id": "28xLGz8JX3Hh"
   },
   "source": [
    "# **Set up environment**"
   ]
  },
  {
   "cell_type": "code",
   "execution_count": 79,
   "metadata": {
    "id": "Xw7VlErAX7NS"
   },
   "outputs": [],
   "source": [
    "import numpy as np\n",
    "import matplotlib.pyplot as plt\n",
    "from math import sqrt"
   ]
  },
  {
   "cell_type": "markdown",
   "metadata": {
    "id": "gnO3lhAigLev"
   },
   "source": [
    "# **Introduction**"
   ]
  },
  {
   "cell_type": "markdown",
   "metadata": {},
   "source": [
    "Numerical methods for approximation of integrals are called quadrature. A quadrature rule is defined by a set of interpolation points $\\{x_i\\}^q_{i=0}$ and a set of weights $\\{w_i\\}_{i=0}^q$ such that\n",
    "\n",
    "$\\displaystyle \\int_a^b f(x) dx \\approx \\sum_{i=0}^q f(x_i) w_i.$\n",
    "\n",
    "There are many quadrature rules for different types of integrals. Gauss quadrature uses the roots of an orthogonal polynomial as quadrature points. With $q+1$ points Gauss quadrature is exact for polynomials up to degree $2q+1$. Monte Carlo quadrature uses random points instead."
   ]
  },
  {
   "cell_type": "markdown",
   "metadata": {
    "id": "jOQvukXZq5U5"
   },
   "source": [
    "# **Method**"
   ]
  },
  {
   "cell_type": "markdown",
   "metadata": {},
   "source": [
    "### 2-point Gauss quadrature over unit interval\n",
    "In the related problem set, I calculated the 2-point Gauss quadrature formula over $[0,1]$ to be\n",
    "\n",
    "$\\displaystyle \\int_0^1 f(x) dx \\approx \\tfrac{1}{2} \\Bigl[f\\Bigl(\\tfrac{1}{2} + \\tfrac{1}{2\\sqrt{3}}\\Bigr) +\n",
    "f\\Bigl(\\tfrac{1}{2}-\\tfrac{1}{2\\sqrt{3}}\\Bigr)\\Bigr].$\n"
   ]
  },
  {
   "cell_type": "code",
   "execution_count": 80,
   "metadata": {},
   "outputs": [],
   "source": [
    "def gauss2pt(f):\n",
    "    return 1/2 * (f(1/2 + 1/(2*sqrt(3))) + f(1/2 - 1/(2*sqrt(3))))"
   ]
  },
  {
   "cell_type": "markdown",
   "metadata": {},
   "source": [
    "The approximation is verified to be exact for cubic polynomials by comparing the results for randomized polynomials to the closed form solution\n",
    "\n",
    "$\\displaystyle \\int_0^1 \\bigl(a_0 + a_1 x + a_2 x^2 + a_3 x^3\\bigr)dx = a_0 + \\tfrac{1}{2}a_1 + \\tfrac{1}{3}a_2 + \\tfrac{1}{4}a_3.$"
   ]
  },
  {
   "cell_type": "code",
   "execution_count": 81,
   "metadata": {},
   "outputs": [],
   "source": [
    "def test_gauss2pt():\n",
    "    for i in range(100):\n",
    "        a = np.random.rand(4)\n",
    "        f = lambda x: a[0] + a[1]*x + a[2]*x**2 + a[3]*x**3\n",
    "        approx = gauss2pt(f)\n",
    "        exact = a[0] + 1/2*a[1] + 1/3*a[2] + 1/4*a[3]\n",
    "        np.testing.assert_almost_equal(approx, exact)\n",
    "    print(\"test_gauss2pt ok\")"
   ]
  },
  {
   "cell_type": "markdown",
   "metadata": {},
   "source": [
    "### 3-point edge midpoint quadrature over reference triangle"
   ]
  },
  {
   "cell_type": "markdown",
   "metadata": {},
   "source": [
    "Let $T$ be the reference triangle with vertices $\\{(0,0),(1,0),(0,1)\\}$. The 3-point edge midpoint rule for $T$ is defined in Example 11.5 of the lecture notes.\n",
    "\n",
    "$\\displaystyle \\int_T f(x,y) dA \\approx \\tfrac{1}{6} \\left[ f\\left(\\tfrac{1}{2},\\tfrac{1}{2}\\right) + f\\left(\\tfrac{1}{2},0\\right) + f\\left(0,\\tfrac{1}{2}\\right) \\right]$"
   ]
  },
  {
   "cell_type": "code",
   "execution_count": 82,
   "metadata": {},
   "outputs": [],
   "source": [
    "def edge3midpoint(f):\n",
    "    return 1/6 * (f(1/2,1/2) + f(1/2,0) + f(0,1/2))"
   ]
  },
  {
   "cell_type": "markdown",
   "metadata": {},
   "source": [
    "The approximation is verified to be exact for quadratic polynomials by comparing the results for randomized polynomials to the closed form solution\n",
    "\n",
    "$\\displaystyle \\int_T \\bigl(a_0 + a_1 x + a_2 y + a_3 xy + a_4 x^2 + a_5 y^2\\bigr)dx = \\tfrac{1}{2}a_0 + \\tfrac{1}{6}a_1 + \\tfrac{1}{6}a_2 + \\tfrac{1}{24}a_3 + \\tfrac{1}{12}a_4 + \\tfrac{1}{12}a_5.$"
   ]
  },
  {
   "cell_type": "code",
   "execution_count": 83,
   "metadata": {},
   "outputs": [],
   "source": [
    "def test_edge3midpoint():\n",
    "    for i in range(100):\n",
    "        a = np.random.rand(6)\n",
    "        f = lambda x,y: a[0] + a[1]*x + a[2]*y + a[3]*x*y + a[4]*x**2 + a[5]*y**2\n",
    "        approx = edge3midpoint(f)\n",
    "        exact = 1/2*a[0] + 1/6*a[1] + 1/6*a[2] + 1/24*a[3] + 1/12*a[4] + 1/12*a[5]\n",
    "        np.testing.assert_almost_equal(approx, exact)\n",
    "    print(\"test_edge3midpoint ok\")"
   ]
  },
  {
   "cell_type": "markdown",
   "metadata": {},
   "source": [
    "### Monte Carlo quadrature over unit interval"
   ]
  },
  {
   "cell_type": "markdown",
   "metadata": {},
   "source": [
    "In contrast to the previous methods, Monte Carlo quadrature is non-deterministic. In Monte Carlo quadrature, $n$ quadrature points are chosen uniformly at random and the sample mean multiplied by the domain size is returned. This corresponds to using the weights $w_i=\\frac{|D|}{n}$ where $D$ is the domain. For the interval $[0,1]$ the formula is\n",
    "\n",
    "$\\displaystyle \\int_0^1 f(x)dx \\approx \\frac{1}{n} \\sum_{i=1}^n f(x_i).$"
   ]
  },
  {
   "cell_type": "code",
   "execution_count": 84,
   "metadata": {},
   "outputs": [],
   "source": [
    "def monte_carlo_1d(f, n):\n",
    "    x = np.random.rand(n)\n",
    "    return np.mean(f(x))"
   ]
  },
  {
   "cell_type": "markdown",
   "metadata": {},
   "source": [
    "To show that the Monte Carlo quadrature converges at rate $\\frac{1}{\\sqrt{n}}$, the approximation error is plotted together with the line $\\frac{err_1}{\\sqrt{n}}$ where $err_1$ is the error at $n=1$. To make the pattern clearer the average of 10 runs is shown. The integrand is a randomized trigonometric function on the form $a_0 \\sin x + a_1 \\sin^2  x$ with the closed form solution\n",
    "\n",
    "$\\displaystyle \\int_0^1 (a_0 \\sin x + a_1 \\sin^2 x) = a_0(1-\\cos 1) + a_1 (\\tfrac{1}{2} - \\tfrac{1}{4} \\sin 2).$"
   ]
  },
  {
   "cell_type": "code",
   "execution_count": 113,
   "metadata": {},
   "outputs": [],
   "source": [
    "def show_monte_carlo_1d():\n",
    "    a = np.random.rand(2)\n",
    "    f = lambda x: a[0]*np.sin(x) + a[1]*np.sin(x)**2\n",
    "    exact = a[0]*(1-np.cos(1)) + a[1]*(1/2-1/4*np.sin(2))\n",
    "    err = lambda n: 1/10*sum(abs(monte_carlo_1d(f,n)-exact) for i in range(10))\n",
    "\n",
    "    xs = np.array(range(1, 100))\n",
    "    plt.plot(xs, [err(x) for x in xs], label=\"MC (mean of 10 runs)\")\n",
    "    plt.plot(xs, err(xs[0])/np.sqrt(xs), label=\"$err_1/\\\\sqrt{n}$\")\n",
    "    plt.xlabel(\"Number of points\")\n",
    "    plt.ylabel(\"Approximation error\")\n",
    "    plt.legend()\n",
    "    plt.title(\"Monte Carlo quadrature over unit interval\")"
   ]
  },
  {
   "cell_type": "markdown",
   "metadata": {},
   "source": [
    "### Monte Carlo quadrature over reference triangle\n",
    "The size of the reference triangle $T$ is $\\frac{1}{2}$. Therefore the formula for Monte Carlo quadrature over the reference triangle is\n",
    "\n",
    "$\\displaystyle \\int_T f(x)dx \\approx \\frac{1}{2n} \\sum_{i=1}^n f(x_i).$\n",
    "\n",
    "To generate a random point in $T$, a point in the unit square is generated. If it is above the line $x+y=1$, then it is reflected around this line. The result is a point in $T$ sampled uniformly at random."
   ]
  },
  {
   "cell_type": "code",
   "execution_count": 106,
   "metadata": {},
   "outputs": [],
   "source": [
    "def monte_carlo_2d(f, n):\n",
    "    x = np.random.rand(n)\n",
    "    y = np.random.rand(n)\n",
    "    for i in range(n):\n",
    "        if x[i]+y[i] > 1:\n",
    "            x[i] = 1 - x[i]\n",
    "            y[i] = 1 - y[i]\n",
    "    assert (x+y<=1).all()\n",
    "    return 1/2*np.mean(f(x,y))"
   ]
  },
  {
   "cell_type": "markdown",
   "metadata": {},
   "source": [
    "To illustrate the convergence the same method as for the 1D case is used. The integrand used is\n",
    "\n",
    "$\\displaystyle \\int_T (a_0 \\cos x + a_1 \\sin y) dA = a_0(1-\\cos 1) + a_1(1-\\sin 1).$"
   ]
  },
  {
   "cell_type": "code",
   "execution_count": 111,
   "metadata": {},
   "outputs": [],
   "source": [
    "def show_monte_carlo_2d():\n",
    "    a = np.random.rand(2)\n",
    "    f = lambda x,y: a[0]*np.cos(x) + a[1]*np.sin(y)\n",
    "    exact = a[0]*(1-np.cos(1)) + a[1]*(1-np.sin(1))\n",
    "    err = lambda n: 1/10*sum(abs(monte_carlo_2d(f,n)-exact) for i in range(10))\n",
    "\n",
    "    xs = np.array(range(1, 100))\n",
    "    plt.plot(xs, [err(x) for x in xs], label=\"MC (mean of 10 runs)\")\n",
    "    plt.plot(xs, err(xs[0])/np.sqrt(xs), label=\"$err_1/\\\\sqrt{n}$\")\n",
    "    plt.xlabel(\"Number of points\")\n",
    "    plt.ylabel(\"Approximation error\")\n",
    "    plt.legend()\n",
    "    plt.title(\"Monte Carlo quadrature over reference triangle\")"
   ]
  },
  {
   "cell_type": "markdown",
   "metadata": {
    "id": "SsQLT38gVbn_"
   },
   "source": [
    "# **Results**"
   ]
  },
  {
   "cell_type": "markdown",
   "metadata": {},
   "source": [
    "The 2-point Gauss quadrature and 3-point edge midpoint pass the exactness tests with randomized polynomials."
   ]
  },
  {
   "cell_type": "code",
   "execution_count": 86,
   "metadata": {},
   "outputs": [
    {
     "name": "stdout",
     "output_type": "stream",
     "text": [
      "test_gauss2pt ok\n",
      "test_edge3midpoint ok\n"
     ]
    }
   ],
   "source": [
    "test_gauss2pt()\n",
    "test_edge3midpoint()"
   ]
  },
  {
   "cell_type": "markdown",
   "metadata": {},
   "source": [
    "In both 1D and 2D, the Monte Carlo quadrature converges at rate $\\frac{1}{\\sqrt{n}}$ as expected."
   ]
  },
  {
   "cell_type": "code",
   "execution_count": 114,
   "metadata": {},
   "outputs": [
    {
     "data": {
      "image/png": "[encoded data removed]",
      "text/plain": [
       "<Figure size 432x288 with 1 Axes>"
      ]
     },
     "metadata": {
      "needs_background": "light"
     },
     "output_type": "display_data"
    }
   ],
   "source": [
    "show_monte_carlo_1d()"
   ]
  },
  {
   "cell_type": "code",
   "execution_count": 112,
   "metadata": {},
   "outputs": [
    {
     "data": {
      "image/png": "[encoded data removed]",
      "text/plain": [
       "<Figure size 432x288 with 1 Axes>"
      ]
     },
     "metadata": {
      "needs_background": "light"
     },
     "output_type": "display_data"
    }
   ],
   "source": [
    "show_monte_carlo_2d()"
   ]
  },
  {
   "cell_type": "markdown",
   "metadata": {
    "id": "_4GLBv0zWr7m"
   },
   "source": [
    "# **Discussion**"
   ]
  },
  {
   "cell_type": "markdown",
   "metadata": {},
   "source": [
    "It is possible to easily find closed form solutions to the integral of simple functions. However in more complex situations, e.g. if there is not explicit representation of the function, quadrature can approximate the integral. In fact, I was surprised how few sample points are required to compute the integral, and this probably becomes more important as the number of dimensions increases.\n",
    "\n",
    "For polynomials, and functions close to polynomials, Gauss quadrature is very efficient. Monte Carlo quadrature is not as efficient, but it will probably work even if you know almost nothing about the function.\n",
    "\n",
    "In the previous lab I used the convenient `scipy.integrate.quad` function, which does some type of quadrature. Evidently quadrature is useful in a variety of tasks."
   ]
  }
 ],
 "metadata": {
  "colab": {
   "include_colab_link": true,
   "name": "template-report-lab-X.ipynb",
   "provenance": []
  },
  "kernelspec": {
   "display_name": "Python 3",
   "language": "python",
   "name": "python3"
  },
  "language_info": {
   "codemirror_mode": {
    "name": "ipython",
    "version": 3
   },
   "file_extension": ".py",
   "mimetype": "text/x-python",
   "name": "python",
   "nbconvert_exporter": "python",
   "pygments_lexer": "ipython3",
   "version": "3.6.7"
  }
 },
 "nbformat": 4,
 "nbformat_minor": 1
}

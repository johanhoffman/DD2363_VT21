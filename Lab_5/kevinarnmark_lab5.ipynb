{
  "nbformat": 4,
  "nbformat_minor": 0,
  "metadata": {
    "colab": {
      "name": "kevinarnmark_lab5.ipynb",
      "provenance": [],
      "toc_visible": true
    },
    "kernelspec": {
      "name": "python3",
      "display_name": "Python 3"
    }
  },
  "cells": [
    {
      "cell_type": "markdown",
      "metadata": {
        "id": "6RgtXlfYO_i7"
      },
      "source": [
        "# **Lab 5: Integration**\n",
        "**Kevin Arnmark**"
      ]
    },
    {
      "cell_type": "markdown",
      "metadata": {
        "id": "9x_J5FVuPzbm"
      },
      "source": [
        "# **Abstract**"
      ]
    },
    {
      "cell_type": "markdown",
      "metadata": {
        "id": "yJipbXtnjrJZ"
      },
      "source": [
        "In this report I demonstrate different ways of approximating integrals. I am implementing the 2-point Gauss quadrature, 3-point edge midpoint quadrature and the Monte Carlo quadrature"
      ]
    },
    {
      "cell_type": "markdown",
      "metadata": {
        "id": "OkT8J7uOWpT3"
      },
      "source": [
        "#**About the code**"
      ]
    },
    {
      "cell_type": "markdown",
      "metadata": {
        "id": "HmB2noTr1Oyo"
      },
      "source": [
        "A short statement on who is the author of the file, and if the code is distributed under a certain license. "
      ]
    },
    {
      "cell_type": "code",
      "metadata": {
        "id": "Pdll1Xc9WP0e",
        "colab": {
          "base_uri": "https://localhost:8080/",
          "height": 37
        },
        "outputId": "aa244577-301d-42a9-b60a-38c0e6939102"
      },
      "source": [
        "\"\"\"This program is a template for lab reports in the course\"\"\"\n",
        "\"\"\"DD2363 Methods in Scientific Computing, \"\"\"\n",
        "\"\"\"KTH Royal Institute of Technology, Stockholm, Sweden.\"\"\"\n",
        "\n",
        "# Copyright (C) 2021 Kevin Arnmark (karnmark@kth.se)\n",
        "\n",
        "# This template is maintained by Johan Hoffman\n",
        "# Please report problems to jhoffman@kth.se\n",
        "\n",
        "# This file is part of the course DD2365 Advanced Computation in Fluid Mechanics\n",
        "# KTH Royal Institute of Technology, Stockholm, Sweden\n",
        "#\n",
        "# This is free software: you can redistribute it and/or modify\n",
        "# it under the terms of the GNU Lesser General Public License as published by\n",
        "# the Free Software Foundation, either version 3 of the License, or\n",
        "# (at your option) any later version.\n",
        "\n"
      ],
      "execution_count": null,
      "outputs": [
        {
          "output_type": "execute_result",
          "data": {
            "application/vnd.google.colaboratory.intrinsic+json": {
              "type": "string"
            },
            "text/plain": [
              "'KTH Royal Institute of Technology, Stockholm, Sweden.'"
            ]
          },
          "metadata": {
            "tags": []
          },
          "execution_count": 10
        }
      ]
    },
    {
      "cell_type": "markdown",
      "metadata": {
        "id": "28xLGz8JX3Hh"
      },
      "source": [
        "# **Set up environment**"
      ]
    },
    {
      "cell_type": "markdown",
      "metadata": {
        "id": "D2PYNusD08Wa"
      },
      "source": [
        "To have access to the neccessary modules you have to run this cell. If you need additional modules, this is where you add them. "
      ]
    },
    {
      "cell_type": "code",
      "metadata": {
        "id": "Xw7VlErAX7NS"
      },
      "source": [
        "# Load neccessary modules.\n",
        "from google.colab import files\n",
        "\n",
        "import time\n",
        "import numpy as np\n",
        "import random\n",
        "\n",
        "from scipy import integrate # For testing the accuracy of the algorithms\n",
        "\n",
        "from matplotlib import pyplot as plt"
      ],
      "execution_count": 2,
      "outputs": []
    },
    {
      "cell_type": "markdown",
      "metadata": {
        "id": "gnO3lhAigLev"
      },
      "source": [
        "# **Introduction**"
      ]
    },
    {
      "cell_type": "markdown",
      "metadata": {
        "id": "l5zMzgPlRAF6"
      },
      "source": [
        "In this report I implement the following functions:\n",
        "\n",
        "1. **Function:** 2-point Gauss quadrature over a unit interval \n",
        "\n",
        "  **Input:** function f(x) \n",
        "\n",
        "  **Output:** quadrature approximation of integral $\\int_0^1 f(x) dx$\n",
        "\n",
        "  **Test:** verify exact integration of cubic polynomials $ax^3 + bx^2 + cx + d$\n",
        "\n",
        "\n",
        "2. **Function:** 3-point edge midpoint quadrature over a reference triangle\n",
        "\n",
        "  **Input:** function f(x) \n",
        "\n",
        "  **Output:** quadrature approximation of integral $\\int_{ref-triangle} f(x) dx$\n",
        "\n",
        "  **Test:** verify exact integration of quadratic polynomials $ax^2 + by^2 + cxy + dx + ey + f$\n",
        "\n",
        "\n",
        "3. **Function:** Monte Carlo quadrature over a unit interval\n",
        "\n",
        "  **Output:** MC quadrature approximation of integral $\\int_0^1 f(x) dx$\n",
        "\n",
        "  **Test:** verify convergence rate $1/sqrt(n)$ with respect to number of quadrature points n. \n",
        "\n",
        "\n",
        "Function 1 and 2 can be solved by calculating weights $w_i$ and quadrature points $x_i$ for the intervals. The approximation is given by: $\\int_a^b f(x) dx \\approx \\sum_{i=0}^q f(x_i)w_i$, where $f(x)$ is the integrand and $q$ is the polynomial degree.\n",
        "\n",
        "The Monte Carlo quadrature is given by: $\\int_D g(x) dx \\approx \\frac{\\lvert D \\rvert}{n}\\sum_{i=1}^n g(x_i)$ (Equation 12.4 in Chapter 12.5)\n"
      ]
    },
    {
      "cell_type": "markdown",
      "metadata": {
        "id": "jOQvukXZq5U5"
      },
      "source": [
        "# **Method**"
      ]
    },
    {
      "cell_type": "markdown",
      "metadata": {
        "id": "QCaYOnCGH6mC"
      },
      "source": [
        "**2-point Gauss quadrature over a unit interval**\r\n",
        "\r\n",
        "In example 11.3 the 2-point gauss rule is given by $w_0 = w_1 = 1, x_0 = 1/\\sqrt{3} $ and $x_1 = -1/\\sqrt(3)$ on the interval $[-1, 1]$ and is defined by the Legendre polynomial $P_2$. \r\n",
        "\r\n",
        "For other intervals the weights and quadrature points can be calculated as: $w_0=w_1= \\frac{b - a}{2}, x_0=\\frac{b - a}{2}(\\frac{-1}{\\sqrt{3}}) + \\frac{b + a}{2}, x_1=\\frac{b - a}{2}(\\frac{1}{\\sqrt{3}}) + \\frac{b + a}{2}$. \r\n",
        "\r\n",
        "For the unit interval $[0, 1]$ $w_0 = w_1 = 1/2$ and $x_0 = \\frac{\\sqrt{3} - 1}{2\\sqrt{3}}, x_1 = \\frac{\\sqrt{3} + 1}{2\\sqrt{3}}$\r\n",
        "\r\n",
        "For the 2-point Gauss quadrature all polynomials up to the degree of 3 are exact. "
      ]
    },
    {
      "cell_type": "code",
      "metadata": {
        "id": "2CJXMCT1HTHL"
      },
      "source": [
        "def gauss_quad(fnc):\r\n",
        "  w = 1/2\r\n",
        "  x0 = (np.sqrt(3) - 1)/(2*np.sqrt(3))\r\n",
        "  x1 = (np.sqrt(3) + 1)/(2*np.sqrt(3))\r\n",
        "  return w*fnc(x0) + w*fnc(x1)"
      ],
      "execution_count": 117,
      "outputs": []
    },
    {
      "cell_type": "markdown",
      "metadata": {
        "id": "VGeFehgJwhhp"
      },
      "source": [
        "**3-point edge midpoint quadrature over a reference triangle**\r\n",
        "\r\n",
        "As defined in example 11.5, the weights are $w_0 = w_1 = w_2 = 1/6$ and the quadrature points are the midpoints of the three edges of the reference triangle, $x_0 = [0.5, 0], x_1 = [0, 0.5], x_2 = [0.5, 0.5]$\r\n",
        "\r\n",
        "For the 3-point edge midpoint quadrature all polynomials up to degree 2 are exact."
      ]
    },
    {
      "cell_type": "code",
      "metadata": {
        "id": "JmtkvutTwh47"
      },
      "source": [
        "def midpoint_quad(fnc):\r\n",
        "  w = 1/6\r\n",
        "  x0 = [0.5, 0]\r\n",
        "  x1 = [0, 0.5]\r\n",
        "  x2 = [0.5, 0.5]\r\n",
        "  return w*(fnc(x0[1],x0[0]) + fnc(x1[1],x1[0]) + fnc(x2[1],x2[0]))"
      ],
      "execution_count": 118,
      "outputs": []
    },
    {
      "cell_type": "markdown",
      "metadata": {
        "id": "4R-NLcMGwiNC"
      },
      "source": [
        "**Monte Carlo quadrature over a unit interval**\r\n",
        "\r\n",
        "The Monte Carlo approximation is given by:\r\n",
        "\r\n",
        "$\\int_D g(x) dx \\approx \\frac{\\lvert D \\rvert}{n}\\sum_{i=1}^n g(x_i)$, where $n$ is the number of random samples and $g : D \\rightarrow R, D \\subset R^d$. (Equation 12.4 in Chapter 12.5)\r\n",
        "\r\n",
        "I am using the python module random to get an uniformly random number in the interval $[0, 1]$.\r\n",
        "\r\n",
        "$\\lvert D \\rvert = 1$, since the domain is the interval $[0,1]$"
      ]
    },
    {
      "cell_type": "code",
      "metadata": {
        "id": "Xny1nnp5wibl"
      },
      "source": [
        "def mc_quad(fnc, n):\r\n",
        "  x = [random.random() for _ in range(n)]\r\n",
        "  return (1/n) * sum([fnc(x[i]) for i in range(n)])"
      ],
      "execution_count": 119,
      "outputs": []
    },
    {
      "cell_type": "markdown",
      "metadata": {
        "id": "SsQLT38gVbn_"
      },
      "source": [
        "# **Results**"
      ]
    },
    {
      "cell_type": "markdown",
      "metadata": {
        "id": "RLwlnOzuV-Cd"
      },
      "source": [
        "To test the accuracy of these algorithms I created functions that generates a random polynomial of degree n. The integral approximations are compared with the integrate functions of the scipy module. "
      ]
    },
    {
      "cell_type": "code",
      "metadata": {
        "colab": {
          "base_uri": "https://localhost:8080/",
          "height": 301
        },
        "id": "NJ7QRAg-0C5_",
        "outputId": "8adbeea2-f20e-4555-d8da-14e5818f260e"
      },
      "source": [
        "def get_random_func(n): # Generating random polynomial of degree n\r\n",
        "  n += 1\r\n",
        "  stop = 100\r\n",
        "  start = -stop\r\n",
        "  rand = [random.randrange(start, stop)*random.random() for _ in range(n)]\r\n",
        "  def f(x):\r\n",
        "    value = 0\r\n",
        "    #polynomial = \"\" # For debugging\r\n",
        "    for i in range(n):\r\n",
        "      value += rand[i] * x**i\r\n",
        "      #polynomial += str(rand[i]) + \" * x**\" + str(i) + \" + \" # For debugging\r\n",
        "    #print(polynomial) # For debugging\r\n",
        "    return value\r\n",
        "  return f\r\n",
        "\r\n",
        "# Testing for verifying exact solution of polynomial of third degree on Gauss quadrature\r\n",
        "\r\n",
        "for i in range(10):\r\n",
        "  function = get_random_func(random.randrange(1, 4)) # Testing polynomials up to degree 3\r\n",
        "  np.testing.assert_almost_equal(gauss_quad(function), integrate.quad(function, 0, 1)[0])\r\n",
        "\r\n",
        "print(\"Gauss tests passed\")\r\n",
        "\r\n",
        "# Testing the 3-point midpoint quadrature algorithm\r\n",
        "def get_random_func_yx(): # Generating random polynomial of degree 2\r\n",
        "  stop = 100\r\n",
        "  start = -stop\r\n",
        "  rand = [random.randrange(start, stop)*random.random() for _ in range(6)]\r\n",
        "  def f_yx(y, x):\r\n",
        "    return rand[0]*x**2 + rand[1]*y**2 + rand[2]*x*y + rand[3]*x + rand[4]*y + rand[5]\r\n",
        "  return f_yx\r\n",
        "\r\n",
        "for i in range(10):\r\n",
        "  function = get_random_func_yx() # Get random polynomial\r\n",
        "  np.testing.assert_almost_equal(midpoint_quad(function), integrate.dblquad(function, 0, 1, 0, lambda x: -x + 1)[0])\r\n",
        "\r\n",
        "print(\"Midpoint tests passed\")\r\n",
        "\r\n",
        "\r\n",
        "# Testing the convergence of the monte carlo quadrature algorithm\r\n",
        "\"\"\"\r\n",
        "Taking the average of avg_n approximations of mc_quad up to n samples and plotting \r\n",
        "the approximation error.\r\n",
        "\"\"\"\r\n",
        "\r\n",
        "function = get_random_func(6) # Generating random polynomial of degree 6\r\n",
        "n = 1000\r\n",
        "steps = 50\r\n",
        "x = np.linspace(0, n, steps)\r\n",
        "integr = integrate.quad(function, 0, 1)[0]\r\n",
        "y = []\r\n",
        "j = 0\r\n",
        "for samples in range(1, n+1, int(n/steps)):\r\n",
        "  avg = 0\r\n",
        "  avg_n = 1000\r\n",
        "  for i in range(avg_n):\r\n",
        "    avg += mc_quad(function, samples)\r\n",
        "  avg = avg / avg_n\r\n",
        "  y.append(abs(integr - avg)) # Adding the error of the approximation\r\n",
        "  j += 1\r\n",
        "\r\n",
        "plt.plot(x, y)\r\n",
        "plt.show()\r\n"
      ],
      "execution_count": 128,
      "outputs": [
        {
          "output_type": "stream",
          "text": [
            "Gauss tests passed\n",
            "Midpoint tests passed\n"
          ],
          "name": "stdout"
        },
        {
          "output_type": "display_data",
          "data": {
            "image/png": "[encoded data removed]",
            "text/plain": [
              "<Figure size 432x288 with 1 Axes>"
            ]
          },
          "metadata": {
            "tags": [],
            "needs_background": "light"
          }
        }
      ]
    },
    {
      "cell_type": "markdown",
      "metadata": {
        "id": "_4GLBv0zWr7m"
      },
      "source": [
        "# **Discussion**"
      ]
    },
    {
      "cell_type": "markdown",
      "metadata": {
        "id": "6bcsDSoRXHZe"
      },
      "source": [
        "I was impressed that the integrals could be approximated exactly up to a certain polynomial with such minimal calculations. The results I got confirms this. \r\n",
        "\r\n",
        "To see and confirm the convergence rate of the Monte Carlo quadrature, I believe I would need to run alot more tests. I believe the variance is too large for the convergence to be apparent in the results."
      ]
    }
  ]
}
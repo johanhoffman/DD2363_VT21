{
  "nbformat": 4,
  "nbformat_minor": 0,
  "metadata": {
    "colab": {
      "name": "Sanskar95_Lab5.ipynb",
      "provenance": [],
      "collapsed_sections": []
    },
    "kernelspec": {
      "name": "python3",
      "display_name": "Python 3"
    }
  },
  "cells": [
    {
      "cell_type": "markdown",
      "metadata": {
        "id": "B5oQzkoB3sjV"
      },
      "source": [
        "#**Lab 5: Integration**\r\n",
        "**Sanskar Gupta**"
      ]
    },
    {
      "cell_type": "markdown",
      "metadata": {
        "id": "BbmTIqdt4mki"
      },
      "source": [
        "#**Introduction**\r\n",
        "This notebook contains various numerical and quadrature methods of integration , following methods will be implemented\r\n",
        "  1. Function: 2-point Gauss quadrature over a unit interval \r\n",
        "  2. Function: 3-point edge midpoint quadrature over a reference triangle\r\n",
        "  3. Function: Monte Carlo quadrature over a unit interval\r\n",
        "  4. Function: Monte Carlo quadrature over a reference triangle\r\n"
      ]
    },
    {
      "cell_type": "markdown",
      "metadata": {
        "id": "Qb67xr_T557k"
      },
      "source": [
        "#**About the code**\r\n"
      ]
    },
    {
      "cell_type": "code",
      "metadata": {
        "id": "i4WsgH_T6Btd"
      },
      "source": [
        "\"\"\"This program is a template for lab reports in the course\"\"\"\r\n",
        "\"\"\"DD2363 Methods in Scientific Computing, \"\"\"\r\n",
        "\"\"\"KTH Royal Institute of Technology, Stockholm, Sweden.\"\"\"\r\n",
        "\r\n",
        "# Copyright (C) 2021 Sanskar Gupta (sanskar@kth.se)\r\n",
        "\r\n",
        "# This file is part of the course DD2363 Methods in Scientific Computing\r\n",
        "# KTH Royal Institute of Technology, Stockholm, Sweden\r\n",
        "#\r\n",
        "# This is free software: you can redistribute it and/or modify\r\n",
        "# it under the terms of the GNU Lesser General Public License as published by\r\n",
        "# the Free Software Foundation, either version 3 of the License, or\r\n",
        "# (at your option) any later version."
      ],
      "execution_count": null,
      "outputs": []
    },
    {
      "cell_type": "markdown",
      "metadata": {
        "id": "m_JwTtcg6Juc"
      },
      "source": [
        "#**Environment Setup**\r\n"
      ]
    },
    {
      "cell_type": "code",
      "metadata": {
        "id": "sI4yacVs6OVM"
      },
      "source": [
        "# Load neccessary modules.\r\n",
        "from google.colab import files\r\n",
        "\r\n",
        "import time\r\n",
        "import numpy as np\r\n",
        "import sympy\r\n",
        "import math\r\n",
        "import unittest\r\n",
        "from matplotlib import pyplot as plt\r\n",
        "from matplotlib import tri\r\n",
        "from matplotlib import axes\r\n",
        "from mpl_toolkits.mplot3d import Axes3D\r\n",
        "from scipy.integrate import quad, dblquad"
      ],
      "execution_count": 2,
      "outputs": []
    },
    {
      "cell_type": "markdown",
      "metadata": {
        "id": "cw2vUdao6axQ"
      },
      "source": [
        "#**Methods**"
      ]
    },
    {
      "cell_type": "markdown",
      "metadata": {
        "id": "cYx85Lgu6gkT"
      },
      "source": [
        "##**2-point Gauss quadrature over a unit interval**\r\n",
        "\r\n",
        "From equation 11.4 in integration lecture notes we know that\r\n",
        "$\\sum_{j=0}^{n-1}\\varphi_i(x_j)w_j = \\int^b_a \\varphi_i(x)dx$, for $i=0,...,q$\r\n",
        "\r\n",
        "Here $b = 1$ and $a = -1$ as  it's a two point Gauss Quadrature. Also we set \r\n",
        "$n=$2 since we will be dealing with cubic polynomials\r\n",
        "\r\n",
        "Following video was also referred to solve for $x$  and  $w$\r\n",
        "https://www.youtube.com/watch?v=Hu6yqs0R7GA\r\n",
        "\r\n",
        "$\\varphi_0 = 1$\r\n",
        "\r\n",
        "$\\varphi_1 = x$\r\n",
        "\r\n",
        "$\\varphi_2 = x^2$\r\n",
        "\r\n",
        "$\\varphi_3 = x^3$\r\n",
        "\r\n",
        "Hence we get an equation system:\r\n",
        "\r\n",
        "$w_0 + w_1 = \\int_{-1}^{1}1dx$\r\n",
        "\r\n",
        "$x_0w_0 + x_1w_1 = \\int_{-1}^{1}xdx$\r\n",
        "\r\n",
        "$x_0^2w_0 + x_1^2w_1 = \\int_{-1}^{1}x^2dx$\r\n",
        "\r\n",
        "$x_0^3w_0 + x_1^3w_1 = \\int_{-1}^{1}x^3dx$\r\n",
        "\r\n",
        "We get:\r\n",
        "\r\n",
        "$w_0 + w_1 - 2 = 0$\r\n",
        "\r\n",
        "$x_0w_0 + x_1w_1 = 0$\r\n",
        "\r\n",
        "$x^2_0w_0 + x^2_1w_1 - 2/3 = 0$\r\n",
        "\r\n",
        "$x^3_0w_0 + x^3_1w_1 = 0$\r\n",
        "\r\n",
        "If we solve the equation system we get:\r\n",
        "\r\n",
        "$w_0 = w_1 = 1$\r\n",
        "\r\n",
        "$x_0 = \\frac{1}{\\sqrt{3}}$\r\n",
        "\r\n",
        "$x_1 = \\frac{-1}{\\sqrt{3}}$\r\n",
        "\r\n",
        "This provides and exact approximation for polynomials of degree 3."
      ]
    },
    {
      "cell_type": "code",
      "metadata": {
        "id": "qNLbHgNX8iyq"
      },
      "source": [
        "#Method\r\n",
        "def twoPointGaussQuadrature(function, x):\r\n",
        "  w0 = 1\r\n",
        "  w1 = 1\r\n",
        "  x0 = 1 / math.sqrt(3)\r\n",
        "  x1 = -1 / math.sqrt(3)\r\n",
        "  return w0 * function.subs(x,x0) + w1 * function.subs(x,x1) # just following the above derivation"
      ],
      "execution_count": 6,
      "outputs": []
    },
    {
      "cell_type": "code",
      "metadata": {
        "colab": {
          "base_uri": "https://localhost:8080/"
        },
        "id": "NmED6p4U9vjD",
        "outputId": "46f7226d-7386-42a8-e55e-d357688bfa6d"
      },
      "source": [
        "#Test\r\n",
        "from sympy import  Symbol, integrate\r\n",
        "class TestGaussQuadrature(unittest.TestCase):\r\n",
        "  def test(self):\r\n",
        "    for i in range(100):\r\n",
        "      # Setup\r\n",
        "      a =  np.random.randint(0, 100)\r\n",
        "      b =  np.random.randint(0, 100)\r\n",
        "      c =  np.random.randint(0, 100)\r\n",
        "      d =  np.random.randint(0, 100)\r\n",
        "      x =  Symbol('x')\r\n",
        "      function =  a*x**3 + b*x**2 + c*x + d\r\n",
        "      expected_result = integrate(function, (x,-1, 1))\r\n",
        "\r\n",
        "      # Act\r\n",
        "      asserted_result = twoPointGaussQuadrature(function, x)\r\n",
        "\r\n",
        "      # Assert\r\n",
        "      self.assertAlmostEqual(expected_result, asserted_result)\r\n",
        "\r\n",
        "if __name__ == '__main__':\r\n",
        "    unittest.main(argv=['first-arg-is-ignored'], exit=False)"
      ],
      "execution_count": 7,
      "outputs": [
        {
          "output_type": "stream",
          "text": [
            ".\n",
            "----------------------------------------------------------------------\n",
            "Ran 1 test in 1.007s\n",
            "\n",
            "OK\n"
          ],
          "name": "stderr"
        }
      ]
    },
    {
      "cell_type": "markdown",
      "metadata": {
        "id": "mj2klS7YCfZh"
      },
      "source": [
        "##**3-point edge midpoint quadrature over a reference triangle** \r\n",
        "Since we are woking in a two dimensional space, let's represent each point in the plane with $v = (x, y)$. This method is similar to the previous assignment, except that are domain has gone from $R$ to $R^2$. Our domain is a unit triangle, in other words, the triangle made from the points (0,0), (1,0), (0,1). The equation to solve is similar to the one we used in the previous assignment:\r\n",
        "\r\n",
        "$\\sum_{j=0}^{n-1}\\varphi_i(x_j)w_j = \\int^b_a \\varphi_i(x)dx$, for $i=0,...,q$\r\n",
        "\r\n",
        "But with the only difference that we are using it in $R^2$, hence we get:\r\n",
        "\r\n",
        "$\\sum_{j=0}^{n-1}\\varphi_i(v_j)w_j = \\int_D \\varphi_i(v)dx$, for $i=0,...,q$ \r\n",
        "\r\n",
        "where $D$ is our domain to integrate over. Our basis to the problem is the following:\r\n",
        "\r\n",
        "$\\varphi_0(v) = 1$\r\n",
        "\r\n",
        "$\\varphi_1(v) = x$\r\n",
        "\r\n",
        "$\\varphi_2(v) = y$\r\n",
        "\r\n",
        "$\\varphi_3(v) = xy$\r\n",
        "\r\n",
        "$\\varphi_4(v) = x^2$\r\n",
        "\r\n",
        "$\\varphi_5(v) = y^2$\r\n",
        "\r\n",
        "Which gives us $q = 5$\r\n",
        "\r\n",
        "By solving the equation above, we get the following values.\r\n",
        "\r\n",
        "$w_0 = 1/6$\r\n",
        "\r\n",
        "$w_1 = 1/6$\r\n",
        "\r\n",
        "$w_2 = 1/6$\r\n",
        "\r\n",
        "$x_0 = 0$\r\n",
        "\r\n",
        "$y_0 = 0.5$\r\n",
        "\r\n",
        "$x_1 = 0.5$\r\n",
        "\r\n",
        "$y_1 = 0.5$\r\n",
        "\r\n",
        "$x_2 = 0.5$\r\n",
        "\r\n",
        "$y_2 = 0.5$\r\n",
        "\r\n",
        "These $w$ values are motivated the same way as example 11.5 from the lecture notes. Since the points are placed on the middle of its edge, and all edges are equally long, this symmetry give us that all $w$ values will be the same.\r\n"
      ]
    },
    {
      "cell_type": "code",
      "metadata": {
        "id": "XIKPJCtgF06f"
      },
      "source": [
        "def threePointEdgeQuadratureOverTriangle(function, x, y):\r\n",
        "  w0 = 1 / 6\r\n",
        "  w1 = 1 / 6\r\n",
        "  w2 = 1 / 6\r\n",
        "  x0 = 0\r\n",
        "  y0 = 0.5\r\n",
        "  x1 = 0.5\r\n",
        "  y1 = 0 \r\n",
        "  x2 = 0.5\r\n",
        "  y2 = 0.5\r\n",
        "  return function.subs({y:y0, x:x0}) * w0 + function.subs({y:y1, x:x1}) * w1 + function.subs({y:y2, x:x2}) * w2"
      ],
      "execution_count": 8,
      "outputs": []
    },
    {
      "cell_type": "code",
      "metadata": {
        "id": "OFeS4mUIGgR5",
        "colab": {
          "base_uri": "https://localhost:8080/"
        },
        "outputId": "79a048e4-ed5f-4aff-fdec-22100756f380"
      },
      "source": [
        "class TestThreePointEdgeQuadrature(unittest.TestCase):\r\n",
        "  def test(self):\r\n",
        "    for i in range(100):\r\n",
        "      # Setup\r\n",
        "      a =  np.random.randint(0, 100)\r\n",
        "      b =  np.random.randint(0, 100)\r\n",
        "      c =  np.random.randint(0, 100)\r\n",
        "      d =  np.random.randint(0, 100)\r\n",
        "      e =  np.random.randint(0, 100)\r\n",
        "      f =  np.random.randint(0, 100)\r\n",
        "      x =  Symbol('x')\r\n",
        "      y =  Symbol('y')\r\n",
        "      function = a*x**2 + b*y**2 + c*x*y + d*x + e*y + f \r\n",
        "      triangleEquation = 1-x\r\n",
        "      expected_result = integrate(function, (y, 0, triangleEquation), (x, 0, 1))\r\n",
        "      print('expected_result', expected_result)\r\n",
        "\r\n",
        "      asserted_result = threePointEdgeQuadratureOverTriangle(function, x, y)\r\n",
        "\r\n",
        "      # Assert\r\n",
        "      self.assertAlmostEqual(expected_result, asserted_result)\r\n",
        "\r\n",
        "if __name__ == '__main__':\r\n",
        "    unittest.main(argv=['first-arg-is-ignored'], exit=False)"
      ],
      "execution_count": 11,
      "outputs": [
        {
          "output_type": "stream",
          "text": [
            "."
          ],
          "name": "stderr"
        },
        {
          "output_type": "stream",
          "text": [
            "expected_result 1645/24\n",
            "expected_result 1033/24\n",
            "expected_result 1513/24\n",
            "expected_result 727/24\n",
            "expected_result 595/12\n",
            "expected_result 172/3\n",
            "expected_result 655/24\n",
            "expected_result 627/8\n",
            "expected_result 85\n",
            "expected_result 469/12\n",
            "expected_result 319/12\n",
            "expected_result 189/4\n",
            "expected_result 755/12\n",
            "expected_result 1127/24\n",
            "expected_result 593/24\n",
            "expected_result 485/8\n",
            "expected_result 49/3\n",
            "expected_result 1493/24\n",
            "expected_result 1333/24\n",
            "expected_result 347/8\n",
            "expected_result 1985/24\n",
            "expected_result 1619/24\n",
            "expected_result 1495/24\n",
            "expected_result 305/12\n",
            "expected_result 1051/24\n",
            "expected_result 166/3\n",
            "expected_result 217/3\n",
            "expected_result 367/8\n",
            "expected_result 1403/24\n",
            "expected_result 1375/24\n",
            "expected_result 55\n",
            "expected_result 1891/24\n",
            "expected_result 331/8\n",
            "expected_result 505/12\n",
            "expected_result 569/8\n",
            "expected_result 211/4\n",
            "expected_result 1691/24\n",
            "expected_result 411/8\n",
            "expected_result 775/12\n",
            "expected_result 631/12\n",
            "expected_result 937/24\n",
            "expected_result 68\n",
            "expected_result 143/6\n",
            "expected_result 239/6\n",
            "expected_result 509/8\n",
            "expected_result 179/3\n",
            "expected_result 242/3\n",
            "expected_result 1675/24\n",
            "expected_result 1129/24\n",
            "expected_result 1067/24\n",
            "expected_result 1559/24\n",
            "expected_result 545/8\n",
            "expected_result 291/8\n",
            "expected_result 2063/24\n",
            "expected_result 463/12\n",
            "expected_result 919/24\n",
            "expected_result 71/2\n",
            "expected_result 1501/24\n",
            "expected_result 235/4\n",
            "expected_result 87/2\n",
            "expected_result 347/8\n",
            "expected_result 1685/24\n",
            "expected_result 365/8\n",
            "expected_result 559/12\n",
            "expected_result 166/3\n",
            "expected_result 148/3\n",
            "expected_result 907/24\n",
            "expected_result 1909/24\n",
            "expected_result 185/3\n",
            "expected_result 407/6\n",
            "expected_result 82\n",
            "expected_result 301/8\n",
            "expected_result 485/12\n",
            "expected_result 683/24\n",
            "expected_result 407/24\n",
            "expected_result 817/24\n",
            "expected_result 1415/24\n",
            "expected_result 233/8\n",
            "expected_result 145/4\n",
            "expected_result 661/24\n",
            "expected_result 383/12\n",
            "expected_result 61\n",
            "expected_result 1969/24\n",
            "expected_result 1529/24\n",
            "expected_result 62\n",
            "expected_result 217/6\n",
            "expected_result 399/8\n",
            "expected_result 181/4\n",
            "expected_result 245/6\n",
            "expected_result 187/4\n",
            "expected_result 107/3\n",
            "expected_result 237/4\n",
            "expected_result 569/24\n",
            "expected_result 117/4\n",
            "expected_result 839/24\n"
          ],
          "name": "stdout"
        },
        {
          "output_type": "stream",
          "text": [
            "."
          ],
          "name": "stderr"
        },
        {
          "output_type": "stream",
          "text": [
            "expected_result 40/3\n",
            "expected_result 2117/24\n",
            "expected_result 2119/24\n",
            "expected_result 237/4\n",
            "expected_result 97/2\n"
          ],
          "name": "stdout"
        },
        {
          "output_type": "stream",
          "text": [
            "\n",
            "----------------------------------------------------------------------\n",
            "Ran 2 tests in 3.655s\n",
            "\n",
            "OK\n"
          ],
          "name": "stderr"
        }
      ]
    },
    {
      "cell_type": "markdown",
      "metadata": {
        "id": "CuOpXhmpNjBN"
      },
      "source": [
        "##**Monte Carlo quadrature over a unit interval**\r\n",
        "In  Monte-Carlo quadrature the algorithm randomly picks a value from the interval and evaluates the function at this point. It does this n times, where n is the number of quadrature points. After the summation average value is returned."
      ]
    },
    {
      "cell_type": "code",
      "metadata": {
        "id": "wVERIGuBNqCp"
      },
      "source": [
        "def monteCarloQuadrature(function, nPoints, x):\r\n",
        "  return sum([function.subs(x,np.random.uniform()) for _ in range(nPoints)])/nPoints"
      ],
      "execution_count": 14,
      "outputs": []
    },
    {
      "cell_type": "code",
      "metadata": {
        "id": "1YbDIYJwPDEB",
        "colab": {
          "base_uri": "https://localhost:8080/",
          "height": 1000
        },
        "outputId": "3e74dbcc-5de8-4c70-dee1-068d1060ffb0"
      },
      "source": [
        "#Test\r\n",
        "\r\n",
        "class TestMonteCarloQuadrature(unittest.TestCase):\r\n",
        "  def test(self):\r\n",
        "    x= Symbol('x')\r\n",
        "    function = x**2\r\n",
        "    expected_result = integrate(function,(x, 0, 1))\r\n",
        "    t = np.arange(1., 100., 1.0)\r\n",
        "    errors = []\r\n",
        "    squares = []\r\n",
        "    for n in range(1, 200):\r\n",
        "      squares.append(1/math.sqrt(n))\r\n",
        "      errors.append(abs(expected_result - monteCarloQuadrature(function, n, x)))\r\n",
        "    plt.figure(figsize=(14,8))\r\n",
        "    plt.plot(errors, label=\"Error\")\r\n",
        "    plt.plot(squares, label=\"1/sqrt(n)\")\r\n",
        "    plt.legend(loc=\"upper right\")\r\n",
        "    plt.xlabel(\"Number of samples\")\r\n",
        "    plt.ylabel(\"Error\")\r\n",
        "    plt.xticks(range(0,200+1,200//10))\r\n",
        "    plt.show()\r\n",
        "\r\n",
        "if __name__ == '__main__':\r\n",
        "    unittest.main(argv=['first-arg-is-ignored'], exit=False)"
      ],
      "execution_count": 15,
      "outputs": [
        {
          "output_type": "stream",
          "text": [
            "."
          ],
          "name": "stderr"
        },
        {
          "output_type": "display_data",
          "data": {
            "image/png": "[encoded data removed]",
            "text/plain": [
              "<Figure size 1008x576 with 1 Axes>"
            ]
          },
          "metadata": {
            "tags": [],
            "needs_background": "light"
          }
        },
        {
          "output_type": "stream",
          "text": [
            "."
          ],
          "name": "stderr"
        },
        {
          "output_type": "stream",
          "text": [
            "expected_result 373/6\n",
            "expected_result 215/6\n",
            "expected_result 521/8\n",
            "expected_result 325/6\n",
            "expected_result 463/12\n",
            "expected_result 513/8\n",
            "expected_result 1501/24\n",
            "expected_result 1117/24\n",
            "expected_result 283/8\n",
            "expected_result 241/3\n",
            "expected_result 1265/24\n",
            "expected_result 907/12\n",
            "expected_result 439/8\n",
            "expected_result 181/4\n",
            "expected_result 1879/24\n",
            "expected_result 157/3\n",
            "expected_result 1541/24\n",
            "expected_result 1211/24\n",
            "expected_result 1511/24\n",
            "expected_result 327/4\n",
            "expected_result 151/8\n",
            "expected_result 1249/24\n",
            "expected_result 28\n",
            "expected_result 113/4\n",
            "expected_result 1643/24\n",
            "expected_result 815/24\n",
            "expected_result 1123/24\n",
            "expected_result 671/12\n",
            "expected_result 403/6\n",
            "expected_result 499/8\n",
            "expected_result 143/3\n",
            "expected_result 154/3\n",
            "expected_result 1619/24\n",
            "expected_result 621/8\n",
            "expected_result 317/6\n",
            "expected_result 707/24\n",
            "expected_result 481/8\n",
            "expected_result 271/12\n",
            "expected_result 135/8\n",
            "expected_result 647/8\n",
            "expected_result 43\n",
            "expected_result 215/4\n",
            "expected_result 1219/24\n",
            "expected_result 1585/24\n",
            "expected_result 397/8\n",
            "expected_result 191/3\n",
            "expected_result 1549/24\n",
            "expected_result 1177/24\n",
            "expected_result 653/8\n",
            "expected_result 197/4\n",
            "expected_result 559/24\n",
            "expected_result 39\n",
            "expected_result 1007/24\n",
            "expected_result 265/4\n",
            "expected_result 483/8\n",
            "expected_result 449/12\n",
            "expected_result 39\n",
            "expected_result 639/8\n",
            "expected_result 197/6\n",
            "expected_result 457/6\n",
            "expected_result 97/2\n",
            "expected_result 1523/24\n",
            "expected_result 563/24\n",
            "expected_result 1417/24\n",
            "expected_result 629/8\n",
            "expected_result 131/2\n",
            "expected_result 1633/24\n",
            "expected_result 1333/24\n",
            "expected_result 208/3\n",
            "expected_result 1033/12\n",
            "expected_result 709/24\n",
            "expected_result 1817/24\n",
            "expected_result 214/3\n",
            "expected_result 1021/24\n",
            "expected_result 443/8\n",
            "expected_result 493/6\n",
            "expected_result 743/24\n",
            "expected_result 369/8\n",
            "expected_result 173/3\n",
            "expected_result 533/12\n",
            "expected_result 683/12\n",
            "expected_result 111/4\n",
            "expected_result 405/8\n",
            "expected_result 631/12\n",
            "expected_result 715/12\n",
            "expected_result 62\n",
            "expected_result 671/12\n",
            "expected_result 585/8\n",
            "expected_result 977/24\n",
            "expected_result 539/8\n",
            "expected_result 425/8\n",
            "expected_result 385/12\n",
            "expected_result 85/2\n",
            "expected_result 595/12\n",
            "expected_result 239/6\n",
            "expected_result 125/2\n"
          ],
          "name": "stdout"
        },
        {
          "output_type": "stream",
          "text": [
            "."
          ],
          "name": "stderr"
        },
        {
          "output_type": "stream",
          "text": [
            "expected_result 1417/24\n",
            "expected_result 1079/24\n",
            "expected_result 1483/24\n",
            "expected_result 1087/24\n"
          ],
          "name": "stdout"
        },
        {
          "output_type": "stream",
          "text": [
            "\n",
            "----------------------------------------------------------------------\n",
            "Ran 3 tests in 7.489s\n",
            "\n",
            "OK\n"
          ],
          "name": "stderr"
        }
      ]
    },
    {
      "cell_type": "markdown",
      "metadata": {
        "id": "a8UWJMsTgStw"
      },
      "source": [
        "##**Monte Carlo quadrature over a reference triangle**\r\n",
        "Simlar to Monte Carlo quadrature over a unit interval, the only difference now is that we go from  R  to  R2 , and our  D  is the unit triangle (the triangle made of (0,0), (1,0), (0,1)). We can use the same formula used in the previous assignments.\r\n",
        "\r\n",
        "∫Dg(x)≈1n∑ni=1g(xi)|D|=|D|n∑ni=1g(xi) \r\n",
        "\r\n",
        "The only major difference is that  x  is an vector with two components. We also need to pick random datapoints uniformly from the unit triangle.\r\n"
      ]
    },
    {
      "cell_type": "code",
      "metadata": {
        "id": "6D_XvRoQgdrg"
      },
      "source": [
        "def monte_carlo_quadrature_triangle(function, nPoints):\r\n",
        "  summation = 0\r\n",
        "  for _ in range(nPoints):\r\n",
        "      x = np.random.uniform()\r\n",
        "      y = np.random.uniform()\r\n",
        "      while y > 1-x:\r\n",
        "          x = np.random.uniform()\r\n",
        "          y = np.random.uniform()\r\n",
        "      summation += function(x,y)\r\n",
        "  return summation*(0.5/nPoints)"
      ],
      "execution_count": 16,
      "outputs": []
    },
    {
      "cell_type": "code",
      "metadata": {
        "colab": {
          "base_uri": "https://localhost:8080/",
          "height": 1000
        },
        "id": "psUla8DjggFi",
        "outputId": "6428ad19-d263-4b1b-f0d9-1b80445db4cf"
      },
      "source": [
        "#Test\r\n",
        "class TestMonteCarloQuadrature(unittest.TestCase):\r\n",
        "  def test(self):\r\n",
        "    function = lambda x, y: x**2*y**2\r\n",
        "    lower_limit = lambda x: 0\r\n",
        "    triangleEquation = lambda x: 1-x\r\n",
        "    expected_result = dblquad(function, 0, 1, lower_limit, triangleEquation)[0]  \r\n",
        "    errors = []\r\n",
        "    squares = []\r\n",
        "    for n in range(1, 200):\r\n",
        "      squares.append(1/math.sqrt(n))\r\n",
        "      errors.append(abs(expected_result - monte_carlo_quadrature_triangle(function, n)))\r\n",
        "    plt.figure(figsize=(14,8))\r\n",
        "    plt.plot(errors, label=\"Error\")\r\n",
        "    plt.plot(squares, label=\"1/sqrt(n)\")\r\n",
        "    plt.legend(loc=\"upper right\")\r\n",
        "    plt.xlabel(\"Number of samples\")\r\n",
        "    plt.ylabel(\"Error\")\r\n",
        "    plt.xticks(range(0,200+1,200//10))\r\n",
        "    plt.show()\r\n",
        "\r\n",
        "if __name__ == '__main__':\r\n",
        "    unittest.main(argv=['first-arg-is-ignored'], exit=False)\r\n"
      ],
      "execution_count": 18,
      "outputs": [
        {
          "output_type": "stream",
          "text": [
            "."
          ],
          "name": "stderr"
        },
        {
          "output_type": "display_data",
          "data": {
            "image/png": "[encoded data removed]",
            "text/plain": [
              "<Figure size 1008x576 with 1 Axes>"
            ]
          },
          "metadata": {
            "tags": [],
            "needs_background": "light"
          }
        },
        {
          "output_type": "stream",
          "text": [
            "."
          ],
          "name": "stderr"
        },
        {
          "output_type": "stream",
          "text": [
            "expected_result 555/8\n",
            "expected_result 947/24\n",
            "expected_result 191/3\n",
            "expected_result 329/8\n",
            "expected_result 377/12\n",
            "expected_result 167/4\n",
            "expected_result 135/4\n",
            "expected_result 395/6\n",
            "expected_result 821/12\n",
            "expected_result 1373/24\n",
            "expected_result 985/24\n",
            "expected_result 815/12\n",
            "expected_result 225/4\n",
            "expected_result 122/3\n",
            "expected_result 679/12\n",
            "expected_result 91/2\n",
            "expected_result 251/4\n",
            "expected_result 133/3\n",
            "expected_result 649/12\n",
            "expected_result 1303/24\n",
            "expected_result 1243/24\n",
            "expected_result 197/6\n",
            "expected_result 269/8\n",
            "expected_result 701/24\n",
            "expected_result 493/8\n",
            "expected_result 146/3\n",
            "expected_result 499/8\n",
            "expected_result 887/12\n",
            "expected_result 191/4\n",
            "expected_result 1351/24\n",
            "expected_result 1679/24\n",
            "expected_result 697/12\n",
            "expected_result 343/12\n",
            "expected_result 291/4\n",
            "expected_result 333/8\n",
            "expected_result 665/12\n",
            "expected_result 869/12\n",
            "expected_result 37\n",
            "expected_result 257/4\n",
            "expected_result 104/3\n",
            "expected_result 733/12\n",
            "expected_result 331/6\n",
            "expected_result 127/4\n",
            "expected_result 106/3\n",
            "expected_result 217/3\n",
            "expected_result 351/8\n",
            "expected_result 277/4\n",
            "expected_result 255/8\n",
            "expected_result 143/3\n",
            "expected_result 1135/24\n",
            "expected_result 176/3\n",
            "expected_result 85/3\n",
            "expected_result 195/8\n",
            "expected_result 1355/24\n",
            "expected_result 169/6\n",
            "expected_result 457/24\n",
            "expected_result 299/6\n",
            "expected_result 1691/24\n",
            "expected_result 863/24\n",
            "expected_result 1597/24\n",
            "expected_result 1267/24\n",
            "expected_result 535/8\n",
            "expected_result 31\n",
            "expected_result 163/4\n",
            "expected_result 847/24\n",
            "expected_result 145/2\n",
            "expected_result 617/12\n",
            "expected_result 249/4\n",
            "expected_result 1217/24\n",
            "expected_result 685/12\n",
            "expected_result 385/6\n",
            "expected_result 215/4\n",
            "expected_result 1907/24\n",
            "expected_result 134/3\n",
            "expected_result 1133/24\n",
            "expected_result 365/8\n",
            "expected_result 163/3\n",
            "expected_result 217/3\n",
            "expected_result 329/8\n",
            "expected_result 531/8\n",
            "expected_result 207/4\n",
            "expected_result 200/3\n",
            "expected_result 983/12\n",
            "expected_result 1061/24\n",
            "expected_result 1153/24\n",
            "expected_result 1313/24\n",
            "expected_result 273/8\n",
            "expected_result 815/24\n",
            "expected_result 77/2\n",
            "expected_result 489/8\n",
            "expected_result 1747/24\n"
          ],
          "name": "stdout"
        },
        {
          "output_type": "stream",
          "text": [
            "."
          ],
          "name": "stderr"
        },
        {
          "output_type": "stream",
          "text": [
            "expected_result 979/24\n",
            "expected_result 283/12\n",
            "expected_result 1607/24\n",
            "expected_result 485/8\n",
            "expected_result 181/3\n",
            "expected_result 209/4\n",
            "expected_result 1021/24\n",
            "expected_result 1457/24\n",
            "expected_result 101/2\n"
          ],
          "name": "stdout"
        },
        {
          "output_type": "stream",
          "text": [
            "\n",
            "----------------------------------------------------------------------\n",
            "Ran 3 tests in 3.915s\n",
            "\n",
            "OK\n"
          ],
          "name": "stderr"
        }
      ]
    },
    {
      "cell_type": "markdown",
      "metadata": {
        "id": "UgxQMDGunqeV"
      },
      "source": [
        "#**Discussion**\r\n",
        "All unit tests passed successfully proving the fact that numerical integration can be useful at times\r\n",
        " The convergence rate follows the curve 1/sqrt(n) and the error becomes less with the increase in number of samples."
      ]
    },
    {
      "cell_type": "markdown",
      "metadata": {
        "id": "LABsRPIeNRAP"
      },
      "source": [
        ""
      ]
    }
  ]
}
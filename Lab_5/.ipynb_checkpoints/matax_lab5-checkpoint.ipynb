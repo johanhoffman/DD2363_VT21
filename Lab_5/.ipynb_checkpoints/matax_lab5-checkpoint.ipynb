{
 "cells": [
  {
   "cell_type": "markdown",
   "metadata": {
    "colab_type": "text",
    "id": "view-in-github"
   },
   "source": [
    "<a href=\"https://colab.research.google.com/github/johanhoffman/DD2363-VT20/blob/master/template-report-lab-X.ipynb\" target=\"_parent\"><img src=\"https://colab.research.google.com/assets/colab-badge.svg\" alt=\"Open In Colab\"/></a>"
   ]
  },
  {
   "cell_type": "markdown",
   "metadata": {
    "colab_type": "text",
    "id": "6RgtXlfYO_i7"
   },
   "source": [
    "### **Lab 3: Iterative methods**\n",
    "**Mathias Axelsson**"
   ]
  },
  {
   "cell_type": "markdown",
   "metadata": {
    "colab_type": "text",
    "id": "9x_J5FVuPzbm"
   },
   "source": [
    "# **Abstract**"
   ]
  },
  {
   "cell_type": "markdown",
   "metadata": {
    "colab_type": "text",
    "id": "yJipbXtnjrJZ"
   },
   "source": [
    "This report will implement various functions for integration in one and two dimmensions."
   ]
  },
  {
   "cell_type": "markdown",
   "metadata": {
    "colab_type": "text",
    "id": "OkT8J7uOWpT3"
   },
   "source": [
    "#**About the code**"
   ]
  },
  {
   "cell_type": "markdown",
   "metadata": {
    "colab_type": "text",
    "id": "HmB2noTr1Oyo"
   },
   "source": [
    "A short statement on who is the author of the file, and if the code is distributed under a certain license. "
   ]
  },
  {
   "cell_type": "code",
   "execution_count": 5,
   "metadata": {
    "colab": {
     "base_uri": "https://localhost:8080/",
     "height": 34
    },
    "colab_type": "code",
    "id": "Pdll1Xc9WP0e",
    "outputId": "6435158d-714b-4fa0-f688-bbd72fa2bc02"
   },
   "outputs": [
    {
     "data": {
      "text/plain": [
       "'KTH Royal Institute of Technology, Stockholm, Sweden.'"
      ]
     },
     "execution_count": 5,
     "metadata": {},
     "output_type": "execute_result"
    }
   ],
   "source": [
    "\"\"\"This program is a template for lab reports in the course\"\"\"\n",
    "\"\"\"DD2363 Methods in Scientific Computing, \"\"\"\n",
    "\"\"\"KTH Royal Institute of Technology, Stockholm, Sweden.\"\"\"\n",
    "\n",
    "# Copyright (C) 2020 Johan Hoffman (jhoffman@kth.se)\n",
    "\n",
    "# This file is part of the course DD2365 Advanced Computation in Fluid Mechanics\n",
    "# KTH Royal Institute of Technology, Stockholm, Sweden\n",
    "#\n",
    "# This is free software: you can redistribute it and/or modify\n",
    "# it under the terms of the GNU Lesser General Public License as published by\n",
    "# the Free Software Foundation, either version 3 of the License, or\n",
    "# (at your option) any later version.\n",
    "\n",
    "# This template is maintained by Johan Hoffman\n",
    "# Please report problems to jhoffman@kth.se"
   ]
  },
  {
   "cell_type": "markdown",
   "metadata": {
    "colab_type": "text",
    "id": "28xLGz8JX3Hh"
   },
   "source": [
    "# **Set up environment**"
   ]
  },
  {
   "cell_type": "markdown",
   "metadata": {
    "colab_type": "text",
    "id": "D2PYNusD08Wa"
   },
   "source": [
    "To have access to the neccessary modules you have to run this cell. If you need additional modules, this is where you add them. "
   ]
  },
  {
   "cell_type": "code",
   "execution_count": 6,
   "metadata": {
    "colab": {},
    "colab_type": "code",
    "id": "Xw7VlErAX7NS"
   },
   "outputs": [],
   "source": [
    "# Load neccessary modules.\n",
    "\n",
    "import time\n",
    "import numpy as np\n",
    "import scipy.integrate as integrate\n",
    "\n",
    "import random as rnd\n",
    "\n",
    "\n",
    "from matplotlib import pyplot as plt\n",
    "from matplotlib import tri\n",
    "from matplotlib import axes\n",
    "from mpl_toolkits.mplot3d import Axes3D"
   ]
  },
  {
   "cell_type": "markdown",
   "metadata": {
    "colab_type": "text",
    "id": "gnO3lhAigLev"
   },
   "source": [
    "# **Introduction**"
   ]
  },
  {
   "cell_type": "markdown",
   "metadata": {
    "colab_type": "text",
    "id": "l5zMzgPlRAF6"
   },
   "source": [
    "The first two functiosn will implement exact integration for polynomials on a predefined area. The 2-point Gauss quadrature integrates a third degree polynomial exactly. Similarly the 3-point edge midpoint quadrature integrates a polynomial on the form $ax^2 + by^2 + cxy + dx + ey + f$ exactly.\n",
    "\n",
    "The other two functions will use Monte Carlo integration to calculate integral on the same domains as the first functions."
   ]
  },
  {
   "cell_type": "markdown",
   "metadata": {
    "colab_type": "text",
    "id": "jOQvukXZq5U5"
   },
   "source": [
    "# **Method**"
   ]
  },
  {
   "cell_type": "markdown",
   "metadata": {
    "colab_type": "text",
    "id": "zF4iBj5VURZx"
   },
   "source": [
    "#### 2-point Gauss quadrature over a unit interval\n",
    "The 2-point Gauss quadrature solves the equation $\\int^1_0p(x) = p(x_0)w_o + p(x_1)w_1$ to find points $x_0, x_1$ and weights $w_0, w_1$ that allow any polynomial to be integrated on $[0,1]$.\n",
    "\n",
    "From problem 11.3 I know that these values are $x_0 = \\frac{1/\\sqrt{3} + 1}{2}$, $x_1 = \\frac{-1/\\sqrt{3} + 1}{2}$ and $w_0 = w_1 = \\frac{1}{2}$.\n",
    "\n",
    "#### 3-point edge midpoint quadrature over the reference triangle\n",
    "From Example 11.5 in the lecture notes I fint that the 3-point edge midpoint quadrature is $x_0 = (0, 0.5)^T, x_1 = (0.5, 0)^T, x_2 = (0.5, 0.5)$ and $w_0 = w_1 = w_2 = 1/6$. This follows from the symmetry of the reference triangle.\n",
    "\n",
    "#### Monte Carlo quadrature over a unit interval\n",
    "The function samples the function at $n$ random points on the integration domain. The function $f$ is then evaluated at those points. The average of f(X_i) then approaches the real value of the integral for large n.\n",
    "\n",
    "#### Monte Carlo quadrature over a reference triangle\n",
    "This functions works exactly the same as Monte Carlo quadrature over a unit interval except the domain has changed to a reference triangle."
   ]
  },
  {
   "cell_type": "code",
   "execution_count": 7,
   "metadata": {},
   "outputs": [],
   "source": [
    "def int_unit_interval(f):\n",
    "    x0 = (1/np.sqrt(3) + 1)/2\n",
    "    x1 = (-1/np.sqrt(3) + 1)/2\n",
    "    \n",
    "    w = 1/2\n",
    "    \n",
    "    return f(x0)*w + f(x1)*w\n",
    "\n",
    "def int_ref_triangle(f):\n",
    "    x0 = np.array([0, 0.5])\n",
    "    x1 = np.array([0.5, 0])\n",
    "    x2 = np.array([0.5, 0.5])\n",
    "    \n",
    "    w = 1/6\n",
    "    \n",
    "    return f(x0[1], x0[0])*w + f(x1[1], x1[0])*w + f(x2[1], x2[0])*w\n",
    "\n",
    "def monte_carlo_unit_interval(f, n):\n",
    "    fMean = 0\n",
    "    for i in range(n):\n",
    "        fMean += f(rnd.random())\n",
    "        \n",
    "    return fMean/n\n",
    "        \n",
    "\n",
    "def monte_carlo_ref_triangle(f, n):\n",
    "    fMean = 0\n",
    "    for i in range(n):\n",
    "        # Get random point in unit square\n",
    "        xRnd = rnd.random()\n",
    "        yRnd = rnd.random()\n",
    "\n",
    "        # Transform points outside unit triangle to unit triangle\n",
    "        if xRnd + yRnd > 1:\n",
    "            xRnd = 1 - xRnd\n",
    "            yRnd = 1 - yRnd\n",
    "\n",
    "        \n",
    "        fMean += f(yRnd, xRnd)\n",
    "    return fMean/(2*n)\n",
    "    "
   ]
  },
  {
   "cell_type": "markdown",
   "metadata": {
    "colab_type": "text",
    "id": "SsQLT38gVbn_"
   },
   "source": [
    "# **Results**"
   ]
  },
  {
   "cell_type": "code",
   "execution_count": 8,
   "metadata": {},
   "outputs": [
    {
     "name": "stdout",
     "output_type": "stream",
     "text": [
      "10 / 50\n",
      "20 / 50\n",
      "30 / 50\n",
      "40 / 50\n",
      "50 / 50\n"
     ]
    },
    {
     "data": {
      "image/png": "[encoded data removed]",
      "text/plain": [
       "<Figure size 432x288 with 1 Axes>"
      ]
     },
     "metadata": {
      "needs_background": "light"
     },
     "output_type": "display_data"
    }
   ],
   "source": [
    "n = 50\n",
    "samples = np.array([100, 200, 400, 800, 1600, 3200, 6400, 12800])\n",
    "error1D = np.zeros(samples.shape)\n",
    "error2D = np.zeros(samples.shape)\n",
    "\n",
    "\n",
    "\n",
    "for i in range(n):\n",
    "    a = rnd.randrange(-100, 100)\n",
    "    b = rnd.randrange(-100, 100)\n",
    "    c = rnd.randrange(-100, 100)\n",
    "    d = rnd.randrange(-100, 100)\n",
    "    e = rnd.randrange(-100, 100)\n",
    "    f = rnd.randrange(-100, 100)\n",
    "    \n",
    "    g1 = lambda x: a*x**3 + b*x**2 + c*x + d\n",
    "    g2 = lambda y, x: a*x**2 + b*y**2 + c*x*y + d*x + e*y + f\n",
    "    \n",
    "    # Test exact integrals\n",
    "    assert int_unit_interval(g1) - integrate.quad(g1, 0, 1)[0] < 1e-10\n",
    "    assert int_ref_triangle(g2) - integrate.dblquad(g2, 0, 1, lambda x: 0, lambda x: 1-x)[0] < 1e-10\n",
    "\n",
    "\n",
    "    # Collect integration error\n",
    "    for j, s in enumerate(samples):\n",
    "        m1D = monte_carlo_unit_interval(g1, s)\n",
    "        m2D = monte_carlo_ref_triangle(g2, s)\n",
    "        ref1D = int_unit_interval(g1)\n",
    "        ref2D = int_ref_triangle(g2)\n",
    "        \n",
    "        e1D = abs(m1D - ref1D)\n",
    "        e2D = abs(m2D - ref2D)\n",
    "        \n",
    "        \n",
    "        error1D[j] += e1D/n\n",
    "        error2D[j] += e2D/n\n",
    "\n",
    "    if (i+1)%10 == 0:\n",
    "        print(i+1, \"/\", n)\n",
    "\n",
    "# Rescale errors\n",
    "error1D = error1D/error1D[0]\n",
    "error2D = error2D/error2D[0]\n",
    "\n",
    "plt.title(\"Expected convergence compared to actual convergence.\")\n",
    "plt.plot(samples, 1/np.sqrt(samples)*np.sqrt(samples[0]), label='Expected convergence')\n",
    "plt.plot(samples, error1D, label='Actual convergence: Unit interval')\n",
    "plt.plot(samples, error2D, label='Actual convergence: Unit triangle')\n",
    "plt.xlabel(\"Number of samples\")\n",
    "plt.legend()\n",
    "plt.show()\n"
   ]
  },
  {
   "cell_type": "markdown",
   "metadata": {
    "colab_type": "text",
    "id": "_4GLBv0zWr7m"
   },
   "source": [
    "# **Discussion**"
   ]
  },
  {
   "cell_type": "markdown",
   "metadata": {
    "colab_type": "text",
    "id": "6bcsDSoRXHZe"
   },
   "source": [
    "The functions work as intended. The 2-point and 3-point functions calculate the integrals within a very small margin of the actual value. Note that in this case I use scipy.integrate as my reference integral. I therefore assume that it is exact. For the Monte Carlo methods I found that both of my implemented functions follow the expected convergence well. To compare the graphs I scaled the error.\n",
    "\n",
    "Due to the random nature of the Monte Carlo methods the number of runs (n in code) needs to be fairly high. Otherwise the randomness of the approximations could cause the plot to be harder to read. "
   ]
  }
 ],
 "metadata": {
  "colab": {
   "include_colab_link": true,
   "name": "template-report-lab-X.ipynb",
   "provenance": []
  },
  "kernelspec": {
   "display_name": "Python 3",
   "language": "python",
   "name": "python3"
  },
  "language_info": {
   "codemirror_mode": {
    "name": "ipython",
    "version": 3
   },
   "file_extension": ".py",
   "mimetype": "text/x-python",
   "name": "python",
   "nbconvert_exporter": "python",
   "pygments_lexer": "ipython3",
   "version": "3.7.7"
  }
 },
 "nbformat": 4,
 "nbformat_minor": 1
}

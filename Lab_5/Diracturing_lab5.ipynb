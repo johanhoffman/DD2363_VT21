{
  "nbformat": 4,
  "nbformat_minor": 0,
  "metadata": {
    "colab": {
      "name": "Diracturing_lab5.ipynb",
      "provenance": [],
      "collapsed_sections": [
        "OkT8J7uOWpT3"
      ],
      "include_colab_link": true
    },
    "kernelspec": {
      "name": "python3",
      "display_name": "Python 3"
    }
  },
  "cells": [
    {
      "cell_type": "markdown",
      "metadata": {
        "id": "view-in-github",
        "colab_type": "text"
      },
      "source": [
        "<a href=\"https://colab.research.google.com/github/johanhoffman/DD2363_VT21/blob/Diracturing/Lab_5/Diracturing_lab5.ipynb\" target=\"_parent\"><img src=\"https://colab.research.google.com/assets/colab-badge.svg\" alt=\"Open In Colab\"/></a>"
      ]
    },
    {
      "cell_type": "markdown",
      "metadata": {
        "id": "6RgtXlfYO_i7"
      },
      "source": [
        "# **Lab 5: Integration**\n",
        "**Julius Andersson**"
      ]
    },
    {
      "cell_type": "markdown",
      "metadata": {
        "id": "9x_J5FVuPzbm"
      },
      "source": [
        "# **Abstract**\r\n",
        "In this lab 3 algorithm was constructed. The first one was a 2-point Gauss quadrature over a unit interval. The second was a 3-point edge midpoint quadrature over a reference triangle. Lastly Monte Carlo quadrature over a unit interval was constructed. Several tests was performed to verify that the two first algorithm was implemented correct and also that the last algorithm had the right convergence. "
      ]
    },
    {
      "cell_type": "markdown",
      "metadata": {
        "id": "OkT8J7uOWpT3"
      },
      "source": [
        "#**About the code**"
      ]
    },
    {
      "cell_type": "markdown",
      "metadata": {
        "id": "HmB2noTr1Oyo"
      },
      "source": [
        "A short statement on who is the author of the file, and if the code is distributed under a certain license. "
      ]
    },
    {
      "cell_type": "code",
      "metadata": {
        "id": "Pdll1Xc9WP0e",
        "colab": {
          "base_uri": "https://localhost:8080/",
          "height": 0
        },
        "outputId": "92a18aa6-0d19-472b-d83f-76d1d25d688b"
      },
      "source": [
        "\"\"\"This program is a template for lab reports in the course\"\"\"\n",
        "\"\"\"DD2363 Methods in Scientific Computing, \"\"\"\n",
        "\"\"\"KTH Royal Institute of Technology, Stockholm, Sweden.\"\"\"\n",
        "\n",
        "# Copyright (C) 2020 Johan Hoffman (jhoffman@kth.se)\n",
        "\n",
        "# This file is part of the course DD2365 Advanced Computation in Fluid Mechanics\n",
        "# KTH Royal Institute of Technology, Stockholm, Sweden\n",
        "#\n",
        "# This is free software: you can redistribute it and/or modify\n",
        "# it under the terms of the GNU Lesser General Public License as published by\n",
        "# the Free Software Foundation, either version 3 of the License, or\n",
        "# (at your option) any later version.\n",
        "\n",
        "# This template is maintained by Johan Hoffman\n",
        "# Please report problems to jhoffman@kth.se"
      ],
      "execution_count": 2,
      "outputs": [
        {
          "output_type": "execute_result",
          "data": {
            "application/vnd.google.colaboratory.intrinsic+json": {
              "type": "string"
            },
            "text/plain": [
              "'KTH Royal Institute of Technology, Stockholm, Sweden.'"
            ]
          },
          "metadata": {
            "tags": []
          },
          "execution_count": 2
        }
      ]
    },
    {
      "cell_type": "markdown",
      "metadata": {
        "id": "28xLGz8JX3Hh"
      },
      "source": [
        "# **Set up environment**"
      ]
    },
    {
      "cell_type": "markdown",
      "metadata": {
        "id": "D2PYNusD08Wa"
      },
      "source": [
        "To have access to the neccessary modules you have to run this cell. If you need additional modules, this is where you add them. "
      ]
    },
    {
      "cell_type": "code",
      "metadata": {
        "id": "Xw7VlErAX7NS"
      },
      "source": [
        "# Load neccessary modules.\n",
        "from google.colab import files\n",
        "\n",
        "import time\n",
        "import numpy as np\n",
        "import scipy.integrate as integrate\n",
        "import random\n",
        "import math\n",
        "from scipy.optimize import curve_fit\n",
        "\n",
        "#try:\n",
        "#    from dolfin import *; from mshr import *\n",
        "#except ImportError as e:\n",
        "#    !apt-get install -y -qq software-properties-common \n",
        "#    !add-apt-repository -y ppa:fenics-packages/fenics\n",
        "#    !apt-get update -qq\n",
        "#    !apt install -y --no-install-recommends fenics\n",
        "#    from dolfin import *; from mshr import *\n",
        "    \n",
        "#import dolfin.common.plotting as fenicsplot\n",
        "\n",
        "from matplotlib import pyplot as plt\n",
        "from matplotlib import tri\n",
        "from matplotlib import axes\n",
        "from mpl_toolkits.mplot3d import Axes3D"
      ],
      "execution_count": 94,
      "outputs": []
    },
    {
      "cell_type": "markdown",
      "metadata": {
        "id": "gnO3lhAigLev"
      },
      "source": [
        "# **Introduction**\r\n",
        "The theme in this lab was different methods for integration. The first was the Gauss quadrature. It can be used to solve integration of polynomials up to a certain degree exact. In the 1 dimensional case when using q+1 quadrature points it is posible to solve polynomials up to degree 2q+1. It can also be used in higher dimensions. The second method was the Monte-Carlo method. It is much different from previous algorithms because it is based on probabilities."
      ]
    },
    {
      "cell_type": "markdown",
      "metadata": {
        "id": "jOQvukXZq5U5"
      },
      "source": [
        "# **Method**"
      ]
    },
    {
      "cell_type": "markdown",
      "metadata": {
        "id": "pl-PbJTNU-11"
      },
      "source": [
        "Gauss two point iteration: \\\\\r\n",
        "Given a polynomial p(x), $\\int_{a}^{b} p(x)\\,dx$=$\\sum_{i=0}^{q} p(x_i)w_i$. We therefore have to find the weights $w_i$ and the points $x_i$. This can be done with equation 11.4 in the lecture notes."
      ]
    },
    {
      "cell_type": "code",
      "metadata": {
        "id": "H8_G9rtMU1UH"
      },
      "source": [
        "def gauss2point(f):\r\n",
        "  w1=w0=1\r\n",
        "  x0=1/(3)**(1/2)\r\n",
        "  x1=-1/(3)**(1/2)\r\n",
        "  return 1/2*(f(1/2+1/2*x0)+f(1/2+1/2*x1))\r\n",
        "\r\n",
        "\r\n"
      ],
      "execution_count": 128,
      "outputs": []
    },
    {
      "cell_type": "markdown",
      "metadata": {
        "id": "5S20RWM1WjrN"
      },
      "source": [
        " 3-point edge midpoint quadrature over a reference triangle: \\\\\r\n",
        " Same as before but this time we are in 2D and using a reference triangle instead of an interval."
      ]
    },
    {
      "cell_type": "code",
      "metadata": {
        "id": "yVPHw0vMWioo"
      },
      "source": [
        "def gauss3point(f):\r\n",
        "  w0=w1=w2=1/6\r\n",
        "  x01=0\r\n",
        "  x02=1/2\r\n",
        "  x11=1/2 \r\n",
        "  x12=1/2\r\n",
        "  x21=1/2\r\n",
        "  x22=0\r\n",
        "  return 1/6*(f(x01,x02)+f(x11,x12)+f(x21,x22))\r\n"
      ],
      "execution_count": 129,
      "outputs": []
    },
    {
      "cell_type": "markdown",
      "metadata": {
        "id": "iu_9LW05yftJ"
      },
      "source": [
        "Monte Carlo quadrature over a unit interval: \\\\\r\n",
        "The algorithm is based on equation 12.4 in the lecture notes."
      ]
    },
    {
      "cell_type": "code",
      "metadata": {
        "id": "giKLpQ-Myk50"
      },
      "source": [
        "def monteCarlo(f,iterations):\r\n",
        "  sum=0\r\n",
        "  for i in range(iterations):\r\n",
        "    sum+=f(random.uniform(0,1))\r\n",
        "  return (sum/iterations)"
      ],
      "execution_count": 130,
      "outputs": []
    },
    {
      "cell_type": "markdown",
      "metadata": {
        "id": "SsQLT38gVbn_"
      },
      "source": [
        "# **Results**"
      ]
    },
    {
      "cell_type": "markdown",
      "metadata": {
        "id": "X4mOULnT8dJM"
      },
      "source": [
        "1) Here we test if our algorithm solves the integration exactly. By integrating the polynomial analytical we can compare to our algorithm."
      ]
    },
    {
      "cell_type": "code",
      "metadata": {
        "colab": {
          "base_uri": "https://localhost:8080/"
        },
        "id": "lsj7l5iWYSd2",
        "outputId": "6012cc66-47ab-488d-eb1e-70785a544346"
      },
      "source": [
        "for i in range(100):\r\n",
        "  a=random.randint(0,100)\r\n",
        "  b=random.randint(0,100)\r\n",
        "  c=random.randint(0,100)\r\n",
        "  d=random.randint(0,100)\r\n",
        "\r\n",
        "  e=lambda x:(a*x**4/4+b*x**3/3+c*x**2/2+d*x)\r\n",
        "  result1=e(1)-e(0)\r\n",
        "\r\n",
        "  f=lambda x: a*x**3+b*x**2+c*x+d\r\n",
        "  result2=gauss2point(f)\r\n",
        "\r\n",
        "  assert(abs(result1-result2)<1E-10)\r\n",
        "\r\n",
        "print(\"Ok\")"
      ],
      "execution_count": 41,
      "outputs": [
        {
          "output_type": "stream",
          "text": [
            "Ok\n"
          ],
          "name": "stdout"
        }
      ]
    },
    {
      "cell_type": "markdown",
      "metadata": {
        "id": "Tu2G09uX80nT"
      },
      "source": [
        "2) As before we compare the integration with an analytical solved solution. Look here how to solve it analytical [1]."
      ]
    },
    {
      "cell_type": "code",
      "metadata": {
        "colab": {
          "base_uri": "https://localhost:8080/"
        },
        "id": "17btiYvNgsIT",
        "outputId": "65f95fa2-e7d7-4f7d-d2a9-421556d08cba"
      },
      "source": [
        "for i in range(100):\r\n",
        "  a=random.randint(0,100)\r\n",
        "  b=random.randint(0,100)\r\n",
        "  c=random.randint(0,100)\r\n",
        "  d=random.randint(0,100)\r\n",
        "  e=random.randint(0,100)\r\n",
        "  f=random.randint(0,100)\r\n",
        "\r\n",
        "  result1=(12*f+4*d+c+2*b+2*a+4*e)/24\r\n",
        "\r\n",
        "  fun=lambda x,y: a*x**2+b*y**2+c*x*y+d*x+e*y+f\r\n",
        "  result2=gauss3point(fun)\r\n",
        "\r\n",
        "  assert(abs(result1-result2)<1E-10)\r\n",
        "\r\n",
        "print(\"Ok\")"
      ],
      "execution_count": 73,
      "outputs": [
        {
          "output_type": "stream",
          "text": [
            "Ok\n"
          ],
          "name": "stdout"
        }
      ]
    },
    {
      "cell_type": "markdown",
      "metadata": {
        "id": "GcFcmZ439foM"
      },
      "source": [
        "3) Lastly we check how the convergence of our solution in the Monte-Carlo method. For each chosen number of iterations N, we calculate an average. We then fit this to $x^{-a}$. The convergence is plotted only for $x^2+x+2$."
      ]
    },
    {
      "cell_type": "code",
      "metadata": {
        "colab": {
          "base_uri": "https://localhost:8080/",
          "height": 316
        },
        "id": "9S9oNDSTmr5r",
        "outputId": "3ecb1ded-c31c-42e2-c0c9-acb25d8c5366"
      },
      "source": [
        "def objective(x, a):\r\n",
        "\treturn x**(-a)\r\n",
        "\r\n",
        "##############T1#################\r\n",
        "f=lambda x: x\r\n",
        "ans=1/2\r\n",
        "y=[]\r\n",
        "for n in range(1,100):\r\n",
        "  sum=0\r\n",
        "  for j in range(100):\r\n",
        "    sum+=abs(monteCarlo(f,n)-ans)\r\n",
        "  y.append(sum/100)\r\n",
        "\r\n",
        "x=[i for i in range(1,100)]\r\n",
        "\r\n",
        "popt, _ = curve_fit(objective, x, y)\r\n",
        "print(popt)\r\n",
        "\r\n",
        "\r\n",
        "##############T2#################\r\n",
        "f=lambda x: x**2+x+2\r\n",
        "ans=17/6\r\n",
        "y=[]\r\n",
        "for n in range(1,100):\r\n",
        "  sum=0\r\n",
        "  for j in range(100):\r\n",
        "    sum+=abs(monteCarlo(f,n)-ans)\r\n",
        "  y.append(sum/100)\r\n",
        "\r\n",
        "x=[i for i in range(1,100)]\r\n",
        "\r\n",
        "popt, _ = curve_fit(objective, x, y)\r\n",
        "print(popt)\r\n",
        "plt.plot(x,y)\r\n",
        "\r\n",
        "##############T3#################\r\n",
        "f=lambda x: math.cos(x)*math.sin(x)\r\n",
        "ans=0.3540367091367856\r\n",
        "y=[]\r\n",
        "for n in range(1,100):\r\n",
        "  sum=0\r\n",
        "  for j in range(100):\r\n",
        "    sum+=abs(monteCarlo(f,n)-ans)\r\n",
        "  y.append(sum/100)\r\n",
        "\r\n",
        "x=[i for i in range(1,100)]\r\n",
        "\r\n",
        "popt, _ = curve_fit(objective, x, y)\r\n",
        "print(popt)"
      ],
      "execution_count": 127,
      "outputs": [
        {
          "output_type": "stream",
          "text": [
            "[1.40411376]\n",
            "[0.79642714]\n",
            "[2.70434897]\n"
          ],
          "name": "stdout"
        },
        {
          "output_type": "display_data",
          "data": {
            "image/png": "[encoded data removed]",
            "text/plain": [
              "<Figure size 432x288 with 1 Axes>"
            ]
          },
          "metadata": {
            "tags": [],
            "needs_background": "light"
          }
        }
      ]
    },
    {
      "cell_type": "markdown",
      "metadata": {
        "id": "_4GLBv0zWr7m"
      },
      "source": [
        "# **Discussion**\r\n",
        "As can be seen in the two first tests the guass quadrature algorithms pass all tests. For me atleast it is suprising that gauss quadrature can solve high order polynomials exact for a low number of quadrature points. For the Monte-Carlo method we see that it converges relatively fast. The convergence should be proportional to $\\frac{1}{\\sqrt{n}}=n^{-1/2}$. When fitting our convergence curves to $x^{-a}$ we get values from 0.8-2.7. We therefore see a faster convergence but we have not accounted for any constants. We also have not too many trials. Further work could be comparing gauss quadrature and Monte-Carlo in how fast they solve problems in much higher dimension. "
      ]
    },
    {
      "cell_type": "markdown",
      "metadata": {
        "id": "1vcIILuQYsEA"
      },
      "source": [
        "# **APPENDIX**\r\n",
        "[1] https://mathinsight.org/double_integral_examples."
      ]
    }
  ]
}
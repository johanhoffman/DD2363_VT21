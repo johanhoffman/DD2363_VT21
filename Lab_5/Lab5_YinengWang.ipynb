{
  "nbformat": 4,
  "nbformat_minor": 0,
  "metadata": {
    "colab": {
      "name": "Lab5_YinengWang.ipynb",
      "provenance": [],
      "collapsed_sections": [],
      "include_colab_link": true
    },
    "kernelspec": {
      "name": "python3",
      "display_name": "Python 3"
    }
  },
  "cells": [
    {
      "cell_type": "markdown",
      "metadata": {
        "id": "view-in-github",
        "colab_type": "text"
      },
      "source": [
        "<a href=\"https://colab.research.google.com/github/johanhoffman/DD2363_VT21/blob/YinengWang/Lab_5/Lab5_YinengWang.ipynb\" target=\"_parent\"><img src=\"https://colab.research.google.com/assets/colab-badge.svg\" alt=\"Open In Colab\"/></a>"
      ]
    },
    {
      "cell_type": "markdown",
      "metadata": {
        "id": "6RgtXlfYO_i7"
      },
      "source": [
        "# **Lab 5: Integration**\n",
        "**Yineng Wang**"
      ]
    },
    {
      "cell_type": "markdown",
      "metadata": {
        "id": "9x_J5FVuPzbm"
      },
      "source": [
        "# **Abstract**"
      ]
    },
    {
      "cell_type": "markdown",
      "metadata": {
        "id": "6UFTSzW7P8kL"
      },
      "source": [
        "This report includes the implementation and test for\n",
        "\n",
        "1. 2-point Gauss quadrature over a unit interval\n",
        "2. 3-point edge midpoint quadrature over a reference triangle\n",
        "3. Monte Carlo quadrature over a unit interval\n",
        "4. Monte Carlo quadrature over a reference triangle"
      ]
    },
    {
      "cell_type": "markdown",
      "metadata": {
        "id": "OkT8J7uOWpT3"
      },
      "source": [
        "#**About the code**"
      ]
    },
    {
      "cell_type": "markdown",
      "metadata": {
        "id": "HmB2noTr1Oyo"
      },
      "source": [
        "This report is written by Yineng Wang, based on Johan Hoffman's template."
      ]
    },
    {
      "cell_type": "code",
      "metadata": {
        "id": "Pdll1Xc9WP0e",
        "colab": {
          "base_uri": "https://localhost:8080/",
          "height": 37
        },
        "outputId": "d8c73aaf-fc48-4d15-971c-4c0817cf624d"
      },
      "source": [
        "\"\"\"This program is a template for lab reports in the course\"\"\"\n",
        "\"\"\"DD2363 Methods in Scientific Computing, \"\"\"\n",
        "\"\"\"KTH Royal Institute of Technology, Stockholm, Sweden.\"\"\"\n",
        "\n",
        "# Copyright (C) 2020 Johan Hoffman (jhoffman@kth.se)\n",
        "\n",
        "# This file is part of the course DD2365 Advanced Computation in Fluid Mechanics\n",
        "# KTH Royal Institute of Technology, Stockholm, Sweden\n",
        "#\n",
        "# This is free software: you can redistribute it and/or modify\n",
        "# it under the terms of the GNU Lesser General Public License as published by\n",
        "# the Free Software Foundation, either version 3 of the License, or\n",
        "# (at your option) any later version.\n",
        "\n",
        "# This template is maintained by Johan Hoffman\n",
        "# Please report problems to jhoffman@kth.se"
      ],
      "execution_count": 1,
      "outputs": [
        {
          "output_type": "execute_result",
          "data": {
            "application/vnd.google.colaboratory.intrinsic+json": {
              "type": "string"
            },
            "text/plain": [
              "'KTH Royal Institute of Technology, Stockholm, Sweden.'"
            ]
          },
          "metadata": {
            "tags": []
          },
          "execution_count": 1
        }
      ]
    },
    {
      "cell_type": "markdown",
      "metadata": {
        "id": "28xLGz8JX3Hh"
      },
      "source": [
        "# **Set up environment**"
      ]
    },
    {
      "cell_type": "code",
      "metadata": {
        "id": "Xw7VlErAX7NS"
      },
      "source": [
        "import random\n",
        "import unittest\n",
        "\n",
        "import numpy as np\n",
        "from matplotlib import pyplot as plt\n",
        "\n",
        "\n",
        "random.seed(2021)"
      ],
      "execution_count": 2,
      "outputs": []
    },
    {
      "cell_type": "markdown",
      "metadata": {
        "id": "gnO3lhAigLev"
      },
      "source": [
        "# **Introduction**"
      ]
    },
    {
      "cell_type": "markdown",
      "metadata": {
        "id": "l5zMzgPlRAF6"
      },
      "source": [
        "The quadrature rule is a way to the approximate numerical integration of $f(x)$ by the equation\n",
        "$$\n",
        "\\int_D f(x) \\,dx = \\sum_{i=0}^{n} f(x_i) w_i,\n",
        "$$\n",
        "with $n$ quadrature points and $n$ quadrature weights.\n",
        "\n",
        "The Gauss quadrature allows using $q+1$ quadrature points to exaclty compute the integration of polynomials of degree up to $2q+1$ in 1D space, while the Monte Carlo quadrature is based on random sampling and its convergence is guarenteed by the law of large numbers."
      ]
    },
    {
      "cell_type": "markdown",
      "metadata": {
        "id": "jOQvukXZq5U5"
      },
      "source": [
        "# **Method**"
      ]
    },
    {
      "cell_type": "markdown",
      "metadata": {
        "id": "zF4iBj5VURZx"
      },
      "source": [
        "## 1. 2-point Gauss quadrature over a unit interval"
      ]
    },
    {
      "cell_type": "markdown",
      "metadata": {
        "id": "em-M8ODsOpaC"
      },
      "source": [
        "Input: function f(x)\n",
        "\n",
        "Output: quadrature approximation of integral int_0^1 f(x) dx\n",
        "\n",
        "According to example (11.3) in the lecture notes, the 2-point Gauss rule on the interval $[-1,1]$ is given by\n",
        "$$\n",
        "\\int_{-1}^{1} p(x) \\,dx = p(-1/\\sqrt{3}) + p(1/\\sqrt{3}), \\quad p \\in \\mathcal{P}^3([-1,1]).\n",
        "$$\n",
        "\n",
        "By using the coordinate map $F: [-1, 1] \\rightarrow [0, 1]$, $x = F(\\hat{x}) = 1/2 \\hat{x} + 1/2, \\hat{x} \\in [-1,1]$, we have\n",
        "$$\n",
        "\\begin{align*}\n",
        "\\int_{0}^{1} p(x) \\,dx\n",
        "&= \\int_{-1}^{1} p(F(\\hat{x})) |F'(\\hat{x})| \\,d\\hat{x} \\\\\n",
        "&= \\frac{1}{2} \\int_{-1}^{1} p(F(\\hat{x})) \\,d\\hat{x} \\\\\n",
        "&= \\frac{1}{2} p(F(-1/\\sqrt{3})) + \\frac{1}{2} p(F(1/\\sqrt{3})) \\\\\n",
        "&= \\frac{1}{2} p\\left(\\frac{\\sqrt{3}-1}{2\\sqrt{3}}\\right) + \\frac{1}{2} p\\left(\\frac{\\sqrt{3}+1}{2\\sqrt{3}}\\right).\n",
        "\\end{align*}\n",
        "$$\n",
        "\n",
        "Hence, the 2-point Gauss rule for the unit interval $[0, 1]$ is given by $x_0 = \\frac{\\sqrt{3}-1}{2\\sqrt{3}}$, $x_1 = \\frac{\\sqrt{3}+1}{2\\sqrt{3}}$, $w_0 = w_1 = 1/2$."
      ]
    },
    {
      "cell_type": "code",
      "metadata": {
        "id": "1Ts-pPu2PH36"
      },
      "source": [
        "def gauss_quad_2_point_0_1(f):\n",
        "    sqrt_3 = 3**0.5\n",
        "    return (f((sqrt_3-1) / (2*sqrt_3)) + f((sqrt_3+1) / (2*sqrt_3))) / 2"
      ],
      "execution_count": 3,
      "outputs": []
    },
    {
      "cell_type": "markdown",
      "metadata": {
        "id": "m2BF0lOJOhtA"
      },
      "source": [
        "## 2. 3-point edge midpoint quadrature over a reference triangle"
      ]
    },
    {
      "cell_type": "markdown",
      "metadata": {
        "id": "JlHyUn4MPSQy"
      },
      "source": [
        "Input: function f(x) \n",
        "\n",
        "Output: quadrature approximation of integral int_ref-triangle f(x) dx\n",
        "\n",
        "We choose a set of basis functions $\\{\\phi_j\\}_{j=0}^{5}$ for the space of polynomials $p: R^2 \\rightarrow R$ of degree 2:\n",
        "\n",
        "$$\n",
        "\\phi_0(v) = 1, \\phi_1(v) = x, \\phi_2(v) = y, \\phi_3(v) = x^2, \\phi_4(v) = y^2, \\phi_5(v) = xy, \\quad v = (x,y) \\in R^2.\n",
        "$$\n",
        "\n",
        "By equation (11.4), the quadrature points and weights are determined from\n",
        "$$\n",
        "\\begin{align*}\n",
        "w_0 + w_1 + w_2 = \\int_0^1 \\,dx \\int_0^{1-x} \\,dy = 1/2, &\\\\\n",
        "x_0 w_0 + x_1 w_1 + x_2 w_2 = \\int_0^1 \\,dx \\int_0^{1-x} \\,dy\\,x = 1/6, &\\\\\n",
        "y_0 w_0 + y_1 w_1 + y_2 w_2 = \\int_0^1 \\,dy \\int_0^{1-y} \\,dx\\,y = 1/6, &\\\\\n",
        "x_0^2 w_0 + x_1^2 w_1 + x_2^2 w_2 = \\int_0^1 \\,dx \\int_0^{1-x} \\,dy\\,x^2 = 1/12, &\\\\\n",
        "y_0^2 w_0 + y_1^2 w_1 + y_2^2 w_2 = \\int_0^1 \\,dy \\int_0^{1-y} \\,dx\\,y^2 = 1/12, &\\\\\n",
        "x_0 y_0 w_0 + x_1 y_1 w_1 + x_2 y_2 w_2 = \\int_0^1 \\,dy \\int_0^{1-y} \\,dx\\,xy = 1/24, &\n",
        "\\end{align*}\n",
        "$$\n",
        "with $v_0 = (0, 1/2), v_1 = (1/2, 0), v_2 = (1/2, 1/2)$ and $w_0 = w_1 = w_2 = 1/6$. (In fact, we can find another solution with $v_0 = (2/3,1/6), v_1 = (1/6,2/3), v_2 = (1/6,1/6)$ and $w_0 = w_1 = w_2 = 1/6$.)"
      ]
    },
    {
      "cell_type": "code",
      "metadata": {
        "id": "2oyI_E09bgKE"
      },
      "source": [
        "def gauss_quad_3_point_ref_triangle(f):\n",
        "    # return (f(2/3,1/6) + f(1/6,2/3) + f(1/6,1/6)) / 6    # This solution also works\n",
        "    return (f(0,1/2) + f(1/2,0) + f(1/2,1/2)) / 6"
      ],
      "execution_count": 4,
      "outputs": []
    },
    {
      "cell_type": "markdown",
      "metadata": {
        "id": "Nu38gQVdOlO6"
      },
      "source": [
        "## 3. Monte Carlo quadrature over a unit interval"
      ]
    },
    {
      "cell_type": "markdown",
      "metadata": {
        "id": "-CNGRM_BLhOk"
      },
      "source": [
        "Input: function f(x)\n",
        "\n",
        "Output: MC quadrature approximation of integral int_0^1 f(x) dx\n",
        "\n",
        "The Monte Carlo quadrature rule on the interval $[0,1]$ is based on random sampling of quadrature points $x_i$ from the uniform distribution $U(0,1)$,\n",
        "$$\n",
        "\\int_0^1 g(x) \\,dx \\approx \\frac{1}{n} \\sum_{i=1}^n g(x_i).\n",
        "$$"
      ]
    },
    {
      "cell_type": "code",
      "metadata": {
        "id": "r2xwae9vM2CI"
      },
      "source": [
        "def mc_quad_0_1(f, n=100):\n",
        "    return sum(f(random.random()) for _ in range(n)) / n"
      ],
      "execution_count": 5,
      "outputs": []
    },
    {
      "cell_type": "markdown",
      "metadata": {
        "id": "y5WksbZWQvuK"
      },
      "source": [
        "## 4. Monte Carlo quadrature over a reference triangle"
      ]
    },
    {
      "cell_type": "markdown",
      "metadata": {
        "id": "J4xh2-n-Qyil"
      },
      "source": [
        "Input: function f(x)\n",
        "\n",
        "Output: MC quadrature approximation of integral int_ref-triangle f(x) dx\n",
        "\n",
        "The Monte Carlo quadrature rule on the reference triangle is based on random sampling of quadrature points $x_i$ from the uniform distribution on the reference triangle,\n",
        "\n",
        "$$\n",
        "\\int_D g(x) \\,dx \\approx \\frac{1}{n} \\sum_{i=1}^n g(x_i) |D| = \\frac{1}{2n} \\sum_{i=1}^n g(x_i).\n",
        "$$\n",
        "\n",
        "We can independently and uniformly sample $x$ and $y$ between $[0, 1]$ and use rejection sampling to guarentee $(x, y)$ is in the reference triangle, but this leaves nearly half of the sampling nodes discarded. Instead, we can sample $x$ and $y$ as mentioned, but if the sampling node $(x, y)$ is outside the reference triangle, we just use the its reflection with respect to the straight line $y = 1 - x$, $(1-y, 1-x)$, as the sampling node. As nodes are evenly distributed between the reference triangle and its reflection, the result is statistically the same."
      ]
    },
    {
      "cell_type": "code",
      "metadata": {
        "id": "Y1mTb8AiU6vJ"
      },
      "source": [
        "def mc_quad_ref_triangle(f, n=100):\n",
        "    def sample():\n",
        "        x, y = random.random(), random.random()\n",
        "        if x + y > 1:\n",
        "            return 1 - y, 1 - x    # return its reflection w.r.t. y = 1 - x\n",
        "        else:\n",
        "            return x, y\n",
        "    return sum(f(*sample()) for _ in range(n)) / n / 2"
      ],
      "execution_count": 6,
      "outputs": []
    },
    {
      "cell_type": "markdown",
      "metadata": {
        "id": "SsQLT38gVbn_"
      },
      "source": [
        "# **Results**"
      ]
    },
    {
      "cell_type": "markdown",
      "metadata": {
        "id": "RLwlnOzuV-Cd"
      },
      "source": [
        "## 1. 2-point Gauss quadrature over a unit interval"
      ]
    },
    {
      "cell_type": "markdown",
      "metadata": {
        "id": "LxlCBRASNleu"
      },
      "source": [
        "Test: verify exact integration of cubic polynomials ax^3 + bx^2 + cx + d.\n",
        "\n",
        "The basic cases for cubic, quadratic, linear and constant functions are included. Randomized test is used to cover more cases fastly.\n",
        "\n",
        "The exact integration is derived from the equations\n",
        "$$\n",
        "\\int_0^1 x^3\\,dx = 1/4, \\\\\n",
        "\\int_0^1 x^2\\,dx = 1/3, \\\\\n",
        "\\int_0^1 x\\,dx = 1/2, \\\\\n",
        "\\int_0^1 1\\,dx = 1.\n",
        "$$"
      ]
    },
    {
      "cell_type": "code",
      "metadata": {
        "id": "1u5bK59aNpRM"
      },
      "source": [
        "class TestGaussQuad2Point01(unittest.TestCase):\n",
        "    @staticmethod\n",
        "    def exact_cubic_polynomial_integral_over_0_1 (a, b, c, d):\n",
        "        return a/4 + b/3 + c/2 + d\n",
        "\n",
        "    def basic_test(self, a, b, c, d):\n",
        "        int_1 = gauss_quad_2_point_0_1(lambda x: a*x**3 + b*x**2 + c*x + d)\n",
        "        int_2 = self.exact_cubic_polynomial_integral_over_0_1(a, b, c, d)\n",
        "        self.assertAlmostEqual(int_1, int_2)\n",
        "\n",
        "    def test_exact_integration(self):\n",
        "        self.basic_test(1, 1, 1, 1)    # cubic\n",
        "        self.basic_test(0, 1, 1, 1)    # quadratic\n",
        "        self.basic_test(0, 0, 1, 1)    # linear\n",
        "        self.basic_test(0, 0, 0, 1)    # constant\n",
        "        # run 100 times randomly\n",
        "        for _ in range(100):\n",
        "            a, b, c, d = [random.uniform(-1000, 1000) for _ in range(4)]\n",
        "            self.basic_test(a, b, c, d)"
      ],
      "execution_count": 7,
      "outputs": []
    },
    {
      "cell_type": "markdown",
      "metadata": {
        "id": "FU4riHX3M6gn"
      },
      "source": [
        "## 2. 3-point edge midpoint quadrature over a reference triangle"
      ]
    },
    {
      "cell_type": "markdown",
      "metadata": {
        "id": "JGDgglLqSOYE"
      },
      "source": [
        "Test: verify exact integration of quadratic polynomials ax^2 + by^2 + cxy + dx + ey + f.\n",
        "\n",
        "The basic cases for polynomials of degree up to 2 over a reference triangle are included. Randomized test is used to cover more cases fastly.\n",
        "\n",
        "The exact integration is derived from the equations\n",
        "$$\n",
        "\\iint_D x^2 \\,dx\\,dy = \\iint_D y^2 \\,dx\\,dy = 1/12, \\\\\n",
        "\\iint_D xy\\,dx\\,dy = 1/24, \\\\\n",
        "\\iint_D x\\,dx\\,dy = \\iint_D y\\,dx\\,dy = 1/6, \\\\\n",
        "\\iint_D 1\\,dx\\,dy = 1/2.\n",
        "$$"
      ]
    },
    {
      "cell_type": "code",
      "metadata": {
        "id": "Di5UO5-tT0Qt"
      },
      "source": [
        "class TestGaussQuad3PointRefTriangle(unittest.TestCase):\n",
        "    @staticmethod\n",
        "    def exact_polynomial_integral_over_ref_triangle(a, b, c, d, e, f):\n",
        "        return a/12 + b/12 + c/24 + d/6 + e/6 + f/2\n",
        "\n",
        "    def basic_test(self, a, b, c, d, e, f):\n",
        "        int_1 = gauss_quad_3_point_ref_triangle(lambda x, y: a*x*x + b*y*y + c*x*y + d*x + e*y + f)\n",
        "        int_2 = self.exact_polynomial_integral_over_ref_triangle(a, b, c, d, e, f)\n",
        "        self.assertAlmostEqual(int_1, int_2)\n",
        "\n",
        "    def test_exact_integration(self):\n",
        "        self.basic_test(1, 1, 1, 1, 1, 1)    # quadratic case 1\n",
        "        self.basic_test(0, 0, 1, 1, 1, 1)    # quadratic case 2\n",
        "        self.basic_test(1, 1, 0, 1, 1, 1)    # quadratic case 3\n",
        "        self.basic_test(0, 0, 0, 1, 1, 1)    # linear\n",
        "        self.basic_test(0, 0, 0, 0, 0, 1)    # constant\n",
        "        # run 100 times\n",
        "        for _ in range(100):\n",
        "            a, b, c, d, e, f = [random.uniform(-1000, 1000) for _ in range(6)]\n",
        "            self.basic_test(a, b, c, d, e, f)"
      ],
      "execution_count": 8,
      "outputs": []
    },
    {
      "cell_type": "markdown",
      "metadata": {
        "id": "Ck4iu6bbM74A"
      },
      "source": [
        "## 3. Monte Carlo quadrature over a unit interval"
      ]
    },
    {
      "cell_type": "markdown",
      "metadata": {
        "id": "Aq644jJzT9hk"
      },
      "source": [
        "Test: verify convergence rate 1/sqrt(n) with respect to number of quadrature points n.\n",
        "\n",
        "We use the trigonometric function $f(x) = \\sin(\\pi x / 2)$ to verify the convergence. If the curve of $n$-$1/\\sqrt{\\mathrm{err}}$ remains almost constant as $n$ grows, the convergence rate is approximately $1/\\sqrt{n}$."
      ]
    },
    {
      "cell_type": "code",
      "metadata": {
        "id": "kqU9zd5hgbNi"
      },
      "source": [
        "def test_mc_quad_0_1_convergence():\n",
        "    exact_integral = 2 / np.pi\n",
        "    f = lambda x: np.sin(np.pi * x / 2)\n",
        "    n = np.array(range(100, 10000, 100))\n",
        "    approx = np.array([mc_quad_0_1(f, i) for i in n])\n",
        "    err = np.abs(approx - exact_integral)\n",
        "    err_inv_sqrt = 1.0 / np.sqrt(err)\n",
        "    plt.plot(n, approx)\n",
        "    plt.title(\"Monte Carlo quadrature over a unit interval\")\n",
        "    plt.xlabel(\"Number of quadrature points n\")\n",
        "    plt.ylabel(\"Inverse square root of error\")\n",
        "    plt.show()"
      ],
      "execution_count": 9,
      "outputs": []
    },
    {
      "cell_type": "markdown",
      "metadata": {
        "id": "fMY0HN6vcy4l"
      },
      "source": [
        "## 4. Monte Carlo quadrature over a reference triangle"
      ]
    },
    {
      "cell_type": "markdown",
      "metadata": {
        "id": "MUkitT_fc3ti"
      },
      "source": [
        "Test: verify convergence rate 1/sqrt(n) with respect to number of quadrature points n.\n",
        "\n",
        "We use the function $f(x, y) = e^{-x-y}$ to verify the convergence. If the curve of $n$-$1/\\sqrt{\\mathrm{err}}$ remains almost constant as $n$ grows, the convergence rate is approximately $1/\\sqrt{n}$."
      ]
    },
    {
      "cell_type": "code",
      "metadata": {
        "id": "ZNZv1PWFi3Tc"
      },
      "source": [
        "def test_mc_quad_ref_triangle_convergence():\n",
        "    exact_integral = 1 - 2 * np.exp(-1)\n",
        "    f = lambda x, y: np.exp(-x - y)\n",
        "    n = np.array(range(100, 10000, 100))\n",
        "    approx = np.array([mc_quad_ref_triangle(f, i) for i in n])\n",
        "    err = np.abs(approx - exact_integral)\n",
        "    err_inv_sqrt = 1.0 / np.sqrt(err)\n",
        "    plt.plot(n, approx)\n",
        "    plt.title(\"Monte Carlo quadrature over a reference triangle\")\n",
        "    plt.xlabel(\"Number of quadrature points n\")\n",
        "    plt.ylabel(\"Inverse square root of error\")\n",
        "    plt.show()"
      ],
      "execution_count": 10,
      "outputs": []
    },
    {
      "cell_type": "markdown",
      "metadata": {
        "id": "xRT9oxymPsAE"
      },
      "source": [
        "## Conduct the test"
      ]
    },
    {
      "cell_type": "code",
      "metadata": {
        "colab": {
          "base_uri": "https://localhost:8080/",
          "height": 692
        },
        "id": "VELD-IojPuoA",
        "outputId": "e5bddf9d-fcd8-4f79-aeab-8f00995caabf"
      },
      "source": [
        "if __name__ == '__main__':\n",
        "    unittest.main(argv=[''], exit=False, verbosity=2)\n",
        "    test_mc_quad_0_1_convergence()\n",
        "    test_mc_quad_ref_triangle_convergence()"
      ],
      "execution_count": 11,
      "outputs": [
        {
          "output_type": "stream",
          "text": [
            "test_exact_integration (__main__.TestGaussQuad2Point01) ... ok\n",
            "test_exact_integration (__main__.TestGaussQuad3PointRefTriangle) ... ok\n",
            "\n",
            "----------------------------------------------------------------------\n",
            "Ran 2 tests in 0.005s\n",
            "\n",
            "OK\n"
          ],
          "name": "stderr"
        },
        {
          "output_type": "display_data",
          "data": {
            "image/png": "[encoded data removed]",
            "text/plain": [
              "<Figure size 432x288 with 1 Axes>"
            ]
          },
          "metadata": {
            "tags": [],
            "needs_background": "light"
          }
        },
        {
          "output_type": "display_data",
          "data": {
            "image/png": "[encoded data removed]",
            "text/plain": [
              "<Figure size 432x288 with 1 Axes>"
            ]
          },
          "metadata": {
            "tags": [],
            "needs_background": "light"
          }
        }
      ]
    },
    {
      "cell_type": "markdown",
      "metadata": {
        "id": "_4GLBv0zWr7m"
      },
      "source": [
        "# **Discussion**"
      ]
    },
    {
      "cell_type": "markdown",
      "metadata": {
        "id": "6bcsDSoRXHZe"
      },
      "source": [
        "As the graph shows, the curve of $n$-$1/\\sqrt{\\mathrm{err}}$ remains almost constant (with tolerable fluctuations) as $n$ grows. This verifies the convergence rate $1/\\sqrt{n}$ with respect to number of quadrature points $n$.\n",
        "\n",
        "For the Gauss quadrature method, the implementation shows the exactness of the integration for polynomials under a certain degree."
      ]
    }
  ]
}